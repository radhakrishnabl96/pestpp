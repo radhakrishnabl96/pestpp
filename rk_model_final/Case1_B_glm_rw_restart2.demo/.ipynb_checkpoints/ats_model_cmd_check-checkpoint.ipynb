{
 "cells": [
  {
   "cell_type": "code",
   "execution_count": null,
   "id": "6385c8e2-b597-4925-92f5-daf7f98a3d13",
   "metadata": {},
   "outputs": [],
   "source": [
    "# The python file is written to run the ats model and change output data format and the moisture data units such that it is suitable for PEST.\n",
    "\n",
    "import os\n",
    "import subprocess\n",
    "import shutil\n",
    "import fileinput\n",
    "import time\n",
    "import re\n",
    "import pandas as pd\n",
    "\n",
    "\n",
    "# Removing the previously generated output file\n",
    "os.system(\"rm -rf Case1_B_glm_obs_data.dat\")\n",
    "\n",
    "# Running ats command\n",
    "os.system(\"ats --xml_file=Case1_B_glm.xml\")\n",
    "\n",
    "# Generating a suitable observation file with no hash!\n",
    "remove_hashs = ['#']\n",
    "\n",
    "old_file_name = 'observations.dat'\n",
    "new_file_name = 'Case1_B_glm_obs_data_mois.dat'\n",
    "with open(f'{old_file_name}') as oldfile, open(f'{new_file_name}', 'w') as newfile:\n",
    "            for line in oldfile:\n",
    "                if not any(remove_hash in line for remove_hash in remove_hashs):\n",
    "                    newfile.write(line)\n",
    "\n",
    "\n",
    "# 1. To find the porosity\n",
    "filename = 'Case1_B_glm.xml'\n",
    "\n",
    "with open(f'{filename}') as oldfile:\n",
    "            for line, content in enumerate(oldfile):\n",
    "                if line == 505: # Line 505 (+1) has the porosity_peat \n",
    "                    poro_peat_line = str(content)\n",
    "                    result = re.findall('\\\".*?\\\"', poro_peat_line)\n",
    "                    poro_peat = float(result[2].replace('\"',''))\n",
    "                    #print(poro_peat)\n",
    "                elif line == 514: # Line 514 (+1) has the porosity_mineral\n",
    "                    poro_mineral_line = str(content)\n",
    "                    result_2 = re.findall('\\\".*?\\\"', poro_mineral_line)\n",
    "                    poro_mineral = float(result_2[2].replace('\"',''))\n",
    "                    #print(poro_mineral)\n",
    "\n",
    "\n",
    "                    \n",
    "# 2. To find the saturation of liquid\n",
    "\n",
    "obs_data = 'Case1_B_glm_obs_data_mois.dat'\n",
    "\n",
    "file_data = pd.read_csv(obs_data,sep=' ', index_col='time [s]')\n",
    "\n",
    "\n",
    "\n",
    "depths = [0.04, 0.1, 0.2, 0.4, 0.8, 1.2, 1.6]\n",
    "\n",
    "depth_peat = 0.385\n",
    "\n",
    "for i, depth in enumerate(depths):\n",
    "    if depth < depth_peat:\n",
    "        file_data[f'point -{depth} saturation liquid'] = file_data[f'point -{depth} saturation liquid']*(poro_peat*100)\n",
    "    else:\n",
    "        file_data[f'point -{depth} saturation liquid'] = file_data[f'point -{depth} saturation liquid']*(poro_mineral*100)\n",
    "\n",
    "file_data.to_csv('Case1_B_glm_obs_data_2.dat',sep=' ',index=True)\n",
    "\n",
    "# Removing the top row since it is not suitable with instruction file\n",
    "remove_hashs = ['\"']\n",
    "\n",
    "old_file_name = 'Case1_B_glm_obs_data_2.dat'\n",
    "\n",
    "new_file_name = 'Case1_B_glm_obs_data.dat'\n",
    "\n",
    "with open(f'{old_file_name}') as oldfile, open(f'{new_file_name}', 'w') as newfile:\n",
    "            for line in oldfile:\n",
    "                if not any(remove_hash in line for remove_hash in remove_hashs):\n",
    "                    newfile.write(line)\n",
    "\n",
    "\n",
    "# Remove all the unnescessary output files expect the .dat file\n",
    "os.system(\"rm -rf *.xmf *.h5 observations.dat Case1_B_glm_obs_data_mois.dat Case1_B_glm_obs_data_2.dat\")"
   ]
  },
  {
   "cell_type": "code",
   "execution_count": 3,
   "id": "a5de724f-e4f2-4c34-9b14-b5175dd9c818",
   "metadata": {},
   "outputs": [],
   "source": [
    "import os\n",
    "import subprocess\n",
    "import shutil\n",
    "import fileinput\n",
    "import time\n",
    "import re\n",
    "import pandas as pd"
   ]
  },
  {
   "cell_type": "code",
   "execution_count": 10,
   "id": "ec5088a0-06db-416b-a07c-323b61fb76ca",
   "metadata": {},
   "outputs": [
    {
     "ename": "FileNotFoundError",
     "evalue": "[Errno 2] No such file or directory: 'Case1_B_start.demo'",
     "output_type": "error",
     "traceback": [
      "\u001b[0;31m---------------------------------------------------------------------------\u001b[0m",
      "\u001b[0;31mFileNotFoundError\u001b[0m                         Traceback (most recent call last)",
      "\u001b[0;32m<ipython-input-10-754f1460a1ba>\u001b[0m in \u001b[0;36m<module>\u001b[0;34m\u001b[0m\n\u001b[0;32m----> 1\u001b[0;31m \u001b[0mos\u001b[0m\u001b[0;34m.\u001b[0m\u001b[0mchdir\u001b[0m\u001b[0;34m(\u001b[0m\u001b[0;34m'Case1_B_start.demo'\u001b[0m\u001b[0;34m)\u001b[0m\u001b[0;34m\u001b[0m\u001b[0;34m\u001b[0m\u001b[0m\n\u001b[0m",
      "\u001b[0;31mFileNotFoundError\u001b[0m: [Errno 2] No such file or directory: 'Case1_B_start.demo'"
     ]
    }
   ],
   "source": [
    "os.chdir('Case1_B_start.demo')"
   ]
  },
  {
   "cell_type": "code",
   "execution_count": 11,
   "id": "f701dc9c-4ffd-44da-a343-5c9b1081c453",
   "metadata": {},
   "outputs": [
    {
     "data": {
      "text/plain": [
       "'/home/rk/pestpp/pestpp/rk_model_final/Case1_B_start.demo'"
      ]
     },
     "execution_count": 11,
     "metadata": {},
     "output_type": "execute_result"
    }
   ],
   "source": [
    "os.getcwd()"
   ]
  },
  {
   "cell_type": "code",
   "execution_count": 12,
   "id": "fd1fb451-599e-4115-ae26-ca1ab18d3f6c",
   "metadata": {},
   "outputs": [
    {
     "data": {
      "text/plain": [
       "0"
      ]
     },
     "execution_count": 12,
     "metadata": {},
     "output_type": "execute_result"
    }
   ],
   "source": [
    "# Removing the previously generated output file\n",
    "os.system(\"rm -rf Case1_B_glm_obs_data.dat\")"
   ]
  },
  {
   "cell_type": "code",
   "execution_count": 13,
   "id": "594c0271-4777-4f22-acdf-b0696815a728",
   "metadata": {},
   "outputs": [
    {
     "data": {
      "text/plain": [
       "0"
      ]
     },
     "execution_count": 13,
     "metadata": {},
     "output_type": "execute_result"
    }
   ],
   "source": [
    "# Running ats command\n",
    "os.system(\"ats --xml_file=Case1_B_glm.xml\")"
   ]
  },
  {
   "cell_type": "code",
   "execution_count": 14,
   "id": "6715c6a6-b85b-4907-9b96-b71054e82c68",
   "metadata": {},
   "outputs": [],
   "source": [
    "# Generating a suitable observation file with no hash!\n",
    "remove_hashs = ['#']\n",
    "\n",
    "old_file_name = 'observations.dat'\n",
    "new_file_name = 'Case1_B_glm_obs_data_mois.dat'\n",
    "with open(f'{old_file_name}') as oldfile, open(f'{new_file_name}', 'w') as newfile:\n",
    "            for line in oldfile:\n",
    "                if not any(remove_hash in line for remove_hash in remove_hashs):\n",
    "                    newfile.write(line)"
   ]
  },
  {
   "cell_type": "code",
   "execution_count": 17,
   "id": "bf95c275-0b2d-4f2a-8a6b-3a7225ea5c1a",
   "metadata": {},
   "outputs": [],
   "source": [
    "# 1. To find the porosity\n",
    "filename = 'Case1_B_glm.xml'\n",
    "\n",
    "with open(f'{filename}') as oldfile:\n",
    "            for line, content in enumerate(oldfile):\n",
    "                if line == 547: # Line 547 (+1) has the porosity_peat \n",
    "                    poro_peat_line = str(content)\n",
    "                    result = re.findall('\\\".*?\\\"', poro_peat_line)\n",
    "                    poro_peat = float(result[2].replace('\"',''))\n",
    "                    #print(poro_peat)\n",
    "                elif line == 556: # Line 556 (+1) has the porosity_mineral\n",
    "                    poro_mineral_line = str(content)\n",
    "                    result_2 = re.findall('\\\".*?\\\"', poro_mineral_line)\n",
    "                    poro_mineral = float(result_2[2].replace('\"',''))\n",
    "                    #print(poro_mineral)"
   ]
  },
  {
   "cell_type": "code",
   "execution_count": 18,
   "id": "1b6eaa23-0a81-45f2-8289-d40681e63812",
   "metadata": {},
   "outputs": [],
   "source": [
    "# 2. To find the saturation of liquid\n",
    "\n",
    "obs_data = 'Case1_B_glm_obs_data_mois.dat'\n",
    "\n",
    "file_data = pd.read_csv(obs_data,sep=' ', index_col='time [s]')\n",
    "\n",
    "\n",
    "\n",
    "depths = [0.04, 0.1, 0.2, 0.4, 0.8, 1.2, 1.6]\n",
    "\n",
    "depth_peat = 0.385\n",
    "\n",
    "for i, depth in enumerate(depths):\n",
    "    if depth < depth_peat:\n",
    "        file_data[f'point -{depth} saturation liquid'] = file_data[f'point -{depth} saturation liquid']*(poro_peat*100)\n",
    "    else:\n",
    "        file_data[f'point -{depth} saturation liquid'] = file_data[f'point -{depth} saturation liquid']*(poro_mineral*100)\n",
    "\n",
    "file_data.to_csv('Case1_B_glm_obs_data_2.dat',sep=' ',index=True)"
   ]
  },
  {
   "cell_type": "code",
   "execution_count": null,
   "id": "55fa6c02-6075-4c52-b487-27008b74d702",
   "metadata": {},
   "outputs": [],
   "source": [
    "# Removing the top row since it is not suitable with instruction file\n",
    "remove_hashs = ['\"']\n",
    "\n",
    "old_file_name = 'Case1_B_glm_obs_data_2.dat'\n",
    "\n",
    "new_file_name = 'Case1_B_glm_obs_data.dat'\n",
    "\n",
    "with open(f'{old_file_name}') as oldfile, open(f'{new_file_name}', 'w') as newfile:\n",
    "            for line in oldfile:\n",
    "                if not any(remove_hash in line for remove_hash in remove_hashs):\n",
    "                    newfile.write(line)"
   ]
  },
  {
   "cell_type": "code",
   "execution_count": null,
   "id": "ed46c17c-7ad6-471f-9041-c95144537fea",
   "metadata": {},
   "outputs": [],
   "source": [
    "# Remove all the unnescessary output files expect the .dat file\n",
    "os.system(\"rm -rf *.xmf *.h5 observations.dat Case1_B_glm_obs_data_mois.dat Case1_B_glm_obs_data_2.dat\")"
   ]
  }
 ],
 "metadata": {
  "kernelspec": {
   "display_name": "Python 3",
   "language": "python",
   "name": "python3"
  },
  "language_info": {
   "codemirror_mode": {
    "name": "ipython",
    "version": 3
   },
   "file_extension": ".py",
   "mimetype": "text/x-python",
   "name": "python",
   "nbconvert_exporter": "python",
   "pygments_lexer": "ipython3",
   "version": "3.8.8"
  }
 },
 "nbformat": 4,
 "nbformat_minor": 5
}
