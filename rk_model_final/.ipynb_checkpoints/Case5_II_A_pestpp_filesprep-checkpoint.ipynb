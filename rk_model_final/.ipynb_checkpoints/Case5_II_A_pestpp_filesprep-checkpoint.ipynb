{
 "cells": [
  {
   "cell_type": "markdown",
   "id": "3afae032",
   "metadata": {},
   "source": [
    "**Preparing the pest files for the Cas5_II_A - SEB without snow - daily data for all datasets**\n",
    "\n",
    "**The pest analysis was taking longer. It was observed that some simulations had parameters that were not numerically / physically possible. Hence a parameter check was conducted in the file Case5_I_E_param_check.demo/Run_ats.ipynb! The following parameters (initial value, lower bound and upper bound) had to be changed. **\n",
    "\n",
    " **The parameters that were not resulting in model outputs and their initial value, lower bound and upper bound needed to be redefined:**\n",
    " 1. e_bg: **0.500**, 0.75, 0.9625\n",
    " 2. alpha_p: 0.0025, 0.01, **0.0125**\n",
    " 3. n_p: 1.025, 1.5, 2.05\n",
    " 4. wr_p: 0.024, 0.1, 0.2\n",
    " 5. por_p: 0.159, 0.63739, **0.85**\n",
    "\n",
    "* The notebook is developed to code the methodology and extract relevant files that are suitable as input to PEST.\n",
    "- pestpp/pestpp/benchmarks/mf6_freyberg - This is used as the standard benchmark folder from which the files are referred.\n",
    "- Currently, the freyberg6_run_glm.pst which solves the Levenberg - Marquardt algorithm is considered.\n",
    "\n",
    "Parameters considered: 'alpha_p_gp', 'alpha_m_gp', 'n_p_gp', 'n_m_gp', 'wr_p_gp', 'wr_m_gp', 'tcs_p_gp', 'tcs_m_gp', 'tcd_p_gp', 'tcd_m_gp', 'af_p_gp', 'af_m_gp', 'auf_p_gp', 'auf_m_gp', 'por_p_gp', 'por_m_gp', 'perm_p_gp', 'perm_m_gp', 'den_p_gp', 'den_m_gp'\n",
    "\n",
    "The surface parameters which are important [Surfaces: bg - bare ground, s - snow, w - water]: - Reference - Atchley 2015 article] - albedo_bg, e_bg, pen_w, pen_bg, z_bg, z_s.\n",
    "\n",
    "**Since we are currently considering SEB without snow, we can neglect - z_s, Still considering it as to see if it really has an influence**\n",
    "\n",
    "    * 'albedo_bg': Albedo of the bare surface. [ Expected value = 0.8 (On backcalculating the albedo from incoming and outgoing shortwave radiation, during the summer = 0.8), Considering it to vary by 75 % also.]. It's importance is observed when we are calculating the outgoing shortwave radiation component. Initial value = 0.55. \n",
    "    \n",
    "    * Can we change the albedo of water, and snow?\n",
    "    \n",
    "    * 'e_bg': Emissivity of the bare surface. It is used to calculate the outgoing longwave radiation. [Expected value = 0.92 from lit. Atchley 2015]. Assuming an initial value = 0.55 and lower and upper bound is +-75% of initial value. \n",
    "    \n",
    "    * Can we change the emissivity of water, and snow?\n",
    "    \n",
    "    * 'pen_w': Penetration depth of shortwave radiation in water. It influences the calculation of transition_albedo.  Initial value = 0.01 m. \n",
    "    \n",
    "    * 'pen_s':  Penetration depth of shortwave radiation in snow. It influences the calculation of transition_albedo. Initial value = 0.02 m.\n",
    "    \n",
    "    * 'z_bg': Roughness length of bare ground [m]. It influences the calculation of turbulence terms of latent and sensible heat. Initial value = 0.04 m [For polygonal tundra]. \n",
    "    \n",
    "    * 'z_s': Roughness length of snow [m]. It influences the calculation of turbulence terms of latent and sensible heat. Initial value = 0.005 m [For wind swept snow].\n",
    "\n",
    "\n",
    "\n",
    "- We are considering the initial parameters based on the simulation : all_params_afterrw.demo\n",
    "\n",
    "- The lower and upper bound is fixed to 75 % of the initial value\n",
    "\n",
    "- Some values that do not accept these changes, have been changed with respect to their initial value\n",
    "\n",
    "\n",
    "TODO:\n",
    "- Template files\n",
    "- Instruction files\n",
    "- Output files from ATS (observation.dat) - How to hint PEST about these instruction files?\n",
    "- Input file (input.xml) how do we change the parameter here as per the template file?\n",
    "\n",
    "* Develop a methodology and write here!\n",
    "\n"
   ]
  },
  {
   "cell_type": "code",
   "execution_count": 6,
   "id": "6bf7df5e-9d54-474f-971e-9136c5cf69bc",
   "metadata": {},
   "outputs": [
    {
     "name": "stderr",
     "output_type": "stream",
     "text": [
      "/home/rk/anaconda3/lib/python3.8/site-packages/ipykernel/ipkernel.py:287: DeprecationWarning: `should_run_async` will not call `transform_cell` automatically in the future. Please pass the result to `transformed_cell` argument and any exception that happen during thetransform in `preprocessing_exc_tuple` in IPython 7.17 and above.\n",
      "  and should_run_async(code)\n"
     ]
    }
   ],
   "source": [
    "import warnings\n",
    "warnings.filterwarnings(\"ignore\", category=DeprecationWarning)"
   ]
  },
  {
   "cell_type": "code",
   "execution_count": 2,
   "id": "d3d7bcd1",
   "metadata": {},
   "outputs": [],
   "source": [
    "%matplotlib inline\n",
    "import sys,os\n",
    "import colors\n",
    "import numpy as np\n",
    "import matplotlib.cm\n",
    "from matplotlib import pyplot as plt\n",
    "import matplotlib.gridspec as gridspec\n",
    "import h5py\n",
    "import pandas as pd\n",
    "from datetime import datetime\n",
    "import matplotlib.image as mpimg"
   ]
  },
  {
   "cell_type": "code",
   "execution_count": 59,
   "id": "cd399d23-fe32-47d2-b67f-6804ab07f1ed",
   "metadata": {},
   "outputs": [],
   "source": [
    "import shutil\n",
    "import numpy as np\n",
    "import pandas as pd\n",
    "import pyemu\n",
    "import flopy\n",
    "import subprocess\n",
    "import fileinput"
   ]
  },
  {
   "cell_type": "code",
   "execution_count": 7,
   "id": "ef27d92a-d034-4031-8d65-93568f7ae7ab",
   "metadata": {},
   "outputs": [],
   "source": [
    "directory_name = 'Case5_II_A_glm_start.demo'\n",
    "file_name = 'Case5_II_A_glm'"
   ]
  },
  {
   "cell_type": "code",
   "execution_count": 5,
   "id": "e6de3097-fa8b-4d25-9811-b57863c2623a",
   "metadata": {},
   "outputs": [
    {
     "name": "stderr",
     "output_type": "stream",
     "text": [
      "/home/rk/anaconda3/lib/python3.8/site-packages/ipykernel/ipkernel.py:287: DeprecationWarning: `should_run_async` will not call `transform_cell` automatically in the future. Please pass the result to `transformed_cell` argument and any exception that happen during thetransform in `preprocessing_exc_tuple` in IPython 7.17 and above.\n",
      "  and should_run_async(code)\n"
     ]
    }
   ],
   "source": [
    "# Making the directory with the given name\n",
    "os.mkdir(directory_name)"
   ]
  },
  {
   "cell_type": "code",
   "execution_count": 88,
   "id": "6c272eb2-2b75-467f-b1a8-87068e66377b",
   "metadata": {},
   "outputs": [],
   "source": [
    "#os.chdir('pestpp/pestpp/rk_model_final')\n",
    "#os.getcwd()"
   ]
  },
  {
   "cell_type": "code",
   "execution_count": 8,
   "id": "70206c9a-72e0-4dfc-9f43-0edd0ce854ef",
   "metadata": {},
   "outputs": [],
   "source": [
    "# Changing into the directory\n",
    "os.chdir(directory_name)"
   ]
  },
  {
   "cell_type": "code",
   "execution_count": 9,
   "id": "189831e6-113f-4bf5-897c-2795eea3c7c9",
   "metadata": {},
   "outputs": [
    {
     "data": {
      "text/plain": [
       "'/home/rk/pestpp/pestpp/rk_model_final/Case5_II_A_glm_start.demo'"
      ]
     },
     "execution_count": 9,
     "metadata": {},
     "output_type": "execute_result"
    }
   ],
   "source": [
    "os.getcwd()"
   ]
  },
  {
   "cell_type": "markdown",
   "id": "07ff8682",
   "metadata": {},
   "source": [
    "### Observation - data"
   ]
  },
  {
   "cell_type": "markdown",
   "id": "25cf580a-cd44-4ecf-89a1-39319068551b",
   "metadata": {},
   "source": [
    "#### The data was preprocessed in another folder - "
   ]
  },
  {
   "cell_type": "code",
   "execution_count": 10,
   "id": "88d141ed-9b71-436f-a567-4f026f64270a",
   "metadata": {},
   "outputs": [],
   "source": [
    "filename_mes = '../Yakou_data_processed_2017.csv'"
   ]
  },
  {
   "cell_type": "code",
   "execution_count": 12,
   "id": "15c88349-7f2a-4118-96e6-c38748be7f4e",
   "metadata": {},
   "outputs": [
    {
     "data": {
      "text/html": [
       "<div>\n",
       "<style scoped>\n",
       "    .dataframe tbody tr th:only-of-type {\n",
       "        vertical-align: middle;\n",
       "    }\n",
       "\n",
       "    .dataframe tbody tr th {\n",
       "        vertical-align: top;\n",
       "    }\n",
       "\n",
       "    .dataframe thead th {\n",
       "        text-align: right;\n",
       "    }\n",
       "</style>\n",
       "<table border=\"1\" class=\"dataframe\">\n",
       "  <thead>\n",
       "    <tr style=\"text-align: right;\">\n",
       "      <th></th>\n",
       "      <th>TIMESTAMP</th>\n",
       "      <th>Wind speed at 10 m (m/s)</th>\n",
       "      <th>Wind direction at 10 m (°)</th>\n",
       "      <th>Air temperature at 5 m (°C)</th>\n",
       "      <th>Relative humidity at 5 m (%)</th>\n",
       "      <th>Precipitation at 10 m (mm)</th>\n",
       "      <th>Air pressure (hPa)</th>\n",
       "      <th>Infrared temperature (°C)</th>\n",
       "      <th>Infrared temperature (°C).1</th>\n",
       "      <th>PAR_down</th>\n",
       "      <th>...</th>\n",
       "      <th>Soil temperature at - 0.4 m (°C)</th>\n",
       "      <th>Soil temperature at - 0.8 m (°C)</th>\n",
       "      <th>Soil temperature at - 1.2 m (°C)</th>\n",
       "      <th>Soil temperature at - 1.6 m (°C)</th>\n",
       "      <th>Soil temperature at - 0.04 m (K)</th>\n",
       "      <th>Soil temperature at - 0.2 m (K)</th>\n",
       "      <th>Soil temperature at - 0.4 m (K)</th>\n",
       "      <th>Soil temperature at - 0.8 m (K)</th>\n",
       "      <th>Soil temperature at - 1.2 m (K)</th>\n",
       "      <th>Soil temperature at - 1.6 m (K)</th>\n",
       "    </tr>\n",
       "  </thead>\n",
       "  <tbody>\n",
       "    <tr>\n",
       "      <th>0</th>\n",
       "      <td>2017-01-01</td>\n",
       "      <td>5.703646</td>\n",
       "      <td>240.315972</td>\n",
       "      <td>-11.643319</td>\n",
       "      <td>26.417292</td>\n",
       "      <td>0.0</td>\n",
       "      <td>609.727778</td>\n",
       "      <td>-13.595701</td>\n",
       "      <td>-13.473771</td>\n",
       "      <td>23.526389</td>\n",
       "      <td>...</td>\n",
       "      <td>-9.902153</td>\n",
       "      <td>-8.312083</td>\n",
       "      <td>-5.657743</td>\n",
       "      <td>-4.284076</td>\n",
       "      <td>261.023264</td>\n",
       "      <td>262.172222</td>\n",
       "      <td>263.247847</td>\n",
       "      <td>264.837917</td>\n",
       "      <td>267.492257</td>\n",
       "      <td>268.865924</td>\n",
       "    </tr>\n",
       "    <tr>\n",
       "      <th>1</th>\n",
       "      <td>2017-01-02</td>\n",
       "      <td>4.522028</td>\n",
       "      <td>215.252083</td>\n",
       "      <td>-12.547639</td>\n",
       "      <td>25.603264</td>\n",
       "      <td>0.0</td>\n",
       "      <td>611.459722</td>\n",
       "      <td>-14.148368</td>\n",
       "      <td>-14.069958</td>\n",
       "      <td>23.598458</td>\n",
       "      <td>...</td>\n",
       "      <td>-9.815208</td>\n",
       "      <td>-8.296667</td>\n",
       "      <td>-5.790653</td>\n",
       "      <td>-4.451597</td>\n",
       "      <td>261.006667</td>\n",
       "      <td>262.246458</td>\n",
       "      <td>263.334792</td>\n",
       "      <td>264.853333</td>\n",
       "      <td>267.359347</td>\n",
       "      <td>268.698403</td>\n",
       "    </tr>\n",
       "    <tr>\n",
       "      <th>2</th>\n",
       "      <td>2017-01-03</td>\n",
       "      <td>5.572090</td>\n",
       "      <td>211.012500</td>\n",
       "      <td>-12.374722</td>\n",
       "      <td>43.428264</td>\n",
       "      <td>0.0</td>\n",
       "      <td>609.315278</td>\n",
       "      <td>-14.089813</td>\n",
       "      <td>-14.027125</td>\n",
       "      <td>18.449590</td>\n",
       "      <td>...</td>\n",
       "      <td>-9.805000</td>\n",
       "      <td>-8.309931</td>\n",
       "      <td>-5.898486</td>\n",
       "      <td>-4.594007</td>\n",
       "      <td>260.854861</td>\n",
       "      <td>262.184583</td>\n",
       "      <td>263.345000</td>\n",
       "      <td>264.840069</td>\n",
       "      <td>267.251514</td>\n",
       "      <td>268.555993</td>\n",
       "    </tr>\n",
       "    <tr>\n",
       "      <th>3</th>\n",
       "      <td>2017-01-04</td>\n",
       "      <td>6.037000</td>\n",
       "      <td>242.357639</td>\n",
       "      <td>-10.819882</td>\n",
       "      <td>30.436111</td>\n",
       "      <td>0.0</td>\n",
       "      <td>608.171528</td>\n",
       "      <td>-13.654188</td>\n",
       "      <td>-13.519576</td>\n",
       "      <td>24.310958</td>\n",
       "      <td>...</td>\n",
       "      <td>-9.844306</td>\n",
       "      <td>-8.356181</td>\n",
       "      <td>-5.995306</td>\n",
       "      <td>-4.716979</td>\n",
       "      <td>261.032708</td>\n",
       "      <td>262.226806</td>\n",
       "      <td>263.305694</td>\n",
       "      <td>264.793819</td>\n",
       "      <td>267.154694</td>\n",
       "      <td>268.433021</td>\n",
       "    </tr>\n",
       "    <tr>\n",
       "      <th>4</th>\n",
       "      <td>2017-01-05</td>\n",
       "      <td>5.978368</td>\n",
       "      <td>196.270833</td>\n",
       "      <td>-10.152083</td>\n",
       "      <td>22.180000</td>\n",
       "      <td>0.0</td>\n",
       "      <td>607.352778</td>\n",
       "      <td>-13.348424</td>\n",
       "      <td>-13.196604</td>\n",
       "      <td>24.258903</td>\n",
       "      <td>...</td>\n",
       "      <td>-9.785764</td>\n",
       "      <td>-8.384167</td>\n",
       "      <td>-6.089104</td>\n",
       "      <td>-4.832729</td>\n",
       "      <td>261.347014</td>\n",
       "      <td>262.409792</td>\n",
       "      <td>263.364236</td>\n",
       "      <td>264.765833</td>\n",
       "      <td>267.060896</td>\n",
       "      <td>268.317271</td>\n",
       "    </tr>\n",
       "  </tbody>\n",
       "</table>\n",
       "<p>5 rows × 40 columns</p>\n",
       "</div>"
      ],
      "text/plain": [
       "    TIMESTAMP  Wind speed at 10 m (m/s)  Wind direction at 10 m (°)  \\\n",
       "0  2017-01-01                  5.703646                  240.315972   \n",
       "1  2017-01-02                  4.522028                  215.252083   \n",
       "2  2017-01-03                  5.572090                  211.012500   \n",
       "3  2017-01-04                  6.037000                  242.357639   \n",
       "4  2017-01-05                  5.978368                  196.270833   \n",
       "\n",
       "   Air temperature at 5 m (°C)  Relative humidity at 5 m (%)  \\\n",
       "0                   -11.643319                     26.417292   \n",
       "1                   -12.547639                     25.603264   \n",
       "2                   -12.374722                     43.428264   \n",
       "3                   -10.819882                     30.436111   \n",
       "4                   -10.152083                     22.180000   \n",
       "\n",
       "   Precipitation at 10 m (mm)  Air pressure (hPa)  Infrared temperature (°C)  \\\n",
       "0                         0.0          609.727778                 -13.595701   \n",
       "1                         0.0          611.459722                 -14.148368   \n",
       "2                         0.0          609.315278                 -14.089813   \n",
       "3                         0.0          608.171528                 -13.654188   \n",
       "4                         0.0          607.352778                 -13.348424   \n",
       "\n",
       "   Infrared temperature (°C).1   PAR_down  ...  \\\n",
       "0                   -13.473771  23.526389  ...   \n",
       "1                   -14.069958  23.598458  ...   \n",
       "2                   -14.027125  18.449590  ...   \n",
       "3                   -13.519576  24.310958  ...   \n",
       "4                   -13.196604  24.258903  ...   \n",
       "\n",
       "   Soil temperature at - 0.4 m (°C)  Soil temperature at - 0.8 m (°C)  \\\n",
       "0                         -9.902153                         -8.312083   \n",
       "1                         -9.815208                         -8.296667   \n",
       "2                         -9.805000                         -8.309931   \n",
       "3                         -9.844306                         -8.356181   \n",
       "4                         -9.785764                         -8.384167   \n",
       "\n",
       "   Soil temperature at - 1.2 m (°C)  Soil temperature at - 1.6 m (°C)  \\\n",
       "0                         -5.657743                         -4.284076   \n",
       "1                         -5.790653                         -4.451597   \n",
       "2                         -5.898486                         -4.594007   \n",
       "3                         -5.995306                         -4.716979   \n",
       "4                         -6.089104                         -4.832729   \n",
       "\n",
       "   Soil temperature at - 0.04 m (K)  Soil temperature at - 0.2 m (K)  \\\n",
       "0                        261.023264                       262.172222   \n",
       "1                        261.006667                       262.246458   \n",
       "2                        260.854861                       262.184583   \n",
       "3                        261.032708                       262.226806   \n",
       "4                        261.347014                       262.409792   \n",
       "\n",
       "   Soil temperature at - 0.4 m (K)  Soil temperature at - 0.8 m (K)  \\\n",
       "0                       263.247847                       264.837917   \n",
       "1                       263.334792                       264.853333   \n",
       "2                       263.345000                       264.840069   \n",
       "3                       263.305694                       264.793819   \n",
       "4                       263.364236                       264.765833   \n",
       "\n",
       "   Soil temperature at - 1.2 m (K)  Soil temperature at - 1.6 m (K)  \n",
       "0                       267.492257                       268.865924  \n",
       "1                       267.359347                       268.698403  \n",
       "2                       267.251514                       268.555993  \n",
       "3                       267.154694                       268.433021  \n",
       "4                       267.060896                       268.317271  \n",
       "\n",
       "[5 rows x 40 columns]"
      ]
     },
     "execution_count": 12,
     "metadata": {},
     "output_type": "execute_result"
    }
   ],
   "source": [
    "yakou_data =  pd.read_csv(filename_mes)\n",
    "yakou_data.head()"
   ]
  },
  {
   "cell_type": "code",
   "execution_count": null,
   "id": "0f5d2617-0ca8-4726-b586-1aaa2b05a9fb",
   "metadata": {},
   "outputs": [],
   "source": []
  },
  {
   "cell_type": "code",
   "execution_count": null,
   "id": "a91bbe15-6b73-43c1-be03-f2cdd5dd7c0b",
   "metadata": {},
   "outputs": [],
   "source": []
  },
  {
   "cell_type": "markdown",
   "id": "df752170-af75-4d79-b846-eff17f219d71",
   "metadata": {},
   "source": [
    "#### Accessing data - from simulations:"
   ]
  },
  {
   "cell_type": "code",
   "execution_count": 14,
   "id": "66e27ca5-cafa-46e9-af4d-d87979dd13e5",
   "metadata": {},
   "outputs": [
    {
     "data": {
      "text/plain": [
       "count    366.000000\n",
       "mean       0.298824\n",
       "std        0.273229\n",
       "min        0.106138\n",
       "25%        0.107801\n",
       "50%        0.110564\n",
       "75%        0.703625\n",
       "max        0.713422\n",
       "Name: point -0.04 saturation liquid, dtype: float64"
      ]
     },
     "execution_count": 14,
     "metadata": {},
     "output_type": "execute_result"
    }
   ],
   "source": [
    "sim_data = pd.read_csv('../rk_model_glm_obs_data.dat', sep=' ')\n",
    "sim_data['point -0.04 saturation liquid'].describe()"
   ]
  },
  {
   "cell_type": "markdown",
   "id": "63bd1149-39b2-4d3e-b557-6859a0993d08",
   "metadata": {},
   "source": [
    "### 1. Parameter groups external\n",
    "- Extracting the data from the example"
   ]
  },
  {
   "cell_type": "code",
   "execution_count": 10,
   "id": "7921545f-b8d4-4e90-aef9-61de308834f8",
   "metadata": {},
   "outputs": [
    {
     "data": {
      "text/html": [
       "<div>\n",
       "<style scoped>\n",
       "    .dataframe tbody tr th:only-of-type {\n",
       "        vertical-align: middle;\n",
       "    }\n",
       "\n",
       "    .dataframe tbody tr th {\n",
       "        vertical-align: top;\n",
       "    }\n",
       "\n",
       "    .dataframe thead th {\n",
       "        text-align: right;\n",
       "    }\n",
       "</style>\n",
       "<table border=\"1\" class=\"dataframe\">\n",
       "  <thead>\n",
       "    <tr style=\"text-align: right;\">\n",
       "      <th></th>\n",
       "      <th>pargpnme</th>\n",
       "      <th>inctyp</th>\n",
       "      <th>derinc</th>\n",
       "      <th>derinclb</th>\n",
       "      <th>forcen</th>\n",
       "      <th>derincmul</th>\n",
       "      <th>dermthd</th>\n",
       "      <th>splitthresh</th>\n",
       "      <th>splitreldiff</th>\n",
       "      <th>splitaction</th>\n",
       "    </tr>\n",
       "  </thead>\n",
       "  <tbody>\n",
       "    <tr>\n",
       "      <th>0</th>\n",
       "      <td>sto_ss_0</td>\n",
       "      <td>relative</td>\n",
       "      <td>0.01</td>\n",
       "      <td>0.0</td>\n",
       "      <td>switch</td>\n",
       "      <td>2.0</td>\n",
       "      <td>parabolic</td>\n",
       "      <td>0.00001</td>\n",
       "      <td>0.5</td>\n",
       "      <td>smaller</td>\n",
       "    </tr>\n",
       "    <tr>\n",
       "      <th>1</th>\n",
       "      <td>npf_k33_1</td>\n",
       "      <td>relative</td>\n",
       "      <td>0.01</td>\n",
       "      <td>0.0</td>\n",
       "      <td>switch</td>\n",
       "      <td>2.0</td>\n",
       "      <td>parabolic</td>\n",
       "      <td>0.00001</td>\n",
       "      <td>0.5</td>\n",
       "      <td>smaller</td>\n",
       "    </tr>\n",
       "    <tr>\n",
       "      <th>2</th>\n",
       "      <td>npf_k_1</td>\n",
       "      <td>relative</td>\n",
       "      <td>0.01</td>\n",
       "      <td>0.0</td>\n",
       "      <td>switch</td>\n",
       "      <td>2.0</td>\n",
       "      <td>parabolic</td>\n",
       "      <td>0.00001</td>\n",
       "      <td>0.5</td>\n",
       "      <td>smaller</td>\n",
       "    </tr>\n",
       "    <tr>\n",
       "      <th>3</th>\n",
       "      <td>sto_ss_1</td>\n",
       "      <td>relative</td>\n",
       "      <td>0.01</td>\n",
       "      <td>0.0</td>\n",
       "      <td>switch</td>\n",
       "      <td>2.0</td>\n",
       "      <td>parabolic</td>\n",
       "      <td>0.00001</td>\n",
       "      <td>0.5</td>\n",
       "      <td>smaller</td>\n",
       "    </tr>\n",
       "    <tr>\n",
       "      <th>4</th>\n",
       "      <td>npf_k_0</td>\n",
       "      <td>relative</td>\n",
       "      <td>0.01</td>\n",
       "      <td>0.0</td>\n",
       "      <td>switch</td>\n",
       "      <td>2.0</td>\n",
       "      <td>parabolic</td>\n",
       "      <td>0.00001</td>\n",
       "      <td>0.5</td>\n",
       "      <td>smaller</td>\n",
       "    </tr>\n",
       "  </tbody>\n",
       "</table>\n",
       "</div>"
      ],
      "text/plain": [
       "    pargpnme    inctyp  derinc  derinclb  forcen  derincmul    dermthd  \\\n",
       "0   sto_ss_0  relative    0.01       0.0  switch        2.0  parabolic   \n",
       "1  npf_k33_1  relative    0.01       0.0  switch        2.0  parabolic   \n",
       "2    npf_k_1  relative    0.01       0.0  switch        2.0  parabolic   \n",
       "3   sto_ss_1  relative    0.01       0.0  switch        2.0  parabolic   \n",
       "4    npf_k_0  relative    0.01       0.0  switch        2.0  parabolic   \n",
       "\n",
       "   splitthresh  splitreldiff splitaction  \n",
       "0      0.00001           0.5     smaller  \n",
       "1      0.00001           0.5     smaller  \n",
       "2      0.00001           0.5     smaller  \n",
       "3      0.00001           0.5     smaller  \n",
       "4      0.00001           0.5     smaller  "
      ]
     },
     "execution_count": 10,
     "metadata": {},
     "output_type": "execute_result"
    }
   ],
   "source": [
    "pargrp_data_example = pd.read_csv('../Freyberg_example/freyberg6_run_glm.pargrp_data.csv') \n",
    "pargrp_data_example.head()"
   ]
  },
  {
   "cell_type": "markdown",
   "id": "5b49aaab-b8a8-4522-8c60-1afa84db2dc6",
   "metadata": {},
   "source": [
    "#### Defining the variables in Parameter Group variables: \n",
    "- PARGPNME : Individual groups assigned for all parameters! - Assigned a total of 20 parameters (10 for each material)\n",
    "- INCTYP : 'relative' - The increment used for forward-difference calculation of derivatives with respect to any parameter belonging to the group is calculated as the fraction of the current value of that parameter; that fraction is provided as the real variable DERINC. Ex: If current value of parameter = 10 & DERINC =  0.01. Then the next parameter value = 0.01 * 10 = 0.1.\n",
    "- DERINC : '0.01' - The fraction of increment of the current value of parameter. [Consider the range of variation of the parameters, upper and lower bounds]\n",
    "- DERINCLB : '0.0'\n",
    "- FORCEN : 'switch'. In the first iteration, forward difference method is employed. From the second iteration, it switches to central difference method for the remainder of the inversion process on the iteration after which the relative objective function reduction between successive iterations is less than PHIREDSWH. Note we need to define PHIREDSWH (Where is it defined in this format?)\n",
    "- DERINCMUL : '1.0' - If three-point derivatives calculation is employed, the value of DERINC is multiplied by DERINCMUL.\n",
    "- DERMTHD : 'parabolic' - This is preferred as it provides greater accuracy.\n",
    "- [SPLITTHRESH] [SPLITRELDIFF] [SPLITACTION] - For the first analysis, we ignore the three variables."
   ]
  },
  {
   "cell_type": "code",
   "execution_count": 11,
   "id": "da4189f7-ce8b-41db-b29b-86be1bef2257",
   "metadata": {},
   "outputs": [
    {
     "data": {
      "text/html": [
       "<div>\n",
       "<style scoped>\n",
       "    .dataframe tbody tr th:only-of-type {\n",
       "        vertical-align: middle;\n",
       "    }\n",
       "\n",
       "    .dataframe tbody tr th {\n",
       "        vertical-align: top;\n",
       "    }\n",
       "\n",
       "    .dataframe thead th {\n",
       "        text-align: right;\n",
       "    }\n",
       "</style>\n",
       "<table border=\"1\" class=\"dataframe\">\n",
       "  <thead>\n",
       "    <tr style=\"text-align: right;\">\n",
       "      <th></th>\n",
       "      <th>pargpnme</th>\n",
       "      <th>inctyp</th>\n",
       "      <th>derinc</th>\n",
       "      <th>derinclb</th>\n",
       "      <th>forcen</th>\n",
       "      <th>derincmul</th>\n",
       "      <th>dermthd</th>\n",
       "    </tr>\n",
       "  </thead>\n",
       "  <tbody>\n",
       "    <tr>\n",
       "      <th>0</th>\n",
       "      <td>alpha_p_gp</td>\n",
       "      <td>relative</td>\n",
       "      <td>0.1</td>\n",
       "      <td>0.0</td>\n",
       "      <td>switch</td>\n",
       "      <td>1.0</td>\n",
       "      <td>parabolic</td>\n",
       "    </tr>\n",
       "    <tr>\n",
       "      <th>1</th>\n",
       "      <td>alpha_m_gp</td>\n",
       "      <td>relative</td>\n",
       "      <td>0.1</td>\n",
       "      <td>0.0</td>\n",
       "      <td>switch</td>\n",
       "      <td>1.0</td>\n",
       "      <td>parabolic</td>\n",
       "    </tr>\n",
       "    <tr>\n",
       "      <th>2</th>\n",
       "      <td>n_p_gp</td>\n",
       "      <td>relative</td>\n",
       "      <td>0.1</td>\n",
       "      <td>0.0</td>\n",
       "      <td>switch</td>\n",
       "      <td>1.0</td>\n",
       "      <td>parabolic</td>\n",
       "    </tr>\n",
       "    <tr>\n",
       "      <th>3</th>\n",
       "      <td>n_m_gp</td>\n",
       "      <td>relative</td>\n",
       "      <td>0.1</td>\n",
       "      <td>0.0</td>\n",
       "      <td>switch</td>\n",
       "      <td>1.0</td>\n",
       "      <td>parabolic</td>\n",
       "    </tr>\n",
       "    <tr>\n",
       "      <th>4</th>\n",
       "      <td>wr_p_gp</td>\n",
       "      <td>relative</td>\n",
       "      <td>0.1</td>\n",
       "      <td>0.0</td>\n",
       "      <td>switch</td>\n",
       "      <td>1.0</td>\n",
       "      <td>parabolic</td>\n",
       "    </tr>\n",
       "    <tr>\n",
       "      <th>5</th>\n",
       "      <td>wr_m_gp</td>\n",
       "      <td>relative</td>\n",
       "      <td>0.1</td>\n",
       "      <td>0.0</td>\n",
       "      <td>switch</td>\n",
       "      <td>1.0</td>\n",
       "      <td>parabolic</td>\n",
       "    </tr>\n",
       "    <tr>\n",
       "      <th>6</th>\n",
       "      <td>tcs_p_gp</td>\n",
       "      <td>relative</td>\n",
       "      <td>0.1</td>\n",
       "      <td>0.0</td>\n",
       "      <td>switch</td>\n",
       "      <td>1.0</td>\n",
       "      <td>parabolic</td>\n",
       "    </tr>\n",
       "    <tr>\n",
       "      <th>7</th>\n",
       "      <td>tcs_m_gp</td>\n",
       "      <td>relative</td>\n",
       "      <td>0.1</td>\n",
       "      <td>0.0</td>\n",
       "      <td>switch</td>\n",
       "      <td>1.0</td>\n",
       "      <td>parabolic</td>\n",
       "    </tr>\n",
       "    <tr>\n",
       "      <th>8</th>\n",
       "      <td>tcd_p_gp</td>\n",
       "      <td>relative</td>\n",
       "      <td>0.1</td>\n",
       "      <td>0.0</td>\n",
       "      <td>switch</td>\n",
       "      <td>1.0</td>\n",
       "      <td>parabolic</td>\n",
       "    </tr>\n",
       "    <tr>\n",
       "      <th>9</th>\n",
       "      <td>tcd_m_gp</td>\n",
       "      <td>relative</td>\n",
       "      <td>0.1</td>\n",
       "      <td>0.0</td>\n",
       "      <td>switch</td>\n",
       "      <td>1.0</td>\n",
       "      <td>parabolic</td>\n",
       "    </tr>\n",
       "    <tr>\n",
       "      <th>10</th>\n",
       "      <td>af_p_gp</td>\n",
       "      <td>relative</td>\n",
       "      <td>0.1</td>\n",
       "      <td>0.0</td>\n",
       "      <td>switch</td>\n",
       "      <td>1.0</td>\n",
       "      <td>parabolic</td>\n",
       "    </tr>\n",
       "    <tr>\n",
       "      <th>11</th>\n",
       "      <td>af_m_gp</td>\n",
       "      <td>relative</td>\n",
       "      <td>0.1</td>\n",
       "      <td>0.0</td>\n",
       "      <td>switch</td>\n",
       "      <td>1.0</td>\n",
       "      <td>parabolic</td>\n",
       "    </tr>\n",
       "    <tr>\n",
       "      <th>12</th>\n",
       "      <td>auf_p_gp</td>\n",
       "      <td>relative</td>\n",
       "      <td>0.1</td>\n",
       "      <td>0.0</td>\n",
       "      <td>switch</td>\n",
       "      <td>1.0</td>\n",
       "      <td>parabolic</td>\n",
       "    </tr>\n",
       "    <tr>\n",
       "      <th>13</th>\n",
       "      <td>auf_m_gp</td>\n",
       "      <td>relative</td>\n",
       "      <td>0.1</td>\n",
       "      <td>0.0</td>\n",
       "      <td>switch</td>\n",
       "      <td>1.0</td>\n",
       "      <td>parabolic</td>\n",
       "    </tr>\n",
       "    <tr>\n",
       "      <th>14</th>\n",
       "      <td>por_p_gp</td>\n",
       "      <td>relative</td>\n",
       "      <td>0.1</td>\n",
       "      <td>0.0</td>\n",
       "      <td>switch</td>\n",
       "      <td>1.0</td>\n",
       "      <td>parabolic</td>\n",
       "    </tr>\n",
       "    <tr>\n",
       "      <th>15</th>\n",
       "      <td>por_m_gp</td>\n",
       "      <td>relative</td>\n",
       "      <td>0.1</td>\n",
       "      <td>0.0</td>\n",
       "      <td>switch</td>\n",
       "      <td>1.0</td>\n",
       "      <td>parabolic</td>\n",
       "    </tr>\n",
       "    <tr>\n",
       "      <th>16</th>\n",
       "      <td>perm_p_gp</td>\n",
       "      <td>relative</td>\n",
       "      <td>0.1</td>\n",
       "      <td>0.0</td>\n",
       "      <td>switch</td>\n",
       "      <td>1.0</td>\n",
       "      <td>parabolic</td>\n",
       "    </tr>\n",
       "    <tr>\n",
       "      <th>17</th>\n",
       "      <td>perm_m_gp</td>\n",
       "      <td>relative</td>\n",
       "      <td>0.1</td>\n",
       "      <td>0.0</td>\n",
       "      <td>switch</td>\n",
       "      <td>1.0</td>\n",
       "      <td>parabolic</td>\n",
       "    </tr>\n",
       "    <tr>\n",
       "      <th>18</th>\n",
       "      <td>den_p_gp</td>\n",
       "      <td>relative</td>\n",
       "      <td>0.1</td>\n",
       "      <td>0.0</td>\n",
       "      <td>switch</td>\n",
       "      <td>1.0</td>\n",
       "      <td>parabolic</td>\n",
       "    </tr>\n",
       "    <tr>\n",
       "      <th>19</th>\n",
       "      <td>den_m_gp</td>\n",
       "      <td>relative</td>\n",
       "      <td>0.1</td>\n",
       "      <td>0.0</td>\n",
       "      <td>switch</td>\n",
       "      <td>1.0</td>\n",
       "      <td>parabolic</td>\n",
       "    </tr>\n",
       "    <tr>\n",
       "      <th>20</th>\n",
       "      <td>albedo_bg_gp</td>\n",
       "      <td>relative</td>\n",
       "      <td>0.1</td>\n",
       "      <td>0.0</td>\n",
       "      <td>switch</td>\n",
       "      <td>1.0</td>\n",
       "      <td>parabolic</td>\n",
       "    </tr>\n",
       "    <tr>\n",
       "      <th>21</th>\n",
       "      <td>e_bg_gp</td>\n",
       "      <td>relative</td>\n",
       "      <td>0.1</td>\n",
       "      <td>0.0</td>\n",
       "      <td>switch</td>\n",
       "      <td>1.0</td>\n",
       "      <td>parabolic</td>\n",
       "    </tr>\n",
       "    <tr>\n",
       "      <th>22</th>\n",
       "      <td>pen_w_gp</td>\n",
       "      <td>relative</td>\n",
       "      <td>0.1</td>\n",
       "      <td>0.0</td>\n",
       "      <td>switch</td>\n",
       "      <td>1.0</td>\n",
       "      <td>parabolic</td>\n",
       "    </tr>\n",
       "    <tr>\n",
       "      <th>23</th>\n",
       "      <td>pen_s_gp</td>\n",
       "      <td>relative</td>\n",
       "      <td>0.1</td>\n",
       "      <td>0.0</td>\n",
       "      <td>switch</td>\n",
       "      <td>1.0</td>\n",
       "      <td>parabolic</td>\n",
       "    </tr>\n",
       "    <tr>\n",
       "      <th>24</th>\n",
       "      <td>z_bg_gp</td>\n",
       "      <td>relative</td>\n",
       "      <td>0.1</td>\n",
       "      <td>0.0</td>\n",
       "      <td>switch</td>\n",
       "      <td>1.0</td>\n",
       "      <td>parabolic</td>\n",
       "    </tr>\n",
       "    <tr>\n",
       "      <th>25</th>\n",
       "      <td>z_s_gp</td>\n",
       "      <td>relative</td>\n",
       "      <td>0.1</td>\n",
       "      <td>0.0</td>\n",
       "      <td>switch</td>\n",
       "      <td>1.0</td>\n",
       "      <td>parabolic</td>\n",
       "    </tr>\n",
       "  </tbody>\n",
       "</table>\n",
       "</div>"
      ],
      "text/plain": [
       "        pargpnme    inctyp  derinc  derinclb  forcen  derincmul    dermthd\n",
       "0     alpha_p_gp  relative     0.1       0.0  switch        1.0  parabolic\n",
       "1     alpha_m_gp  relative     0.1       0.0  switch        1.0  parabolic\n",
       "2         n_p_gp  relative     0.1       0.0  switch        1.0  parabolic\n",
       "3         n_m_gp  relative     0.1       0.0  switch        1.0  parabolic\n",
       "4        wr_p_gp  relative     0.1       0.0  switch        1.0  parabolic\n",
       "5        wr_m_gp  relative     0.1       0.0  switch        1.0  parabolic\n",
       "6       tcs_p_gp  relative     0.1       0.0  switch        1.0  parabolic\n",
       "7       tcs_m_gp  relative     0.1       0.0  switch        1.0  parabolic\n",
       "8       tcd_p_gp  relative     0.1       0.0  switch        1.0  parabolic\n",
       "9       tcd_m_gp  relative     0.1       0.0  switch        1.0  parabolic\n",
       "10       af_p_gp  relative     0.1       0.0  switch        1.0  parabolic\n",
       "11       af_m_gp  relative     0.1       0.0  switch        1.0  parabolic\n",
       "12      auf_p_gp  relative     0.1       0.0  switch        1.0  parabolic\n",
       "13      auf_m_gp  relative     0.1       0.0  switch        1.0  parabolic\n",
       "14      por_p_gp  relative     0.1       0.0  switch        1.0  parabolic\n",
       "15      por_m_gp  relative     0.1       0.0  switch        1.0  parabolic\n",
       "16     perm_p_gp  relative     0.1       0.0  switch        1.0  parabolic\n",
       "17     perm_m_gp  relative     0.1       0.0  switch        1.0  parabolic\n",
       "18      den_p_gp  relative     0.1       0.0  switch        1.0  parabolic\n",
       "19      den_m_gp  relative     0.1       0.0  switch        1.0  parabolic\n",
       "20  albedo_bg_gp  relative     0.1       0.0  switch        1.0  parabolic\n",
       "21       e_bg_gp  relative     0.1       0.0  switch        1.0  parabolic\n",
       "22      pen_w_gp  relative     0.1       0.0  switch        1.0  parabolic\n",
       "23      pen_s_gp  relative     0.1       0.0  switch        1.0  parabolic\n",
       "24       z_bg_gp  relative     0.1       0.0  switch        1.0  parabolic\n",
       "25        z_s_gp  relative     0.1       0.0  switch        1.0  parabolic"
      ]
     },
     "execution_count": 11,
     "metadata": {},
     "output_type": "execute_result"
    }
   ],
   "source": [
    "pargrp = pargrp_data_example.copy()\n",
    "# Dropping all rows to replace with the two newly defined rows\n",
    "pargrp.drop(pargrp.index, inplace=True)\n",
    "# Dropping the columns - splitthresh, splitreldiff, splitaction\n",
    "pargrp.drop(columns=['splitthresh', 'splitreldiff', 'splitaction'], inplace=True)\n",
    "\n",
    "group_names = ['alpha_p_gp', 'alpha_m_gp', 'n_p_gp', 'n_m_gp', 'wr_p_gp', 'wr_m_gp', 'tcs_p_gp', 'tcs_m_gp', 'tcd_p_gp', 'tcd_m_gp', 'af_p_gp', 'af_m_gp', 'auf_p_gp', 'auf_m_gp', 'por_p_gp', 'por_m_gp', 'perm_p_gp', 'perm_m_gp', 'den_p_gp', 'den_m_gp','albedo_bg_gp','e_bg_gp','pen_w_gp','pen_s_gp','z_bg_gp','z_s_gp']\n",
    "\n",
    "for i, gp_nm in enumerate(group_names):\n",
    "    pargrp.loc[i] = [gp_nm, 'relative',0.1,0.0,'switch',1.0,'parabolic']\n",
    "    #print(i, gp_nm)\n",
    "    \n",
    "pargrp"
   ]
  },
  {
   "cell_type": "code",
   "execution_count": 12,
   "id": "4d4f2700-1a79-42c4-bc99-b96f5ff951db",
   "metadata": {},
   "outputs": [
    {
     "data": {
      "text/plain": [
       "'Case5_II_A_glm_start.demo'"
      ]
     },
     "execution_count": 12,
     "metadata": {},
     "output_type": "execute_result"
    }
   ],
   "source": [
    "directory_name"
   ]
  },
  {
   "cell_type": "code",
   "execution_count": 13,
   "id": "eee2e66f-76c9-499f-a78b-b226940a5b5a",
   "metadata": {},
   "outputs": [
    {
     "data": {
      "text/plain": [
       "'Case5_II_A_glm'"
      ]
     },
     "execution_count": 13,
     "metadata": {},
     "output_type": "execute_result"
    }
   ],
   "source": [
    "file_name"
   ]
  },
  {
   "cell_type": "code",
   "execution_count": 14,
   "id": "eaffd0cc-fee4-4b89-9e35-0b3a1a41b0d2",
   "metadata": {},
   "outputs": [],
   "source": [
    "# Exporting the parameter group csv file\n",
    "pargrp.to_csv(f'{file_name}_pargrp_data.csv', index=False)"
   ]
  },
  {
   "cell_type": "markdown",
   "id": "fccccfc6-d9d7-4aa3-a832-b2e8bfef8218",
   "metadata": {},
   "source": [
    "### 1. Parameter names external\n",
    "There are 26 parameters that we are considering for this first analysis"
   ]
  },
  {
   "cell_type": "code",
   "execution_count": 15,
   "id": "c594f91f-1d40-4bd6-a773-1aa331bcebc1",
   "metadata": {},
   "outputs": [
    {
     "data": {
      "text/plain": [
       "'/home/rk/pestpp/pestpp/rk_model_final/Case5_II_A_glm_start.demo'"
      ]
     },
     "execution_count": 15,
     "metadata": {},
     "output_type": "execute_result"
    }
   ],
   "source": [
    "os.getcwd()"
   ]
  },
  {
   "cell_type": "code",
   "execution_count": 16,
   "id": "de22227b-1b1c-4060-a445-8198391c2646",
   "metadata": {},
   "outputs": [
    {
     "data": {
      "text/html": [
       "<div>\n",
       "<style scoped>\n",
       "    .dataframe tbody tr th:only-of-type {\n",
       "        vertical-align: middle;\n",
       "    }\n",
       "\n",
       "    .dataframe tbody tr th {\n",
       "        vertical-align: top;\n",
       "    }\n",
       "\n",
       "    .dataframe thead th {\n",
       "        text-align: right;\n",
       "    }\n",
       "</style>\n",
       "<table border=\"1\" class=\"dataframe\">\n",
       "  <thead>\n",
       "    <tr style=\"text-align: right;\">\n",
       "      <th></th>\n",
       "      <th>parnme</th>\n",
       "      <th>partrans</th>\n",
       "      <th>parchglim</th>\n",
       "      <th>parval1</th>\n",
       "      <th>parlbnd</th>\n",
       "      <th>parubnd</th>\n",
       "      <th>pargp</th>\n",
       "      <th>scale</th>\n",
       "      <th>offset</th>\n",
       "      <th>dercom</th>\n",
       "      <th>partied</th>\n",
       "    </tr>\n",
       "  </thead>\n",
       "  <tbody>\n",
       "    <tr>\n",
       "      <th>0</th>\n",
       "      <td>npf_k33_0_000_000</td>\n",
       "      <td>log</td>\n",
       "      <td>factor</td>\n",
       "      <td>0.3</td>\n",
       "      <td>0.03</td>\n",
       "      <td>3.0</td>\n",
       "      <td>npf_k33_0</td>\n",
       "      <td>1.0</td>\n",
       "      <td>0.0</td>\n",
       "      <td>1</td>\n",
       "      <td>NaN</td>\n",
       "    </tr>\n",
       "    <tr>\n",
       "      <th>1</th>\n",
       "      <td>npf_k33_0_000_001</td>\n",
       "      <td>tied</td>\n",
       "      <td>factor</td>\n",
       "      <td>0.3</td>\n",
       "      <td>0.03</td>\n",
       "      <td>3.0</td>\n",
       "      <td>npf_k33_0</td>\n",
       "      <td>1.0</td>\n",
       "      <td>0.0</td>\n",
       "      <td>1</td>\n",
       "      <td>npf_k33_0_000_000</td>\n",
       "    </tr>\n",
       "    <tr>\n",
       "      <th>2</th>\n",
       "      <td>npf_k33_0_000_002</td>\n",
       "      <td>tied</td>\n",
       "      <td>factor</td>\n",
       "      <td>0.3</td>\n",
       "      <td>0.03</td>\n",
       "      <td>3.0</td>\n",
       "      <td>npf_k33_0</td>\n",
       "      <td>1.0</td>\n",
       "      <td>0.0</td>\n",
       "      <td>1</td>\n",
       "      <td>npf_k33_0_000_000</td>\n",
       "    </tr>\n",
       "    <tr>\n",
       "      <th>3</th>\n",
       "      <td>npf_k33_0_000_003</td>\n",
       "      <td>tied</td>\n",
       "      <td>factor</td>\n",
       "      <td>0.3</td>\n",
       "      <td>0.03</td>\n",
       "      <td>3.0</td>\n",
       "      <td>npf_k33_0</td>\n",
       "      <td>1.0</td>\n",
       "      <td>0.0</td>\n",
       "      <td>1</td>\n",
       "      <td>npf_k33_0_000_000</td>\n",
       "    </tr>\n",
       "    <tr>\n",
       "      <th>4</th>\n",
       "      <td>npf_k33_0_000_004</td>\n",
       "      <td>tied</td>\n",
       "      <td>factor</td>\n",
       "      <td>0.3</td>\n",
       "      <td>0.03</td>\n",
       "      <td>3.0</td>\n",
       "      <td>npf_k33_0</td>\n",
       "      <td>1.0</td>\n",
       "      <td>0.0</td>\n",
       "      <td>1</td>\n",
       "      <td>npf_k33_0_000_000</td>\n",
       "    </tr>\n",
       "  </tbody>\n",
       "</table>\n",
       "</div>"
      ],
      "text/plain": [
       "              parnme partrans parchglim  parval1  parlbnd  parubnd      pargp  \\\n",
       "0  npf_k33_0_000_000      log    factor      0.3     0.03      3.0  npf_k33_0   \n",
       "1  npf_k33_0_000_001     tied    factor      0.3     0.03      3.0  npf_k33_0   \n",
       "2  npf_k33_0_000_002     tied    factor      0.3     0.03      3.0  npf_k33_0   \n",
       "3  npf_k33_0_000_003     tied    factor      0.3     0.03      3.0  npf_k33_0   \n",
       "4  npf_k33_0_000_004     tied    factor      0.3     0.03      3.0  npf_k33_0   \n",
       "\n",
       "   scale  offset  dercom            partied  \n",
       "0    1.0     0.0       1                NaN  \n",
       "1    1.0     0.0       1  npf_k33_0_000_000  \n",
       "2    1.0     0.0       1  npf_k33_0_000_000  \n",
       "3    1.0     0.0       1  npf_k33_0_000_000  \n",
       "4    1.0     0.0       1  npf_k33_0_000_000  "
      ]
     },
     "execution_count": 16,
     "metadata": {},
     "output_type": "execute_result"
    }
   ],
   "source": [
    "par_data_example = pd.read_csv('../Freyberg_example/freyberg6_run_glm.par_data.csv') \n",
    "par_data_example.head()"
   ]
  },
  {
   "cell_type": "markdown",
   "id": "ebef45d4-9558-4351-abf4-0ca2466c174c",
   "metadata": {},
   "source": [
    "The following details need to be defined:\n",
    "- PARNME: 'n_m', 'tcs_m', 'af_m', 'af_p', .... - It is the parameter name\n",
    "- PARTRANS: 'none' {'log' - Can we considered later if the inversion process does not occur. Log-transformations helps in ensuring that the parameter changes and model output changes are more linear.}\n",
    "- PARCHGLIM: 'factor' - Alteration to a parameter's value is factor-limited. { PARCHGLIM must be provided with a value of “relative” or “factor”. The former designates that alterations to a parameter’s value are factor-limited whereas the latter designates that alterations to its value are relative-limited. }\n",
    "- PARVALI: 1.2, 1, 0.05, 0.005 - These are the starting values for the parameters\n",
    "- PARLBND: 1.05, 0.8, 0.02, 0.002 - Lower bounds for the parameters.\n",
    "- PARUBND: 3, 2.5, 0.1, 0.01 - Upper bounds for the parameters.\n",
    "- PARGRP: 'hydraulic','thermal','hydraulic', 'hydraulic' - It is the parameter group names associated with the parameters. \n",
    "- SCALE: 1.0, 1.0, 1.0, 1.0 - No scale or offset is provided\n",
    "- OFFSET: 0.0, 0.0, 0.0, 0.0 - No scale or offset is provided\n",
    "- DERCOM: 1, 1, 1, 1 - Only model command exists. Hence we give 1 which represents 'ats'\n",
    "- Partied: This column will be dropped since we have no tied elements\n",
    "\n",
    " **The parameters that were not resulting in model outputs and their initial value, lower bound and upper bound needed to be redefined:**\n",
    " 1. e_bg: **0.500**, 0.75, 0.9625\n",
    " 2. alpha_p: 0.0025, 0.01, **0.0125**\n",
    " 3. n_p: 1.025, 1.5, 2.05\n",
    " 4. wr_p: 0.024, 0.1, 0.2\n",
    " 5. por_p: 0.159, 0.63739, **0.85**"
   ]
  },
  {
   "cell_type": "code",
   "execution_count": 17,
   "id": "9dc94793-1e13-47ae-9a09-c1809ccf33ef",
   "metadata": {},
   "outputs": [],
   "source": [
    "# Getting the best parameter dataset from the simulation - all_params_afterrw.demo\n",
    "directory_name_params = 'all_params_afterrw.demo'\n",
    "best_params_afterrw = pd.read_csv(f'../{directory_name_params}/rk_model_glm_cf_v1_allparams_rw.par',delimiter='\\s+',skiprows=1, header=None)\n",
    "best_params_afterrw.drop(columns=[2,3],inplace=True)\n",
    "best_params_afterrw.columns = ['parameter','PARVAL1']\n",
    "best_params_afterrw.head()\n",
    "\n",
    "\n",
    "\n",
    "length_index = len(best_params_afterrw.index)\n",
    "\n",
    "\n",
    "best_params_afterrw.index = best_params_afterrw['parameter']\n",
    "best_params_afterrw.drop(columns='parameter',inplace=True)\n",
    "\n",
    "\n",
    "# Changing the initial value of n_p, n_m, den_m, wr_p, por_p, alpha_p\n",
    "best_params_afterrw.loc['n_p'] = 1.5 # Taken from the parameter change\n",
    "best_params_afterrw.loc['n_m'] = 2.05 # Since value below 1.05 is not allowed\n",
    "best_params_afterrw.loc['den_m'] = 1900 # Since value above 2700 represents a soil mineral layer\n",
    "best_params_afterrw.loc['wr_p'] = 0.1 # The residual saturation is chosen from the parameter change\n",
    "best_params_afterrw.loc['por_p'] = 0.63739 # The porosity of peat is chosen from the parameter change\n",
    "best_params_afterrw.loc['alpha_p'] = 0.01 # The alpha of peat is chosen from the parameter change\n",
    "\n",
    "#best_params_afterrw.loc['perm_p'] = 5.346622127220000e-11\n",
    "\n",
    "# Changing to float type \n",
    "best_params_afterrw = best_params_afterrw.astype('float64')\n",
    "\n",
    "# Adding the lower and upper bound - 75% for all params except n_p, n_m and den_m which is given 50 %\n",
    "best_params_afterrw['PARLBND'] = best_params_afterrw['PARVAL1']*0.25\n",
    "best_params_afterrw['PARUBND'] = best_params_afterrw['PARVAL1']*1.75\n",
    "\n",
    "best_params_afterrw.loc['n_p']['PARLBND'] = 1.025 # Chosen from parameter change\n",
    "best_params_afterrw.loc['n_p']['PARUBND'] = 2.05 # Chosen from parameter change\n",
    "\n",
    "best_params_afterrw.loc['wr_p']['PARLBND'] = 0.024 # Chosen from parameter change\n",
    "best_params_afterrw.loc['wr_p']['PARUBND'] = 0.2 # Chosen from parameter change\n",
    "\n",
    "best_params_afterrw.loc['por_p']['PARLBND'] = 0.159 # Chosen from parameter change\n",
    "best_params_afterrw.loc['por_p']['PARUBND'] = 0.85 # Chosen from parameter change\n",
    "\n",
    "best_params_afterrw.loc['alpha_p']['PARLBND'] = 0.0025 # Chosen from parameter change\n",
    "best_params_afterrw.loc['alpha_p']['PARUBND'] = 0.0125 # Chosen from parameter change\n",
    "\n",
    "best_params_afterrw.loc['n_m']['PARLBND'] = best_params_afterrw.loc['n_m']['PARVAL1']*0.5\n",
    "best_params_afterrw.loc['n_m']['PARUBND'] = best_params_afterrw.loc['n_m']['PARVAL1']*1.5\n",
    "\n",
    "best_params_afterrw.loc['den_m']['PARLBND'] = best_params_afterrw.loc['den_m']['PARVAL1']*0.5\n",
    "best_params_afterrw.loc['den_m']['PARUBND'] = best_params_afterrw.loc['den_m']['PARVAL1']*1.5\n",
    "\n",
    "#best_params_afterrw.head()"
   ]
  },
  {
   "cell_type": "code",
   "execution_count": 18,
   "id": "3ea4f1a1-ccab-4da1-aca5-608e11ec529b",
   "metadata": {},
   "outputs": [
    {
     "data": {
      "text/html": [
       "<div>\n",
       "<style scoped>\n",
       "    .dataframe tbody tr th:only-of-type {\n",
       "        vertical-align: middle;\n",
       "    }\n",
       "\n",
       "    .dataframe tbody tr th {\n",
       "        vertical-align: top;\n",
       "    }\n",
       "\n",
       "    .dataframe thead th {\n",
       "        text-align: right;\n",
       "    }\n",
       "</style>\n",
       "<table border=\"1\" class=\"dataframe\">\n",
       "  <thead>\n",
       "    <tr style=\"text-align: right;\">\n",
       "      <th></th>\n",
       "      <th>parnme</th>\n",
       "      <th>partrans</th>\n",
       "      <th>parchglim</th>\n",
       "      <th>parval1</th>\n",
       "      <th>parlbnd</th>\n",
       "      <th>parubnd</th>\n",
       "      <th>pargp</th>\n",
       "      <th>scale</th>\n",
       "      <th>offset</th>\n",
       "      <th>dercom</th>\n",
       "    </tr>\n",
       "  </thead>\n",
       "  <tbody>\n",
       "    <tr>\n",
       "      <th>0</th>\n",
       "      <td>alpha_p</td>\n",
       "      <td>none</td>\n",
       "      <td>factor</td>\n",
       "      <td>1.000000e-02</td>\n",
       "      <td>2.500000e-03</td>\n",
       "      <td>1.250000e-02</td>\n",
       "      <td>alpha_p_gp</td>\n",
       "      <td>1.0</td>\n",
       "      <td>0.0</td>\n",
       "      <td>1</td>\n",
       "    </tr>\n",
       "    <tr>\n",
       "      <th>1</th>\n",
       "      <td>alpha_m</td>\n",
       "      <td>none</td>\n",
       "      <td>factor</td>\n",
       "      <td>1.824914e-03</td>\n",
       "      <td>4.562286e-04</td>\n",
       "      <td>3.193600e-03</td>\n",
       "      <td>alpha_m_gp</td>\n",
       "      <td>1.0</td>\n",
       "      <td>0.0</td>\n",
       "      <td>1</td>\n",
       "    </tr>\n",
       "    <tr>\n",
       "      <th>2</th>\n",
       "      <td>n_p</td>\n",
       "      <td>none</td>\n",
       "      <td>factor</td>\n",
       "      <td>1.500000e+00</td>\n",
       "      <td>1.025000e+00</td>\n",
       "      <td>2.050000e+00</td>\n",
       "      <td>n_p_gp</td>\n",
       "      <td>1.0</td>\n",
       "      <td>0.0</td>\n",
       "      <td>1</td>\n",
       "    </tr>\n",
       "    <tr>\n",
       "      <th>3</th>\n",
       "      <td>n_m</td>\n",
       "      <td>none</td>\n",
       "      <td>factor</td>\n",
       "      <td>2.050000e+00</td>\n",
       "      <td>1.025000e+00</td>\n",
       "      <td>3.075000e+00</td>\n",
       "      <td>n_m_gp</td>\n",
       "      <td>1.0</td>\n",
       "      <td>0.0</td>\n",
       "      <td>1</td>\n",
       "    </tr>\n",
       "    <tr>\n",
       "      <th>4</th>\n",
       "      <td>wr_p</td>\n",
       "      <td>none</td>\n",
       "      <td>factor</td>\n",
       "      <td>1.000000e-01</td>\n",
       "      <td>2.400000e-02</td>\n",
       "      <td>2.000000e-01</td>\n",
       "      <td>wr_p_gp</td>\n",
       "      <td>1.0</td>\n",
       "      <td>0.0</td>\n",
       "      <td>1</td>\n",
       "    </tr>\n",
       "    <tr>\n",
       "      <th>5</th>\n",
       "      <td>wr_m</td>\n",
       "      <td>none</td>\n",
       "      <td>factor</td>\n",
       "      <td>1.594881e-01</td>\n",
       "      <td>3.987202e-02</td>\n",
       "      <td>2.791041e-01</td>\n",
       "      <td>wr_m_gp</td>\n",
       "      <td>1.0</td>\n",
       "      <td>0.0</td>\n",
       "      <td>1</td>\n",
       "    </tr>\n",
       "    <tr>\n",
       "      <th>6</th>\n",
       "      <td>tcs_p</td>\n",
       "      <td>none</td>\n",
       "      <td>factor</td>\n",
       "      <td>4.395766e-01</td>\n",
       "      <td>1.098942e-01</td>\n",
       "      <td>7.692591e-01</td>\n",
       "      <td>tcs_p_gp</td>\n",
       "      <td>1.0</td>\n",
       "      <td>0.0</td>\n",
       "      <td>1</td>\n",
       "    </tr>\n",
       "    <tr>\n",
       "      <th>7</th>\n",
       "      <td>tcs_m</td>\n",
       "      <td>none</td>\n",
       "      <td>factor</td>\n",
       "      <td>9.521051e-01</td>\n",
       "      <td>2.380263e-01</td>\n",
       "      <td>1.666184e+00</td>\n",
       "      <td>tcs_m_gp</td>\n",
       "      <td>1.0</td>\n",
       "      <td>0.0</td>\n",
       "      <td>1</td>\n",
       "    </tr>\n",
       "    <tr>\n",
       "      <th>8</th>\n",
       "      <td>tcd_p</td>\n",
       "      <td>none</td>\n",
       "      <td>factor</td>\n",
       "      <td>1.010234e-01</td>\n",
       "      <td>2.525585e-02</td>\n",
       "      <td>1.767910e-01</td>\n",
       "      <td>tcd_p_gp</td>\n",
       "      <td>1.0</td>\n",
       "      <td>0.0</td>\n",
       "      <td>1</td>\n",
       "    </tr>\n",
       "    <tr>\n",
       "      <th>9</th>\n",
       "      <td>tcd_m</td>\n",
       "      <td>none</td>\n",
       "      <td>factor</td>\n",
       "      <td>9.844054e-01</td>\n",
       "      <td>2.461014e-01</td>\n",
       "      <td>1.722710e+00</td>\n",
       "      <td>tcd_m_gp</td>\n",
       "      <td>1.0</td>\n",
       "      <td>0.0</td>\n",
       "      <td>1</td>\n",
       "    </tr>\n",
       "    <tr>\n",
       "      <th>10</th>\n",
       "      <td>af_p</td>\n",
       "      <td>none</td>\n",
       "      <td>factor</td>\n",
       "      <td>1.505114e+00</td>\n",
       "      <td>3.762785e-01</td>\n",
       "      <td>2.633950e+00</td>\n",
       "      <td>af_p_gp</td>\n",
       "      <td>1.0</td>\n",
       "      <td>0.0</td>\n",
       "      <td>1</td>\n",
       "    </tr>\n",
       "    <tr>\n",
       "      <th>11</th>\n",
       "      <td>af_m</td>\n",
       "      <td>none</td>\n",
       "      <td>factor</td>\n",
       "      <td>1.499389e+00</td>\n",
       "      <td>3.748473e-01</td>\n",
       "      <td>2.623931e+00</td>\n",
       "      <td>af_m_gp</td>\n",
       "      <td>1.0</td>\n",
       "      <td>0.0</td>\n",
       "      <td>1</td>\n",
       "    </tr>\n",
       "    <tr>\n",
       "      <th>12</th>\n",
       "      <td>auf_p</td>\n",
       "      <td>none</td>\n",
       "      <td>factor</td>\n",
       "      <td>4.869354e-01</td>\n",
       "      <td>1.217339e-01</td>\n",
       "      <td>8.521370e-01</td>\n",
       "      <td>auf_p_gp</td>\n",
       "      <td>1.0</td>\n",
       "      <td>0.0</td>\n",
       "      <td>1</td>\n",
       "    </tr>\n",
       "    <tr>\n",
       "      <th>13</th>\n",
       "      <td>auf_m</td>\n",
       "      <td>none</td>\n",
       "      <td>factor</td>\n",
       "      <td>6.988840e-01</td>\n",
       "      <td>1.747210e-01</td>\n",
       "      <td>1.223047e+00</td>\n",
       "      <td>auf_m_gp</td>\n",
       "      <td>1.0</td>\n",
       "      <td>0.0</td>\n",
       "      <td>1</td>\n",
       "    </tr>\n",
       "    <tr>\n",
       "      <th>14</th>\n",
       "      <td>por_p</td>\n",
       "      <td>none</td>\n",
       "      <td>factor</td>\n",
       "      <td>6.373900e-01</td>\n",
       "      <td>1.590000e-01</td>\n",
       "      <td>8.500000e-01</td>\n",
       "      <td>por_p_gp</td>\n",
       "      <td>1.0</td>\n",
       "      <td>0.0</td>\n",
       "      <td>1</td>\n",
       "    </tr>\n",
       "    <tr>\n",
       "      <th>15</th>\n",
       "      <td>por_m</td>\n",
       "      <td>none</td>\n",
       "      <td>factor</td>\n",
       "      <td>4.810308e-01</td>\n",
       "      <td>1.202577e-01</td>\n",
       "      <td>8.418038e-01</td>\n",
       "      <td>por_m_gp</td>\n",
       "      <td>1.0</td>\n",
       "      <td>0.0</td>\n",
       "      <td>1</td>\n",
       "    </tr>\n",
       "    <tr>\n",
       "      <th>16</th>\n",
       "      <td>perm_p</td>\n",
       "      <td>none</td>\n",
       "      <td>factor</td>\n",
       "      <td>5.346622e-11</td>\n",
       "      <td>1.336656e-11</td>\n",
       "      <td>9.356589e-11</td>\n",
       "      <td>perm_p_gp</td>\n",
       "      <td>1.0</td>\n",
       "      <td>0.0</td>\n",
       "      <td>1</td>\n",
       "    </tr>\n",
       "    <tr>\n",
       "      <th>17</th>\n",
       "      <td>perm_m</td>\n",
       "      <td>none</td>\n",
       "      <td>factor</td>\n",
       "      <td>1.000000e-13</td>\n",
       "      <td>2.500000e-14</td>\n",
       "      <td>1.750000e-13</td>\n",
       "      <td>perm_m_gp</td>\n",
       "      <td>1.0</td>\n",
       "      <td>0.0</td>\n",
       "      <td>1</td>\n",
       "    </tr>\n",
       "    <tr>\n",
       "      <th>18</th>\n",
       "      <td>den_p</td>\n",
       "      <td>none</td>\n",
       "      <td>factor</td>\n",
       "      <td>9.000000e+02</td>\n",
       "      <td>2.250000e+02</td>\n",
       "      <td>1.575000e+03</td>\n",
       "      <td>den_p_gp</td>\n",
       "      <td>1.0</td>\n",
       "      <td>0.0</td>\n",
       "      <td>1</td>\n",
       "    </tr>\n",
       "    <tr>\n",
       "      <th>19</th>\n",
       "      <td>den_m</td>\n",
       "      <td>none</td>\n",
       "      <td>factor</td>\n",
       "      <td>1.900000e+03</td>\n",
       "      <td>9.500000e+02</td>\n",
       "      <td>2.850000e+03</td>\n",
       "      <td>den_m_gp</td>\n",
       "      <td>1.0</td>\n",
       "      <td>0.0</td>\n",
       "      <td>1</td>\n",
       "    </tr>\n",
       "    <tr>\n",
       "      <th>20</th>\n",
       "      <td>albedo_bg</td>\n",
       "      <td>none</td>\n",
       "      <td>factor</td>\n",
       "      <td>5.500000e-01</td>\n",
       "      <td>1.375000e-01</td>\n",
       "      <td>9.625000e-01</td>\n",
       "      <td>albedo_bg_gp</td>\n",
       "      <td>1.0</td>\n",
       "      <td>0.0</td>\n",
       "      <td>1</td>\n",
       "    </tr>\n",
       "    <tr>\n",
       "      <th>21</th>\n",
       "      <td>e_bg</td>\n",
       "      <td>none</td>\n",
       "      <td>factor</td>\n",
       "      <td>7.500000e-01</td>\n",
       "      <td>5.000000e-01</td>\n",
       "      <td>9.625000e-01</td>\n",
       "      <td>e_bg_gp</td>\n",
       "      <td>1.0</td>\n",
       "      <td>0.0</td>\n",
       "      <td>1</td>\n",
       "    </tr>\n",
       "    <tr>\n",
       "      <th>22</th>\n",
       "      <td>pen_w</td>\n",
       "      <td>none</td>\n",
       "      <td>factor</td>\n",
       "      <td>1.000000e-02</td>\n",
       "      <td>2.500000e-03</td>\n",
       "      <td>1.750000e-02</td>\n",
       "      <td>pen_w_gp</td>\n",
       "      <td>1.0</td>\n",
       "      <td>0.0</td>\n",
       "      <td>1</td>\n",
       "    </tr>\n",
       "    <tr>\n",
       "      <th>23</th>\n",
       "      <td>pen_s</td>\n",
       "      <td>none</td>\n",
       "      <td>factor</td>\n",
       "      <td>2.000000e-02</td>\n",
       "      <td>5.000000e-03</td>\n",
       "      <td>3.500000e-02</td>\n",
       "      <td>pen_s_gp</td>\n",
       "      <td>1.0</td>\n",
       "      <td>0.0</td>\n",
       "      <td>1</td>\n",
       "    </tr>\n",
       "    <tr>\n",
       "      <th>24</th>\n",
       "      <td>z_bg</td>\n",
       "      <td>none</td>\n",
       "      <td>factor</td>\n",
       "      <td>4.000000e-02</td>\n",
       "      <td>1.000000e-02</td>\n",
       "      <td>7.000000e-02</td>\n",
       "      <td>z_bg_gp</td>\n",
       "      <td>1.0</td>\n",
       "      <td>0.0</td>\n",
       "      <td>1</td>\n",
       "    </tr>\n",
       "    <tr>\n",
       "      <th>25</th>\n",
       "      <td>z_s</td>\n",
       "      <td>none</td>\n",
       "      <td>factor</td>\n",
       "      <td>5.000000e-03</td>\n",
       "      <td>1.250000e-03</td>\n",
       "      <td>8.750000e-03</td>\n",
       "      <td>z_s_gp</td>\n",
       "      <td>1.0</td>\n",
       "      <td>0.0</td>\n",
       "      <td>1</td>\n",
       "    </tr>\n",
       "  </tbody>\n",
       "</table>\n",
       "</div>"
      ],
      "text/plain": [
       "       parnme partrans parchglim       parval1       parlbnd       parubnd  \\\n",
       "0     alpha_p     none    factor  1.000000e-02  2.500000e-03  1.250000e-02   \n",
       "1     alpha_m     none    factor  1.824914e-03  4.562286e-04  3.193600e-03   \n",
       "2         n_p     none    factor  1.500000e+00  1.025000e+00  2.050000e+00   \n",
       "3         n_m     none    factor  2.050000e+00  1.025000e+00  3.075000e+00   \n",
       "4        wr_p     none    factor  1.000000e-01  2.400000e-02  2.000000e-01   \n",
       "5        wr_m     none    factor  1.594881e-01  3.987202e-02  2.791041e-01   \n",
       "6       tcs_p     none    factor  4.395766e-01  1.098942e-01  7.692591e-01   \n",
       "7       tcs_m     none    factor  9.521051e-01  2.380263e-01  1.666184e+00   \n",
       "8       tcd_p     none    factor  1.010234e-01  2.525585e-02  1.767910e-01   \n",
       "9       tcd_m     none    factor  9.844054e-01  2.461014e-01  1.722710e+00   \n",
       "10       af_p     none    factor  1.505114e+00  3.762785e-01  2.633950e+00   \n",
       "11       af_m     none    factor  1.499389e+00  3.748473e-01  2.623931e+00   \n",
       "12      auf_p     none    factor  4.869354e-01  1.217339e-01  8.521370e-01   \n",
       "13      auf_m     none    factor  6.988840e-01  1.747210e-01  1.223047e+00   \n",
       "14      por_p     none    factor  6.373900e-01  1.590000e-01  8.500000e-01   \n",
       "15      por_m     none    factor  4.810308e-01  1.202577e-01  8.418038e-01   \n",
       "16     perm_p     none    factor  5.346622e-11  1.336656e-11  9.356589e-11   \n",
       "17     perm_m     none    factor  1.000000e-13  2.500000e-14  1.750000e-13   \n",
       "18      den_p     none    factor  9.000000e+02  2.250000e+02  1.575000e+03   \n",
       "19      den_m     none    factor  1.900000e+03  9.500000e+02  2.850000e+03   \n",
       "20  albedo_bg     none    factor  5.500000e-01  1.375000e-01  9.625000e-01   \n",
       "21       e_bg     none    factor  7.500000e-01  5.000000e-01  9.625000e-01   \n",
       "22      pen_w     none    factor  1.000000e-02  2.500000e-03  1.750000e-02   \n",
       "23      pen_s     none    factor  2.000000e-02  5.000000e-03  3.500000e-02   \n",
       "24       z_bg     none    factor  4.000000e-02  1.000000e-02  7.000000e-02   \n",
       "25        z_s     none    factor  5.000000e-03  1.250000e-03  8.750000e-03   \n",
       "\n",
       "           pargp  scale  offset  dercom  \n",
       "0     alpha_p_gp    1.0     0.0       1  \n",
       "1     alpha_m_gp    1.0     0.0       1  \n",
       "2         n_p_gp    1.0     0.0       1  \n",
       "3         n_m_gp    1.0     0.0       1  \n",
       "4        wr_p_gp    1.0     0.0       1  \n",
       "5        wr_m_gp    1.0     0.0       1  \n",
       "6       tcs_p_gp    1.0     0.0       1  \n",
       "7       tcs_m_gp    1.0     0.0       1  \n",
       "8       tcd_p_gp    1.0     0.0       1  \n",
       "9       tcd_m_gp    1.0     0.0       1  \n",
       "10       af_p_gp    1.0     0.0       1  \n",
       "11       af_m_gp    1.0     0.0       1  \n",
       "12      auf_p_gp    1.0     0.0       1  \n",
       "13      auf_m_gp    1.0     0.0       1  \n",
       "14      por_p_gp    1.0     0.0       1  \n",
       "15      por_m_gp    1.0     0.0       1  \n",
       "16     perm_p_gp    1.0     0.0       1  \n",
       "17     perm_m_gp    1.0     0.0       1  \n",
       "18      den_p_gp    1.0     0.0       1  \n",
       "19      den_m_gp    1.0     0.0       1  \n",
       "20  albedo_bg_gp    1.0     0.0       1  \n",
       "21       e_bg_gp    1.0     0.0       1  \n",
       "22      pen_w_gp    1.0     0.0       1  \n",
       "23      pen_s_gp    1.0     0.0       1  \n",
       "24       z_bg_gp    1.0     0.0       1  \n",
       "25        z_s_gp    1.0     0.0       1  "
      ]
     },
     "execution_count": 18,
     "metadata": {},
     "output_type": "execute_result"
    }
   ],
   "source": [
    "par_data = par_data_example.copy()\n",
    "par_data.drop(par_data.index, inplace=True)\n",
    "# Dropping the columns - splitthresh, splitreldiff, splitaction\n",
    "par_data.drop(columns=['partied'], inplace=True)\n",
    "\n",
    "#param_names = ['alpha_p', 'alpha_m', 'n_p', 'n_m', 'wr_p', 'wr_m', 'tcs_p', 'tcs_m', 'tcd_p', 'tcd_m', 'af_p', 'af_m', 'auf_p', 'por_p', 'por_m', 'perm_p', 'perm_m', 'den_p', 'den_m', 'lh_w','lh_i','hc_l','hc_r']\n",
    "\n",
    "for i, values in enumerate(best_params_afterrw.index):\n",
    "    par_data.loc[i] = [best_params_afterrw.index[i], 'none','factor', best_params_afterrw['PARVAL1'].values[i], best_params_afterrw['PARLBND'].values[i], best_params_afterrw['PARUBND'].values[i], pargrp['pargpnme'].values[i], 1.0, 0.0, 1] \n",
    "\n",
    "par_data\n",
    "# Adding row information for surface parameters:\n",
    "\n",
    "par_data.loc[par_data.index.max()+1] = ['albedo_bg','none','factor', 0.55, 0.55*0.25, 0.55*1.75, 'albedo_bg_gp', 1.0, 0.0, 1]\n",
    "par_data.loc[par_data.index.max()+1] = ['e_bg','none','factor', 0.75, 0.5, 0.9625, 'e_bg_gp', 1.0, 0.0, 1]\n",
    "par_data.loc[par_data.index.max()+1] = ['pen_w','none','factor', 0.01, 0.01*0.25, 0.01*1.75, 'pen_w_gp', 1.0, 0.0, 1]\n",
    "par_data.loc[par_data.index.max()+1] = ['pen_s','none','factor', 0.02, 0.02*0.25, 0.02*1.75, 'pen_s_gp', 1.0, 0.0, 1]\n",
    "par_data.loc[par_data.index.max()+1] = ['z_bg','none','factor', 0.04, 0.04*0.25, 0.04*1.75, 'z_bg_gp', 1.0, 0.0, 1]\n",
    "par_data.loc[par_data.index.max()+1] = ['z_s','none','factor', 0.005, 0.005*0.25, 0.005*1.75, 'z_s_gp', 1.0, 0.0, 1]\n",
    "#par_data.loc[1] = ['alpha_m','none','factor', 0.005, 0.001, 0.01, 'alpha_m_gp', 1.0, 0.0, 1]\n",
    "\n",
    "par_data"
   ]
  },
  {
   "cell_type": "code",
   "execution_count": 19,
   "id": "34615aef-c948-4286-a83e-8811d7a96a85",
   "metadata": {},
   "outputs": [],
   "source": [
    "# Exporting the parameter group csv file\n",
    "par_data.to_csv(f'{file_name}_par_data.csv', index=False)"
   ]
  },
  {
   "cell_type": "markdown",
   "id": "9e033f52-e571-40f4-b29a-758d1c4cff8d",
   "metadata": {},
   "source": [
    "### 3. Observation data"
   ]
  },
  {
   "cell_type": "code",
   "execution_count": 20,
   "id": "7c2682ca-8292-4779-b320-f277bc3bd2ad",
   "metadata": {},
   "outputs": [
    {
     "data": {
      "text/html": [
       "<div>\n",
       "<style scoped>\n",
       "    .dataframe tbody tr th:only-of-type {\n",
       "        vertical-align: middle;\n",
       "    }\n",
       "\n",
       "    .dataframe tbody tr th {\n",
       "        vertical-align: top;\n",
       "    }\n",
       "\n",
       "    .dataframe thead th {\n",
       "        text-align: right;\n",
       "    }\n",
       "</style>\n",
       "<table border=\"1\" class=\"dataframe\">\n",
       "  <thead>\n",
       "    <tr style=\"text-align: right;\">\n",
       "      <th></th>\n",
       "      <th>obsnme</th>\n",
       "      <th>obsval</th>\n",
       "      <th>weight</th>\n",
       "      <th>obgnme</th>\n",
       "    </tr>\n",
       "  </thead>\n",
       "  <tbody>\n",
       "    <tr>\n",
       "      <th>0</th>\n",
       "      <td>gage_1_20151231</td>\n",
       "      <td>951.710</td>\n",
       "      <td>0.000000</td>\n",
       "      <td>gage</td>\n",
       "    </tr>\n",
       "    <tr>\n",
       "      <th>1</th>\n",
       "      <td>gage_1_20160131</td>\n",
       "      <td>1530.100</td>\n",
       "      <td>0.004357</td>\n",
       "      <td>gage</td>\n",
       "    </tr>\n",
       "    <tr>\n",
       "      <th>2</th>\n",
       "      <td>gage_1_20160229</td>\n",
       "      <td>1855.300</td>\n",
       "      <td>0.003593</td>\n",
       "      <td>gage</td>\n",
       "    </tr>\n",
       "    <tr>\n",
       "      <th>3</th>\n",
       "      <td>gage_1_20160331</td>\n",
       "      <td>1907.100</td>\n",
       "      <td>0.003496</td>\n",
       "      <td>gage</td>\n",
       "    </tr>\n",
       "    <tr>\n",
       "      <th>4</th>\n",
       "      <td>gage_1_20160430</td>\n",
       "      <td>1747.700</td>\n",
       "      <td>0.003815</td>\n",
       "      <td>gage</td>\n",
       "    </tr>\n",
       "    <tr>\n",
       "      <th>...</th>\n",
       "      <td>...</td>\n",
       "      <td>...</td>\n",
       "      <td>...</td>\n",
       "      <td>...</td>\n",
       "    </tr>\n",
       "    <tr>\n",
       "      <th>1020</th>\n",
       "      <td>trgw_2_9_1_20170831</td>\n",
       "      <td>34.864</td>\n",
       "      <td>0.000000</td>\n",
       "      <td>trgw_2_9_1</td>\n",
       "    </tr>\n",
       "    <tr>\n",
       "      <th>1021</th>\n",
       "      <td>trgw_2_9_1_20170930</td>\n",
       "      <td>34.780</td>\n",
       "      <td>0.000000</td>\n",
       "      <td>trgw_2_9_1</td>\n",
       "    </tr>\n",
       "    <tr>\n",
       "      <th>1022</th>\n",
       "      <td>trgw_2_9_1_20171031</td>\n",
       "      <td>34.771</td>\n",
       "      <td>0.000000</td>\n",
       "      <td>trgw_2_9_1</td>\n",
       "    </tr>\n",
       "    <tr>\n",
       "      <th>1023</th>\n",
       "      <td>trgw_2_9_1_20171130</td>\n",
       "      <td>34.875</td>\n",
       "      <td>0.000000</td>\n",
       "      <td>trgw_2_9_1</td>\n",
       "    </tr>\n",
       "    <tr>\n",
       "      <th>1024</th>\n",
       "      <td>trgw_2_9_1_20171231</td>\n",
       "      <td>34.946</td>\n",
       "      <td>0.000000</td>\n",
       "      <td>trgw_2_9_1</td>\n",
       "    </tr>\n",
       "  </tbody>\n",
       "</table>\n",
       "<p>1025 rows × 4 columns</p>\n",
       "</div>"
      ],
      "text/plain": [
       "                   obsnme    obsval    weight      obgnme\n",
       "0         gage_1_20151231   951.710  0.000000        gage\n",
       "1         gage_1_20160131  1530.100  0.004357        gage\n",
       "2         gage_1_20160229  1855.300  0.003593        gage\n",
       "3         gage_1_20160331  1907.100  0.003496        gage\n",
       "4         gage_1_20160430  1747.700  0.003815        gage\n",
       "...                   ...       ...       ...         ...\n",
       "1020  trgw_2_9_1_20170831    34.864  0.000000  trgw_2_9_1\n",
       "1021  trgw_2_9_1_20170930    34.780  0.000000  trgw_2_9_1\n",
       "1022  trgw_2_9_1_20171031    34.771  0.000000  trgw_2_9_1\n",
       "1023  trgw_2_9_1_20171130    34.875  0.000000  trgw_2_9_1\n",
       "1024  trgw_2_9_1_20171231    34.946  0.000000  trgw_2_9_1\n",
       "\n",
       "[1025 rows x 4 columns]"
      ]
     },
     "execution_count": 20,
     "metadata": {},
     "output_type": "execute_result"
    }
   ],
   "source": [
    "obs_data_example = pd.read_csv('../Freyberg_example/freyberg6_run_glm.obs_data.csv') \n",
    "obs_data_example"
   ]
  },
  {
   "cell_type": "markdown",
   "id": "f99947b6-a622-4b95-b46a-7eb9e35131ee",
   "metadata": {},
   "source": [
    "The following details need to be defined:\n",
    "\n",
    "Note: Here we need to add the values from the excel that we read previously.\n",
    "\n",
    "- OBSNME: stemp_{depth}_{1-365} & smois_{depth}_{1-365}: Observation names - We have temperature and moisture values at 7 depths. \n",
    "- OBSVAL: The corresponding values need to be added in pandas from the dataframe - data_AWS_syn_2017\n",
    "- WEIGHT (Initial): Assigning equal weights to all variables. 1/5110 = 1.9569 10e-4; 2 {soil_temp, soil_mois} * 7 {7 sensors} * 365 {1-365}  = 5110 \n",
    "- obgnme: 'temp', 'mois'\n"
   ]
  },
  {
   "cell_type": "code",
   "execution_count": 21,
   "id": "7d3941fe-a98d-4e02-b5e8-64c22031cc5d",
   "metadata": {},
   "outputs": [
    {
     "data": {
      "text/plain": [
       "5110"
      ]
     },
     "execution_count": 21,
     "metadata": {},
     "output_type": "execute_result"
    }
   ],
   "source": [
    "len(np.arange(0,5110,1))"
   ]
  },
  {
   "cell_type": "code",
   "execution_count": 22,
   "id": "52187686-b4fa-41ce-94e2-74cbcfaa13ce",
   "metadata": {},
   "outputs": [
    {
     "ename": "NameError",
     "evalue": "name 'yakou_data' is not defined",
     "output_type": "error",
     "traceback": [
      "\u001b[0;31m---------------------------------------------------------------------------\u001b[0m",
      "\u001b[0;31mNameError\u001b[0m                                 Traceback (most recent call last)",
      "\u001b[0;32m<ipython-input-22-63d379ef6f81>\u001b[0m in \u001b[0;36m<module>\u001b[0;34m\u001b[0m\n\u001b[0;32m----> 1\u001b[0;31m \u001b[0mdata_AWS_syn_2017\u001b[0m \u001b[0;34m=\u001b[0m \u001b[0myakou_data\u001b[0m\u001b[0;34m.\u001b[0m\u001b[0mcopy\u001b[0m\u001b[0;34m(\u001b[0m\u001b[0;34m)\u001b[0m\u001b[0;34m\u001b[0m\u001b[0;34m\u001b[0m\u001b[0m\n\u001b[0m",
      "\u001b[0;31mNameError\u001b[0m: name 'yakou_data' is not defined"
     ]
    }
   ],
   "source": [
    "data_AWS_syn_2017 = yakou_data.copy()"
   ]
  },
  {
   "cell_type": "code",
   "execution_count": 68,
   "id": "ccf86c10-c7bf-4465-a395-842982ac9c7e",
   "metadata": {},
   "outputs": [
    {
     "data": {
      "text/plain": [
       "8.3525"
      ]
     },
     "execution_count": 68,
     "metadata": {},
     "output_type": "execute_result"
    }
   ],
   "source": [
    "depth = 0.1\n",
    "times = 1\n",
    "data_AWS_syn_2017[f'Soil moisture at - 0.1 m (%)'][times - 1]"
   ]
  },
  {
   "cell_type": "code",
   "execution_count": 76,
   "id": "6114d845-49c3-4c9d-aa84-26014fabf886",
   "metadata": {},
   "outputs": [],
   "source": [
    "# Adding Soil temperature data in K\n",
    "\n",
    "depths = [0.04, 0.1, 0.2, 0.4, 0.8, 1.2, 1.6]\n",
    "\n",
    "for i, depth in enumerate(depths):\n",
    "    data_AWS_syn_2017[f'Soil temperature at - {depth} m (K)'] = data_AWS_syn_2017[f'Soil temperature at - {depth} m (°C)'] + 273.15"
   ]
  },
  {
   "cell_type": "code",
   "execution_count": 79,
   "id": "7feaf6bb-e235-48d4-b8db-746742ccd337",
   "metadata": {
    "tags": []
   },
   "outputs": [
    {
     "data": {
      "text/html": [
       "<div>\n",
       "<style scoped>\n",
       "    .dataframe tbody tr th:only-of-type {\n",
       "        vertical-align: middle;\n",
       "    }\n",
       "\n",
       "    .dataframe tbody tr th {\n",
       "        vertical-align: top;\n",
       "    }\n",
       "\n",
       "    .dataframe thead th {\n",
       "        text-align: right;\n",
       "    }\n",
       "</style>\n",
       "<table border=\"1\" class=\"dataframe\">\n",
       "  <thead>\n",
       "    <tr style=\"text-align: right;\">\n",
       "      <th></th>\n",
       "      <th>obsnme</th>\n",
       "      <th>obsval</th>\n",
       "      <th>weight</th>\n",
       "      <th>obgnme</th>\n",
       "    </tr>\n",
       "  </thead>\n",
       "  <tbody>\n",
       "    <tr>\n",
       "      <th>1</th>\n",
       "      <td>stemp_0.04_0</td>\n",
       "      <td>261.023264</td>\n",
       "      <td>0.000196</td>\n",
       "      <td>temp</td>\n",
       "    </tr>\n",
       "    <tr>\n",
       "      <th>2</th>\n",
       "      <td>stemp_0.04_1</td>\n",
       "      <td>261.006667</td>\n",
       "      <td>0.000196</td>\n",
       "      <td>temp</td>\n",
       "    </tr>\n",
       "    <tr>\n",
       "      <th>3</th>\n",
       "      <td>stemp_0.04_2</td>\n",
       "      <td>260.854861</td>\n",
       "      <td>0.000196</td>\n",
       "      <td>temp</td>\n",
       "    </tr>\n",
       "    <tr>\n",
       "      <th>4</th>\n",
       "      <td>stemp_0.04_3</td>\n",
       "      <td>261.032708</td>\n",
       "      <td>0.000196</td>\n",
       "      <td>temp</td>\n",
       "    </tr>\n",
       "    <tr>\n",
       "      <th>5</th>\n",
       "      <td>stemp_0.04_4</td>\n",
       "      <td>261.347014</td>\n",
       "      <td>0.000196</td>\n",
       "      <td>temp</td>\n",
       "    </tr>\n",
       "    <tr>\n",
       "      <th>...</th>\n",
       "      <td>...</td>\n",
       "      <td>...</td>\n",
       "      <td>...</td>\n",
       "      <td>...</td>\n",
       "    </tr>\n",
       "    <tr>\n",
       "      <th>5106</th>\n",
       "      <td>smois_1.6_360</td>\n",
       "      <td>5.058347</td>\n",
       "      <td>0.000196</td>\n",
       "      <td>mois</td>\n",
       "    </tr>\n",
       "    <tr>\n",
       "      <th>5107</th>\n",
       "      <td>smois_1.6_361</td>\n",
       "      <td>5.028583</td>\n",
       "      <td>0.000196</td>\n",
       "      <td>mois</td>\n",
       "    </tr>\n",
       "    <tr>\n",
       "      <th>5108</th>\n",
       "      <td>smois_1.6_362</td>\n",
       "      <td>5.004326</td>\n",
       "      <td>0.000196</td>\n",
       "      <td>mois</td>\n",
       "    </tr>\n",
       "    <tr>\n",
       "      <th>5109</th>\n",
       "      <td>smois_1.6_363</td>\n",
       "      <td>4.981813</td>\n",
       "      <td>0.000196</td>\n",
       "      <td>mois</td>\n",
       "    </tr>\n",
       "    <tr>\n",
       "      <th>5110</th>\n",
       "      <td>smois_1.6_364</td>\n",
       "      <td>4.959549</td>\n",
       "      <td>0.000196</td>\n",
       "      <td>mois</td>\n",
       "    </tr>\n",
       "  </tbody>\n",
       "</table>\n",
       "<p>5110 rows × 4 columns</p>\n",
       "</div>"
      ],
      "text/plain": [
       "             obsnme      obsval    weight obgnme\n",
       "1      stemp_0.04_0  261.023264  0.000196   temp\n",
       "2      stemp_0.04_1  261.006667  0.000196   temp\n",
       "3      stemp_0.04_2  260.854861  0.000196   temp\n",
       "4      stemp_0.04_3  261.032708  0.000196   temp\n",
       "5      stemp_0.04_4  261.347014  0.000196   temp\n",
       "...             ...         ...       ...    ...\n",
       "5106  smois_1.6_360    5.058347  0.000196   mois\n",
       "5107  smois_1.6_361    5.028583  0.000196   mois\n",
       "5108  smois_1.6_362    5.004326  0.000196   mois\n",
       "5109  smois_1.6_363    4.981813  0.000196   mois\n",
       "5110  smois_1.6_364    4.959549  0.000196   mois\n",
       "\n",
       "[5110 rows x 4 columns]"
      ]
     },
     "execution_count": 79,
     "metadata": {},
     "output_type": "execute_result"
    }
   ],
   "source": [
    "# Creating a new dataframes with columns = obs_data_example.index and rows = 0 - 5110\n",
    "# There are 365 values for one sensor in each year, hence we move from 0 - 364 & then it repeats again for the next sensor.\n",
    "\n",
    "obs_data = pd.DataFrame(data=None,columns=obs_data_example.columns,index=np.arange(1,5111,1))\n",
    "\n",
    "\n",
    "depths = [0.04, 0.1, 0.2, 0.4, 0.8, 1.2, 1.6]\n",
    "\n",
    "times = np.arange(1, 366, 1)\n",
    "\n",
    "# Adding column information:\n",
    "\n",
    "\n",
    "x = 0\n",
    "for i, depth in enumerate(depths):\n",
    "    for j, time in enumerate(times):\n",
    "        # Column name = obsnme\n",
    "        obs_data.iloc[x,0] = f'stemp_{depth}_{j}'\n",
    "        # Column name = obsval\n",
    "        obs_data.iloc[x,1] = data_AWS_syn_2017[f'Soil temperature at - {depth} m (K)'][j]\n",
    "        # Column name = weights : Assigning equal weight to all variables\n",
    "        obs_data.iloc[x,2] = 1/5110\n",
    "        # Column name = obgnme : Assigning observation group name\n",
    "        obs_data.iloc[x,3] = 'temp'\n",
    "        x = x + 1\n",
    "\n",
    "for i, depth in enumerate(depths):\n",
    "    for j, time in enumerate(times):\n",
    "        obs_data.iloc[x,0] = f'smois_{depth}_{j}'\n",
    "        # Column name = obsval\n",
    "        obs_data.iloc[x,1] = data_AWS_syn_2017[f'Soil moisture at - {depth} m (%)'][j]\n",
    "        # Column name = weights : Assigning equal weight to all variables\n",
    "        obs_data.iloc[x,2] = 1/5110\n",
    "        # Column name = obgnme : Assigning observation group name\n",
    "        obs_data.iloc[x,3] = 'mois'\n",
    "        x = x + 1\n",
    "\n",
    "        \n",
    "obs_data"
   ]
  },
  {
   "cell_type": "code",
   "execution_count": 80,
   "id": "a17e0ec9-e81f-4521-acf8-570795e9d352",
   "metadata": {},
   "outputs": [
    {
     "data": {
      "text/plain": [
       "obsnme    stemp_0.2_270\n",
       "obsval       274.658646\n",
       "weight         0.000196\n",
       "obgnme             temp\n",
       "Name: 1001, dtype: object"
      ]
     },
     "execution_count": 80,
     "metadata": {},
     "output_type": "execute_result"
    }
   ],
   "source": [
    "# Test - observation data in PEST \n",
    "obs_data.iloc[1000]"
   ]
  },
  {
   "cell_type": "code",
   "execution_count": 81,
   "id": "d658971b-7f30-4f1a-a9f0-d6c72855e8b4",
   "metadata": {},
   "outputs": [
    {
     "data": {
      "text/plain": [
       "274.6586458333333"
      ]
     },
     "execution_count": 81,
     "metadata": {},
     "output_type": "execute_result"
    }
   ],
   "source": [
    "# Test - actual observation data\n",
    "data_AWS_syn_2017[f'Soil temperature at - 0.2 m (K)'][270]"
   ]
  },
  {
   "cell_type": "code",
   "execution_count": 82,
   "id": "d2a4c41c-c819-4d60-b19d-60c06d610887",
   "metadata": {},
   "outputs": [],
   "source": [
    "# Exporting the parameter group csv file\n",
    "obs_data.to_csv(f'{file_name}_obs_data.csv', index=False)"
   ]
  },
  {
   "cell_type": "markdown",
   "id": "c9b509e0-99ce-4532-aec6-bce747048f03",
   "metadata": {},
   "source": [
    "### Template files"
   ]
  },
  {
   "cell_type": "markdown",
   "id": "8d71f7b0-4dad-48f0-bd7c-261362f1f1fd",
   "metadata": {},
   "source": [
    "- It could be created by manually editing the files."
   ]
  },
  {
   "cell_type": "code",
   "execution_count": 24,
   "id": "e22afc72-c892-4d5a-b1a6-9763c9b7baa4",
   "metadata": {},
   "outputs": [
    {
     "data": {
      "text/html": [
       "<div>\n",
       "<style scoped>\n",
       "    .dataframe tbody tr th:only-of-type {\n",
       "        vertical-align: middle;\n",
       "    }\n",
       "\n",
       "    .dataframe tbody tr th {\n",
       "        vertical-align: top;\n",
       "    }\n",
       "\n",
       "    .dataframe thead th {\n",
       "        text-align: right;\n",
       "    }\n",
       "</style>\n",
       "<table border=\"1\" class=\"dataframe\">\n",
       "  <thead>\n",
       "    <tr style=\"text-align: right;\">\n",
       "      <th></th>\n",
       "      <th>pest_file</th>\n",
       "      <th>model_file</th>\n",
       "    </tr>\n",
       "  </thead>\n",
       "  <tbody>\n",
       "    <tr>\n",
       "      <th>0</th>\n",
       "      <td>Case5_I_E_glm2.xml.tpl</td>\n",
       "      <td>Case5_I_E_glm2.xml</td>\n",
       "    </tr>\n",
       "  </tbody>\n",
       "</table>\n",
       "</div>"
      ],
      "text/plain": [
       "                pest_file          model_file\n",
       "0  Case5_I_E_glm2.xml.tpl  Case5_I_E_glm2.xml"
      ]
     },
     "execution_count": 24,
     "metadata": {},
     "output_type": "execute_result"
    }
   ],
   "source": [
    "temp_filenames = pd.read_csv('Case5_I_E_glm2.tplfile.csv') \n",
    "temp_filenames"
   ]
  },
  {
   "cell_type": "code",
   "execution_count": 25,
   "id": "04012d81-d40e-4040-a122-0e6ec0ee783c",
   "metadata": {},
   "outputs": [
    {
     "data": {
      "text/html": [
       "<div>\n",
       "<style scoped>\n",
       "    .dataframe tbody tr th:only-of-type {\n",
       "        vertical-align: middle;\n",
       "    }\n",
       "\n",
       "    .dataframe tbody tr th {\n",
       "        vertical-align: top;\n",
       "    }\n",
       "\n",
       "    .dataframe thead th {\n",
       "        text-align: right;\n",
       "    }\n",
       "</style>\n",
       "<table border=\"1\" class=\"dataframe\">\n",
       "  <thead>\n",
       "    <tr style=\"text-align: right;\">\n",
       "      <th></th>\n",
       "      <th>pest_file</th>\n",
       "      <th>model_file</th>\n",
       "    </tr>\n",
       "  </thead>\n",
       "  <tbody>\n",
       "    <tr>\n",
       "      <th>0</th>\n",
       "      <td>Case5_II_A_glm.xml.tpl</td>\n",
       "      <td>Case5_II_A_glm.xml</td>\n",
       "    </tr>\n",
       "  </tbody>\n",
       "</table>\n",
       "</div>"
      ],
      "text/plain": [
       "                pest_file          model_file\n",
       "0  Case5_II_A_glm.xml.tpl  Case5_II_A_glm.xml"
      ]
     },
     "execution_count": 25,
     "metadata": {},
     "output_type": "execute_result"
    }
   ],
   "source": [
    "temp_filenames.iloc[0,0] = f'{file_name}.xml.tpl'\n",
    "temp_filenames.iloc[0,1] = f'{file_name}.xml'\n",
    "temp_filenames"
   ]
  },
  {
   "cell_type": "code",
   "execution_count": 26,
   "id": "7cd91dc6-c276-4b9f-b0a1-e8bfa11bd3a0",
   "metadata": {},
   "outputs": [],
   "source": [
    "temp_filenames.to_csv(f'{file_name}.tplfile.csv',index=False)"
   ]
  },
  {
   "cell_type": "markdown",
   "id": "e00a84b4-c919-4f0a-bfde-f0012637a275",
   "metadata": {},
   "source": [
    "### Instruction files\n"
   ]
  },
  {
   "cell_type": "code",
   "execution_count": 27,
   "id": "2435cab5-d59a-4895-bf28-e546651ddbd7",
   "metadata": {},
   "outputs": [
    {
     "data": {
      "text/plain": [
       "'/home/rk/pestpp/pestpp/rk_model_final/Case5_II_A_glm_start.demo'"
      ]
     },
     "execution_count": 27,
     "metadata": {},
     "output_type": "execute_result"
    }
   ],
   "source": [
    "os.getcwd()"
   ]
  },
  {
   "cell_type": "code",
   "execution_count": 57,
   "id": "cde58a71-cb9d-4b97-9b39-d161928655cb",
   "metadata": {},
   "outputs": [
    {
     "data": {
      "text/html": [
       "<div>\n",
       "<style scoped>\n",
       "    .dataframe tbody tr th:only-of-type {\n",
       "        vertical-align: middle;\n",
       "    }\n",
       "\n",
       "    .dataframe tbody tr th {\n",
       "        vertical-align: top;\n",
       "    }\n",
       "\n",
       "    .dataframe thead th {\n",
       "        text-align: right;\n",
       "    }\n",
       "</style>\n",
       "<table border=\"1\" class=\"dataframe\">\n",
       "  <thead>\n",
       "    <tr style=\"text-align: right;\">\n",
       "      <th></th>\n",
       "      <th>time [s]</th>\n",
       "      <th>point -0.04 temperature [K]</th>\n",
       "      <th>point -0.1 temperature [K]</th>\n",
       "      <th>point -0.2 temperature [K]</th>\n",
       "      <th>point -0.4 temperature [K]</th>\n",
       "      <th>point -0.8 temperature [K]</th>\n",
       "      <th>point -1.2 temperature [K]</th>\n",
       "      <th>point -1.6 temperature [K]</th>\n",
       "      <th>point -0.04 saturation liquid</th>\n",
       "      <th>point -0.1 saturation liquid</th>\n",
       "      <th>point -0.2 saturation liquid</th>\n",
       "      <th>point -0.4 saturation liquid</th>\n",
       "      <th>point -0.8 saturation liquid</th>\n",
       "      <th>point -1.2 saturation liquid</th>\n",
       "      <th>point -1.6 saturation liquid</th>\n",
       "    </tr>\n",
       "  </thead>\n",
       "  <tbody>\n",
       "    <tr>\n",
       "      <th>0</th>\n",
       "      <td>NaN</td>\n",
       "      <td>NaN</td>\n",
       "      <td>NaN</td>\n",
       "      <td>NaN</td>\n",
       "      <td>NaN</td>\n",
       "      <td>NaN</td>\n",
       "      <td>NaN</td>\n",
       "      <td>NaN</td>\n",
       "      <td>NaN</td>\n",
       "      <td>NaN</td>\n",
       "      <td>NaN</td>\n",
       "      <td>NaN</td>\n",
       "      <td>NaN</td>\n",
       "      <td>NaN</td>\n",
       "      <td>NaN</td>\n",
       "    </tr>\n",
       "    <tr>\n",
       "      <th>1</th>\n",
       "      <td>NaN</td>\n",
       "      <td>!stemp_0.04_0!</td>\n",
       "      <td>!stemp_0.1_0!</td>\n",
       "      <td>!stemp_0.2_0!</td>\n",
       "      <td>!stemp_0.4_0!</td>\n",
       "      <td>!stemp_0.8_0!</td>\n",
       "      <td>!stemp_1.2_0!</td>\n",
       "      <td>!stemp_1.6_0!</td>\n",
       "      <td>!smois_0.04_0!</td>\n",
       "      <td>!smois_0.1_0!</td>\n",
       "      <td>!smois_0.2_0!</td>\n",
       "      <td>!smois_0.4_0!</td>\n",
       "      <td>!smois_0.8_0!</td>\n",
       "      <td>!smois_1.2_0!</td>\n",
       "      <td>!smois_1.6_0!</td>\n",
       "    </tr>\n",
       "    <tr>\n",
       "      <th>2</th>\n",
       "      <td>NaN</td>\n",
       "      <td>!stemp_0.04_1!</td>\n",
       "      <td>!stemp_0.1_1!</td>\n",
       "      <td>!stemp_0.2_1!</td>\n",
       "      <td>!stemp_0.4_1!</td>\n",
       "      <td>!stemp_0.8_1!</td>\n",
       "      <td>!stemp_1.2_1!</td>\n",
       "      <td>!stemp_1.6_1!</td>\n",
       "      <td>!smois_0.04_1!</td>\n",
       "      <td>!smois_0.1_1!</td>\n",
       "      <td>!smois_0.2_1!</td>\n",
       "      <td>!smois_0.4_1!</td>\n",
       "      <td>!smois_0.8_1!</td>\n",
       "      <td>!smois_1.2_1!</td>\n",
       "      <td>!smois_1.6_1!</td>\n",
       "    </tr>\n",
       "    <tr>\n",
       "      <th>3</th>\n",
       "      <td>NaN</td>\n",
       "      <td>!stemp_0.04_2!</td>\n",
       "      <td>!stemp_0.1_2!</td>\n",
       "      <td>!stemp_0.2_2!</td>\n",
       "      <td>!stemp_0.4_2!</td>\n",
       "      <td>!stemp_0.8_2!</td>\n",
       "      <td>!stemp_1.2_2!</td>\n",
       "      <td>!stemp_1.6_2!</td>\n",
       "      <td>!smois_0.04_2!</td>\n",
       "      <td>!smois_0.1_2!</td>\n",
       "      <td>!smois_0.2_2!</td>\n",
       "      <td>!smois_0.4_2!</td>\n",
       "      <td>!smois_0.8_2!</td>\n",
       "      <td>!smois_1.2_2!</td>\n",
       "      <td>!smois_1.6_2!</td>\n",
       "    </tr>\n",
       "    <tr>\n",
       "      <th>4</th>\n",
       "      <td>NaN</td>\n",
       "      <td>!stemp_0.04_3!</td>\n",
       "      <td>!stemp_0.1_3!</td>\n",
       "      <td>!stemp_0.2_3!</td>\n",
       "      <td>!stemp_0.4_3!</td>\n",
       "      <td>!stemp_0.8_3!</td>\n",
       "      <td>!stemp_1.2_3!</td>\n",
       "      <td>!stemp_1.6_3!</td>\n",
       "      <td>!smois_0.04_3!</td>\n",
       "      <td>!smois_0.1_3!</td>\n",
       "      <td>!smois_0.2_3!</td>\n",
       "      <td>!smois_0.4_3!</td>\n",
       "      <td>!smois_0.8_3!</td>\n",
       "      <td>!smois_1.2_3!</td>\n",
       "      <td>!smois_1.6_3!</td>\n",
       "    </tr>\n",
       "  </tbody>\n",
       "</table>\n",
       "</div>"
      ],
      "text/plain": [
       "  time [s] point -0.04 temperature [K] point -0.1 temperature [K]  \\\n",
       "0      NaN                         NaN                        NaN   \n",
       "1      NaN             !stemp_0.04_0!              !stemp_0.1_0!    \n",
       "2      NaN             !stemp_0.04_1!              !stemp_0.1_1!    \n",
       "3      NaN             !stemp_0.04_2!              !stemp_0.1_2!    \n",
       "4      NaN             !stemp_0.04_3!              !stemp_0.1_3!    \n",
       "\n",
       "  point -0.2 temperature [K] point -0.4 temperature [K]  \\\n",
       "0                        NaN                        NaN   \n",
       "1             !stemp_0.2_0!              !stemp_0.4_0!    \n",
       "2             !stemp_0.2_1!              !stemp_0.4_1!    \n",
       "3             !stemp_0.2_2!              !stemp_0.4_2!    \n",
       "4             !stemp_0.2_3!              !stemp_0.4_3!    \n",
       "\n",
       "  point -0.8 temperature [K] point -1.2 temperature [K]  \\\n",
       "0                        NaN                        NaN   \n",
       "1             !stemp_0.8_0!              !stemp_1.2_0!    \n",
       "2             !stemp_0.8_1!              !stemp_1.2_1!    \n",
       "3             !stemp_0.8_2!              !stemp_1.2_2!    \n",
       "4             !stemp_0.8_3!              !stemp_1.2_3!    \n",
       "\n",
       "  point -1.6 temperature [K] point -0.04 saturation liquid  \\\n",
       "0                        NaN                           NaN   \n",
       "1             !stemp_1.6_0!                !smois_0.04_0!    \n",
       "2             !stemp_1.6_1!                !smois_0.04_1!    \n",
       "3             !stemp_1.6_2!                !smois_0.04_2!    \n",
       "4             !stemp_1.6_3!                !smois_0.04_3!    \n",
       "\n",
       "  point -0.1 saturation liquid point -0.2 saturation liquid  \\\n",
       "0                          NaN                          NaN   \n",
       "1               !smois_0.1_0!                !smois_0.2_0!    \n",
       "2               !smois_0.1_1!                !smois_0.2_1!    \n",
       "3               !smois_0.1_2!                !smois_0.2_2!    \n",
       "4               !smois_0.1_3!                !smois_0.2_3!    \n",
       "\n",
       "  point -0.4 saturation liquid point -0.8 saturation liquid  \\\n",
       "0                          NaN                          NaN   \n",
       "1               !smois_0.4_0!                !smois_0.8_0!    \n",
       "2               !smois_0.4_1!                !smois_0.8_1!    \n",
       "3               !smois_0.4_2!                !smois_0.8_2!    \n",
       "4               !smois_0.4_3!                !smois_0.8_3!    \n",
       "\n",
       "  point -1.2 saturation liquid point -1.6 saturation liquid  \n",
       "0                          NaN                          NaN  \n",
       "1               !smois_1.2_0!                !smois_1.6_0!   \n",
       "2               !smois_1.2_1!                !smois_1.6_1!   \n",
       "3               !smois_1.2_2!                !smois_1.6_2!   \n",
       "4               !smois_1.2_3!                !smois_1.6_3!   "
      ]
     },
     "execution_count": 57,
     "metadata": {},
     "output_type": "execute_result"
    }
   ],
   "source": [
    "# Creating an instruction file suitable for the analysis\n",
    "ins_data = pd.DataFrame(columns=sim_data.columns, index=sim_data.index)\n",
    "\n",
    "# Adding the simulated variables [temperature & Moisture] in the instruction file\n",
    "# Temperature\n",
    "for i, depth in enumerate(depths):\n",
    "    for j, time in enumerate(times):\n",
    "        # Column name = obsnme\n",
    "        # (i + 1) - Signifies the start from the 2nd column\n",
    "        ins_data.iloc[j+1, i+1] = f' !stemp_{depth}_{j}! ' \n",
    "\n",
    "# Moisture\n",
    "for i, depth in enumerate(depths):\n",
    "    for j, time in enumerate(times):\n",
    "        # Column name = obsnme\n",
    "        # (i + 1) - Signifies the start from the 2nd column\n",
    "        ins_data.iloc[j+1, i+8] = f' !smois_{depth}_{j}! ' \n",
    "\n",
    "\n",
    "\n",
    "ins_data.head()"
   ]
  },
  {
   "cell_type": "code",
   "execution_count": 58,
   "id": "5801c1a4-06dd-49e8-b579-aecbd252d142",
   "metadata": {},
   "outputs": [
    {
     "data": {
      "text/plain": [
       "0               NaN\n",
       "1     !smois_1.6_0!\n",
       "2     !smois_1.6_1!\n",
       "3     !smois_1.6_2!\n",
       "4     !smois_1.6_3!\n",
       "Name: point -1.6 saturation liquid, dtype: object"
      ]
     },
     "execution_count": 58,
     "metadata": {},
     "output_type": "execute_result"
    }
   ],
   "source": [
    "# Removing the last character from the last column '~' to mimic the file sfr.csv.in\n",
    "ins_data[\"point -1.6 saturation liquid\"] = ins_data[\"point -1.6 saturation liquid\"].str[:-1]\n",
    "ins_data[\"point -1.6 saturation liquid\"].head()"
   ]
  },
  {
   "cell_type": "code",
   "execution_count": 59,
   "id": "43098ad7-54d9-4724-a57a-63cbb36e8f43",
   "metadata": {},
   "outputs": [
    {
     "data": {
      "text/html": [
       "<div>\n",
       "<style scoped>\n",
       "    .dataframe tbody tr th:only-of-type {\n",
       "        vertical-align: middle;\n",
       "    }\n",
       "\n",
       "    .dataframe tbody tr th {\n",
       "        vertical-align: top;\n",
       "    }\n",
       "\n",
       "    .dataframe thead th {\n",
       "        text-align: right;\n",
       "    }\n",
       "</style>\n",
       "<table border=\"1\" class=\"dataframe\">\n",
       "  <thead>\n",
       "    <tr style=\"text-align: right;\">\n",
       "      <th></th>\n",
       "      <th>time [s]</th>\n",
       "      <th>point -0.04 temperature [K]</th>\n",
       "      <th>point -0.1 temperature [K]</th>\n",
       "      <th>point -0.2 temperature [K]</th>\n",
       "      <th>point -0.4 temperature [K]</th>\n",
       "      <th>point -0.8 temperature [K]</th>\n",
       "      <th>point -1.2 temperature [K]</th>\n",
       "      <th>point -1.6 temperature [K]</th>\n",
       "      <th>point -0.04 saturation liquid</th>\n",
       "      <th>point -0.1 saturation liquid</th>\n",
       "      <th>point -0.2 saturation liquid</th>\n",
       "      <th>point -0.4 saturation liquid</th>\n",
       "      <th>point -0.8 saturation liquid</th>\n",
       "      <th>point -1.2 saturation liquid</th>\n",
       "      <th>point -1.6 saturation liquid</th>\n",
       "    </tr>\n",
       "  </thead>\n",
       "  <tbody>\n",
       "    <tr>\n",
       "      <th>1</th>\n",
       "      <td>!dum!</td>\n",
       "      <td>!stemp_0.04_0!</td>\n",
       "      <td>!stemp_0.1_0!</td>\n",
       "      <td>!stemp_0.2_0!</td>\n",
       "      <td>!stemp_0.4_0!</td>\n",
       "      <td>!stemp_0.8_0!</td>\n",
       "      <td>!stemp_1.2_0!</td>\n",
       "      <td>!stemp_1.6_0!</td>\n",
       "      <td>!smois_0.04_0!</td>\n",
       "      <td>!smois_0.1_0!</td>\n",
       "      <td>!smois_0.2_0!</td>\n",
       "      <td>!smois_0.4_0!</td>\n",
       "      <td>!smois_0.8_0!</td>\n",
       "      <td>!smois_1.2_0!</td>\n",
       "      <td>!smois_1.6_0!</td>\n",
       "    </tr>\n",
       "    <tr>\n",
       "      <th>2</th>\n",
       "      <td>!dum!</td>\n",
       "      <td>!stemp_0.04_1!</td>\n",
       "      <td>!stemp_0.1_1!</td>\n",
       "      <td>!stemp_0.2_1!</td>\n",
       "      <td>!stemp_0.4_1!</td>\n",
       "      <td>!stemp_0.8_1!</td>\n",
       "      <td>!stemp_1.2_1!</td>\n",
       "      <td>!stemp_1.6_1!</td>\n",
       "      <td>!smois_0.04_1!</td>\n",
       "      <td>!smois_0.1_1!</td>\n",
       "      <td>!smois_0.2_1!</td>\n",
       "      <td>!smois_0.4_1!</td>\n",
       "      <td>!smois_0.8_1!</td>\n",
       "      <td>!smois_1.2_1!</td>\n",
       "      <td>!smois_1.6_1!</td>\n",
       "    </tr>\n",
       "    <tr>\n",
       "      <th>3</th>\n",
       "      <td>!dum!</td>\n",
       "      <td>!stemp_0.04_2!</td>\n",
       "      <td>!stemp_0.1_2!</td>\n",
       "      <td>!stemp_0.2_2!</td>\n",
       "      <td>!stemp_0.4_2!</td>\n",
       "      <td>!stemp_0.8_2!</td>\n",
       "      <td>!stemp_1.2_2!</td>\n",
       "      <td>!stemp_1.6_2!</td>\n",
       "      <td>!smois_0.04_2!</td>\n",
       "      <td>!smois_0.1_2!</td>\n",
       "      <td>!smois_0.2_2!</td>\n",
       "      <td>!smois_0.4_2!</td>\n",
       "      <td>!smois_0.8_2!</td>\n",
       "      <td>!smois_1.2_2!</td>\n",
       "      <td>!smois_1.6_2!</td>\n",
       "    </tr>\n",
       "    <tr>\n",
       "      <th>4</th>\n",
       "      <td>!dum!</td>\n",
       "      <td>!stemp_0.04_3!</td>\n",
       "      <td>!stemp_0.1_3!</td>\n",
       "      <td>!stemp_0.2_3!</td>\n",
       "      <td>!stemp_0.4_3!</td>\n",
       "      <td>!stemp_0.8_3!</td>\n",
       "      <td>!stemp_1.2_3!</td>\n",
       "      <td>!stemp_1.6_3!</td>\n",
       "      <td>!smois_0.04_3!</td>\n",
       "      <td>!smois_0.1_3!</td>\n",
       "      <td>!smois_0.2_3!</td>\n",
       "      <td>!smois_0.4_3!</td>\n",
       "      <td>!smois_0.8_3!</td>\n",
       "      <td>!smois_1.2_3!</td>\n",
       "      <td>!smois_1.6_3!</td>\n",
       "    </tr>\n",
       "    <tr>\n",
       "      <th>5</th>\n",
       "      <td>!dum!</td>\n",
       "      <td>!stemp_0.04_4!</td>\n",
       "      <td>!stemp_0.1_4!</td>\n",
       "      <td>!stemp_0.2_4!</td>\n",
       "      <td>!stemp_0.4_4!</td>\n",
       "      <td>!stemp_0.8_4!</td>\n",
       "      <td>!stemp_1.2_4!</td>\n",
       "      <td>!stemp_1.6_4!</td>\n",
       "      <td>!smois_0.04_4!</td>\n",
       "      <td>!smois_0.1_4!</td>\n",
       "      <td>!smois_0.2_4!</td>\n",
       "      <td>!smois_0.4_4!</td>\n",
       "      <td>!smois_0.8_4!</td>\n",
       "      <td>!smois_1.2_4!</td>\n",
       "      <td>!smois_1.6_4!</td>\n",
       "    </tr>\n",
       "  </tbody>\n",
       "</table>\n",
       "</div>"
      ],
      "text/plain": [
       "  time [s] point -0.04 temperature [K] point -0.1 temperature [K]  \\\n",
       "1   !dum!              !stemp_0.04_0!              !stemp_0.1_0!    \n",
       "2   !dum!              !stemp_0.04_1!              !stemp_0.1_1!    \n",
       "3   !dum!              !stemp_0.04_2!              !stemp_0.1_2!    \n",
       "4   !dum!              !stemp_0.04_3!              !stemp_0.1_3!    \n",
       "5   !dum!              !stemp_0.04_4!              !stemp_0.1_4!    \n",
       "\n",
       "  point -0.2 temperature [K] point -0.4 temperature [K]  \\\n",
       "1             !stemp_0.2_0!              !stemp_0.4_0!    \n",
       "2             !stemp_0.2_1!              !stemp_0.4_1!    \n",
       "3             !stemp_0.2_2!              !stemp_0.4_2!    \n",
       "4             !stemp_0.2_3!              !stemp_0.4_3!    \n",
       "5             !stemp_0.2_4!              !stemp_0.4_4!    \n",
       "\n",
       "  point -0.8 temperature [K] point -1.2 temperature [K]  \\\n",
       "1             !stemp_0.8_0!              !stemp_1.2_0!    \n",
       "2             !stemp_0.8_1!              !stemp_1.2_1!    \n",
       "3             !stemp_0.8_2!              !stemp_1.2_2!    \n",
       "4             !stemp_0.8_3!              !stemp_1.2_3!    \n",
       "5             !stemp_0.8_4!              !stemp_1.2_4!    \n",
       "\n",
       "  point -1.6 temperature [K] point -0.04 saturation liquid  \\\n",
       "1             !stemp_1.6_0!                !smois_0.04_0!    \n",
       "2             !stemp_1.6_1!                !smois_0.04_1!    \n",
       "3             !stemp_1.6_2!                !smois_0.04_2!    \n",
       "4             !stemp_1.6_3!                !smois_0.04_3!    \n",
       "5             !stemp_1.6_4!                !smois_0.04_4!    \n",
       "\n",
       "  point -0.1 saturation liquid point -0.2 saturation liquid  \\\n",
       "1               !smois_0.1_0!                !smois_0.2_0!    \n",
       "2               !smois_0.1_1!                !smois_0.2_1!    \n",
       "3               !smois_0.1_2!                !smois_0.2_2!    \n",
       "4               !smois_0.1_3!                !smois_0.2_3!    \n",
       "5               !smois_0.1_4!                !smois_0.2_4!    \n",
       "\n",
       "  point -0.4 saturation liquid point -0.8 saturation liquid  \\\n",
       "1               !smois_0.4_0!                !smois_0.8_0!    \n",
       "2               !smois_0.4_1!                !smois_0.8_1!    \n",
       "3               !smois_0.4_2!                !smois_0.8_2!    \n",
       "4               !smois_0.4_3!                !smois_0.8_3!    \n",
       "5               !smois_0.4_4!                !smois_0.8_4!    \n",
       "\n",
       "  point -1.2 saturation liquid point -1.6 saturation liquid  \n",
       "1               !smois_1.2_0!                 !smois_1.6_0!  \n",
       "2               !smois_1.2_1!                 !smois_1.6_1!  \n",
       "3               !smois_1.2_2!                 !smois_1.6_2!  \n",
       "4               !smois_1.2_3!                 !smois_1.6_3!  \n",
       "5               !smois_1.2_4!                 !smois_1.6_4!  "
      ]
     },
     "execution_count": 59,
     "metadata": {},
     "output_type": "execute_result"
    }
   ],
   "source": [
    "# Replacing the time vaiable with ~dum\n",
    "ins_data['time [s]'] = f' !dum! '\n",
    "\n",
    "# Dropping unnecessary row and column\n",
    "#ins_data.drop(['time [s]'], axis=1, inplace=True)\n",
    "ins_data.drop([0], axis=0, inplace=True)\n",
    "ins_data.head()\n"
   ]
  },
  {
   "cell_type": "code",
   "execution_count": 60,
   "id": "5045571a-4a24-46c9-8bee-66edaa9341c1",
   "metadata": {},
   "outputs": [],
   "source": [
    "#ins_data['l1'] = 'l1 ~'\n",
    "# Adding an extra column to mimic sfr.csv.ins\n",
    "ins_data.insert(0, 'l1', 'l1 ')"
   ]
  },
  {
   "cell_type": "code",
   "execution_count": 62,
   "id": "99eb4ebf-d256-4e3c-9984-3037b38dc144",
   "metadata": {},
   "outputs": [],
   "source": [
    "# Exporting the instruction file\n",
    "ins_data.to_csv(f'{directory_name}/{file_name}_obs_data.dat.ins', header=False, index=False,sep=' ')"
   ]
  },
  {
   "cell_type": "markdown",
   "id": "c1324151-d6a3-4a53-af43-bf25d06870b8",
   "metadata": {},
   "source": [
    "##### Dont forget to add 'pif ~' string manually "
   ]
  },
  {
   "cell_type": "code",
   "execution_count": null,
   "id": "b8d9f98a-3889-4d62-a1e1-25ef003e7b43",
   "metadata": {},
   "outputs": [],
   "source": [
    "\n"
   ]
  },
  {
   "cell_type": "code",
   "execution_count": 29,
   "id": "438738df-ae91-4de2-943e-4b446a8ab23a",
   "metadata": {},
   "outputs": [
    {
     "data": {
      "text/html": [
       "<div>\n",
       "<style scoped>\n",
       "    .dataframe tbody tr th:only-of-type {\n",
       "        vertical-align: middle;\n",
       "    }\n",
       "\n",
       "    .dataframe tbody tr th {\n",
       "        vertical-align: top;\n",
       "    }\n",
       "\n",
       "    .dataframe thead th {\n",
       "        text-align: right;\n",
       "    }\n",
       "</style>\n",
       "<table border=\"1\" class=\"dataframe\">\n",
       "  <thead>\n",
       "    <tr style=\"text-align: right;\">\n",
       "      <th></th>\n",
       "      <th>pest_file</th>\n",
       "      <th>model_file</th>\n",
       "    </tr>\n",
       "  </thead>\n",
       "  <tbody>\n",
       "    <tr>\n",
       "      <th>0</th>\n",
       "      <td>Case5_I_E_glm2_obs_data.dat.ins</td>\n",
       "      <td>Case5_I_E_glm2_obs_data.dat</td>\n",
       "    </tr>\n",
       "  </tbody>\n",
       "</table>\n",
       "</div>"
      ],
      "text/plain": [
       "                         pest_file                   model_file\n",
       "0  Case5_I_E_glm2_obs_data.dat.ins  Case5_I_E_glm2_obs_data.dat"
      ]
     },
     "execution_count": 29,
     "metadata": {},
     "output_type": "execute_result"
    }
   ],
   "source": [
    "#### Changing the name in the ins.csv\n",
    "ins_filenames = pd.read_csv('Case5_I_E_glm2.insfile.csv') \n",
    "ins_filenames"
   ]
  },
  {
   "cell_type": "code",
   "execution_count": null,
   "id": "c4c6b345-ea5b-4959-9812-19b814e5dea0",
   "metadata": {},
   "outputs": [],
   "source": []
  },
  {
   "cell_type": "code",
   "execution_count": 30,
   "id": "15966f10-722a-4a23-ac4f-b4c0b5a6b6a7",
   "metadata": {},
   "outputs": [
    {
     "data": {
      "text/html": [
       "<div>\n",
       "<style scoped>\n",
       "    .dataframe tbody tr th:only-of-type {\n",
       "        vertical-align: middle;\n",
       "    }\n",
       "\n",
       "    .dataframe tbody tr th {\n",
       "        vertical-align: top;\n",
       "    }\n",
       "\n",
       "    .dataframe thead th {\n",
       "        text-align: right;\n",
       "    }\n",
       "</style>\n",
       "<table border=\"1\" class=\"dataframe\">\n",
       "  <thead>\n",
       "    <tr style=\"text-align: right;\">\n",
       "      <th></th>\n",
       "      <th>pest_file</th>\n",
       "      <th>model_file</th>\n",
       "    </tr>\n",
       "  </thead>\n",
       "  <tbody>\n",
       "    <tr>\n",
       "      <th>0</th>\n",
       "      <td>Case5_II_A_glm_obs_data.dat.ins</td>\n",
       "      <td>Case5_II_A_glm_obs_data.dat</td>\n",
       "    </tr>\n",
       "  </tbody>\n",
       "</table>\n",
       "</div>"
      ],
      "text/plain": [
       "                         pest_file                   model_file\n",
       "0  Case5_II_A_glm_obs_data.dat.ins  Case5_II_A_glm_obs_data.dat"
      ]
     },
     "execution_count": 30,
     "metadata": {},
     "output_type": "execute_result"
    }
   ],
   "source": [
    "ins_filenames.iloc[0,0] = f'{file_name}_obs_data.dat.ins'\n",
    "ins_filenames.iloc[0,1] = f'{file_name}_obs_data.dat'\n",
    "ins_filenames"
   ]
  },
  {
   "cell_type": "code",
   "execution_count": 31,
   "id": "8d66c9d7-7660-4ba7-87aa-7d58c97a2933",
   "metadata": {},
   "outputs": [],
   "source": [
    "ins_filenames.to_csv(f'{file_name}.insfile.csv',index=False)"
   ]
  },
  {
   "cell_type": "markdown",
   "id": "07237394-3689-46b2-a227-201930eb6efd",
   "metadata": {},
   "source": [
    "### Running pest in python:\n",
    "1. Checks to be done\n",
    "\n",
    "    a. TEMPCHEK - To check the template file\n",
    "    \n",
    "    b. INSCHEK - To check the instruction file\n",
    "    \n",
    "    c. Converting the file to version 1\n",
    "    \n",
    "    d. PESTCHEK - To check the pest control file\n",
    "    \n",
    "2. Running PEST (Not PEST++) with NOPTMAX = -1 (Wait until the results are displayed)\n",
    "    \n",
    "3. Running PWTADJ1 - pwtadj1 case1_v1.pst case2_v1_new.pst contribution\n",
    "\n",
    "4. Running PEST++ for the redistributed weights\n"
   ]
  },
  {
   "cell_type": "code",
   "execution_count": 32,
   "id": "fbbd9e30-c168-4228-9162-228c0d0bc72a",
   "metadata": {},
   "outputs": [
    {
     "data": {
      "text/plain": [
       "'Case5_II_A_glm_start.demo'"
      ]
     },
     "execution_count": 32,
     "metadata": {},
     "output_type": "execute_result"
    }
   ],
   "source": [
    "directory_name"
   ]
  },
  {
   "cell_type": "code",
   "execution_count": 33,
   "id": "c5eb9d39-1ad9-4ef8-8bd1-eff5bcbf0a4a",
   "metadata": {},
   "outputs": [
    {
     "data": {
      "text/plain": [
       "'/home/rk/pestpp/pestpp/rk_model_final/Case5_II_A_glm_start.demo'"
      ]
     },
     "execution_count": 33,
     "metadata": {},
     "output_type": "execute_result"
    }
   ],
   "source": [
    "os.getcwd()"
   ]
  },
  {
   "cell_type": "code",
   "execution_count": 34,
   "id": "07d808c6-3430-4710-89bd-9b97a986f7bf",
   "metadata": {},
   "outputs": [],
   "source": [
    "# Change directory to required directory with simulation input files\n",
    "#os.chdir(f'{directory_name}')"
   ]
  },
  {
   "cell_type": "markdown",
   "id": "f9857e94-aaec-44cf-bfed-58116a9b022d",
   "metadata": {},
   "source": [
    "### Checking the input data:"
   ]
  },
  {
   "cell_type": "code",
   "execution_count": 35,
   "id": "2fc41b49-8b41-442e-8d11-8ac2ee1b5f20",
   "metadata": {},
   "outputs": [
    {
     "data": {
      "text/plain": [
       "'/home/rk/pestpp/pestpp/rk_model_final/Case5_II_A_glm_start.demo'"
      ]
     },
     "execution_count": 35,
     "metadata": {},
     "output_type": "execute_result"
    }
   ],
   "source": [
    "os.getcwd()"
   ]
  },
  {
   "cell_type": "code",
   "execution_count": 93,
   "id": "7d055025-42a3-4bd5-82a3-4462bbcca379",
   "metadata": {},
   "outputs": [],
   "source": [
    "#os.chdir('..')"
   ]
  },
  {
   "cell_type": "code",
   "execution_count": 37,
   "id": "20de9e72-f91b-492d-83fb-b2a6ccf68e7e",
   "metadata": {},
   "outputs": [
    {
     "data": {
      "text/plain": [
       "'/home/rk/pestpp/pestpp/rk_model_final/Case5_II_A_glm_start.demo'"
      ]
     },
     "execution_count": 37,
     "metadata": {},
     "output_type": "execute_result"
    }
   ],
   "source": [
    "os.getcwd()"
   ]
  },
  {
   "cell_type": "code",
   "execution_count": 39,
   "id": "c41fe770-4fe2-4b1f-b6b1-d2dfb9ede0ce",
   "metadata": {},
   "outputs": [
    {
     "name": "stdout",
     "output_type": "stream",
     "text": [
      "['Incoming longwave radiation (W', 'Incoming shortwave radiation (W', 'Relative humidity at 5 m (%)', 'Soil temperature at - 0.00 m (K)', 'Wind speed at 10 m (m', 'air temperature [K]', 'precipitation rain [m s^-1]', 'precipitation rain [mols m^-2 s^-1]', 'precipitation snow [m SWE s^-1]', 'time [s]']\n"
     ]
    }
   ],
   "source": [
    "with h5py.File(f'../data_input/Yakou_data_subtemp0cm_2017.h5','r') as hdf:\n",
    "    ls = list(hdf.keys())\n",
    "    print(ls)\n",
    "    air_temp_smoothened = np.array(hdf.get('air temperature [K]'))\n",
    "    incoming_SW = np.array(hdf.get('Incoming shortwave radiation (W/m^2)'))\n",
    "    rel_humid = np.array(hdf.get('Relative humidity at 5 m (%)'))\n",
    "    wind_speed_10m = np.array(hdf.get('Wind speed at 10 m (m/s)'))\n",
    "    prep = np.array(hdf.get('precipitation rain [m s^-1]'))\n",
    "    snow = np.array(hdf.get('precipitation snow [m SWE s^-1]_0.2'))\n",
    "    time = np.array(hdf.get('time [s]'))\n",
    "    soil_temp = np.array(hdf.get('Soil temperature at - 0.00 m (K)'))\n",
    "    #print(air_temp_smoothened)\n",
    "    #z = np.arange(0,365)\n",
    "    #data_input_rk = pd.DataFrame()\n",
    "    \n",
    "    #print(data_input)\n",
    "    #for i in ls:\n",
    "        #print(i)\n",
    "        #data_input_rk[f'{i}'] = np.array(hdf.get(f'{i}'))\n",
    "        \n",
    "#data_input['time [days]'] = data_input['time [s]']/86400        \n",
    "#data_input.index = data_input['time [days]']\n",
    "\n",
    "#data_input['Air temperature [°C]'] = data_input['air temperature [K]'] - 273.15\n",
    "#data_input_rk.head()"
   ]
  },
  {
   "cell_type": "code",
   "execution_count": 40,
   "id": "5b15575a-f239-4e84-beef-f2cf694b5c5a",
   "metadata": {},
   "outputs": [
    {
     "data": {
      "image/png": "[encoded data removed]",
      "text/plain": [
       "<Figure size 1008x720 with 6 Axes>"
      ]
     },
     "metadata": {
      "needs_background": "light"
     },
     "output_type": "display_data"
    }
   ],
   "source": [
    "fig2 = plt.figure(figsize=(14,10), constrained_layout=True)\n",
    "spec2 = gridspec.GridSpec(ncols=1, nrows=6, figure=fig2)\n",
    "f2_ax1 = fig2.add_subplot(spec2[0, 0])\n",
    "f2_ax2 = fig2.add_subplot(spec2[1, 0])\n",
    "f2_ax3 = fig2.add_subplot(spec2[2, 0])\n",
    "f2_ax4 = fig2.add_subplot(spec2[3, 0])\n",
    "f2_ax5 = fig2.add_subplot(spec2[4, 0])\n",
    "f2_ax6 = fig2.add_subplot(spec2[5, 0])\n",
    "\n",
    "f2_ax1.set_title('Air temperature [K]')\n",
    "f2_ax1.plot(air_temp_smoothened,'k', label='Air temperature [K]')\n",
    "f2_ax1.set_ylabel('°C')\n",
    "#f2_ax1.set_xlabel('Date')\n",
    "#f2_ax1.legend()\n",
    "f2_ax1.grid(True)\n",
    "\n",
    "f2_ax2.set_title('incoming shortwave radiation [W m^-2]')\n",
    "f2_ax2.plot(incoming_SW,'r', label='incoming shortwave radiation [W m^-2]')\n",
    "f2_ax2.set_ylabel('[W m^-2]')\n",
    "#f2_ax2.set_xlabel('Date')\n",
    "#f2_ax2.legend()\n",
    "f2_ax2.grid(True)\n",
    "\n",
    "f2_ax3.set_title('precipitation rain [m s^-1]')\n",
    "f2_ax3.plot(prep,'b', label='precipitation rain [m s^-1]')\n",
    "f2_ax3.set_ylabel('[m s^-1]')\n",
    "#f2_ax2.set_xlabel('Date')\n",
    "#f2_ax2.legend()\n",
    "f2_ax3.grid(True)\n",
    "\n",
    "f2_ax4.set_title('precipitation snow [m SWE s^-1]')\n",
    "f2_ax4.plot(snow,'b', label='precipitation snow [m SWE s^-1]')\n",
    "f2_ax4.set_ylabel('[m SWE s^-1]')\n",
    "#f2_ax2.set_xlabel('Date')\n",
    "#f2_ax2.legend()\n",
    "f2_ax4.grid(True)\n",
    "\n",
    "f2_ax5.set_title('relative humidity [-]')\n",
    "f2_ax5.plot(rel_humid,'g', label='relative humidity [-]')\n",
    "f2_ax5.set_ylabel('[-]')\n",
    "#f2_ax2.set_xlabel('Date')\n",
    "#f2_ax2.legend()\n",
    "f2_ax5.grid(True)\n",
    "\n",
    "f2_ax6.set_title('wind speed [m s^-1]')\n",
    "f2_ax6.plot(wind_speed_10m,'y', label='wind speed [m s^-1]')\n",
    "f2_ax6.set_ylabel('[m s^-1]')\n",
    "#f2_ax2.set_xlabel('Date')\n",
    "#f2_ax2.legend()\n",
    "f2_ax6.grid(True)"
   ]
  },
  {
   "cell_type": "markdown",
   "id": "251d7143-fa6c-410c-ab28-c55783be1ebe",
   "metadata": {},
   "source": [
    "1. Checks to be done:\n",
    "\n",
    "a. Check ats input file - .xml file\n",
    "    \n",
    "b. TEMPCHEK - To check the template file\n",
    "    \n",
    "c. INSCHEK - To check the instruction file\n",
    "    \n",
    "d. Converting the file to version 1\n",
    "    \n",
    "e. PESTCHEK - To check the pest control file"
   ]
  },
  {
   "cell_type": "code",
   "execution_count": 41,
   "id": "b40e9b90-f045-403e-ae88-900cf0f5b234",
   "metadata": {},
   "outputs": [
    {
     "data": {
      "text/plain": [
       "b'total 780\\n-rw-rw-r-- 1 rk rk     81 Dez  2 14:36 Case5_I_E_glm2.insfile.csv\\n-rw-rw-r-- 1 rk rk  92072 Dez  2 14:36 Case5_I_E_glm2_test.xml\\n-rw-rw-r-- 1 rk rk     63 Dez  2 14:36 Case5_I_E_glm2.tplfile.csv\\n-rw-rw-r-- 1 rk rk  92128 Dez  2 14:36 Case5_I_E_glm2.xml\\n-rw-rw-r-- 1 rk rk  92063 Dez  2 14:36 Case5_I_E_glm2.xml.tpl\\n-rw-rw-r-- 1 rk rk    447 Dez  2 14:36 Case5_II_A_glm_cf.pst\\n-rw-rw-r-- 1 rk rk     81 Dez  2 14:51 Case5_II_A_glm.insfile.csv\\n-rw-rw-r-- 1 rk rk 303614 Dez  2 14:36 Case5_II_A_glm_obs_data.csv\\n-rw-rw-r-- 1 rk rk  85337 Dez  2 14:36 Case5_II_A_glm_obs_data.dat.ins\\n-rw-rw-r-- 1 rk rk   1968 Dez  2 14:39 Case5_II_A_glm_par_data.csv\\n-rw-rw-r-- 1 rk rk   1277 Dez  2 14:38 Case5_II_A_glm_pargrp_data.csv\\n-rw-rw-r-- 1 rk rk     63 Dez  2 14:40 Case5_II_A_glm.tplfile.csv\\n-rw-rw-r-- 1 rk rk  91786 Dez  2 14:34 Case5_II_A_glm.xml\\n'"
      ]
     },
     "execution_count": 41,
     "metadata": {},
     "output_type": "execute_result"
    }
   ],
   "source": [
    "# Testing subprocess\n",
    "subprocess.check_output(['ls', '-l'])"
   ]
  },
  {
   "cell_type": "code",
   "execution_count": 42,
   "id": "615cccae-a65d-4c74-b5fb-2e9c841bde4b",
   "metadata": {},
   "outputs": [
    {
     "data": {
      "text/plain": [
       "''"
      ]
     },
     "execution_count": 42,
     "metadata": {},
     "output_type": "execute_result"
    }
   ],
   "source": [
    "### Running ats within a temp folder\n",
    "\n",
    "subprocess.run(['mkdir','test_ats.demo'], capture_output=True, text=True).stdout"
   ]
  },
  {
   "cell_type": "code",
   "execution_count": 43,
   "id": "4408528a-eaa4-4264-b477-b00c034bd2ce",
   "metadata": {},
   "outputs": [],
   "source": [
    "os.chdir('test_ats.demo')"
   ]
  },
  {
   "cell_type": "code",
   "execution_count": 44,
   "id": "006a86bb-9037-4e41-a3d9-fbf40d7d186f",
   "metadata": {},
   "outputs": [
    {
     "data": {
      "text/plain": [
       "'Case5_II_A_glm'"
      ]
     },
     "execution_count": 44,
     "metadata": {},
     "output_type": "execute_result"
    }
   ],
   "source": [
    "file_name"
   ]
  },
  {
   "cell_type": "markdown",
   "id": "1e05772a-9137-400e-a46e-46375fb05a34",
   "metadata": {},
   "source": [
    "#### Create a test xml file and change the data_input from ../data_input --> ../../data_input"
   ]
  },
  {
   "cell_type": "code",
   "execution_count": 45,
   "id": "4b7eceea-f4aa-43a6-b901-ddd84f9a581e",
   "metadata": {},
   "outputs": [
    {
     "data": {
      "text/plain": [
       "0"
      ]
     },
     "execution_count": 45,
     "metadata": {},
     "output_type": "execute_result"
    }
   ],
   "source": [
    "os.system(f'ats --xml_file=../{file_name}_test.xml')\n",
    "# Run it in the terminal - easier to debug if there are errors"
   ]
  },
  {
   "cell_type": "code",
   "execution_count": 46,
   "id": "c0552d75-8d7c-4f80-b008-1362f7914a81",
   "metadata": {},
   "outputs": [
    {
     "data": {
      "text/plain": [
       "'/home/rk/pestpp/pestpp/rk_model_final/Case5_II_A_glm_start.demo/test_ats.demo'"
      ]
     },
     "execution_count": 46,
     "metadata": {},
     "output_type": "execute_result"
    }
   ],
   "source": [
    "os.getcwd()"
   ]
  },
  {
   "cell_type": "code",
   "execution_count": 47,
   "id": "6547deea-e680-44f2-b718-35d2081248d4",
   "metadata": {},
   "outputs": [
    {
     "data": {
      "text/plain": [
       "RangeIndex(start=0, stop=366, step=1)"
      ]
     },
     "execution_count": 47,
     "metadata": {},
     "output_type": "execute_result"
    }
   ],
   "source": [
    "### Checking the outputs\n",
    "sim_data = pd.read_csv('observation.dat',skiprows=88,sep=' ')\n",
    "sim_data.index"
   ]
  },
  {
   "cell_type": "code",
   "execution_count": 48,
   "id": "0b7985a7-96d2-4970-9c8b-57a6413f21e6",
   "metadata": {},
   "outputs": [
    {
     "data": {
      "text/html": [
       "<div>\n",
       "<style scoped>\n",
       "    .dataframe tbody tr th:only-of-type {\n",
       "        vertical-align: middle;\n",
       "    }\n",
       "\n",
       "    .dataframe tbody tr th {\n",
       "        vertical-align: top;\n",
       "    }\n",
       "\n",
       "    .dataframe thead th {\n",
       "        text-align: right;\n",
       "    }\n",
       "</style>\n",
       "<table border=\"1\" class=\"dataframe\">\n",
       "  <thead>\n",
       "    <tr style=\"text-align: right;\">\n",
       "      <th></th>\n",
       "      <th>time [s]</th>\n",
       "      <th>point -0.04 temperature [K]</th>\n",
       "      <th>point -0.1 temperature [K]</th>\n",
       "      <th>point -0.2 temperature [K]</th>\n",
       "      <th>point -0.4 temperature [K]</th>\n",
       "      <th>point -0.8 temperature [K]</th>\n",
       "      <th>point -1.2 temperature [K]</th>\n",
       "      <th>point -1.6 temperature [K]</th>\n",
       "      <th>point -0.04 saturation liquid</th>\n",
       "      <th>point -0.1 saturation liquid</th>\n",
       "      <th>point -0.2 saturation liquid</th>\n",
       "      <th>point -0.4 saturation liquid</th>\n",
       "      <th>point -0.8 saturation liquid</th>\n",
       "      <th>point -1.2 saturation liquid</th>\n",
       "      <th>point -1.6 saturation liquid</th>\n",
       "    </tr>\n",
       "  </thead>\n",
       "  <tbody>\n",
       "    <tr>\n",
       "      <th>0</th>\n",
       "      <td>0.0</td>\n",
       "      <td>270.150000</td>\n",
       "      <td>270.150000</td>\n",
       "      <td>270.150000</td>\n",
       "      <td>270.150000</td>\n",
       "      <td>270.150000</td>\n",
       "      <td>270.150000</td>\n",
       "      <td>270.150000</td>\n",
       "      <td>0.224330</td>\n",
       "      <td>0.224330</td>\n",
       "      <td>0.224330</td>\n",
       "      <td>0.159523</td>\n",
       "      <td>0.159523</td>\n",
       "      <td>0.159523</td>\n",
       "      <td>0.159523</td>\n",
       "    </tr>\n",
       "    <tr>\n",
       "      <th>1</th>\n",
       "      <td>86400.0</td>\n",
       "      <td>268.864163</td>\n",
       "      <td>269.508551</td>\n",
       "      <td>269.905417</td>\n",
       "      <td>270.041528</td>\n",
       "      <td>270.133230</td>\n",
       "      <td>270.147948</td>\n",
       "      <td>270.149673</td>\n",
       "      <td>0.224328</td>\n",
       "      <td>0.224329</td>\n",
       "      <td>0.224329</td>\n",
       "      <td>0.159522</td>\n",
       "      <td>0.159523</td>\n",
       "      <td>0.159523</td>\n",
       "      <td>0.159523</td>\n",
       "    </tr>\n",
       "    <tr>\n",
       "      <th>2</th>\n",
       "      <td>172800.0</td>\n",
       "      <td>267.731229</td>\n",
       "      <td>268.757977</td>\n",
       "      <td>269.508098</td>\n",
       "      <td>269.801312</td>\n",
       "      <td>270.061812</td>\n",
       "      <td>270.130630</td>\n",
       "      <td>270.144866</td>\n",
       "      <td>0.224327</td>\n",
       "      <td>0.224328</td>\n",
       "      <td>0.224329</td>\n",
       "      <td>0.159520</td>\n",
       "      <td>0.159522</td>\n",
       "      <td>0.159523</td>\n",
       "      <td>0.159523</td>\n",
       "    </tr>\n",
       "    <tr>\n",
       "      <th>3</th>\n",
       "      <td>259200.0</td>\n",
       "      <td>266.714834</td>\n",
       "      <td>268.029607</td>\n",
       "      <td>269.074645</td>\n",
       "      <td>269.509107</td>\n",
       "      <td>269.950121</td>\n",
       "      <td>270.095016</td>\n",
       "      <td>270.132632</td>\n",
       "      <td>0.224327</td>\n",
       "      <td>0.224327</td>\n",
       "      <td>0.224328</td>\n",
       "      <td>0.159517</td>\n",
       "      <td>0.159521</td>\n",
       "      <td>0.159523</td>\n",
       "      <td>0.159523</td>\n",
       "    </tr>\n",
       "    <tr>\n",
       "      <th>4</th>\n",
       "      <td>345600.0</td>\n",
       "      <td>265.688138</td>\n",
       "      <td>267.287021</td>\n",
       "      <td>268.609833</td>\n",
       "      <td>269.178417</td>\n",
       "      <td>269.803787</td>\n",
       "      <td>270.039346</td>\n",
       "      <td>270.110496</td>\n",
       "      <td>0.224326</td>\n",
       "      <td>0.224327</td>\n",
       "      <td>0.224328</td>\n",
       "      <td>0.159514</td>\n",
       "      <td>0.159520</td>\n",
       "      <td>0.159522</td>\n",
       "      <td>0.159523</td>\n",
       "    </tr>\n",
       "  </tbody>\n",
       "</table>\n",
       "</div>"
      ],
      "text/plain": [
       "   time [s]  point -0.04 temperature [K]  point -0.1 temperature [K]  \\\n",
       "0       0.0                   270.150000                  270.150000   \n",
       "1   86400.0                   268.864163                  269.508551   \n",
       "2  172800.0                   267.731229                  268.757977   \n",
       "3  259200.0                   266.714834                  268.029607   \n",
       "4  345600.0                   265.688138                  267.287021   \n",
       "\n",
       "   point -0.2 temperature [K]  point -0.4 temperature [K]  \\\n",
       "0                  270.150000                  270.150000   \n",
       "1                  269.905417                  270.041528   \n",
       "2                  269.508098                  269.801312   \n",
       "3                  269.074645                  269.509107   \n",
       "4                  268.609833                  269.178417   \n",
       "\n",
       "   point -0.8 temperature [K]  point -1.2 temperature [K]  \\\n",
       "0                  270.150000                  270.150000   \n",
       "1                  270.133230                  270.147948   \n",
       "2                  270.061812                  270.130630   \n",
       "3                  269.950121                  270.095016   \n",
       "4                  269.803787                  270.039346   \n",
       "\n",
       "   point -1.6 temperature [K]  point -0.04 saturation liquid  \\\n",
       "0                  270.150000                       0.224330   \n",
       "1                  270.149673                       0.224328   \n",
       "2                  270.144866                       0.224327   \n",
       "3                  270.132632                       0.224327   \n",
       "4                  270.110496                       0.224326   \n",
       "\n",
       "   point -0.1 saturation liquid  point -0.2 saturation liquid  \\\n",
       "0                      0.224330                      0.224330   \n",
       "1                      0.224329                      0.224329   \n",
       "2                      0.224328                      0.224329   \n",
       "3                      0.224327                      0.224328   \n",
       "4                      0.224327                      0.224328   \n",
       "\n",
       "   point -0.4 saturation liquid  point -0.8 saturation liquid  \\\n",
       "0                      0.159523                      0.159523   \n",
       "1                      0.159522                      0.159523   \n",
       "2                      0.159520                      0.159522   \n",
       "3                      0.159517                      0.159521   \n",
       "4                      0.159514                      0.159520   \n",
       "\n",
       "   point -1.2 saturation liquid  point -1.6 saturation liquid  \n",
       "0                      0.159523                      0.159523  \n",
       "1                      0.159523                      0.159523  \n",
       "2                      0.159523                      0.159523  \n",
       "3                      0.159523                      0.159523  \n",
       "4                      0.159522                      0.159523  "
      ]
     },
     "execution_count": 48,
     "metadata": {},
     "output_type": "execute_result"
    }
   ],
   "source": [
    "sim_data.head()"
   ]
  },
  {
   "cell_type": "markdown",
   "id": "6ac0eed6-0a7b-486c-800f-44bdf161a45c",
   "metadata": {},
   "source": [
    "Looks good!"
   ]
  },
  {
   "cell_type": "code",
   "execution_count": null,
   "id": "af1e8330-7b5a-401c-8ad2-bacb4ee42a45",
   "metadata": {},
   "outputs": [],
   "source": []
  },
  {
   "cell_type": "markdown",
   "id": "990ec634-8d21-4540-b8b7-eb5416066ff2",
   "metadata": {},
   "source": [
    "#### Check the outputs in the file and also the jupyter notebook terminal - weather it is running. If all is good you can start with the pestcheck!"
   ]
  },
  {
   "cell_type": "code",
   "execution_count": 49,
   "id": "55ac3a1c-8bb9-47e6-a21c-c69c1c55c9c7",
   "metadata": {},
   "outputs": [],
   "source": [
    "os.chdir('..')"
   ]
  },
  {
   "cell_type": "code",
   "execution_count": 50,
   "id": "6ba22140-ec4f-442b-9025-d30bfe556f9c",
   "metadata": {},
   "outputs": [
    {
     "data": {
      "text/plain": [
       "'/home/rk/pestpp/pestpp/rk_model_final/Case5_II_A_glm_start.demo'"
      ]
     },
     "execution_count": 50,
     "metadata": {},
     "output_type": "execute_result"
    }
   ],
   "source": [
    "os.getcwd()"
   ]
  },
  {
   "cell_type": "code",
   "execution_count": 51,
   "id": "829d45a6-1000-4ac6-96a7-36a12ee28ff0",
   "metadata": {},
   "outputs": [],
   "source": [
    "#os.chdir(directory_name)"
   ]
  },
  {
   "cell_type": "markdown",
   "id": "d8ffb004-bb7e-4118-98e5-da5dd8cecb58",
   "metadata": {},
   "source": [
    "### Check the file name and line for finding porosity of peat and mineral"
   ]
  },
  {
   "cell_type": "code",
   "execution_count": 57,
   "id": "e7cba865-3dda-4c4e-b9e9-6948f44b1e06",
   "metadata": {},
   "outputs": [],
   "source": [
    "import re"
   ]
  },
  {
   "cell_type": "code",
   "execution_count": 58,
   "id": "cc8e5b77-9319-4d31-a89d-2deae5a3c7ae",
   "metadata": {},
   "outputs": [
    {
     "name": "stdout",
     "output_type": "stream",
     "text": [
      "0.63739496\n",
      "0.48103077\n"
     ]
    }
   ],
   "source": [
    "# 1. To find the porosity\n",
    "filename = f'{file_name}.xml'\n",
    "line_por_peat = 602 # \n",
    "line_por_mineral = 611\n",
    "\n",
    "with open(f'{filename}') as oldfile:\n",
    "            for line, content in enumerate(oldfile):\n",
    "                if line == line_por_peat: # Line 603 (+1) has the porosity_peat \n",
    "                    poro_peat_line = str(content)\n",
    "                    result = re.findall('\\\".*?\\\"', poro_peat_line)\n",
    "                    poro_peat = float(result[2].replace('\"',''))\n",
    "                    print(poro_peat)\n",
    "                elif line == line_por_mineral: # Line 612 (+1) has the porosity_mineral\n",
    "                    poro_mineral_line = str(content)\n",
    "                    result_2 = re.findall('\\\".*?\\\"', poro_mineral_line)\n",
    "                    poro_mineral = float(result_2[2].replace('\"',''))\n",
    "                    print(poro_mineral)"
   ]
  },
  {
   "cell_type": "code",
   "execution_count": 55,
   "id": "52c2f3cf-55c8-4e71-9029-b641df2f18bf",
   "metadata": {},
   "outputs": [
    {
     "data": {
      "text/plain": [
       "0"
      ]
     },
     "execution_count": 55,
     "metadata": {},
     "output_type": "execute_result"
    }
   ],
   "source": [
    "### Check the ats_modelcmd.py file - Change the file name if required!\n",
    "os.system('python3 ats_modelcmd.py')\n",
    "### Make sure that the observation file is created!"
   ]
  },
  {
   "cell_type": "markdown",
   "id": "edb1771e-c566-438a-bdc9-c43cbf99aa92",
   "metadata": {},
   "source": [
    "### Changing the contents in the pest control file\n",
    "- Change the name of the pest control file beforehand"
   ]
  },
  {
   "cell_type": "code",
   "execution_count": 61,
   "id": "5012d896-3f07-4bd9-8116-b2d88ed9d81b",
   "metadata": {},
   "outputs": [
    {
     "data": {
      "text/plain": [
       "'Case5_II_A_glm'"
      ]
     },
     "execution_count": 61,
     "metadata": {},
     "output_type": "execute_result"
    }
   ],
   "source": [
    "file_name"
   ]
  },
  {
   "cell_type": "code",
   "execution_count": 60,
   "id": "15c48980-ebc0-4868-80b7-966aad4fdfb9",
   "metadata": {},
   "outputs": [],
   "source": [
    "filename = f'{file_name}_cf.pst'\n",
    "text_to_search = 'Case5_I_E_glm2'\n",
    "replacement_text = f'{file_name}'\n",
    "\n",
    "with fileinput.FileInput(filename, inplace=True, backup='.bak') as file:\n",
    "    for line in file:\n",
    "        print(line.replace(text_to_search, replacement_text), end='')"
   ]
  },
  {
   "cell_type": "code",
   "execution_count": 62,
   "id": "84c9e477-6cd0-4ed3-8145-c79e668b46a9",
   "metadata": {},
   "outputs": [
    {
     "data": {
      "text/plain": [
       "' TEMPCHEK Version 17.3. Watermark Numerical Computing.\\n\\n TEMPCHEK is run using the command:\\n\\n    tempchek tempfile [modfile [parfile]]\\n\\n where\\n\\n    \"tempfile\" is a PEST template file,\\n    \"modfile\" is an [optional] model input file to be written by TEMPCHEK, and\\n    \"parfile\" is an [optional] parameter value file.\\n\\n'"
      ]
     },
     "execution_count": 62,
     "metadata": {},
     "output_type": "execute_result"
    }
   ],
   "source": [
    "# Running tempchek\n",
    "subprocess.run(['tempchek'], capture_output=True, text=True).stdout"
   ]
  },
  {
   "cell_type": "code",
   "execution_count": 63,
   "id": "6d86f948-7412-4606-84bb-e68740761d90",
   "metadata": {},
   "outputs": [
    {
     "data": {
      "text/plain": [
       "' TEMPCHEK Version 17.3. Watermark Numerical Computing.\\n\\n Errors in file Case5_II_A_glm.xml.tpl ----->\\n No errors encountered.\\n\\n 26 parameters identified in file Case5_II_A_glm.xml.tpl: these are listed in \\n   file Case5_II_A_glm.xml.pmt.\\n\\n'"
      ]
     },
     "execution_count": 63,
     "metadata": {},
     "output_type": "execute_result"
    }
   ],
   "source": [
    "# Running tempchek\n",
    "subprocess.run(['tempchek',f'{file_name}.xml.tpl'], capture_output=True, text=True).stdout"
   ]
  },
  {
   "cell_type": "code",
   "execution_count": 64,
   "id": "69fda3e2-6b6c-4690-bd1d-7d6121ca89ad",
   "metadata": {},
   "outputs": [
    {
     "data": {
      "text/plain": [
       "' INSCHEK Version 17.3. Watermark Numerical Computing.\\n\\n Errors in file Case5_II_A_glm_obs_data.dat.ins ----->\\n No errors encountered.\\n\\n 5110 observations identified in file Case5_II_A_glm_obs_data.dat.ins: these \\n   are listed in file Case5_II_A_glm_obs_data.dat.obf.\\n\\n'"
      ]
     },
     "execution_count": 64,
     "metadata": {},
     "output_type": "execute_result"
    }
   ],
   "source": [
    "# Running inschek\n",
    "subprocess.run(['inschek',f'{file_name}_obs_data.dat.ins'], capture_output=True, text=True).stdout"
   ]
  },
  {
   "cell_type": "code",
   "execution_count": 117,
   "id": "82434f8f-c803-4309-a0fb-99f092a48965",
   "metadata": {},
   "outputs": [],
   "source": [
    "### Converting the pest control file to version 1"
   ]
  },
  {
   "cell_type": "code",
   "execution_count": 65,
   "id": "42be69b5-bc46-4e08-ab77-0f67b5713c16",
   "metadata": {},
   "outputs": [],
   "source": [
    "import pyemu"
   ]
  },
  {
   "cell_type": "code",
   "execution_count": 66,
   "id": "49954514-c450-430f-84ed-0d845772dbfd",
   "metadata": {},
   "outputs": [
    {
     "data": {
      "text/plain": [
       "'Case5_II_A_glm_start.demo'"
      ]
     },
     "execution_count": 66,
     "metadata": {},
     "output_type": "execute_result"
    }
   ],
   "source": [
    "directory_name"
   ]
  },
  {
   "cell_type": "code",
   "execution_count": 67,
   "id": "1a69218a-411c-43b5-b0e6-93ebbc4495ed",
   "metadata": {},
   "outputs": [
    {
     "name": "stdout",
     "output_type": "stream",
     "text": [
      "noptmax:-1, npar_adj:26, nnz_obs:5110\n"
     ]
    }
   ],
   "source": [
    "pst = pyemu.Pst(f\"{file_name}_cf.pst\")\n",
    "pst.write(f\"{file_name}_cf_v1.pst\")"
   ]
  },
  {
   "cell_type": "code",
   "execution_count": 68,
   "id": "b1f1683e-e18b-498b-a4f4-43b92c5cd5c2",
   "metadata": {},
   "outputs": [
    {
     "data": {
      "text/plain": [
       "'/home/rk/pestpp/pestpp/rk_model_final/Case5_II_A_glm_start.demo'"
      ]
     },
     "execution_count": 68,
     "metadata": {},
     "output_type": "execute_result"
    }
   ],
   "source": [
    "os.getcwd()"
   ]
  },
  {
   "cell_type": "code",
   "execution_count": 69,
   "id": "9064c890-bb65-42bb-adc6-9d5b6957c52f",
   "metadata": {},
   "outputs": [
    {
     "data": {
      "text/plain": [
       "' PESTCHEK Version 17.3. Watermark Numerical Computing.\\n\\n Errors ----->\\n No errors encountered.\\n\\n Warnings ----->\\n It appears that the PEST control file contains a \"rsi\" section. PESTCHEK did \\n   not check this. It can only be used by RSI_HP.\\n NUMLAM is supplied as negative. This will be reset to positive. If Parallel \\n   PEST or BEOPEST is used PARLAM will automatically be set to -9999.\\n NOPTMAX provided as -1. No optimisation will be carried out; objective \\n   function, residuals and statistics will be recorded for initial parameter \\n   estimates only.\\n MAXSING in the singular value decomposition section is greater than the \\n   number of adjustable parameters.\\n'"
      ]
     },
     "execution_count": 69,
     "metadata": {},
     "output_type": "execute_result"
    }
   ],
   "source": [
    "### Checking the pest control file once more\n",
    "\n",
    "subprocess.run(['pestchek',f\"{file_name}_cf_v1.pst\"], capture_output=True, text=True).stdout"
   ]
  },
  {
   "cell_type": "markdown",
   "id": "d825e61d-6c10-4a46-8e91-ddc44b5cfe55",
   "metadata": {},
   "source": [
    "* If the error of DERCOM appears - Just remove 1 from the all the par_data lines!"
   ]
  },
  {
   "cell_type": "markdown",
   "id": "ed371806-6b43-4149-b366-34977e9f31cd",
   "metadata": {},
   "source": [
    "#### Change the file name in 'ats_modelcmd.py' to pest file name"
   ]
  },
  {
   "cell_type": "code",
   "execution_count": 70,
   "id": "3f9ad751-16d0-471e-ab26-6e0257882b94",
   "metadata": {},
   "outputs": [
    {
     "data": {
      "text/plain": [
       "'/home/rk/pestpp/pestpp/rk_model_final/Case5_II_A_glm_start.demo'"
      ]
     },
     "execution_count": 70,
     "metadata": {},
     "output_type": "execute_result"
    }
   ],
   "source": [
    "os.getcwd()"
   ]
  },
  {
   "cell_type": "code",
   "execution_count": 71,
   "id": "c3c42bd3-52be-4d91-ad42-584f3137ba8f",
   "metadata": {},
   "outputs": [
    {
     "data": {
      "text/plain": [
       "0"
      ]
     },
     "execution_count": 71,
     "metadata": {},
     "output_type": "execute_result"
    }
   ],
   "source": [
    "### Running pest file\n",
    "\n",
    "os.system(f'pest {file_name}_cf_v1.pst')\n",
    "#subprocess.run(['pest',f'{file_name}_cf_v1.pst','&>out.log'], capture_output=True, text=True).stdout"
   ]
  },
  {
   "cell_type": "markdown",
   "id": "52ee03a7-fc38-4beb-9df7-cd283270c11f",
   "metadata": {},
   "source": [
    "### Reweighting strategy - PWTADJ1\n"
   ]
  },
  {
   "cell_type": "code",
   "execution_count": 72,
   "id": "bd11f409-d77e-448d-a11d-6725be17ca63",
   "metadata": {},
   "outputs": [
    {
     "data": {
      "text/plain": [
       "'\\n PWTADJ1 version 17.3. Watermark Numerical Computing.\\n\\n PWTADJ1 is run using the command:\\n\\n     pwtadj1 casename pestoutfile contribution\\n\\n where\\n\\n     casename     is an existing PEST casename,\\n     pestoutfile  is the name of a new PEST control file, and \\n     contribution is the new objective function for each observation group.\\n'"
      ]
     },
     "execution_count": 72,
     "metadata": {},
     "output_type": "execute_result"
    }
   ],
   "source": [
    "subprocess.run(['pwtadj1'], capture_output=True, text=True).stdout"
   ]
  },
  {
   "cell_type": "markdown",
   "id": "7876062d-beec-45ff-92cb-9cd499bd7c55",
   "metadata": {},
   "source": [
    "### Check the total objective function value in the .rec file and add in the cmd below:"
   ]
  },
  {
   "cell_type": "code",
   "execution_count": 62,
   "id": "bd78fccd-cfe6-4079-acef-49c815338db4",
   "metadata": {},
   "outputs": [],
   "source": [
    "obj_fn_value = 1.02441E-02  # Taken from .rec file"
   ]
  },
  {
   "cell_type": "code",
   "execution_count": 63,
   "id": "a1154cf8-5827-4053-80bd-9f2ee021c3fd",
   "metadata": {},
   "outputs": [
    {
     "data": {
      "text/plain": [
       "'\\n PWTADJ1 version 17.3. Watermark Numerical Computing.\\n\\n - reading PEST control file Case5_I_E_glm2_cf_v1.pst for first time...\\n - file Case5_I_E_glm2_cf_v1.pst read ok.\\n\\n - reading PEST run record file Case5_I_E_glm2_cf_v1.rec...\\n - file Case5_I_E_glm2_cf_v1.rec read ok.\\n\\n - re-reading file Case5_I_E_glm2_cf_v1.pst and writing file Case5_I_E_glm2_cf_v1_rw.pst...\\n - file Case5_I_E_glm2_cf_v1.pst read ok.\\n - file Case5_I_E_glm2_cf_v1_rw.pst written ok.\\n'"
      ]
     },
     "execution_count": 63,
     "metadata": {},
     "output_type": "execute_result"
    }
   ],
   "source": [
    "subprocess.run(['pwtadj1',f'{file_name}_cf_v1.pst',f'{file_name}_cf_v1_rw.pst',f'{obj_fn_value/2}'], capture_output=True, text=True).stdout"
   ]
  },
  {
   "cell_type": "code",
   "execution_count": 64,
   "id": "436d2bd6-6db1-4464-b36d-04b0a0995cb9",
   "metadata": {},
   "outputs": [
    {
     "data": {
      "text/plain": [
       "''"
      ]
     },
     "execution_count": 64,
     "metadata": {},
     "output_type": "execute_result"
    }
   ],
   "source": [
    "# Removing the out.log file since it's file size is large\n",
    "subprocess.run(['rm','-rf','out.log'], capture_output=True, text=True).stdout"
   ]
  },
  {
   "cell_type": "code",
   "execution_count": 65,
   "id": "42f88539-3047-4009-8e1a-af33be941a31",
   "metadata": {},
   "outputs": [],
   "source": [
    "os.chdir(f'..')"
   ]
  },
  {
   "cell_type": "code",
   "execution_count": 66,
   "id": "9e372898-617f-4338-b8de-4f781502060e",
   "metadata": {},
   "outputs": [
    {
     "data": {
      "text/plain": [
       "'/home/rk/pestpp/pestpp/rk_model_final'"
      ]
     },
     "execution_count": 66,
     "metadata": {},
     "output_type": "execute_result"
    }
   ],
   "source": [
    "os.getcwd()"
   ]
  },
  {
   "cell_type": "code",
   "execution_count": 67,
   "id": "859cf981-7750-4aab-a6dc-6f102508337a",
   "metadata": {},
   "outputs": [],
   "source": [
    "directory_name_rw = f'{file_name}_rw.demo'"
   ]
  },
  {
   "cell_type": "code",
   "execution_count": 69,
   "id": "2bb7c00d-de35-4b95-a5fa-775487c75743",
   "metadata": {},
   "outputs": [
    {
     "data": {
      "text/plain": [
       "'Case5_I_E_glm2_rw.demo'"
      ]
     },
     "execution_count": 69,
     "metadata": {},
     "output_type": "execute_result"
    }
   ],
   "source": [
    "directory_name_rw"
   ]
  },
  {
   "cell_type": "code",
   "execution_count": 70,
   "id": "68ab1f24-e886-4c30-8c7b-2144f5451bfa",
   "metadata": {},
   "outputs": [
    {
     "data": {
      "text/plain": [
       "'Case5_I_E_glm2_rw.demo'"
      ]
     },
     "execution_count": 70,
     "metadata": {},
     "output_type": "execute_result"
    }
   ],
   "source": [
    "# Copying the files to a new folder\n",
    "shutil.copytree(directory_name, directory_name_rw)"
   ]
  },
  {
   "cell_type": "code",
   "execution_count": 71,
   "id": "1668efe2-34ef-4dab-b4b6-e329b881e6e9",
   "metadata": {},
   "outputs": [],
   "source": [
    "os.chdir(f'{directory_name_rw}')"
   ]
  },
  {
   "cell_type": "code",
   "execution_count": 72,
   "id": "2ec07e47-6222-4aaf-b8b8-1aae1579f883",
   "metadata": {},
   "outputs": [],
   "source": [
    "cf_name = f'{file_name}_cf_v1' # Control file name before reweighting"
   ]
  },
  {
   "cell_type": "code",
   "execution_count": 73,
   "id": "7f3fd5ff-70f1-42bd-8ace-bd0ad0b9978b",
   "metadata": {},
   "outputs": [
    {
     "data": {
      "text/plain": [
       "0"
      ]
     },
     "execution_count": 73,
     "metadata": {},
     "output_type": "execute_result"
    }
   ],
   "source": [
    "# Removing unnecessary files to provide space for the simulation\n",
    "# Check once more if all the files have been removed properly\n",
    "os.system(f'rm {cf_name}.drf {cf_name}.jac {cf_name}.jst {cf_name}.jco {cf_name}.mtt {cf_name}.par {cf_name}.rec {cf_name}.rei {cf_name}.res {cf_name}.sen {cf_name}.seo {cf_name}.svd {cf_name}.rst jacob.runs')"
   ]
  },
  {
   "cell_type": "code",
   "execution_count": 74,
   "id": "fa4c4f28-2e0f-4bfe-8d70-24cabd4fadbe",
   "metadata": {},
   "outputs": [
    {
     "data": {
      "text/plain": [
       "'Case5_I_E_glm2'"
      ]
     },
     "execution_count": 74,
     "metadata": {},
     "output_type": "execute_result"
    }
   ],
   "source": [
    "file_name"
   ]
  },
  {
   "cell_type": "code",
   "execution_count": 75,
   "id": "b9797cb1-ee3d-461b-9485-747d2d2447d9",
   "metadata": {},
   "outputs": [
    {
     "data": {
      "text/plain": [
       "2"
      ]
     },
     "execution_count": 75,
     "metadata": {},
     "output_type": "execute_result"
    }
   ],
   "source": [
    "# Running the new re-weighted pest file\n",
    "os.system(f'pestpp-glm {file_name}_cf_v1_rw.pst')\n",
    "# Prefer running it on the terminal?"
   ]
  },
  {
   "cell_type": "code",
   "execution_count": null,
   "id": "26a15afd-8d31-470f-bb30-ebf131b19c28",
   "metadata": {},
   "outputs": [],
   "source": []
  }
 ],
 "metadata": {
  "kernelspec": {
   "display_name": "Python 3",
   "language": "python",
   "name": "python3"
  },
  "language_info": {
   "codemirror_mode": {
    "name": "ipython",
    "version": 3
   },
   "file_extension": ".py",
   "mimetype": "text/x-python",
   "name": "python",
   "nbconvert_exporter": "python",
   "pygments_lexer": "ipython3",
   "version": "3.8.8"
  }
 },
 "nbformat": 4,
 "nbformat_minor": 5
}
