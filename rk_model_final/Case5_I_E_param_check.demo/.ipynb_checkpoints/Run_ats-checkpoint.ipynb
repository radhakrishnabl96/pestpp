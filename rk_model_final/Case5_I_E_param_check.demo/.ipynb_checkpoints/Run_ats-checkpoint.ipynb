{
 "cells": [
  {
   "cell_type": "markdown",
   "id": "707a16db-d1c4-4133-aabf-56cda4b9ee76",
   "metadata": {},
   "source": [
    "### Running ats\n",
    "* The initial value has already been tested and it works for all cases!\n",
    "\n",
    "* The lower bound(param_1) and the upper bound (param_2) of all the parameters was tested. \n",
    "\n",
    "* The values [lower and upper bound] are considered from the file ...rk_model_final/Case5_I_E_pestpp_filesprep.ipynb \n",
    "\n",
    "* Steps followed:\n",
    " * file.demo folder was created\n",
    " * cd to new directory\n",
    " * Manually changing the parameters in the xml file (first lower bound and then upper bound)\n",
    " * Running the script and checking if the values are suited. If the values are not suited (model takes a long time to move through the time steps and cannot find a numerical solution), then a new value closer to the original value is tested.\n",
    " * These new values are noted down and will later on be changed in the PEST files to derive optimal results at a shorter time (since the model runs will take place but within a shorter interval)\n",
    " \n",
    " **The parameters that were not resulting in model outputs and their initial value, lower bound and upper bound needed to be redefined:**\n",
    " 1. e_bg: **0.500**, 0.75, 0.9625\n",
    " 2. alpha_p: 0.0025, 0.01, **0.0125**\n",
    " 3. n_p: 1.025, 1.5, 2.05\n",
    " 4. wr_p: 0.024, 0.1, 0.2\n",
    " 5. por_p: 0.159, 0.63739, **0.85**"
   ]
  },
  {
   "cell_type": "markdown",
   "id": "8689d6d5-7409-42d3-bae0-b9ede506f579",
   "metadata": {},
   "source": [
    "* Note that some values are not numerically possible for the model to find a solution - therefore the model will not run for such values! - Although, phyiscally the model params can exist, they can't be numerically simulated! \n",
    "* It might also be the case that the parameters did not work when in combination with other parameters!"
   ]
  },
  {
   "cell_type": "code",
   "execution_count": 6,
   "id": "13c24fe9-6c4a-48ee-8659-29fd360b5de1",
   "metadata": {},
   "outputs": [],
   "source": [
    "import os"
   ]
  },
  {
   "cell_type": "code",
   "execution_count": 37,
   "id": "0a142d29-f8d6-4ca1-ac9e-ceb10007f1ce",
   "metadata": {},
   "outputs": [
    {
     "data": {
      "text/plain": [
       "'/home/rk/pestpp/pestpp/rk_model_final/Case5_I_E_param_check.demo'"
      ]
     },
     "execution_count": 37,
     "metadata": {},
     "output_type": "execute_result"
    }
   ],
   "source": [
    "os.chdir('Case5_I_E_param_check.demo')\n",
    "os.getcwd()"
   ]
  },
  {
   "cell_type": "markdown",
   "id": "1ab668e4-7ca7-4941-80a2-6b89552c7897",
   "metadata": {},
   "source": [
    "### z_bg"
   ]
  },
  {
   "cell_type": "code",
   "execution_count": 42,
   "id": "d30e2635-0d37-408c-a069-05efebb14720",
   "metadata": {},
   "outputs": [],
   "source": [
    "directory_name = 'z_bg_1.demo' # = 1.000E-02"
   ]
  },
  {
   "cell_type": "code",
   "execution_count": 3,
   "id": "a169a3a8-9ebd-4850-bbff-34957dde6383",
   "metadata": {},
   "outputs": [
    {
     "data": {
      "text/plain": [
       "0"
      ]
     },
     "execution_count": 3,
     "metadata": {},
     "output_type": "execute_result"
    }
   ],
   "source": [
    "### Making a new directory:\n",
    "os.system(f\"mkdir {directory_name}\")"
   ]
  },
  {
   "cell_type": "code",
   "execution_count": 43,
   "id": "432ef1ce-d825-4aa5-baaa-133562a66a69",
   "metadata": {},
   "outputs": [],
   "source": [
    "### Going into the directory\n",
    "os.chdir(f'{directory_name}')"
   ]
  },
  {
   "cell_type": "code",
   "execution_count": 44,
   "id": "62e8b038-1ba8-4f50-a43b-e4e2a1868f44",
   "metadata": {},
   "outputs": [
    {
     "data": {
      "text/plain": [
       "'/home/rk/pestpp/pestpp/rk_model_final/Case5_I_E_param_check.demo/z_bg_1.demo'"
      ]
     },
     "execution_count": 44,
     "metadata": {},
     "output_type": "execute_result"
    }
   ],
   "source": [
    "os.getcwd()"
   ]
  },
  {
   "cell_type": "code",
   "execution_count": 45,
   "id": "6ccca329-7c40-417f-adb5-677703207642",
   "metadata": {},
   "outputs": [
    {
     "data": {
      "text/plain": [
       "0"
      ]
     },
     "execution_count": 45,
     "metadata": {},
     "output_type": "execute_result"
    }
   ],
   "source": [
    "# Change the script with the variable in the ats file \n",
    "os.system('ats --xml_file=../Case5_I_E_glm.xml')\n",
    "\n",
    "# The value of 1.000E-02 was found to be not suitable!"
   ]
  },
  {
   "cell_type": "code",
   "execution_count": 46,
   "id": "1b94e2c8-5dee-465e-869a-e6e1642d2cf9",
   "metadata": {},
   "outputs": [
    {
     "data": {
      "text/plain": [
       "'/home/rk/pestpp/pestpp/rk_model_final/Case5_I_E_param_check.demo/z_bg_2.demo'"
      ]
     },
     "execution_count": 46,
     "metadata": {},
     "output_type": "execute_result"
    }
   ],
   "source": [
    "os.chdir('..')\n",
    "directory_name = 'z_bg_2.demo' # = 3.000E-02\n",
    "### Making a new directory:\n",
    "#os.system(f\"mkdir {directory_name}\")\n",
    "### Going into the directory\n",
    "os.chdir(f'{directory_name}')\n",
    "os.getcwd()"
   ]
  },
  {
   "cell_type": "code",
   "execution_count": 47,
   "id": "d42bc6e6-5d41-431c-815e-dd2dbfab8cd0",
   "metadata": {},
   "outputs": [
    {
     "data": {
      "text/plain": [
       "0"
      ]
     },
     "execution_count": 47,
     "metadata": {},
     "output_type": "execute_result"
    }
   ],
   "source": [
    "# Change the script with the variable in the ats file \n",
    "os.system('ats --xml_file=../Case5_I_E_glm.xml')\n",
    "\n"
   ]
  },
  {
   "cell_type": "markdown",
   "id": "56b8b8ab-6c70-417d-a47d-ed6fc9468fa4",
   "metadata": {},
   "source": [
    "### z_s"
   ]
  },
  {
   "cell_type": "code",
   "execution_count": null,
   "id": "fe3e881a-5379-4d5f-a7bb-f6045a8688d2",
   "metadata": {},
   "outputs": [],
   "source": []
  },
  {
   "cell_type": "code",
   "execution_count": 48,
   "id": "ba6b7ebc-0ae0-4d33-8371-1013b9f5902b",
   "metadata": {},
   "outputs": [
    {
     "data": {
      "text/plain": [
       "'/home/rk/pestpp/pestpp/rk_model_final/Case5_I_E_param_check.demo/z_s_1.demo'"
      ]
     },
     "execution_count": 48,
     "metadata": {},
     "output_type": "execute_result"
    }
   ],
   "source": [
    "os.chdir('..')\n",
    "directory_name = 'z_s_1.demo' # = 1.2500000E-03\n",
    "### Making a new directory:\n",
    "os.system(f\"mkdir {directory_name}\")\n",
    "### Going into the directory\n",
    "os.chdir(f'{directory_name}')\n",
    "os.getcwd()"
   ]
  },
  {
   "cell_type": "code",
   "execution_count": 50,
   "id": "17cbec19-8cc2-42f3-8c30-6ec9b7b0b2a5",
   "metadata": {},
   "outputs": [
    {
     "data": {
      "text/plain": [
       "0"
      ]
     },
     "execution_count": 50,
     "metadata": {},
     "output_type": "execute_result"
    }
   ],
   "source": [
    "# Change the script with the variable in the ats file \n",
    "os.system('ats --xml_file=../Case5_I_E_glm.xml')\n"
   ]
  },
  {
   "cell_type": "code",
   "execution_count": null,
   "id": "11a1ba98-393f-44da-b07b-84585cc1d9c3",
   "metadata": {},
   "outputs": [],
   "source": []
  },
  {
   "cell_type": "code",
   "execution_count": 51,
   "id": "b12ab2a4-bd8d-445f-909e-a24804c3c7ac",
   "metadata": {},
   "outputs": [
    {
     "data": {
      "text/plain": [
       "'/home/rk/pestpp/pestpp/rk_model_final/Case5_I_E_param_check.demo/z_s_2.demo'"
      ]
     },
     "execution_count": 51,
     "metadata": {},
     "output_type": "execute_result"
    }
   ],
   "source": [
    "os.chdir('..')\n",
    "directory_name = 'z_s_2.demo' # = 8.7500000E-03\n",
    "### Making a new directory:\n",
    "os.system(f\"mkdir {directory_name}\")\n",
    "### Going into the directory\n",
    "os.chdir(f'{directory_name}')\n",
    "os.getcwd()"
   ]
  },
  {
   "cell_type": "code",
   "execution_count": 52,
   "id": "35a8d03f-dd33-4f1b-b72d-979daa6162cc",
   "metadata": {},
   "outputs": [
    {
     "data": {
      "text/plain": [
       "0"
      ]
     },
     "execution_count": 52,
     "metadata": {},
     "output_type": "execute_result"
    }
   ],
   "source": [
    "# Change the script with the variable in the ats file \n",
    "os.system('ats --xml_file=../Case5_I_E_glm.xml')\n"
   ]
  },
  {
   "cell_type": "code",
   "execution_count": null,
   "id": "1d517938-8979-4931-b6bb-64b1499f4f82",
   "metadata": {},
   "outputs": [],
   "source": []
  },
  {
   "cell_type": "markdown",
   "id": "5adef95c-1cca-4d0c-b82e-51d2dc2e64b2",
   "metadata": {},
   "source": [
    "### pen_s"
   ]
  },
  {
   "cell_type": "code",
   "execution_count": 54,
   "id": "b08adab0-57ad-4772-bbad-035b2b3d99ea",
   "metadata": {},
   "outputs": [
    {
     "data": {
      "text/plain": [
       "'/home/rk/pestpp/pestpp/rk_model_final/Case5_I_E_param_check.demo/pen_s_1.demo'"
      ]
     },
     "execution_count": 54,
     "metadata": {},
     "output_type": "execute_result"
    }
   ],
   "source": [
    "os.chdir('..')\n",
    "directory_name = 'pen_s_1.demo' # = 5.00E-03\n",
    "### Making a new directory:\n",
    "os.system(f\"mkdir {directory_name}\")\n",
    "### Going into the directory\n",
    "os.chdir(f'{directory_name}')\n",
    "os.getcwd()"
   ]
  },
  {
   "cell_type": "code",
   "execution_count": 55,
   "id": "b2633624-827a-452e-8f3a-e39ad73fae69",
   "metadata": {},
   "outputs": [
    {
     "data": {
      "text/plain": [
       "0"
      ]
     },
     "execution_count": 55,
     "metadata": {},
     "output_type": "execute_result"
    }
   ],
   "source": [
    "# Change the script with the variable in the ats file \n",
    "os.system('ats --xml_file=../Case5_I_E_glm.xml')\n"
   ]
  },
  {
   "cell_type": "code",
   "execution_count": null,
   "id": "1f35dd90-33c2-4b91-bdb0-0da42ba23ba0",
   "metadata": {},
   "outputs": [],
   "source": []
  },
  {
   "cell_type": "code",
   "execution_count": 48,
   "id": "3f1894c0-b7de-43c4-81fc-0cbcaae9934f",
   "metadata": {},
   "outputs": [
    {
     "data": {
      "text/plain": [
       "'/home/rk/pestpp/pestpp/rk_model_final/Case5_I_E_param_check.demo/z_s_1.demo'"
      ]
     },
     "execution_count": 48,
     "metadata": {},
     "output_type": "execute_result"
    }
   ],
   "source": [
    "os.chdir('..')\n",
    "directory_name = 'pen_s_2.demo' # = 3.50E-02\n",
    "### Making a new directory:\n",
    "os.system(f\"mkdir {directory_name}\")\n",
    "### Going into the directory\n",
    "os.chdir(f'{directory_name}')\n",
    "os.getcwd()"
   ]
  },
  {
   "cell_type": "code",
   "execution_count": 50,
   "id": "3b024a28-c188-40c3-8f76-58de255b3efd",
   "metadata": {},
   "outputs": [
    {
     "data": {
      "text/plain": [
       "0"
      ]
     },
     "execution_count": 50,
     "metadata": {},
     "output_type": "execute_result"
    }
   ],
   "source": [
    "# Change the script with the variable in the ats file \n",
    "os.system('ats --xml_file=../Case5_I_E_glm.xml')\n"
   ]
  },
  {
   "cell_type": "code",
   "execution_count": null,
   "id": "cb4a4db3-0199-45fc-9f17-daa48caa2223",
   "metadata": {},
   "outputs": [],
   "source": []
  },
  {
   "cell_type": "markdown",
   "id": "825f8adb-098b-4c7a-ae82-729a2c8f5c00",
   "metadata": {},
   "source": [
    "### pen_w"
   ]
  },
  {
   "cell_type": "code",
   "execution_count": 56,
   "id": "a0174c94-98c3-4891-81da-c0840452d2eb",
   "metadata": {},
   "outputs": [
    {
     "data": {
      "text/plain": [
       "'/home/rk/pestpp/pestpp/rk_model_final/Case5_I_E_param_check.demo/pen_w_1.demo'"
      ]
     },
     "execution_count": 56,
     "metadata": {},
     "output_type": "execute_result"
    }
   ],
   "source": [
    "os.chdir('..')\n",
    "directory_name = 'pen_w_1.demo' # = 2.500E-03\n",
    "### Making a new directory:\n",
    "os.system(f\"mkdir {directory_name}\")\n",
    "### Going into the directory\n",
    "os.chdir(f'{directory_name}')\n",
    "os.getcwd()"
   ]
  },
  {
   "cell_type": "code",
   "execution_count": 57,
   "id": "6712602b-a6e6-48f6-ac69-75806040a687",
   "metadata": {},
   "outputs": [
    {
     "data": {
      "text/plain": [
       "0"
      ]
     },
     "execution_count": 57,
     "metadata": {},
     "output_type": "execute_result"
    }
   ],
   "source": [
    "# Change the script with the variable in the ats file \n",
    "os.system('ats --xml_file=../Case5_I_E_glm.xml')\n"
   ]
  },
  {
   "cell_type": "code",
   "execution_count": 59,
   "id": "386f6426-a4d0-402f-b146-3e59bacace2b",
   "metadata": {},
   "outputs": [
    {
     "data": {
      "text/plain": [
       "'/home/rk/pestpp/pestpp/rk_model_final/Case5_I_E_param_check.demo/pen_w_2.demo'"
      ]
     },
     "execution_count": 59,
     "metadata": {},
     "output_type": "execute_result"
    }
   ],
   "source": [
    "os.chdir('..')\n",
    "directory_name = 'pen_w_2.demo' # = 1.75000E-02\n",
    "### Making a new directory:\n",
    "os.system(f\"mkdir {directory_name}\")\n",
    "### Going into the directory\n",
    "os.chdir(f'{directory_name}')\n",
    "os.getcwd()"
   ]
  },
  {
   "cell_type": "code",
   "execution_count": 60,
   "id": "9015f934-0e7b-4535-a64c-ad9e26730e2f",
   "metadata": {},
   "outputs": [
    {
     "data": {
      "text/plain": [
       "0"
      ]
     },
     "execution_count": 60,
     "metadata": {},
     "output_type": "execute_result"
    }
   ],
   "source": [
    "# Change the script with the variable in the ats file \n",
    "os.system('ats --xml_file=../Case5_I_E_glm.xml')\n"
   ]
  },
  {
   "cell_type": "code",
   "execution_count": null,
   "id": "73b49bbf-3875-4c13-a493-d707ddf91581",
   "metadata": {},
   "outputs": [],
   "source": []
  },
  {
   "cell_type": "markdown",
   "id": "d063b3c1-e0cd-4b52-b4dc-6fff5ab1ed44",
   "metadata": {},
   "source": [
    "### e_bg"
   ]
  },
  {
   "cell_type": "code",
   "execution_count": 66,
   "id": "25784c31-ccb4-46d1-b853-0a90832de6bc",
   "metadata": {},
   "outputs": [
    {
     "data": {
      "text/plain": [
       "'/home/rk/pestpp/pestpp/rk_model_final/Case5_I_E_param_check.demo/e_bg_1.demo'"
      ]
     },
     "execution_count": 66,
     "metadata": {},
     "output_type": "execute_result"
    }
   ],
   "source": [
    "os.chdir('..')\n",
    "directory_name = 'e_bg_1.demo' # = 5.000E-01\n",
    "### Making a new directory:\n",
    "os.system(f\"mkdir {directory_name}\")\n",
    "### Going into the directory\n",
    "os.chdir(f'{directory_name}')\n",
    "os.getcwd()"
   ]
  },
  {
   "cell_type": "code",
   "execution_count": 72,
   "id": "c8574134-289f-4000-95a4-32f477af12e3",
   "metadata": {},
   "outputs": [
    {
     "data": {
      "text/plain": [
       "0"
      ]
     },
     "execution_count": 72,
     "metadata": {},
     "output_type": "execute_result"
    }
   ],
   "source": [
    "# Change the script with the variable in the ats file \n",
    "os.system('ats --xml_file=../Case5_I_E_glm.xml')\n"
   ]
  },
  {
   "cell_type": "markdown",
   "id": "86fa0407-2d5e-446d-a1d6-b147f558be27",
   "metadata": {},
   "source": [
    "#### Values of 0.1375, 2.75, 4.000 was not found to be suitable!"
   ]
  },
  {
   "cell_type": "code",
   "execution_count": 74,
   "id": "3c3da204-58a8-4cb9-8eec-b1f7536a296b",
   "metadata": {},
   "outputs": [
    {
     "data": {
      "text/plain": [
       "'/home/rk/pestpp/pestpp/rk_model_final/Case5_I_E_param_check.demo/e_bg_2.demo'"
      ]
     },
     "execution_count": 74,
     "metadata": {},
     "output_type": "execute_result"
    }
   ],
   "source": [
    "os.chdir('..')\n",
    "directory_name = 'e_bg_2.demo' # = 9.62500E-01\n",
    "### Making a new directory:\n",
    "os.system(f\"mkdir {directory_name}\")\n",
    "### Going into the directory\n",
    "os.chdir(f'{directory_name}')\n",
    "os.getcwd()"
   ]
  },
  {
   "cell_type": "code",
   "execution_count": 75,
   "id": "bc52c46d-d892-475f-8fcf-99bbe4931b0f",
   "metadata": {},
   "outputs": [
    {
     "data": {
      "text/plain": [
       "0"
      ]
     },
     "execution_count": 75,
     "metadata": {},
     "output_type": "execute_result"
    }
   ],
   "source": [
    "# Change the script with the variable in the ats file \n",
    "os.system('ats --xml_file=../Case5_I_E_glm.xml')\n"
   ]
  },
  {
   "cell_type": "code",
   "execution_count": null,
   "id": "440b19c0-8a5b-47bc-a01c-7a0436dfd4c0",
   "metadata": {},
   "outputs": [],
   "source": []
  },
  {
   "cell_type": "markdown",
   "id": "61a832e7-80bf-49bc-b69c-1cd4997ebead",
   "metadata": {},
   "source": [
    "### albedo_bg"
   ]
  },
  {
   "cell_type": "code",
   "execution_count": 76,
   "id": "32c3d0b8-497e-4fb2-ba31-7c18b0cc7d4f",
   "metadata": {},
   "outputs": [
    {
     "data": {
      "text/plain": [
       "'/home/rk/pestpp/pestpp/rk_model_final/Case5_I_E_param_check.demo/albedo_bg_1.demo'"
      ]
     },
     "execution_count": 76,
     "metadata": {},
     "output_type": "execute_result"
    }
   ],
   "source": [
    "os.chdir('..')\n",
    "directory_name = 'albedo_bg_1.demo' # = 1.375000E-01\n",
    "### Making a new directory:\n",
    "os.system(f\"mkdir {directory_name}\")\n",
    "### Going into the directory\n",
    "os.chdir(f'{directory_name}')\n",
    "os.getcwd()"
   ]
  },
  {
   "cell_type": "code",
   "execution_count": 78,
   "id": "1db48e9d-06f2-419d-978d-de92b3dbb356",
   "metadata": {},
   "outputs": [
    {
     "data": {
      "text/plain": [
       "0"
      ]
     },
     "execution_count": 78,
     "metadata": {},
     "output_type": "execute_result"
    }
   ],
   "source": [
    "# Change the script with the variable in the ats file \n",
    "os.system('ats --xml_file=../Case5_I_E_glm.xml')\n"
   ]
  },
  {
   "cell_type": "code",
   "execution_count": 79,
   "id": "4aa7ca51-c23d-49c7-a676-4c4cb60932c3",
   "metadata": {},
   "outputs": [
    {
     "data": {
      "text/plain": [
       "'/home/rk/pestpp/pestpp/rk_model_final/Case5_I_E_param_check.demo/albedo_bg_2.demo'"
      ]
     },
     "execution_count": 79,
     "metadata": {},
     "output_type": "execute_result"
    }
   ],
   "source": [
    "os.chdir('..')\n",
    "directory_name = 'albedo_bg_2.demo' # = 9.62500E-01\n",
    "### Making a new directory:\n",
    "os.system(f\"mkdir {directory_name}\")\n",
    "### Going into the directory\n",
    "os.chdir(f'{directory_name}')\n",
    "os.getcwd()"
   ]
  },
  {
   "cell_type": "code",
   "execution_count": 80,
   "id": "efbd9835-91ef-4553-afdb-c10f9f1130e0",
   "metadata": {},
   "outputs": [
    {
     "data": {
      "text/plain": [
       "0"
      ]
     },
     "execution_count": 80,
     "metadata": {},
     "output_type": "execute_result"
    }
   ],
   "source": [
    "# Change the script with the variable in the ats file \n",
    "os.system('ats --xml_file=../Case5_I_E_glm.xml')\n"
   ]
  },
  {
   "cell_type": "code",
   "execution_count": null,
   "id": "5b3ff98d-ca51-4066-9597-88ad2886468f",
   "metadata": {},
   "outputs": [],
   "source": []
  },
  {
   "cell_type": "markdown",
   "id": "5dfbdffc-732a-4f28-9710-5b826346e94d",
   "metadata": {},
   "source": [
    "### alpha_p"
   ]
  },
  {
   "cell_type": "code",
   "execution_count": 81,
   "id": "b7cd0b34-c8e5-4fe8-b080-41209b60b991",
   "metadata": {},
   "outputs": [
    {
     "data": {
      "text/plain": [
       "'/home/rk/pestpp/pestpp/rk_model_final/Case5_I_E_param_check.demo/alpha_p_1.demo'"
      ]
     },
     "execution_count": 81,
     "metadata": {},
     "output_type": "execute_result"
    }
   ],
   "source": [
    "os.chdir('..')\n",
    "directory_name = 'alpha_p_1.demo' # = 2.250000000E-03\n",
    "### Making a new directory:\n",
    "os.system(f\"mkdir {directory_name}\")\n",
    "### Going into the directory\n",
    "os.chdir(f'{directory_name}')\n",
    "os.getcwd()"
   ]
  },
  {
   "cell_type": "code",
   "execution_count": 82,
   "id": "3e0a1076-e390-4ff4-bf2f-deca40fc7a20",
   "metadata": {},
   "outputs": [
    {
     "data": {
      "text/plain": [
       "0"
      ]
     },
     "execution_count": 82,
     "metadata": {},
     "output_type": "execute_result"
    }
   ],
   "source": [
    "# Change the script with the variable in the ats file \n",
    "os.system('ats --xml_file=../Case5_I_E_glm.xml')\n"
   ]
  },
  {
   "cell_type": "code",
   "execution_count": 83,
   "id": "cfbfe9f4-d405-4edc-9076-c9771f5c0c5b",
   "metadata": {},
   "outputs": [
    {
     "data": {
      "text/plain": [
       "'/home/rk/pestpp/pestpp/rk_model_final/Case5_I_E_param_check.demo/alpha_p_2.demo'"
      ]
     },
     "execution_count": 83,
     "metadata": {},
     "output_type": "execute_result"
    }
   ],
   "source": [
    "os.chdir('..')\n",
    "directory_name = 'alpha_p_2.demo' # = 1.2500E-02\n",
    "### Making a new directory:\n",
    "os.system(f\"mkdir {directory_name}\")\n",
    "### Going into the directory\n",
    "os.chdir(f'{directory_name}')\n",
    "os.getcwd()"
   ]
  },
  {
   "cell_type": "code",
   "execution_count": 87,
   "id": "5ae73e36-19b8-4420-9045-366ed7d78cf6",
   "metadata": {},
   "outputs": [
    {
     "data": {
      "text/plain": [
       "0"
      ]
     },
     "execution_count": 87,
     "metadata": {},
     "output_type": "execute_result"
    }
   ],
   "source": [
    "# Change the script with the variable in the ats file \n",
    "os.system('ats --xml_file=../Case5_I_E_glm.xml')\n"
   ]
  },
  {
   "cell_type": "markdown",
   "id": "93834933-1865-4330-93d4-02f9f2ebf4a2",
   "metadata": {},
   "source": [
    "Values of 1.75 and 1.5 did not work!"
   ]
  },
  {
   "cell_type": "markdown",
   "id": "93ae3a17-cf6e-4014-a56c-3e7ea98fe69b",
   "metadata": {},
   "source": [
    "### alpha_m"
   ]
  },
  {
   "cell_type": "code",
   "execution_count": 88,
   "id": "312b4655-337f-47cb-85c6-37732e12d670",
   "metadata": {},
   "outputs": [
    {
     "data": {
      "text/plain": [
       "'/home/rk/pestpp/pestpp/rk_model_final/Case5_I_E_param_check.demo/alpha_m_1.demo'"
      ]
     },
     "execution_count": 88,
     "metadata": {},
     "output_type": "execute_result"
    }
   ],
   "source": [
    "os.chdir('..')\n",
    "directory_name = 'alpha_m_1.demo' # = 4.56E-04\n",
    "### Making a new directory:\n",
    "os.system(f\"mkdir {directory_name}\")\n",
    "### Going into the directory\n",
    "os.chdir(f'{directory_name}')\n",
    "os.getcwd()"
   ]
  },
  {
   "cell_type": "code",
   "execution_count": 89,
   "id": "c2133c2f-466a-4afe-bacb-19f209e71ef3",
   "metadata": {},
   "outputs": [
    {
     "data": {
      "text/plain": [
       "0"
      ]
     },
     "execution_count": 89,
     "metadata": {},
     "output_type": "execute_result"
    }
   ],
   "source": [
    "# Change the script with the variable in the ats file \n",
    "os.system('ats --xml_file=../Case5_I_E_glm.xml')\n"
   ]
  },
  {
   "cell_type": "code",
   "execution_count": 90,
   "id": "fc29a390-915d-4b14-9e4c-c13c1618a4e3",
   "metadata": {},
   "outputs": [
    {
     "data": {
      "text/plain": [
       "'/home/rk/pestpp/pestpp/rk_model_final/Case5_I_E_param_check.demo/alpha_m_2.demo'"
      ]
     },
     "execution_count": 90,
     "metadata": {},
     "output_type": "execute_result"
    }
   ],
   "source": [
    "os.chdir('..')\n",
    "directory_name = 'alpha_m_2.demo' # = 3.19E-03\n",
    "### Making a new directory:\n",
    "os.system(f\"mkdir {directory_name}\")\n",
    "### Going into the directory\n",
    "os.chdir(f'{directory_name}')\n",
    "os.getcwd()"
   ]
  },
  {
   "cell_type": "code",
   "execution_count": 91,
   "id": "0ec2546c-f6ec-4b3e-83df-e11f69d3bfaf",
   "metadata": {},
   "outputs": [
    {
     "data": {
      "text/plain": [
       "0"
      ]
     },
     "execution_count": 91,
     "metadata": {},
     "output_type": "execute_result"
    }
   ],
   "source": [
    "# Change the script with the variable in the ats file \n",
    "os.system('ats --xml_file=../Case5_I_E_glm.xml')\n"
   ]
  },
  {
   "cell_type": "code",
   "execution_count": null,
   "id": "84b846c4-4362-4654-850e-cd32fc18818e",
   "metadata": {},
   "outputs": [],
   "source": []
  },
  {
   "cell_type": "markdown",
   "id": "38bc4374-474d-4d83-9952-e08158a74ed4",
   "metadata": {},
   "source": [
    "### n_p"
   ]
  },
  {
   "cell_type": "code",
   "execution_count": 92,
   "id": "950dc3e1-16f5-4aef-8579-3b851ec403be",
   "metadata": {},
   "outputs": [
    {
     "data": {
      "text/plain": [
       "'/home/rk/pestpp/pestpp/rk_model_final/Case5_I_E_param_check.demo/n_p_1.demo'"
      ]
     },
     "execution_count": 92,
     "metadata": {},
     "output_type": "execute_result"
    }
   ],
   "source": [
    "os.chdir('..')\n",
    "directory_name = 'n_p_1.demo' # = 1.025\n",
    "### Making a new directory:\n",
    "os.system(f\"mkdir {directory_name}\")\n",
    "### Going into the directory\n",
    "os.chdir(f'{directory_name}')\n",
    "os.getcwd()"
   ]
  },
  {
   "cell_type": "code",
   "execution_count": 93,
   "id": "010537fe-eefa-4ece-9b9e-b2f7cc3dc403",
   "metadata": {},
   "outputs": [
    {
     "data": {
      "text/plain": [
       "0"
      ]
     },
     "execution_count": 93,
     "metadata": {},
     "output_type": "execute_result"
    }
   ],
   "source": [
    "# Change the script with the variable in the ats file \n",
    "os.system('ats --xml_file=../Case5_I_E_glm.xml')\n"
   ]
  },
  {
   "cell_type": "code",
   "execution_count": 94,
   "id": "b8ced5ab-c769-4a4d-b1eb-7b3bfde64ec9",
   "metadata": {},
   "outputs": [
    {
     "data": {
      "text/plain": [
       "'/home/rk/pestpp/pestpp/rk_model_final/Case5_I_E_param_check.demo/n_p_2.demo'"
      ]
     },
     "execution_count": 94,
     "metadata": {},
     "output_type": "execute_result"
    }
   ],
   "source": [
    "os.chdir('..')\n",
    "directory_name = 'n_p_2.demo' # = 2.05\n",
    "### Making a new directory:\n",
    "os.system(f\"mkdir {directory_name}\")\n",
    "### Going into the directory\n",
    "os.chdir(f'{directory_name}')\n",
    "os.getcwd()"
   ]
  },
  {
   "cell_type": "code",
   "execution_count": 98,
   "id": "52680920-dc9b-483f-a9e0-3a4129f28af2",
   "metadata": {},
   "outputs": [
    {
     "data": {
      "text/plain": [
       "0"
      ]
     },
     "execution_count": 98,
     "metadata": {},
     "output_type": "execute_result"
    }
   ],
   "source": [
    "# Change the script with the variable in the ats file \n",
    "os.system('ats --xml_file=../Case5_I_E_glm.xml')\n"
   ]
  },
  {
   "cell_type": "markdown",
   "id": "4275f0e0-b590-4bd1-9d94-38712fb56b4e",
   "metadata": {},
   "source": [
    "Values of 3.075, 2.5 did not work!"
   ]
  },
  {
   "cell_type": "markdown",
   "id": "52e29245-d3a6-499a-80a8-b74a2a5439fc",
   "metadata": {},
   "source": [
    "### n_m"
   ]
  },
  {
   "cell_type": "code",
   "execution_count": 99,
   "id": "eb771a91-91e9-45e1-b3c4-432a780fd387",
   "metadata": {},
   "outputs": [
    {
     "data": {
      "text/plain": [
       "'/home/rk/pestpp/pestpp/rk_model_final/Case5_I_E_param_check.demo/n_m_1.demo'"
      ]
     },
     "execution_count": 99,
     "metadata": {},
     "output_type": "execute_result"
    }
   ],
   "source": [
    "os.chdir('..')\n",
    "directory_name = 'n_m_1.demo' # = 1.025\n",
    "### Making a new directory:\n",
    "os.system(f\"mkdir {directory_name}\")\n",
    "### Going into the directory\n",
    "os.chdir(f'{directory_name}')\n",
    "os.getcwd()"
   ]
  },
  {
   "cell_type": "code",
   "execution_count": 100,
   "id": "e1d8755f-bfbb-4fd2-a4c4-e8b8e148af73",
   "metadata": {},
   "outputs": [
    {
     "data": {
      "text/plain": [
       "0"
      ]
     },
     "execution_count": 100,
     "metadata": {},
     "output_type": "execute_result"
    }
   ],
   "source": [
    "# Change the script with the variable in the ats file \n",
    "os.system('ats --xml_file=../Case5_I_E_glm.xml')"
   ]
  },
  {
   "cell_type": "code",
   "execution_count": 101,
   "id": "97c36716-e235-4081-b761-f701f7e06bb3",
   "metadata": {},
   "outputs": [
    {
     "data": {
      "text/plain": [
       "'/home/rk/pestpp/pestpp/rk_model_final/Case5_I_E_param_check.demo/n_m_2.demo'"
      ]
     },
     "execution_count": 101,
     "metadata": {},
     "output_type": "execute_result"
    }
   ],
   "source": [
    "os.chdir('..')\n",
    "directory_name = 'n_m_2.demo' # = 3.075\n",
    "### Making a new directory:\n",
    "os.system(f\"mkdir {directory_name}\")\n",
    "### Going into the directory\n",
    "os.chdir(f'{directory_name}')\n",
    "os.getcwd()"
   ]
  },
  {
   "cell_type": "code",
   "execution_count": 102,
   "id": "79aab0cd-5fe3-43b5-a888-83f32578e080",
   "metadata": {},
   "outputs": [
    {
     "data": {
      "text/plain": [
       "0"
      ]
     },
     "execution_count": 102,
     "metadata": {},
     "output_type": "execute_result"
    }
   ],
   "source": [
    "# Change the script with the variable in the ats file \n",
    "os.system('ats --xml_file=../Case5_I_E_glm.xml')\n"
   ]
  },
  {
   "cell_type": "markdown",
   "id": "d824775c-e589-457e-b466-704bbdebb968",
   "metadata": {},
   "source": [
    "### wr_p"
   ]
  },
  {
   "cell_type": "code",
   "execution_count": 103,
   "id": "086c3f8d-0562-4b08-ab38-a4b301d1cb7e",
   "metadata": {},
   "outputs": [
    {
     "data": {
      "text/plain": [
       "'/home/rk/pestpp/pestpp/rk_model_final/Case5_I_E_param_check.demo/wr_p_1.demo'"
      ]
     },
     "execution_count": 103,
     "metadata": {},
     "output_type": "execute_result"
    }
   ],
   "source": [
    "os.chdir('..')\n",
    "directory_name = 'wr_p_1.demo' # = 5.608E-02\n",
    "### Making a new directory:\n",
    "os.system(f\"mkdir {directory_name}\")\n",
    "### Going into the directory\n",
    "os.chdir(f'{directory_name}')\n",
    "os.getcwd()"
   ]
  },
  {
   "cell_type": "code",
   "execution_count": 104,
   "id": "770248e9-5bfb-440a-b62b-fee19edfe42b",
   "metadata": {},
   "outputs": [
    {
     "data": {
      "text/plain": [
       "0"
      ]
     },
     "execution_count": 104,
     "metadata": {},
     "output_type": "execute_result"
    }
   ],
   "source": [
    "# Change the script with the variable in the ats file \n",
    "os.system('ats --xml_file=../Case5_I_E_glm.xml')"
   ]
  },
  {
   "cell_type": "code",
   "execution_count": 105,
   "id": "90d5324e-8e2c-4df5-a14a-b0980028f67b",
   "metadata": {},
   "outputs": [
    {
     "data": {
      "text/plain": [
       "'/home/rk/pestpp/pestpp/rk_model_final/Case5_I_E_param_check.demo/wr_p_2.demo'"
      ]
     },
     "execution_count": 105,
     "metadata": {},
     "output_type": "execute_result"
    }
   ],
   "source": [
    "os.chdir('..')\n",
    "directory_name = 'wr_p_2.demo' # = 0.2\n",
    "### Making a new directory:\n",
    "os.system(f\"mkdir {directory_name}\")\n",
    "### Going into the directory\n",
    "os.chdir(f'{directory_name}')\n",
    "os.getcwd()"
   ]
  },
  {
   "cell_type": "code",
   "execution_count": 111,
   "id": "a415c843-5427-42a3-bd40-b769e64b3409",
   "metadata": {},
   "outputs": [
    {
     "data": {
      "text/plain": [
       "0"
      ]
     },
     "execution_count": 111,
     "metadata": {},
     "output_type": "execute_result"
    }
   ],
   "source": [
    "# Change the script with the variable in the ats file \n",
    "os.system('ats --xml_file=../Case5_I_E_glm.xml')"
   ]
  },
  {
   "cell_type": "markdown",
   "id": "47be80b8-75ee-4209-8ddb-db33e4d56d27",
   "metadata": {},
   "source": [
    "Values 0.3925, 0.3, 0.25 did not work"
   ]
  },
  {
   "cell_type": "markdown",
   "id": "febd2ca8-3ce0-49da-bba4-87b22666ce98",
   "metadata": {},
   "source": [
    "### wr_m"
   ]
  },
  {
   "cell_type": "code",
   "execution_count": 112,
   "id": "ac76757c-d098-4803-86a7-6575dbde676f",
   "metadata": {},
   "outputs": [
    {
     "data": {
      "text/plain": [
       "'/home/rk/pestpp/pestpp/rk_model_final/Case5_I_E_param_check.demo/wr_m_1.demo'"
      ]
     },
     "execution_count": 112,
     "metadata": {},
     "output_type": "execute_result"
    }
   ],
   "source": [
    "os.chdir('..')\n",
    "directory_name = 'wr_m_1.demo' # = 3.98E-02\n",
    "### Making a new directory:\n",
    "os.system(f\"mkdir {directory_name}\")\n",
    "### Going into the directory\n",
    "os.chdir(f'{directory_name}')\n",
    "os.getcwd()"
   ]
  },
  {
   "cell_type": "code",
   "execution_count": 113,
   "id": "4b4d63f3-371c-4de8-b3b7-2207de37a33d",
   "metadata": {},
   "outputs": [
    {
     "data": {
      "text/plain": [
       "0"
      ]
     },
     "execution_count": 113,
     "metadata": {},
     "output_type": "execute_result"
    }
   ],
   "source": [
    "# Change the script with the variable in the ats file \n",
    "os.system('ats --xml_file=../Case5_I_E_glm.xml')\n"
   ]
  },
  {
   "cell_type": "code",
   "execution_count": 114,
   "id": "bdea0d36-b1d9-441e-b8ef-4d9aac97842a",
   "metadata": {},
   "outputs": [
    {
     "data": {
      "text/plain": [
       "'/home/rk/pestpp/pestpp/rk_model_final/Case5_I_E_param_check.demo/wr_m_2.demo'"
      ]
     },
     "execution_count": 114,
     "metadata": {},
     "output_type": "execute_result"
    }
   ],
   "source": [
    "os.chdir('..')\n",
    "directory_name = 'wr_m_2.demo' # = 2.79E-01\n",
    "### Making a new directory:\n",
    "os.system(f\"mkdir {directory_name}\")\n",
    "### Going into the directory\n",
    "os.chdir(f'{directory_name}')\n",
    "os.getcwd()"
   ]
  },
  {
   "cell_type": "code",
   "execution_count": 115,
   "id": "b7a9b661-5a8e-4ef6-848e-ddb59a499090",
   "metadata": {},
   "outputs": [
    {
     "data": {
      "text/plain": [
       "0"
      ]
     },
     "execution_count": 115,
     "metadata": {},
     "output_type": "execute_result"
    }
   ],
   "source": [
    "# Change the script with the variable in the ats file \n",
    "os.system('ats --xml_file=../Case5_I_E_glm.xml')\n"
   ]
  },
  {
   "cell_type": "code",
   "execution_count": null,
   "id": "1ed647c0-2518-4a5a-8097-8a07f896be13",
   "metadata": {},
   "outputs": [],
   "source": []
  },
  {
   "cell_type": "markdown",
   "id": "3cdf1ff1-8133-4e09-86fe-daf004c32a62",
   "metadata": {},
   "source": [
    "### tcs_p"
   ]
  },
  {
   "cell_type": "code",
   "execution_count": 122,
   "id": "1e60a3e6-2728-4a7d-8cab-17c2d1471e1e",
   "metadata": {},
   "outputs": [
    {
     "data": {
      "text/plain": [
       "'/home/rk/pestpp/pestpp/rk_model_final/Case5_I_E_param_check.demo/tcs_p_1.demo'"
      ]
     },
     "execution_count": 122,
     "metadata": {},
     "output_type": "execute_result"
    }
   ],
   "source": [
    "os.chdir('..')\n",
    "directory_name = 'tcs_p_1.demo' # = 1.0989E-01\n",
    "### Making a new directory:\n",
    "os.system(f\"mkdir {directory_name}\")\n",
    "### Going into the directory\n",
    "os.chdir(f'{directory_name}')\n",
    "os.getcwd()"
   ]
  },
  {
   "cell_type": "code",
   "execution_count": 123,
   "id": "b40abf02-f723-495d-9e94-3754f74caee9",
   "metadata": {},
   "outputs": [
    {
     "data": {
      "text/plain": [
       "0"
      ]
     },
     "execution_count": 123,
     "metadata": {},
     "output_type": "execute_result"
    }
   ],
   "source": [
    "# Change the script with the variable in the ats file \n",
    "os.system('ats --xml_file=../Case5_I_E_glm.xml')"
   ]
  },
  {
   "cell_type": "code",
   "execution_count": 124,
   "id": "fd12f151-8389-4497-b72b-683eb597141b",
   "metadata": {},
   "outputs": [
    {
     "data": {
      "text/plain": [
       "'/home/rk/pestpp/pestpp/rk_model_final/Case5_I_E_param_check.demo/tcs_p_2.demo'"
      ]
     },
     "execution_count": 124,
     "metadata": {},
     "output_type": "execute_result"
    }
   ],
   "source": [
    "os.chdir('..')\n",
    "directory_name = 'tcs_p_2.demo' # = 7.6925E-01\n",
    "### Making a new directory:\n",
    "os.system(f\"mkdir {directory_name}\")\n",
    "### Going into the directory\n",
    "os.chdir(f'{directory_name}')\n",
    "os.getcwd()"
   ]
  },
  {
   "cell_type": "code",
   "execution_count": 125,
   "id": "d3742a25-f69c-423f-8878-720385102df7",
   "metadata": {},
   "outputs": [
    {
     "data": {
      "text/plain": [
       "0"
      ]
     },
     "execution_count": 125,
     "metadata": {},
     "output_type": "execute_result"
    }
   ],
   "source": [
    "# Change the script with the variable in the ats file \n",
    "os.system('ats --xml_file=../Case5_I_E_glm.xml')\n"
   ]
  },
  {
   "cell_type": "code",
   "execution_count": null,
   "id": "e20c1f2e-a021-4ff8-a978-3e4096986914",
   "metadata": {},
   "outputs": [],
   "source": []
  },
  {
   "cell_type": "markdown",
   "id": "b6aba568-31a6-4fda-8ac8-992479da66e9",
   "metadata": {},
   "source": [
    "### tcs_m"
   ]
  },
  {
   "cell_type": "code",
   "execution_count": 126,
   "id": "0ff955c4-66c6-4fc1-bb1f-ff64dbd31efc",
   "metadata": {},
   "outputs": [
    {
     "data": {
      "text/plain": [
       "'/home/rk/pestpp/pestpp/rk_model_final/Case5_I_E_param_check.demo/tcs_m_1.demo'"
      ]
     },
     "execution_count": 126,
     "metadata": {},
     "output_type": "execute_result"
    }
   ],
   "source": [
    "os.chdir('..')\n",
    "directory_name = 'tcs_m_1.demo' # = 2.38E-01\n",
    "### Making a new directory:\n",
    "os.system(f\"mkdir {directory_name}\")\n",
    "### Going into the directory\n",
    "os.chdir(f'{directory_name}')\n",
    "os.getcwd()"
   ]
  },
  {
   "cell_type": "code",
   "execution_count": 127,
   "id": "3cc946bd-0564-45f3-b6a1-7a4c9f78ccf2",
   "metadata": {},
   "outputs": [
    {
     "data": {
      "text/plain": [
       "0"
      ]
     },
     "execution_count": 127,
     "metadata": {},
     "output_type": "execute_result"
    }
   ],
   "source": [
    "# Change the script with the variable in the ats file \n",
    "os.system('ats --xml_file=../Case5_I_E_glm.xml')"
   ]
  },
  {
   "cell_type": "code",
   "execution_count": 130,
   "id": "1c4142a7-ebdd-4cc0-a696-2ba668b63b29",
   "metadata": {},
   "outputs": [
    {
     "data": {
      "text/plain": [
       "'/home/rk/pestpp/pestpp/rk_model_final/Case5_I_E_param_check.demo/tcs_m_2.demo'"
      ]
     },
     "execution_count": 130,
     "metadata": {},
     "output_type": "execute_result"
    }
   ],
   "source": [
    "os.chdir('..')\n",
    "directory_name = 'tcs_m_2.demo' # = 1.666E-00\n",
    "### Making a new directory:\n",
    "os.system(f\"mkdir {directory_name}\")\n",
    "### Going into the directory\n",
    "os.chdir(f'{directory_name}')\n",
    "os.getcwd()"
   ]
  },
  {
   "cell_type": "code",
   "execution_count": 132,
   "id": "69d61fce-a76b-4bd1-8cde-8ce288109dee",
   "metadata": {},
   "outputs": [
    {
     "data": {
      "text/plain": [
       "0"
      ]
     },
     "execution_count": 132,
     "metadata": {},
     "output_type": "execute_result"
    }
   ],
   "source": [
    "# Change the script with the variable in the ats file \n",
    "os.system('ats --xml_file=../Case5_I_E_glm.xml')\n"
   ]
  },
  {
   "cell_type": "code",
   "execution_count": null,
   "id": "1600958a-abdb-494f-95c4-049183c566e6",
   "metadata": {},
   "outputs": [],
   "source": []
  },
  {
   "cell_type": "markdown",
   "id": "17da4e60-a79f-40c3-b4d5-1898036a26f3",
   "metadata": {},
   "source": [
    "### tcd_p"
   ]
  },
  {
   "cell_type": "code",
   "execution_count": 133,
   "id": "8a81ecd8-09b4-43f3-8e6d-2ce08d295468",
   "metadata": {},
   "outputs": [
    {
     "data": {
      "text/plain": [
       "'/home/rk/pestpp/pestpp/rk_model_final/Case5_I_E_param_check.demo/tcd_p_1.demo'"
      ]
     },
     "execution_count": 133,
     "metadata": {},
     "output_type": "execute_result"
    }
   ],
   "source": [
    "os.chdir('..')\n",
    "directory_name = 'tcd_p_1.demo' # = 2.5255E-02\n",
    "### Making a new directory:\n",
    "os.system(f\"mkdir {directory_name}\")\n",
    "### Going into the directory\n",
    "os.chdir(f'{directory_name}')\n",
    "os.getcwd()"
   ]
  },
  {
   "cell_type": "code",
   "execution_count": 134,
   "id": "c26a930d-d169-428a-af63-9633ae4c2308",
   "metadata": {},
   "outputs": [
    {
     "data": {
      "text/plain": [
       "0"
      ]
     },
     "execution_count": 134,
     "metadata": {},
     "output_type": "execute_result"
    }
   ],
   "source": [
    "# Change the script with the variable in the ats file \n",
    "os.system('ats --xml_file=../Case5_I_E_glm.xml')\n"
   ]
  },
  {
   "cell_type": "code",
   "execution_count": 135,
   "id": "e3ed624f-58a9-40dc-b50c-85c84a6f4015",
   "metadata": {},
   "outputs": [
    {
     "data": {
      "text/plain": [
       "'/home/rk/pestpp/pestpp/rk_model_final/Case5_I_E_param_check.demo/tcd_p_2.demo'"
      ]
     },
     "execution_count": 135,
     "metadata": {},
     "output_type": "execute_result"
    }
   ],
   "source": [
    "os.chdir('..')\n",
    "directory_name = 'tcd_p_2.demo' # = 1.7679E-01\n",
    "### Making a new directory:\n",
    "os.system(f\"mkdir {directory_name}\")\n",
    "### Going into the directory\n",
    "os.chdir(f'{directory_name}')\n",
    "os.getcwd()"
   ]
  },
  {
   "cell_type": "code",
   "execution_count": 136,
   "id": "0382df9e-efb4-4940-be6d-9d83b77bea19",
   "metadata": {},
   "outputs": [
    {
     "data": {
      "text/plain": [
       "0"
      ]
     },
     "execution_count": 136,
     "metadata": {},
     "output_type": "execute_result"
    }
   ],
   "source": [
    "# Change the script with the variable in the ats file \n",
    "os.system('ats --xml_file=../Case5_I_E_glm.xml')\n"
   ]
  },
  {
   "cell_type": "code",
   "execution_count": null,
   "id": "71566c18-afe0-4cee-b9dd-6bf8670a7c7d",
   "metadata": {},
   "outputs": [],
   "source": []
  },
  {
   "cell_type": "markdown",
   "id": "12d02ca0-554a-4707-a689-f74c92889e5a",
   "metadata": {},
   "source": [
    "### tcd_m"
   ]
  },
  {
   "cell_type": "code",
   "execution_count": 137,
   "id": "cfffe064-5f4a-4fc1-ae19-34f5872b3856",
   "metadata": {},
   "outputs": [
    {
     "data": {
      "text/plain": [
       "'/home/rk/pestpp/pestpp/rk_model_final/Case5_I_E_param_check.demo/tcd_m_1.demo'"
      ]
     },
     "execution_count": 137,
     "metadata": {},
     "output_type": "execute_result"
    }
   ],
   "source": [
    "os.chdir('..')\n",
    "directory_name = 'tcd_m_1.demo' # = 2.46E-01\n",
    "### Making a new directory:\n",
    "os.system(f\"mkdir {directory_name}\")\n",
    "### Going into the directory\n",
    "os.chdir(f'{directory_name}')\n",
    "os.getcwd()"
   ]
  },
  {
   "cell_type": "code",
   "execution_count": 138,
   "id": "1119ba7a-cb01-4ffa-ae8d-48a93f6a0a64",
   "metadata": {},
   "outputs": [
    {
     "data": {
      "text/plain": [
       "0"
      ]
     },
     "execution_count": 138,
     "metadata": {},
     "output_type": "execute_result"
    }
   ],
   "source": [
    "# Change the script with the variable in the ats file \n",
    "os.system('ats --xml_file=../Case5_I_E_glm.xml')\n"
   ]
  },
  {
   "cell_type": "code",
   "execution_count": 139,
   "id": "ebe52a49-a44f-45ab-8b4c-b3c43a6296ea",
   "metadata": {},
   "outputs": [
    {
     "data": {
      "text/plain": [
       "'/home/rk/pestpp/pestpp/rk_model_final/Case5_I_E_param_check.demo/tcd_m_2.demo'"
      ]
     },
     "execution_count": 139,
     "metadata": {},
     "output_type": "execute_result"
    }
   ],
   "source": [
    "os.chdir('..')\n",
    "directory_name = 'tcd_m_2.demo' # = 1.7227\n",
    "### Making a new directory:\n",
    "os.system(f\"mkdir {directory_name}\")\n",
    "### Going into the directory\n",
    "os.chdir(f'{directory_name}')\n",
    "os.getcwd()"
   ]
  },
  {
   "cell_type": "code",
   "execution_count": 140,
   "id": "a5a48033-5ef6-405e-b9c4-f0c912cccbad",
   "metadata": {},
   "outputs": [
    {
     "data": {
      "text/plain": [
       "0"
      ]
     },
     "execution_count": 140,
     "metadata": {},
     "output_type": "execute_result"
    }
   ],
   "source": [
    "# Change the script with the variable in the ats file \n",
    "os.system('ats --xml_file=../Case5_I_E_glm.xml')\n"
   ]
  },
  {
   "cell_type": "code",
   "execution_count": null,
   "id": "d2f3752a-ab6a-4024-a575-592d9af58cbf",
   "metadata": {},
   "outputs": [],
   "source": []
  },
  {
   "cell_type": "markdown",
   "id": "431f62f2-0bf1-4b89-90e0-b5c941186336",
   "metadata": {},
   "source": [
    "### af_p"
   ]
  },
  {
   "cell_type": "code",
   "execution_count": 141,
   "id": "23d0d6dc-b656-4ac4-883d-ea42802350e7",
   "metadata": {},
   "outputs": [
    {
     "data": {
      "text/plain": [
       "'/home/rk/pestpp/pestpp/rk_model_final/Case5_I_E_param_check.demo/af_p_1.demo'"
      ]
     },
     "execution_count": 141,
     "metadata": {},
     "output_type": "execute_result"
    }
   ],
   "source": [
    "os.chdir('..')\n",
    "directory_name = 'af_p_1.demo' # = 3.7627E-01\n",
    "### Making a new directory:\n",
    "os.system(f\"mkdir {directory_name}\")\n",
    "### Going into the directory\n",
    "os.chdir(f'{directory_name}')\n",
    "os.getcwd()"
   ]
  },
  {
   "cell_type": "code",
   "execution_count": 142,
   "id": "2eb0edea-23b3-422d-8171-490772063a6a",
   "metadata": {},
   "outputs": [
    {
     "data": {
      "text/plain": [
       "0"
      ]
     },
     "execution_count": 142,
     "metadata": {},
     "output_type": "execute_result"
    }
   ],
   "source": [
    "# Change the script with the variable in the ats file \n",
    "os.system('ats --xml_file=../Case5_I_E_glm.xml')\n"
   ]
  },
  {
   "cell_type": "code",
   "execution_count": 143,
   "id": "e2466103-2063-449f-a154-d21a90abd5f9",
   "metadata": {},
   "outputs": [
    {
     "data": {
      "text/plain": [
       "'/home/rk/pestpp/pestpp/rk_model_final/Case5_I_E_param_check.demo/af_p_2.demo'"
      ]
     },
     "execution_count": 143,
     "metadata": {},
     "output_type": "execute_result"
    }
   ],
   "source": [
    "os.chdir('..')\n",
    "directory_name = 'af_p_2.demo' # = 2.63395\n",
    "### Making a new directory:\n",
    "os.system(f\"mkdir {directory_name}\")\n",
    "### Going into the directory\n",
    "os.chdir(f'{directory_name}')\n",
    "os.getcwd()"
   ]
  },
  {
   "cell_type": "code",
   "execution_count": 144,
   "id": "89c4a1f8-eeff-4c04-b99b-53941535c7f1",
   "metadata": {},
   "outputs": [
    {
     "data": {
      "text/plain": [
       "0"
      ]
     },
     "execution_count": 144,
     "metadata": {},
     "output_type": "execute_result"
    }
   ],
   "source": [
    "# Change the script with the variable in the ats file \n",
    "os.system('ats --xml_file=../Case5_I_E_glm.xml')\n"
   ]
  },
  {
   "cell_type": "code",
   "execution_count": null,
   "id": "423ce833-53cb-4d01-9e63-c9c13b735def",
   "metadata": {},
   "outputs": [],
   "source": []
  },
  {
   "cell_type": "markdown",
   "id": "977fb74e-5e8a-4f2c-b347-705b3e2d9754",
   "metadata": {},
   "source": [
    "### af_m"
   ]
  },
  {
   "cell_type": "code",
   "execution_count": 145,
   "id": "cdf8bcb3-eba0-40a8-82ec-a52b7996b63d",
   "metadata": {},
   "outputs": [
    {
     "data": {
      "text/plain": [
       "'/home/rk/pestpp/pestpp/rk_model_final/Case5_I_E_param_check.demo/af_m_1.demo'"
      ]
     },
     "execution_count": 145,
     "metadata": {},
     "output_type": "execute_result"
    }
   ],
   "source": [
    "os.chdir('..')\n",
    "directory_name = 'af_m_1.demo' # = 3.7627E-01\n",
    "### Making a new directory:\n",
    "os.system(f\"mkdir {directory_name}\")\n",
    "### Going into the directory\n",
    "os.chdir(f'{directory_name}')\n",
    "os.getcwd()"
   ]
  },
  {
   "cell_type": "code",
   "execution_count": 146,
   "id": "9886cabf-930e-4a65-be6b-3c296cb60290",
   "metadata": {},
   "outputs": [
    {
     "data": {
      "text/plain": [
       "0"
      ]
     },
     "execution_count": 146,
     "metadata": {},
     "output_type": "execute_result"
    }
   ],
   "source": [
    "# Change the script with the variable in the ats file \n",
    "os.system('ats --xml_file=../Case5_I_E_glm.xml')\n"
   ]
  },
  {
   "cell_type": "code",
   "execution_count": 147,
   "id": "68b12b27-9b61-443f-b5c3-923112b808e4",
   "metadata": {},
   "outputs": [
    {
     "data": {
      "text/plain": [
       "'/home/rk/pestpp/pestpp/rk_model_final/Case5_I_E_param_check.demo/af_m_2.demo'"
      ]
     },
     "execution_count": 147,
     "metadata": {},
     "output_type": "execute_result"
    }
   ],
   "source": [
    "os.chdir('..')\n",
    "directory_name = 'af_m_2.demo' # = 2.62393\n",
    "### Making a new directory:\n",
    "os.system(f\"mkdir {directory_name}\")\n",
    "### Going into the directory\n",
    "os.chdir(f'{directory_name}')\n",
    "os.getcwd()"
   ]
  },
  {
   "cell_type": "code",
   "execution_count": 148,
   "id": "f3f2f51b-456b-446c-acdf-2dd857a5ecc4",
   "metadata": {},
   "outputs": [
    {
     "data": {
      "text/plain": [
       "0"
      ]
     },
     "execution_count": 148,
     "metadata": {},
     "output_type": "execute_result"
    }
   ],
   "source": [
    "# Change the script with the variable in the ats file \n",
    "os.system('ats --xml_file=../Case5_I_E_glm.xml')\n"
   ]
  },
  {
   "cell_type": "code",
   "execution_count": null,
   "id": "3fbaf0a9-1a24-4d8c-9dc0-99cdf141e160",
   "metadata": {},
   "outputs": [],
   "source": []
  },
  {
   "cell_type": "markdown",
   "id": "852047e4-4aa5-4d63-9b62-71be8f58a2a5",
   "metadata": {},
   "source": [
    "### auf_p"
   ]
  },
  {
   "cell_type": "code",
   "execution_count": 150,
   "id": "99b1baf1-8e43-4717-aeb7-a9399cbf0c31",
   "metadata": {},
   "outputs": [
    {
     "data": {
      "text/plain": [
       "'/home/rk/pestpp/pestpp/rk_model_final/Case5_I_E_param_check.demo/auf_p_1.demo'"
      ]
     },
     "execution_count": 150,
     "metadata": {},
     "output_type": "execute_result"
    }
   ],
   "source": [
    "os.chdir('..')\n",
    "directory_name = 'auf_p_1.demo' # = 1.22E-01\n",
    "### Making a new directory:\n",
    "os.system(f\"mkdir {directory_name}\")\n",
    "### Going into the directory\n",
    "os.chdir(f'{directory_name}')\n",
    "os.getcwd()"
   ]
  },
  {
   "cell_type": "code",
   "execution_count": 151,
   "id": "8ad16fb6-3175-4b07-9aca-425b9d37ece5",
   "metadata": {},
   "outputs": [
    {
     "data": {
      "text/plain": [
       "0"
      ]
     },
     "execution_count": 151,
     "metadata": {},
     "output_type": "execute_result"
    }
   ],
   "source": [
    "# Change the script with the variable in the ats file \n",
    "os.system('ats --xml_file=../Case5_I_E_glm.xml')\n"
   ]
  },
  {
   "cell_type": "code",
   "execution_count": 152,
   "id": "c9d2ad39-c440-4be8-af7c-65f7f1afe919",
   "metadata": {},
   "outputs": [
    {
     "data": {
      "text/plain": [
       "'/home/rk/pestpp/pestpp/rk_model_final/Case5_I_E_param_check.demo/auf_p_2.demo'"
      ]
     },
     "execution_count": 152,
     "metadata": {},
     "output_type": "execute_result"
    }
   ],
   "source": [
    "os.chdir('..')\n",
    "directory_name = 'auf_p_2.demo' # = 0.852\n",
    "### Making a new directory:\n",
    "os.system(f\"mkdir {directory_name}\")\n",
    "### Going into the directory\n",
    "os.chdir(f'{directory_name}')\n",
    "os.getcwd()"
   ]
  },
  {
   "cell_type": "code",
   "execution_count": 153,
   "id": "f9be7a81-1308-44ad-9a64-de5c49c77cdf",
   "metadata": {},
   "outputs": [
    {
     "data": {
      "text/plain": [
       "0"
      ]
     },
     "execution_count": 153,
     "metadata": {},
     "output_type": "execute_result"
    }
   ],
   "source": [
    "# Change the script with the variable in the ats file \n",
    "os.system('ats --xml_file=../Case5_I_E_glm.xml')\n"
   ]
  },
  {
   "cell_type": "code",
   "execution_count": null,
   "id": "7fcaef63-f147-4c0f-a4b6-78c847ede7ca",
   "metadata": {},
   "outputs": [],
   "source": []
  },
  {
   "cell_type": "markdown",
   "id": "e3e99792-c7c0-428e-ac5a-98ea91704ce1",
   "metadata": {},
   "source": [
    "### auf_m"
   ]
  },
  {
   "cell_type": "code",
   "execution_count": 156,
   "id": "1af2b671-b91c-4a13-8750-53e4eee9a01a",
   "metadata": {},
   "outputs": [
    {
     "data": {
      "text/plain": [
       "'/home/rk/pestpp/pestpp/rk_model_final/Case5_I_E_param_check.demo/auf_m_1.demo'"
      ]
     },
     "execution_count": 156,
     "metadata": {},
     "output_type": "execute_result"
    }
   ],
   "source": [
    "os.chdir('..')\n",
    "directory_name = 'auf_m_1.demo' # = 1.747E-01\n",
    "### Making a new directory:\n",
    "os.system(f\"mkdir {directory_name}\")\n",
    "### Going into the directory\n",
    "os.chdir(f'{directory_name}')\n",
    "os.getcwd()"
   ]
  },
  {
   "cell_type": "code",
   "execution_count": 157,
   "id": "b886f319-5e1f-4a80-8184-a161dfa3f6fc",
   "metadata": {},
   "outputs": [
    {
     "data": {
      "text/plain": [
       "0"
      ]
     },
     "execution_count": 157,
     "metadata": {},
     "output_type": "execute_result"
    }
   ],
   "source": [
    "# Change the script with the variable in the ats file \n",
    "os.system('ats --xml_file=../Case5_I_E_glm.xml')\n"
   ]
  },
  {
   "cell_type": "code",
   "execution_count": 158,
   "id": "6e4583f9-6ddf-4a02-963e-7267780f18c8",
   "metadata": {},
   "outputs": [
    {
     "data": {
      "text/plain": [
       "'/home/rk/pestpp/pestpp/rk_model_final/Case5_I_E_param_check.demo/auf_m_2.demo'"
      ]
     },
     "execution_count": 158,
     "metadata": {},
     "output_type": "execute_result"
    }
   ],
   "source": [
    "os.chdir('..')\n",
    "directory_name = 'auf_m_2.demo' # = 1.223047\n",
    "### Making a new directory:\n",
    "os.system(f\"mkdir {directory_name}\")\n",
    "### Going into the directory\n",
    "os.chdir(f'{directory_name}')\n",
    "os.getcwd()"
   ]
  },
  {
   "cell_type": "code",
   "execution_count": 159,
   "id": "f117d0a4-498b-4f5d-9cc3-f43713dc8a0c",
   "metadata": {},
   "outputs": [
    {
     "data": {
      "text/plain": [
       "0"
      ]
     },
     "execution_count": 159,
     "metadata": {},
     "output_type": "execute_result"
    }
   ],
   "source": [
    "# Change the script with the variable in the ats file \n",
    "os.system('ats --xml_file=../Case5_I_E_glm.xml')\n"
   ]
  },
  {
   "cell_type": "code",
   "execution_count": null,
   "id": "4053c8d1-0deb-4f2e-9833-b4fec33df22b",
   "metadata": {},
   "outputs": [],
   "source": []
  },
  {
   "cell_type": "markdown",
   "id": "f8bb57db-ab6b-4492-b914-a52d7ed5149f",
   "metadata": {},
   "source": [
    "### por_p"
   ]
  },
  {
   "cell_type": "code",
   "execution_count": 162,
   "id": "1e6b11e6-9f9e-42fa-8ce2-67478041bf98",
   "metadata": {},
   "outputs": [
    {
     "data": {
      "text/plain": [
       "'/home/rk/pestpp/pestpp/rk_model_final/Case5_I_E_param_check.demo/por_p_1.demo'"
      ]
     },
     "execution_count": 162,
     "metadata": {},
     "output_type": "execute_result"
    }
   ],
   "source": [
    "os.chdir('..')\n",
    "directory_name = 'por_p_1.demo' # = 1.59348E-01\n",
    "### Making a new directory:\n",
    "os.system(f\"mkdir {directory_name}\")\n",
    "### Going into the directory\n",
    "os.chdir(f'{directory_name}')\n",
    "os.getcwd()"
   ]
  },
  {
   "cell_type": "code",
   "execution_count": 161,
   "id": "f9f1db26-f1b8-4b76-b89a-f56293c4260c",
   "metadata": {},
   "outputs": [
    {
     "data": {
      "text/plain": [
       "0"
      ]
     },
     "execution_count": 161,
     "metadata": {},
     "output_type": "execute_result"
    }
   ],
   "source": [
    "# Change the script with the variable in the ats file \n",
    "os.system('ats --xml_file=../Case5_I_E_glm.xml')\n"
   ]
  },
  {
   "cell_type": "code",
   "execution_count": 163,
   "id": "e77e8ea3-d3d0-4461-8acd-221c205c4ea5",
   "metadata": {},
   "outputs": [
    {
     "data": {
      "text/plain": [
       "'/home/rk/pestpp/pestpp/rk_model_final/Case5_I_E_param_check.demo/por_p_2.demo'"
      ]
     },
     "execution_count": 163,
     "metadata": {},
     "output_type": "execute_result"
    }
   ],
   "source": [
    "os.chdir('..')\n",
    "directory_name = 'por_p_2.demo' # = 0.85\n",
    "### Making a new directory:\n",
    "os.system(f\"mkdir {directory_name}\")\n",
    "### Going into the directory\n",
    "os.chdir(f'{directory_name}')\n",
    "os.getcwd()"
   ]
  },
  {
   "cell_type": "code",
   "execution_count": 164,
   "id": "d8354203-1472-41e1-a69f-a9db18d1074f",
   "metadata": {},
   "outputs": [
    {
     "data": {
      "text/plain": [
       "0"
      ]
     },
     "execution_count": 164,
     "metadata": {},
     "output_type": "execute_result"
    }
   ],
   "source": [
    "# Change the script with the variable in the ats file \n",
    "os.system('ats --xml_file=../Case5_I_E_glm.xml')\n"
   ]
  },
  {
   "cell_type": "code",
   "execution_count": null,
   "id": "19738864-8807-4a2c-adc9-c2e501b2aabf",
   "metadata": {},
   "outputs": [],
   "source": []
  },
  {
   "cell_type": "markdown",
   "id": "b24253b7-1ca3-4cde-b4b8-57a5b3309e75",
   "metadata": {},
   "source": [
    "### por_m"
   ]
  },
  {
   "cell_type": "code",
   "execution_count": 165,
   "id": "1ccf4296-3328-432b-9b22-cdab12fd56db",
   "metadata": {},
   "outputs": [
    {
     "data": {
      "text/plain": [
       "'/home/rk/pestpp/pestpp/rk_model_final/Case5_I_E_param_check.demo/por_m_1.demo'"
      ]
     },
     "execution_count": 165,
     "metadata": {},
     "output_type": "execute_result"
    }
   ],
   "source": [
    "os.chdir('..')\n",
    "directory_name = 'por_m_1.demo' # = 1.202E-01\n",
    "### Making a new directory:\n",
    "os.system(f\"mkdir {directory_name}\")\n",
    "### Going into the directory\n",
    "os.chdir(f'{directory_name}')\n",
    "os.getcwd()"
   ]
  },
  {
   "cell_type": "code",
   "execution_count": 166,
   "id": "33635e43-f120-4031-bf75-35e4557965c7",
   "metadata": {},
   "outputs": [
    {
     "data": {
      "text/plain": [
       "0"
      ]
     },
     "execution_count": 166,
     "metadata": {},
     "output_type": "execute_result"
    }
   ],
   "source": [
    "# Change the script with the variable in the ats file \n",
    "os.system('ats --xml_file=../Case5_I_E_glm.xml')"
   ]
  },
  {
   "cell_type": "code",
   "execution_count": 167,
   "id": "c47c0eae-6c69-4b19-a8a0-0284a56b3ea1",
   "metadata": {},
   "outputs": [
    {
     "data": {
      "text/plain": [
       "'/home/rk/pestpp/pestpp/rk_model_final/Case5_I_E_param_check.demo/por_m_2.demo'"
      ]
     },
     "execution_count": 167,
     "metadata": {},
     "output_type": "execute_result"
    }
   ],
   "source": [
    "os.chdir('..')\n",
    "directory_name = 'por_m_2.demo' # = 0.84 - Way too high for mineral!\n",
    "### Making a new directory:\n",
    "os.system(f\"mkdir {directory_name}\")\n",
    "### Going into the directory\n",
    "os.chdir(f'{directory_name}')\n",
    "os.getcwd()"
   ]
  },
  {
   "cell_type": "code",
   "execution_count": 168,
   "id": "2c80aa99-92b1-42bb-9b9e-5ebc1da02757",
   "metadata": {},
   "outputs": [
    {
     "data": {
      "text/plain": [
       "0"
      ]
     },
     "execution_count": 168,
     "metadata": {},
     "output_type": "execute_result"
    }
   ],
   "source": [
    "# Change the script with the variable in the ats file \n",
    "os.system('ats --xml_file=../Case5_I_E_glm.xml')\n"
   ]
  },
  {
   "cell_type": "code",
   "execution_count": null,
   "id": "da3859c4-eecb-4958-bf32-593aeeb1271f",
   "metadata": {},
   "outputs": [],
   "source": []
  },
  {
   "cell_type": "markdown",
   "id": "1ef19cbd-45fa-4d6f-92b2-38705f03c380",
   "metadata": {},
   "source": [
    "### perm_p"
   ]
  },
  {
   "cell_type": "code",
   "execution_count": 170,
   "id": "ba16dad9-0e2b-4b24-887c-47a5ab9885d1",
   "metadata": {},
   "outputs": [
    {
     "data": {
      "text/plain": [
       "'/home/rk/pestpp/pestpp/rk_model_final/Case5_I_E_param_check.demo/perm_p_1.demo'"
      ]
     },
     "execution_count": 170,
     "metadata": {},
     "output_type": "execute_result"
    }
   ],
   "source": [
    "os.chdir('..')\n",
    "directory_name = 'perm_p_1.demo' # = 5.3466221E-11\n",
    "### Making a new directory:\n",
    "os.system(f\"mkdir {directory_name}\")\n",
    "### Going into the directory\n",
    "os.chdir(f'{directory_name}')\n",
    "os.getcwd()"
   ]
  },
  {
   "cell_type": "code",
   "execution_count": 171,
   "id": "8f0f5526-c6b9-43c1-b5b4-7d7ac950f50f",
   "metadata": {},
   "outputs": [
    {
     "data": {
      "text/plain": [
       "0"
      ]
     },
     "execution_count": 171,
     "metadata": {},
     "output_type": "execute_result"
    }
   ],
   "source": [
    "# Change the script with the variable in the ats file \n",
    "os.system('ats --xml_file=../Case5_I_E_glm.xml')\n"
   ]
  },
  {
   "cell_type": "code",
   "execution_count": 172,
   "id": "962e4e3d-1e46-44d0-b9c4-f09584a48f34",
   "metadata": {},
   "outputs": [
    {
     "data": {
      "text/plain": [
       "'/home/rk/pestpp/pestpp/rk_model_final/Case5_I_E_param_check.demo/perm_p_2.demo'"
      ]
     },
     "execution_count": 172,
     "metadata": {},
     "output_type": "execute_result"
    }
   ],
   "source": [
    "os.chdir('..')\n",
    "directory_name = 'perm_p_2.demo' # = 9.35E-11\n",
    "### Making a new directory:\n",
    "os.system(f\"mkdir {directory_name}\")\n",
    "### Going into the directory\n",
    "os.chdir(f'{directory_name}')\n",
    "os.getcwd()"
   ]
  },
  {
   "cell_type": "code",
   "execution_count": 173,
   "id": "205d2c5e-d15a-4158-a161-6e9d42817482",
   "metadata": {},
   "outputs": [
    {
     "data": {
      "text/plain": [
       "0"
      ]
     },
     "execution_count": 173,
     "metadata": {},
     "output_type": "execute_result"
    }
   ],
   "source": [
    "# Change the script with the variable in the ats file \n",
    "os.system('ats --xml_file=../Case5_I_E_glm.xml')\n"
   ]
  },
  {
   "cell_type": "code",
   "execution_count": null,
   "id": "aae68664-e3d5-4f26-90fe-284de41b73c4",
   "metadata": {},
   "outputs": [],
   "source": []
  },
  {
   "cell_type": "markdown",
   "id": "bf77f642-fa43-4165-901c-d2637cec188a",
   "metadata": {},
   "source": [
    "### perm_m"
   ]
  },
  {
   "cell_type": "code",
   "execution_count": 175,
   "id": "4efef56f-bc83-4588-96f2-f2ef9390c346",
   "metadata": {},
   "outputs": [
    {
     "data": {
      "text/plain": [
       "'/home/rk/pestpp/pestpp/rk_model_final/Case5_I_E_param_check.demo/perm_m_1.demo'"
      ]
     },
     "execution_count": 175,
     "metadata": {},
     "output_type": "execute_result"
    }
   ],
   "source": [
    "os.chdir('..')\n",
    "directory_name = 'perm_m_1.demo' # = 2.5E-14\n",
    "### Making a new directory:\n",
    "os.system(f\"mkdir {directory_name}\")\n",
    "### Going into the directory\n",
    "os.chdir(f'{directory_name}')\n",
    "os.getcwd()"
   ]
  },
  {
   "cell_type": "code",
   "execution_count": 176,
   "id": "6dd8a6cb-e5df-4576-b639-ca2d5bdcc437",
   "metadata": {},
   "outputs": [
    {
     "data": {
      "text/plain": [
       "0"
      ]
     },
     "execution_count": 176,
     "metadata": {},
     "output_type": "execute_result"
    }
   ],
   "source": [
    "# Change the script with the variable in the ats file \n",
    "os.system('ats --xml_file=../Case5_I_E_glm.xml')\n"
   ]
  },
  {
   "cell_type": "code",
   "execution_count": 177,
   "id": "81147810-3c85-4ce1-b1a2-ee4a1500ed37",
   "metadata": {},
   "outputs": [
    {
     "data": {
      "text/plain": [
       "'/home/rk/pestpp/pestpp/rk_model_final/Case5_I_E_param_check.demo/perm_p_2.demo'"
      ]
     },
     "execution_count": 177,
     "metadata": {},
     "output_type": "execute_result"
    }
   ],
   "source": [
    "os.chdir('..')\n",
    "directory_name = 'perm_p_2.demo' # = 1.75E-13\n",
    "### Making a new directory:\n",
    "os.system(f\"mkdir {directory_name}\")\n",
    "### Going into the directory\n",
    "os.chdir(f'{directory_name}')\n",
    "os.getcwd()"
   ]
  },
  {
   "cell_type": "code",
   "execution_count": 178,
   "id": "a3303953-733a-4fb4-8f31-ff0b5e2f7ebb",
   "metadata": {},
   "outputs": [
    {
     "data": {
      "text/plain": [
       "0"
      ]
     },
     "execution_count": 178,
     "metadata": {},
     "output_type": "execute_result"
    }
   ],
   "source": [
    "# Change the script with the variable in the ats file \n",
    "os.system('ats --xml_file=../Case5_I_E_glm.xml')\n"
   ]
  },
  {
   "cell_type": "code",
   "execution_count": null,
   "id": "ea112128-eade-41e5-99df-4dd4d3ecc18c",
   "metadata": {},
   "outputs": [],
   "source": []
  },
  {
   "cell_type": "markdown",
   "id": "89cc52aa-f6d9-426d-a009-7207023bc955",
   "metadata": {},
   "source": [
    "### den_p"
   ]
  },
  {
   "cell_type": "code",
   "execution_count": 181,
   "id": "4121f651-a10a-4a39-8540-dd667ded454d",
   "metadata": {},
   "outputs": [
    {
     "data": {
      "text/plain": [
       "'/home/rk/pestpp/pestpp/rk_model_final/Case5_I_E_param_check.demo/den_p_1.demo'"
      ]
     },
     "execution_count": 181,
     "metadata": {},
     "output_type": "execute_result"
    }
   ],
   "source": [
    "os.chdir('..')\n",
    "directory_name = 'den_p_1.demo' # = 2.25E+02\n",
    "### Making a new directory:\n",
    "os.system(f\"mkdir {directory_name}\")\n",
    "### Going into the directory\n",
    "os.chdir(f'{directory_name}')\n",
    "os.getcwd()"
   ]
  },
  {
   "cell_type": "code",
   "execution_count": 182,
   "id": "9af6741a-0bdb-470f-af77-e0acb959201f",
   "metadata": {},
   "outputs": [
    {
     "data": {
      "text/plain": [
       "0"
      ]
     },
     "execution_count": 182,
     "metadata": {},
     "output_type": "execute_result"
    }
   ],
   "source": [
    "# Change the script with the variable in the ats file \n",
    "os.system('ats --xml_file=../Case5_I_E_glm.xml')\n"
   ]
  },
  {
   "cell_type": "code",
   "execution_count": 183,
   "id": "b52772ad-8add-4155-9ba7-aee853776777",
   "metadata": {},
   "outputs": [
    {
     "data": {
      "text/plain": [
       "'/home/rk/pestpp/pestpp/rk_model_final/Case5_I_E_param_check.demo/den_p_2.demo'"
      ]
     },
     "execution_count": 183,
     "metadata": {},
     "output_type": "execute_result"
    }
   ],
   "source": [
    "os.chdir('..')\n",
    "directory_name = 'den_p_2.demo' # = 1.575E+03\n",
    "### Making a new directory:\n",
    "os.system(f\"mkdir {directory_name}\")\n",
    "### Going into the directory\n",
    "os.chdir(f'{directory_name}')\n",
    "os.getcwd()"
   ]
  },
  {
   "cell_type": "code",
   "execution_count": 184,
   "id": "9e2aad2f-f0ac-4506-989f-7d77d882ad15",
   "metadata": {},
   "outputs": [
    {
     "data": {
      "text/plain": [
       "0"
      ]
     },
     "execution_count": 184,
     "metadata": {},
     "output_type": "execute_result"
    }
   ],
   "source": [
    "# Change the script with the variable in the ats file \n",
    "os.system('ats --xml_file=../Case5_I_E_glm.xml')\n"
   ]
  },
  {
   "cell_type": "code",
   "execution_count": null,
   "id": "28614e4d-4c5a-476f-b66e-2c80783b80d4",
   "metadata": {},
   "outputs": [],
   "source": []
  },
  {
   "cell_type": "markdown",
   "id": "066d8a0e-d303-463f-956a-e157208d4730",
   "metadata": {},
   "source": [
    "### den_m"
   ]
  },
  {
   "cell_type": "code",
   "execution_count": 185,
   "id": "7f6afb14-85b0-4123-9714-92e1103f96bb",
   "metadata": {},
   "outputs": [
    {
     "data": {
      "text/plain": [
       "'/home/rk/pestpp/pestpp/rk_model_final/Case5_I_E_param_check.demo/den_m_1.demo'"
      ]
     },
     "execution_count": 185,
     "metadata": {},
     "output_type": "execute_result"
    }
   ],
   "source": [
    "os.chdir('..')\n",
    "directory_name = 'den_m_1.demo' # = 9.5E+02\n",
    "### Making a new directory:\n",
    "os.system(f\"mkdir {directory_name}\")\n",
    "### Going into the directory\n",
    "os.chdir(f'{directory_name}')\n",
    "os.getcwd()"
   ]
  },
  {
   "cell_type": "code",
   "execution_count": 186,
   "id": "d8affbd4-a56f-449b-9df1-9fe1c85a4cb4",
   "metadata": {},
   "outputs": [
    {
     "data": {
      "text/plain": [
       "0"
      ]
     },
     "execution_count": 186,
     "metadata": {},
     "output_type": "execute_result"
    }
   ],
   "source": [
    "# Change the script with the variable in the ats file \n",
    "os.system('ats --xml_file=../Case5_I_E_glm.xml')\n"
   ]
  },
  {
   "cell_type": "code",
   "execution_count": 189,
   "id": "af646078-ccc5-4f4a-9fd5-51cd04c95445",
   "metadata": {},
   "outputs": [
    {
     "data": {
      "text/plain": [
       "'/home/rk/pestpp/pestpp/rk_model_final/Case5_I_E_param_check.demo/den_m_2.demo'"
      ]
     },
     "execution_count": 189,
     "metadata": {},
     "output_type": "execute_result"
    }
   ],
   "source": [
    "os.chdir('..')\n",
    "directory_name = 'den_m_2.demo' # = 2.85E+03\n",
    "### Making a new directory:\n",
    "os.system(f\"mkdir {directory_name}\")\n",
    "### Going into the directory\n",
    "os.chdir(f'{directory_name}')\n",
    "os.getcwd()"
   ]
  },
  {
   "cell_type": "code",
   "execution_count": 190,
   "id": "7d69e1e4-20f0-45f4-bf71-27a595f72e57",
   "metadata": {},
   "outputs": [
    {
     "data": {
      "text/plain": [
       "0"
      ]
     },
     "execution_count": 190,
     "metadata": {},
     "output_type": "execute_result"
    }
   ],
   "source": [
    "# Change the script with the variable in the ats file \n",
    "os.system('ats --xml_file=../Case5_I_E_glm.xml')\n"
   ]
  },
  {
   "cell_type": "code",
   "execution_count": null,
   "id": "949a3529-7754-41ed-b030-03f2fad6c313",
   "metadata": {},
   "outputs": [],
   "source": []
  }
 ],
 "metadata": {
  "kernelspec": {
   "display_name": "Python 3",
   "language": "python",
   "name": "python3"
  },
  "language_info": {
   "codemirror_mode": {
    "name": "ipython",
    "version": 3
   },
   "file_extension": ".py",
   "mimetype": "text/x-python",
   "name": "python",
   "nbconvert_exporter": "python",
   "pygments_lexer": "ipython3",
   "version": "3.8.8"
  }
 },
 "nbformat": 4,
 "nbformat_minor": 5
}
