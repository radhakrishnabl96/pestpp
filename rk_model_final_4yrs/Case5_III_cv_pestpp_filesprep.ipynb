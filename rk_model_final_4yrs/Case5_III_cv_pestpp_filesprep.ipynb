{
 "cells": [
  {
   "cell_type": "markdown",
   "id": "3afae032",
   "metadata": {},
   "source": [
    "**The following file is to calibrate and validate the model with 4 years of data mainly in the Cluster. Previously in the folder rk_model_final - the calibration was carried out for only 1 year. All the files will have a similar naming with the ending cv.**\n",
    "\n",
    "* The notebook is developed to code the methodology and extract relevant files that are suitable as input to PEST.\n",
    "- pestpp/pestpp/benchmarks/mf6_freyberg - This is used as the standard benchmark folder from which the files are referred.\n",
    "- Currently, the freyberg6_run_glm.pst which solves the Levenberg - Marquardt algorithm is considered.\n",
    "\n",
    "Parameters considered: 'alpha_p_gp', 'alpha_m_gp', 'n_p_gp', 'n_m_gp', 'wr_p_gp', 'wr_m_gp', 'tcs_p_gp', 'tcs_m_gp', 'tcd_p_gp', 'tcd_m_gp', 'af_p_gp', 'af_m_gp', 'auf_p_gp', 'auf_m_gp', 'por_p_gp', 'por_m_gp', 'perm_p_gp', 'perm_m_gp', 'den_p_gp', 'den_m_gp', 'ini_T', 'ini_SD', 'ini_WT', 'sden'\n",
    "\n",
    "- We are considering the initial parameters based on the simulation : all_params_afterrw.demo\n",
    "\n",
    "- The lower and upper bound is fixed to 75 % of the initial value\n",
    "\n",
    "- Some values that do not accept these changes, have been changed with respect to their initial value\n",
    "\n",
    "\n",
    "TODO:\n",
    "- Template files\n",
    "- Instruction files\n",
    "- Output files from ATS (observation.dat) - How to hint PEST about these instruction files?\n",
    "- Input file (input.xml) how do we change the parameter here as per the template file?\n",
    "\n",
    "* Develop a methodology and write here!\n",
    "\n"
   ]
  },
  {
   "cell_type": "code",
   "execution_count": 3,
   "id": "6bf7df5e-9d54-474f-971e-9136c5cf69bc",
   "metadata": {},
   "outputs": [],
   "source": [
    "import warnings\n",
    "warnings.filterwarnings(\"ignore\", category=DeprecationWarning)"
   ]
  },
  {
   "cell_type": "code",
   "execution_count": 4,
   "id": "d3d7bcd1",
   "metadata": {},
   "outputs": [],
   "source": [
    "%matplotlib inline\n",
    "import sys,os\n",
    "import colors\n",
    "import numpy as np\n",
    "import matplotlib.cm\n",
    "from matplotlib import pyplot as plt\n",
    "import matplotlib.gridspec as gridspec\n",
    "import h5py\n",
    "import pandas as pd\n",
    "from datetime import datetime\n",
    "import matplotlib.image as mpimg"
   ]
  },
  {
   "cell_type": "code",
   "execution_count": 5,
   "id": "cd399d23-fe32-47d2-b67f-6804ab07f1ed",
   "metadata": {},
   "outputs": [],
   "source": [
    "import shutil\n",
    "import numpy as np\n",
    "import pandas as pd\n",
    "import pyemu\n",
    "import flopy\n",
    "import subprocess"
   ]
  },
  {
   "cell_type": "code",
   "execution_count": 6,
   "id": "086cab93",
   "metadata": {},
   "outputs": [
    {
     "name": "stderr",
     "output_type": "stream",
     "text": [
      "/home/rk/anaconda3/lib/python3.8/site-packages/ipykernel/ipkernel.py:287: DeprecationWarning: `should_run_async` will not call `transform_cell` automatically in the future. Please pass the result to `transformed_cell` argument and any exception that happen during thetransform in `preprocessing_exc_tuple` in IPython 7.17 and above.\n",
      "  and should_run_async(code)\n"
     ]
    }
   ],
   "source": [
    "import warnings\n",
    "warnings.filterwarnings(\"ignore\", category=DeprecationWarning)"
   ]
  },
  {
   "cell_type": "code",
   "execution_count": 25,
   "id": "ef27d92a-d034-4031-8d65-93568f7ae7ab",
   "metadata": {},
   "outputs": [],
   "source": [
    "directory_name = 'Case5_III_C_cv_start.demo' # Main directory name where the data is stored for the initial round of calibration\n",
    "file_name = 'Case5_III_C_cv' # Name of the xml file"
   ]
  },
  {
   "cell_type": "code",
   "execution_count": 47,
   "id": "d7c125c6",
   "metadata": {},
   "outputs": [],
   "source": [
    "os.chdir('..')"
   ]
  },
  {
   "cell_type": "markdown",
   "id": "07ff8682",
   "metadata": {},
   "source": [
    "### 1. Observation data"
   ]
  },
  {
   "cell_type": "code",
   "execution_count": 48,
   "id": "7270a1f1",
   "metadata": {},
   "outputs": [
    {
     "data": {
      "text/html": [
       "<div>\n",
       "<style scoped>\n",
       "    .dataframe tbody tr th:only-of-type {\n",
       "        vertical-align: middle;\n",
       "    }\n",
       "\n",
       "    .dataframe tbody tr th {\n",
       "        vertical-align: top;\n",
       "    }\n",
       "\n",
       "    .dataframe thead th {\n",
       "        text-align: right;\n",
       "    }\n",
       "</style>\n",
       "<table border=\"1\" class=\"dataframe\">\n",
       "  <thead>\n",
       "    <tr style=\"text-align: right;\">\n",
       "      <th></th>\n",
       "      <th>TIMESTAMP</th>\n",
       "      <th>Soil moisture at - 0.04 m (%)</th>\n",
       "      <th>Soil moisture at - 0.1 m (%)</th>\n",
       "      <th>Soil moisture at - 0.2 m (%)</th>\n",
       "      <th>Soil moisture at - 0.4 m (%)</th>\n",
       "      <th>Soil moisture at - 0.8 m (%)</th>\n",
       "      <th>Soil moisture at - 1.2 m (%)</th>\n",
       "      <th>Soil moisture at - 1.6 m (%)</th>\n",
       "      <th>Soil temperature at - 0.00 m (°C)</th>\n",
       "      <th>Soil temperature at - 0.04 m (°C)</th>\n",
       "      <th>Soil temperature at - 0.1 m (°C)</th>\n",
       "      <th>Soil temperature at - 0.2 m (°C)</th>\n",
       "      <th>Soil temperature at - 0.4 m (°C)</th>\n",
       "      <th>Soil temperature at - 0.8 m (°C)</th>\n",
       "      <th>Soil temperature at - 1.2 m (°C)</th>\n",
       "      <th>Soil temperature at - 1.6 m (°C)</th>\n",
       "    </tr>\n",
       "  </thead>\n",
       "  <tbody>\n",
       "    <tr>\n",
       "      <th>0</th>\n",
       "      <td>2016-01-01</td>\n",
       "      <td>7.897694</td>\n",
       "      <td>7.523868</td>\n",
       "      <td>8.694236</td>\n",
       "      <td>9.016111</td>\n",
       "      <td>5.368792</td>\n",
       "      <td>4.093549</td>\n",
       "      <td>6.058042</td>\n",
       "      <td>-13.103958</td>\n",
       "      <td>-12.507847</td>\n",
       "      <td>-11.848819</td>\n",
       "      <td>-11.295486</td>\n",
       "      <td>-9.824722</td>\n",
       "      <td>-7.814958</td>\n",
       "      <td>-4.874889</td>\n",
       "      <td>-3.447965</td>\n",
       "    </tr>\n",
       "    <tr>\n",
       "      <th>1</th>\n",
       "      <td>2016-01-02</td>\n",
       "      <td>7.991826</td>\n",
       "      <td>7.594250</td>\n",
       "      <td>8.745417</td>\n",
       "      <td>9.012639</td>\n",
       "      <td>5.350889</td>\n",
       "      <td>4.060958</td>\n",
       "      <td>6.008417</td>\n",
       "      <td>-12.255417</td>\n",
       "      <td>-11.861597</td>\n",
       "      <td>-11.342569</td>\n",
       "      <td>-10.947708</td>\n",
       "      <td>-9.781389</td>\n",
       "      <td>-7.936854</td>\n",
       "      <td>-5.063889</td>\n",
       "      <td>-3.639549</td>\n",
       "    </tr>\n",
       "    <tr>\n",
       "      <th>2</th>\n",
       "      <td>2016-01-03</td>\n",
       "      <td>7.992500</td>\n",
       "      <td>7.606875</td>\n",
       "      <td>8.766806</td>\n",
       "      <td>9.033472</td>\n",
       "      <td>5.342833</td>\n",
       "      <td>4.033590</td>\n",
       "      <td>5.962187</td>\n",
       "      <td>-12.737500</td>\n",
       "      <td>-11.824514</td>\n",
       "      <td>-11.200694</td>\n",
       "      <td>-10.765278</td>\n",
       "      <td>-9.618403</td>\n",
       "      <td>-7.946111</td>\n",
       "      <td>-5.228028</td>\n",
       "      <td>-3.817500</td>\n",
       "    </tr>\n",
       "    <tr>\n",
       "      <th>3</th>\n",
       "      <td>2016-01-04</td>\n",
       "      <td>7.960069</td>\n",
       "      <td>7.581465</td>\n",
       "      <td>8.749236</td>\n",
       "      <td>9.025833</td>\n",
       "      <td>5.336757</td>\n",
       "      <td>4.012583</td>\n",
       "      <td>5.923819</td>\n",
       "      <td>-13.006597</td>\n",
       "      <td>-11.997847</td>\n",
       "      <td>-11.365486</td>\n",
       "      <td>-10.867778</td>\n",
       "      <td>-9.648889</td>\n",
       "      <td>-7.977951</td>\n",
       "      <td>-5.358771</td>\n",
       "      <td>-3.977958</td>\n",
       "    </tr>\n",
       "    <tr>\n",
       "      <th>4</th>\n",
       "      <td>2016-01-05</td>\n",
       "      <td>7.913792</td>\n",
       "      <td>7.539000</td>\n",
       "      <td>8.703056</td>\n",
       "      <td>8.995694</td>\n",
       "      <td>5.324597</td>\n",
       "      <td>3.993715</td>\n",
       "      <td>5.892174</td>\n",
       "      <td>-13.525278</td>\n",
       "      <td>-12.371597</td>\n",
       "      <td>-11.691181</td>\n",
       "      <td>-11.171181</td>\n",
       "      <td>-9.829653</td>\n",
       "      <td>-8.078194</td>\n",
       "      <td>-5.476889</td>\n",
       "      <td>-4.119438</td>\n",
       "    </tr>\n",
       "  </tbody>\n",
       "</table>\n",
       "</div>"
      ],
      "text/plain": [
       "    TIMESTAMP  Soil moisture at - 0.04 m (%)  Soil moisture at - 0.1 m (%)  \\\n",
       "0  2016-01-01                       7.897694                      7.523868   \n",
       "1  2016-01-02                       7.991826                      7.594250   \n",
       "2  2016-01-03                       7.992500                      7.606875   \n",
       "3  2016-01-04                       7.960069                      7.581465   \n",
       "4  2016-01-05                       7.913792                      7.539000   \n",
       "\n",
       "   Soil moisture at - 0.2 m (%)  Soil moisture at - 0.4 m (%)  \\\n",
       "0                      8.694236                      9.016111   \n",
       "1                      8.745417                      9.012639   \n",
       "2                      8.766806                      9.033472   \n",
       "3                      8.749236                      9.025833   \n",
       "4                      8.703056                      8.995694   \n",
       "\n",
       "   Soil moisture at - 0.8 m (%)  Soil moisture at - 1.2 m (%)  \\\n",
       "0                      5.368792                      4.093549   \n",
       "1                      5.350889                      4.060958   \n",
       "2                      5.342833                      4.033590   \n",
       "3                      5.336757                      4.012583   \n",
       "4                      5.324597                      3.993715   \n",
       "\n",
       "   Soil moisture at - 1.6 m (%)  Soil temperature at - 0.00 m (°C)  \\\n",
       "0                      6.058042                         -13.103958   \n",
       "1                      6.008417                         -12.255417   \n",
       "2                      5.962187                         -12.737500   \n",
       "3                      5.923819                         -13.006597   \n",
       "4                      5.892174                         -13.525278   \n",
       "\n",
       "   Soil temperature at - 0.04 m (°C)  Soil temperature at - 0.1 m (°C)  \\\n",
       "0                         -12.507847                        -11.848819   \n",
       "1                         -11.861597                        -11.342569   \n",
       "2                         -11.824514                        -11.200694   \n",
       "3                         -11.997847                        -11.365486   \n",
       "4                         -12.371597                        -11.691181   \n",
       "\n",
       "   Soil temperature at - 0.2 m (°C)  Soil temperature at - 0.4 m (°C)  \\\n",
       "0                        -11.295486                         -9.824722   \n",
       "1                        -10.947708                         -9.781389   \n",
       "2                        -10.765278                         -9.618403   \n",
       "3                        -10.867778                         -9.648889   \n",
       "4                        -11.171181                         -9.829653   \n",
       "\n",
       "   Soil temperature at - 0.8 m (°C)  Soil temperature at - 1.2 m (°C)  \\\n",
       "0                         -7.814958                         -4.874889   \n",
       "1                         -7.936854                         -5.063889   \n",
       "2                         -7.946111                         -5.228028   \n",
       "3                         -7.977951                         -5.358771   \n",
       "4                         -8.078194                         -5.476889   \n",
       "\n",
       "   Soil temperature at - 1.6 m (°C)  \n",
       "0                         -3.447965  \n",
       "1                         -3.639549  \n",
       "2                         -3.817500  \n",
       "3                         -3.977958  \n",
       "4                         -4.119438  "
      ]
     },
     "execution_count": 48,
     "metadata": {},
     "output_type": "execute_result"
    }
   ],
   "source": [
    "df_obs_AWS = pd.read_csv('Final_OutputData_4yrs/Calib_outputdata_2016_2018.csv',sep='\\t')\n",
    "df_obs_AWS.head()\n",
    "\n",
    "# The observation data was processed previously in /home/rk/ats_rk/testing/ats-demos/rk_model/Data/Data_Yakou/Yakou_met_data_ITP_rk/AWS_final_metdata_4yrs_concise.ipynb"
   ]
  },
  {
   "cell_type": "code",
   "execution_count": 49,
   "id": "8a9ea23b",
   "metadata": {},
   "outputs": [
    {
     "data": {
      "text/plain": [
       "1096"
      ]
     },
     "execution_count": 49,
     "metadata": {},
     "output_type": "execute_result"
    }
   ],
   "source": [
    "len(df_obs_AWS)"
   ]
  },
  {
   "cell_type": "code",
   "execution_count": 50,
   "id": "326ae89c",
   "metadata": {},
   "outputs": [
    {
     "data": {
      "text/plain": [
       "0    260.642153\n",
       "1    261.288403\n",
       "2    261.325486\n",
       "3    261.152153\n",
       "4    260.778403\n",
       "Name: Soil temperature at - 0.04 m (K), dtype: float64"
      ]
     },
     "execution_count": 50,
     "metadata": {},
     "output_type": "execute_result"
    }
   ],
   "source": [
    "# Calculating the temperature in Kelvin\n",
    "\n",
    "depths = [0.04, 0.1, 0.2, 0.4, 0.8, 1.2, 1.6]\n",
    "\n",
    "time_values = 1096 # Number of time values\n",
    "\n",
    "times = np.arange(1, time_values+1, 1)\n",
    "\n",
    "# Adding column information:\n",
    "\n",
    "\n",
    "x = 0\n",
    "for i, depth in enumerate(depths):\n",
    "        df_obs_AWS[f'Soil temperature at - {depth} m (K)'] = df_obs_AWS[f'Soil temperature at - {depth} m (°C)'] + 273.15\n",
    "\n",
    "df_obs_AWS['Soil temperature at - 0.04 m (K)'].head()"
   ]
  },
  {
   "cell_type": "code",
   "execution_count": 51,
   "id": "613f7a1a",
   "metadata": {},
   "outputs": [
    {
     "data": {
      "text/html": [
       "<div>\n",
       "<style scoped>\n",
       "    .dataframe tbody tr th:only-of-type {\n",
       "        vertical-align: middle;\n",
       "    }\n",
       "\n",
       "    .dataframe tbody tr th {\n",
       "        vertical-align: top;\n",
       "    }\n",
       "\n",
       "    .dataframe thead th {\n",
       "        text-align: right;\n",
       "    }\n",
       "</style>\n",
       "<table border=\"1\" class=\"dataframe\">\n",
       "  <thead>\n",
       "    <tr style=\"text-align: right;\">\n",
       "      <th></th>\n",
       "      <th>obsnme</th>\n",
       "      <th>obsval</th>\n",
       "      <th>weight</th>\n",
       "      <th>obgnme</th>\n",
       "    </tr>\n",
       "  </thead>\n",
       "  <tbody>\n",
       "    <tr>\n",
       "      <th>0</th>\n",
       "      <td>gage_1_20151231</td>\n",
       "      <td>951.71</td>\n",
       "      <td>0.000000</td>\n",
       "      <td>gage</td>\n",
       "    </tr>\n",
       "    <tr>\n",
       "      <th>1</th>\n",
       "      <td>gage_1_20160131</td>\n",
       "      <td>1530.10</td>\n",
       "      <td>0.004357</td>\n",
       "      <td>gage</td>\n",
       "    </tr>\n",
       "    <tr>\n",
       "      <th>2</th>\n",
       "      <td>gage_1_20160229</td>\n",
       "      <td>1855.30</td>\n",
       "      <td>0.003593</td>\n",
       "      <td>gage</td>\n",
       "    </tr>\n",
       "    <tr>\n",
       "      <th>3</th>\n",
       "      <td>gage_1_20160331</td>\n",
       "      <td>1907.10</td>\n",
       "      <td>0.003496</td>\n",
       "      <td>gage</td>\n",
       "    </tr>\n",
       "    <tr>\n",
       "      <th>4</th>\n",
       "      <td>gage_1_20160430</td>\n",
       "      <td>1747.70</td>\n",
       "      <td>0.003815</td>\n",
       "      <td>gage</td>\n",
       "    </tr>\n",
       "  </tbody>\n",
       "</table>\n",
       "</div>"
      ],
      "text/plain": [
       "            obsnme   obsval    weight obgnme\n",
       "0  gage_1_20151231   951.71  0.000000   gage\n",
       "1  gage_1_20160131  1530.10  0.004357   gage\n",
       "2  gage_1_20160229  1855.30  0.003593   gage\n",
       "3  gage_1_20160331  1907.10  0.003496   gage\n",
       "4  gage_1_20160430  1747.70  0.003815   gage"
      ]
     },
     "execution_count": 51,
     "metadata": {},
     "output_type": "execute_result"
    }
   ],
   "source": [
    "# Extracting an example \n",
    "obs_data_example = pd.read_csv('Freyberg_example/freyberg6_run_glm.obs_data.csv') \n",
    "obs_data_example.head()"
   ]
  },
  {
   "cell_type": "markdown",
   "id": "cc14ca87",
   "metadata": {},
   "source": [
    "The following details need to be defined:\n",
    "\n",
    "Note: Here we need to add the values from the excel that we read previously.\n",
    "\n",
    "- OBSNME: stemp_{depth}_{1-1096} & smois_{depth}_{1-1096}: Observation names - We have temperature and moisture values at 7 depths. \n",
    "- OBSVAL: The corresponding values need to be added in pandas from the dataframe - data_AWS_syn_2017\n",
    "- WEIGHT (Initial): Assigning equal weights to all variables. 1/15344 = 6.517e-05; 2 {soil_temp, soil_mois} * 7 {7 sensors} * 1096 {1-365}  = 15344\n",
    "- obgnme: 'temp', 'mois'"
   ]
  },
  {
   "cell_type": "code",
   "execution_count": 52,
   "id": "62eb3708",
   "metadata": {},
   "outputs": [
    {
     "data": {
      "text/plain": [
       "6.517205422314912e-05"
      ]
     },
     "execution_count": 52,
     "metadata": {},
     "output_type": "execute_result"
    }
   ],
   "source": [
    "# Initial values \n",
    "time_values = 1096 # Number of time values\n",
    "# Total number of values 1/15344 = 6.517e-05; 2 {soil_temp, soil_mois} * 7 {7 sensors} * 1096 {1-365}  = 15344\n",
    "total_values = 2 * 7 * 1096 \n",
    "ini_wt = 1/total_values # Initial weight\n",
    "ini_wt"
   ]
  },
  {
   "cell_type": "code",
   "execution_count": 53,
   "id": "0ebd5d64",
   "metadata": {},
   "outputs": [
    {
     "data": {
      "text/html": [
       "<div>\n",
       "<style scoped>\n",
       "    .dataframe tbody tr th:only-of-type {\n",
       "        vertical-align: middle;\n",
       "    }\n",
       "\n",
       "    .dataframe tbody tr th {\n",
       "        vertical-align: top;\n",
       "    }\n",
       "\n",
       "    .dataframe thead th {\n",
       "        text-align: right;\n",
       "    }\n",
       "</style>\n",
       "<table border=\"1\" class=\"dataframe\">\n",
       "  <thead>\n",
       "    <tr style=\"text-align: right;\">\n",
       "      <th></th>\n",
       "      <th>obsnme</th>\n",
       "      <th>obsval</th>\n",
       "      <th>weight</th>\n",
       "      <th>obgnme</th>\n",
       "    </tr>\n",
       "  </thead>\n",
       "  <tbody>\n",
       "    <tr>\n",
       "      <th>1</th>\n",
       "      <td>stemp_0.04_0</td>\n",
       "      <td>260.642153</td>\n",
       "      <td>0.000065</td>\n",
       "      <td>temp</td>\n",
       "    </tr>\n",
       "    <tr>\n",
       "      <th>2</th>\n",
       "      <td>stemp_0.04_1</td>\n",
       "      <td>261.288403</td>\n",
       "      <td>0.000065</td>\n",
       "      <td>temp</td>\n",
       "    </tr>\n",
       "    <tr>\n",
       "      <th>3</th>\n",
       "      <td>stemp_0.04_2</td>\n",
       "      <td>261.325486</td>\n",
       "      <td>0.000065</td>\n",
       "      <td>temp</td>\n",
       "    </tr>\n",
       "    <tr>\n",
       "      <th>4</th>\n",
       "      <td>stemp_0.04_3</td>\n",
       "      <td>261.152153</td>\n",
       "      <td>0.000065</td>\n",
       "      <td>temp</td>\n",
       "    </tr>\n",
       "    <tr>\n",
       "      <th>5</th>\n",
       "      <td>stemp_0.04_4</td>\n",
       "      <td>260.778403</td>\n",
       "      <td>0.000065</td>\n",
       "      <td>temp</td>\n",
       "    </tr>\n",
       "  </tbody>\n",
       "</table>\n",
       "</div>"
      ],
      "text/plain": [
       "         obsnme      obsval    weight obgnme\n",
       "1  stemp_0.04_0  260.642153  0.000065   temp\n",
       "2  stemp_0.04_1  261.288403  0.000065   temp\n",
       "3  stemp_0.04_2  261.325486  0.000065   temp\n",
       "4  stemp_0.04_3  261.152153  0.000065   temp\n",
       "5  stemp_0.04_4  260.778403  0.000065   temp"
      ]
     },
     "execution_count": 53,
     "metadata": {},
     "output_type": "execute_result"
    }
   ],
   "source": [
    "# Creating a new dataframes with columns = obs_data_example.index and rows = 0 - 15344\n",
    "# There are 1096 values for one sensor in each year, hence we move from 0 - 1095 & then it repeats again for the next sensor.\n",
    "\n",
    "obs_data = pd.DataFrame(data=None,columns=obs_data_example.columns,index=np.arange(1,total_values+1,1))\n",
    "\n",
    "\n",
    "depths = [0.04, 0.1, 0.2, 0.4, 0.8, 1.2, 1.6]\n",
    "\n",
    "times = np.arange(1, time_values+1, 1)\n",
    "\n",
    "# Adding column information:\n",
    "\n",
    "\n",
    "x = 0\n",
    "for i, depth in enumerate(depths):\n",
    "    for j, time in enumerate(times):\n",
    "        # Column name = obsnme\n",
    "        obs_data.iloc[x,0] = f'stemp_{depth}_{j}'\n",
    "        # Column name = obsval\n",
    "        obs_data.iloc[x,1] = df_obs_AWS[f'Soil temperature at - {depth} m (K)'][j]\n",
    "        # Column name = weights : Assigning equal weight to all variables\n",
    "        obs_data.iloc[x,2] = 1/total_values\n",
    "        # Column name = obgnme : Assigning observation group name\n",
    "        obs_data.iloc[x,3] = 'temp'\n",
    "        x = x + 1\n",
    "\n",
    "for i, depth in enumerate(depths):\n",
    "    for j, time in enumerate(times):\n",
    "        obs_data.iloc[x,0] = f'smois_{depth}_{j}'\n",
    "        # Column name = obsval\n",
    "        obs_data.iloc[x,1] = df_obs_AWS[f'Soil moisture at - {depth} m (%)'][j]\n",
    "        # Column name = weights : Assigning equal weight to all variables\n",
    "        obs_data.iloc[x,2] = 1/total_values\n",
    "        # Column name = obgnme : Assigning observation group name\n",
    "        obs_data.iloc[x,3] = 'mois'\n",
    "        x = x + 1\n",
    "\n",
    "        \n",
    "obs_data.head()"
   ]
  },
  {
   "cell_type": "code",
   "execution_count": 54,
   "id": "884c004e",
   "metadata": {},
   "outputs": [
    {
     "data": {
      "text/plain": [
       "808    266.270562\n",
       "809    265.665708\n",
       "810    265.340674\n",
       "811    265.065896\n",
       "Name: Soil temperature at - 0.2 m (K), dtype: float64"
      ]
     },
     "execution_count": 54,
     "metadata": {},
     "output_type": "execute_result"
    }
   ],
   "source": [
    "df_obs_AWS['Soil temperature at - 0.2 m (K)'][808:812]"
   ]
  },
  {
   "cell_type": "code",
   "execution_count": 55,
   "id": "d3a72ff2",
   "metadata": {},
   "outputs": [
    {
     "data": {
      "text/html": [
       "<div>\n",
       "<style scoped>\n",
       "    .dataframe tbody tr th:only-of-type {\n",
       "        vertical-align: middle;\n",
       "    }\n",
       "\n",
       "    .dataframe tbody tr th {\n",
       "        vertical-align: top;\n",
       "    }\n",
       "\n",
       "    .dataframe thead th {\n",
       "        text-align: right;\n",
       "    }\n",
       "</style>\n",
       "<table border=\"1\" class=\"dataframe\">\n",
       "  <thead>\n",
       "    <tr style=\"text-align: right;\">\n",
       "      <th></th>\n",
       "      <th>obsnme</th>\n",
       "      <th>obsval</th>\n",
       "      <th>weight</th>\n",
       "      <th>obgnme</th>\n",
       "    </tr>\n",
       "  </thead>\n",
       "  <tbody>\n",
       "    <tr>\n",
       "      <th>3001</th>\n",
       "      <td>stemp_0.2_808</td>\n",
       "      <td>266.270562</td>\n",
       "      <td>0.000065</td>\n",
       "      <td>temp</td>\n",
       "    </tr>\n",
       "    <tr>\n",
       "      <th>3002</th>\n",
       "      <td>stemp_0.2_809</td>\n",
       "      <td>265.665708</td>\n",
       "      <td>0.000065</td>\n",
       "      <td>temp</td>\n",
       "    </tr>\n",
       "    <tr>\n",
       "      <th>3003</th>\n",
       "      <td>stemp_0.2_810</td>\n",
       "      <td>265.340674</td>\n",
       "      <td>0.000065</td>\n",
       "      <td>temp</td>\n",
       "    </tr>\n",
       "    <tr>\n",
       "      <th>3004</th>\n",
       "      <td>stemp_0.2_811</td>\n",
       "      <td>265.065896</td>\n",
       "      <td>0.000065</td>\n",
       "      <td>temp</td>\n",
       "    </tr>\n",
       "    <tr>\n",
       "      <th>3005</th>\n",
       "      <td>stemp_0.2_812</td>\n",
       "      <td>265.209056</td>\n",
       "      <td>0.000065</td>\n",
       "      <td>temp</td>\n",
       "    </tr>\n",
       "  </tbody>\n",
       "</table>\n",
       "</div>"
      ],
      "text/plain": [
       "             obsnme      obsval    weight obgnme\n",
       "3001  stemp_0.2_808  266.270562  0.000065   temp\n",
       "3002  stemp_0.2_809  265.665708  0.000065   temp\n",
       "3003  stemp_0.2_810  265.340674  0.000065   temp\n",
       "3004  stemp_0.2_811  265.065896  0.000065   temp\n",
       "3005  stemp_0.2_812  265.209056  0.000065   temp"
      ]
     },
     "execution_count": 55,
     "metadata": {},
     "output_type": "execute_result"
    }
   ],
   "source": [
    "# Check the observation values\n",
    "obs_data.iloc[3000:3005]"
   ]
  },
  {
   "cell_type": "code",
   "execution_count": 56,
   "id": "a607599b",
   "metadata": {},
   "outputs": [
    {
     "data": {
      "text/plain": [
       "'Case5_III_C_cv_start.demo'"
      ]
     },
     "execution_count": 56,
     "metadata": {},
     "output_type": "execute_result"
    }
   ],
   "source": [
    "directory_name"
   ]
  },
  {
   "cell_type": "code",
   "execution_count": 57,
   "id": "80b61641",
   "metadata": {},
   "outputs": [],
   "source": [
    "# Exporting the observation data csv file\n",
    "obs_data.to_csv(f'{directory_name}/{file_name}_obs_data.csv', index=False)"
   ]
  },
  {
   "cell_type": "code",
   "execution_count": 58,
   "id": "6401787a",
   "metadata": {},
   "outputs": [
    {
     "data": {
      "text/plain": [
       "'/home/rk/pestpp/pestpp/rk_model_final_4yrs'"
      ]
     },
     "execution_count": 58,
     "metadata": {},
     "output_type": "execute_result"
    }
   ],
   "source": [
    "os.getcwd()"
   ]
  },
  {
   "cell_type": "markdown",
   "id": "63bd1149-39b2-4d3e-b557-6859a0993d08",
   "metadata": {},
   "source": [
    "### 2. Parameter groups external\n",
    "- Extracting the data from the example"
   ]
  },
  {
   "cell_type": "code",
   "execution_count": 59,
   "id": "7921545f-b8d4-4e90-aef9-61de308834f8",
   "metadata": {},
   "outputs": [
    {
     "data": {
      "text/html": [
       "<div>\n",
       "<style scoped>\n",
       "    .dataframe tbody tr th:only-of-type {\n",
       "        vertical-align: middle;\n",
       "    }\n",
       "\n",
       "    .dataframe tbody tr th {\n",
       "        vertical-align: top;\n",
       "    }\n",
       "\n",
       "    .dataframe thead th {\n",
       "        text-align: right;\n",
       "    }\n",
       "</style>\n",
       "<table border=\"1\" class=\"dataframe\">\n",
       "  <thead>\n",
       "    <tr style=\"text-align: right;\">\n",
       "      <th></th>\n",
       "      <th>pargpnme</th>\n",
       "      <th>inctyp</th>\n",
       "      <th>derinc</th>\n",
       "      <th>derinclb</th>\n",
       "      <th>forcen</th>\n",
       "      <th>derincmul</th>\n",
       "      <th>dermthd</th>\n",
       "      <th>splitthresh</th>\n",
       "      <th>splitreldiff</th>\n",
       "      <th>splitaction</th>\n",
       "    </tr>\n",
       "  </thead>\n",
       "  <tbody>\n",
       "    <tr>\n",
       "      <th>0</th>\n",
       "      <td>sto_ss_0</td>\n",
       "      <td>relative</td>\n",
       "      <td>0.01</td>\n",
       "      <td>0.0</td>\n",
       "      <td>switch</td>\n",
       "      <td>2.0</td>\n",
       "      <td>parabolic</td>\n",
       "      <td>0.00001</td>\n",
       "      <td>0.5</td>\n",
       "      <td>smaller</td>\n",
       "    </tr>\n",
       "    <tr>\n",
       "      <th>1</th>\n",
       "      <td>npf_k33_1</td>\n",
       "      <td>relative</td>\n",
       "      <td>0.01</td>\n",
       "      <td>0.0</td>\n",
       "      <td>switch</td>\n",
       "      <td>2.0</td>\n",
       "      <td>parabolic</td>\n",
       "      <td>0.00001</td>\n",
       "      <td>0.5</td>\n",
       "      <td>smaller</td>\n",
       "    </tr>\n",
       "    <tr>\n",
       "      <th>2</th>\n",
       "      <td>npf_k_1</td>\n",
       "      <td>relative</td>\n",
       "      <td>0.01</td>\n",
       "      <td>0.0</td>\n",
       "      <td>switch</td>\n",
       "      <td>2.0</td>\n",
       "      <td>parabolic</td>\n",
       "      <td>0.00001</td>\n",
       "      <td>0.5</td>\n",
       "      <td>smaller</td>\n",
       "    </tr>\n",
       "    <tr>\n",
       "      <th>3</th>\n",
       "      <td>sto_ss_1</td>\n",
       "      <td>relative</td>\n",
       "      <td>0.01</td>\n",
       "      <td>0.0</td>\n",
       "      <td>switch</td>\n",
       "      <td>2.0</td>\n",
       "      <td>parabolic</td>\n",
       "      <td>0.00001</td>\n",
       "      <td>0.5</td>\n",
       "      <td>smaller</td>\n",
       "    </tr>\n",
       "    <tr>\n",
       "      <th>4</th>\n",
       "      <td>npf_k_0</td>\n",
       "      <td>relative</td>\n",
       "      <td>0.01</td>\n",
       "      <td>0.0</td>\n",
       "      <td>switch</td>\n",
       "      <td>2.0</td>\n",
       "      <td>parabolic</td>\n",
       "      <td>0.00001</td>\n",
       "      <td>0.5</td>\n",
       "      <td>smaller</td>\n",
       "    </tr>\n",
       "  </tbody>\n",
       "</table>\n",
       "</div>"
      ],
      "text/plain": [
       "    pargpnme    inctyp  derinc  derinclb  forcen  derincmul    dermthd  \\\n",
       "0   sto_ss_0  relative    0.01       0.0  switch        2.0  parabolic   \n",
       "1  npf_k33_1  relative    0.01       0.0  switch        2.0  parabolic   \n",
       "2    npf_k_1  relative    0.01       0.0  switch        2.0  parabolic   \n",
       "3   sto_ss_1  relative    0.01       0.0  switch        2.0  parabolic   \n",
       "4    npf_k_0  relative    0.01       0.0  switch        2.0  parabolic   \n",
       "\n",
       "   splitthresh  splitreldiff splitaction  \n",
       "0      0.00001           0.5     smaller  \n",
       "1      0.00001           0.5     smaller  \n",
       "2      0.00001           0.5     smaller  \n",
       "3      0.00001           0.5     smaller  \n",
       "4      0.00001           0.5     smaller  "
      ]
     },
     "execution_count": 59,
     "metadata": {},
     "output_type": "execute_result"
    }
   ],
   "source": [
    "pargrp_data_example = pd.read_csv('Freyberg_example/freyberg6_run_glm.pargrp_data.csv') \n",
    "pargrp_data_example.head()"
   ]
  },
  {
   "cell_type": "markdown",
   "id": "5b49aaab-b8a8-4522-8c60-1afa84db2dc6",
   "metadata": {},
   "source": [
    "#### Defining the variables in Parameter Group variables: \n",
    "- PARGPNME : Individual groups assigned for all parameters! - Assigned a total of 20 parameters (10 for each material)\n",
    "- INCTYP : 'relative' - The increment used for forward-difference calculation of derivatives with respect to any parameter belonging to the group is calculated as the fraction of the current value of that parameter; that fraction is provided as the real variable DERINC. Ex: If current value of parameter = 10 & DERINC =  0.01. Then the next parameter value = 0.01 * 10 = 0.1.\n",
    "- DERINC : '0.01' - The fraction of increment of the current value of parameter. [Consider the range of variation of the parameters, upper and lower bounds]\n",
    "- DERINCLB : '0.0'\n",
    "- FORCEN : 'switch'. In the first iteration, forward difference method is employed. From the second iteration, it switches to central difference method for the remainder of the inversion process on the iteration after which the relative objective function reduction between successive iterations is less than PHIREDSWH. Note we need to define PHIREDSWH (Where is it defined in this format?)\n",
    "- DERINCMUL : '1.0' - If three-point derivatives calculation is employed, the value of DERINC is multiplied by DERINCMUL.\n",
    "- DERMTHD : 'parabolic' - This is preferred as it provides greater accuracy.\n",
    "- [SPLITTHRESH] [SPLITRELDIFF] [SPLITACTION] - For the first analysis, we ignore the three variables."
   ]
  },
  {
   "cell_type": "code",
   "execution_count": 209,
   "id": "da4189f7-ce8b-41db-b29b-86be1bef2257",
   "metadata": {},
   "outputs": [
    {
     "data": {
      "text/html": [
       "<div>\n",
       "<style scoped>\n",
       "    .dataframe tbody tr th:only-of-type {\n",
       "        vertical-align: middle;\n",
       "    }\n",
       "\n",
       "    .dataframe tbody tr th {\n",
       "        vertical-align: top;\n",
       "    }\n",
       "\n",
       "    .dataframe thead th {\n",
       "        text-align: right;\n",
       "    }\n",
       "</style>\n",
       "<table border=\"1\" class=\"dataframe\">\n",
       "  <thead>\n",
       "    <tr style=\"text-align: right;\">\n",
       "      <th></th>\n",
       "      <th>pargpnme</th>\n",
       "      <th>inctyp</th>\n",
       "      <th>derinc</th>\n",
       "      <th>derinclb</th>\n",
       "      <th>forcen</th>\n",
       "      <th>derincmul</th>\n",
       "      <th>dermthd</th>\n",
       "    </tr>\n",
       "  </thead>\n",
       "  <tbody>\n",
       "    <tr>\n",
       "      <th>0</th>\n",
       "      <td>alpha_p_gp</td>\n",
       "      <td>relative</td>\n",
       "      <td>0.1</td>\n",
       "      <td>0.0</td>\n",
       "      <td>switch</td>\n",
       "      <td>1.0</td>\n",
       "      <td>parabolic</td>\n",
       "    </tr>\n",
       "    <tr>\n",
       "      <th>1</th>\n",
       "      <td>alpha_m_gp</td>\n",
       "      <td>relative</td>\n",
       "      <td>0.1</td>\n",
       "      <td>0.0</td>\n",
       "      <td>switch</td>\n",
       "      <td>1.0</td>\n",
       "      <td>parabolic</td>\n",
       "    </tr>\n",
       "    <tr>\n",
       "      <th>2</th>\n",
       "      <td>n_p_gp</td>\n",
       "      <td>relative</td>\n",
       "      <td>0.1</td>\n",
       "      <td>0.0</td>\n",
       "      <td>switch</td>\n",
       "      <td>1.0</td>\n",
       "      <td>parabolic</td>\n",
       "    </tr>\n",
       "    <tr>\n",
       "      <th>3</th>\n",
       "      <td>n_m_gp</td>\n",
       "      <td>relative</td>\n",
       "      <td>0.1</td>\n",
       "      <td>0.0</td>\n",
       "      <td>switch</td>\n",
       "      <td>1.0</td>\n",
       "      <td>parabolic</td>\n",
       "    </tr>\n",
       "    <tr>\n",
       "      <th>4</th>\n",
       "      <td>wr_p_gp</td>\n",
       "      <td>relative</td>\n",
       "      <td>0.1</td>\n",
       "      <td>0.0</td>\n",
       "      <td>switch</td>\n",
       "      <td>1.0</td>\n",
       "      <td>parabolic</td>\n",
       "    </tr>\n",
       "    <tr>\n",
       "      <th>5</th>\n",
       "      <td>wr_m_gp</td>\n",
       "      <td>relative</td>\n",
       "      <td>0.1</td>\n",
       "      <td>0.0</td>\n",
       "      <td>switch</td>\n",
       "      <td>1.0</td>\n",
       "      <td>parabolic</td>\n",
       "    </tr>\n",
       "    <tr>\n",
       "      <th>6</th>\n",
       "      <td>tcs_p_gp</td>\n",
       "      <td>relative</td>\n",
       "      <td>0.1</td>\n",
       "      <td>0.0</td>\n",
       "      <td>switch</td>\n",
       "      <td>1.0</td>\n",
       "      <td>parabolic</td>\n",
       "    </tr>\n",
       "    <tr>\n",
       "      <th>7</th>\n",
       "      <td>tcs_m_gp</td>\n",
       "      <td>relative</td>\n",
       "      <td>0.1</td>\n",
       "      <td>0.0</td>\n",
       "      <td>switch</td>\n",
       "      <td>1.0</td>\n",
       "      <td>parabolic</td>\n",
       "    </tr>\n",
       "    <tr>\n",
       "      <th>8</th>\n",
       "      <td>tcd_p_gp</td>\n",
       "      <td>relative</td>\n",
       "      <td>0.1</td>\n",
       "      <td>0.0</td>\n",
       "      <td>switch</td>\n",
       "      <td>1.0</td>\n",
       "      <td>parabolic</td>\n",
       "    </tr>\n",
       "    <tr>\n",
       "      <th>9</th>\n",
       "      <td>tcd_m_gp</td>\n",
       "      <td>relative</td>\n",
       "      <td>0.1</td>\n",
       "      <td>0.0</td>\n",
       "      <td>switch</td>\n",
       "      <td>1.0</td>\n",
       "      <td>parabolic</td>\n",
       "    </tr>\n",
       "    <tr>\n",
       "      <th>10</th>\n",
       "      <td>af_p_gp</td>\n",
       "      <td>relative</td>\n",
       "      <td>0.1</td>\n",
       "      <td>0.0</td>\n",
       "      <td>switch</td>\n",
       "      <td>1.0</td>\n",
       "      <td>parabolic</td>\n",
       "    </tr>\n",
       "    <tr>\n",
       "      <th>11</th>\n",
       "      <td>af_m_gp</td>\n",
       "      <td>relative</td>\n",
       "      <td>0.1</td>\n",
       "      <td>0.0</td>\n",
       "      <td>switch</td>\n",
       "      <td>1.0</td>\n",
       "      <td>parabolic</td>\n",
       "    </tr>\n",
       "    <tr>\n",
       "      <th>12</th>\n",
       "      <td>auf_p_gp</td>\n",
       "      <td>relative</td>\n",
       "      <td>0.1</td>\n",
       "      <td>0.0</td>\n",
       "      <td>switch</td>\n",
       "      <td>1.0</td>\n",
       "      <td>parabolic</td>\n",
       "    </tr>\n",
       "    <tr>\n",
       "      <th>13</th>\n",
       "      <td>auf_m_gp</td>\n",
       "      <td>relative</td>\n",
       "      <td>0.1</td>\n",
       "      <td>0.0</td>\n",
       "      <td>switch</td>\n",
       "      <td>1.0</td>\n",
       "      <td>parabolic</td>\n",
       "    </tr>\n",
       "    <tr>\n",
       "      <th>14</th>\n",
       "      <td>por_p_gp</td>\n",
       "      <td>relative</td>\n",
       "      <td>0.1</td>\n",
       "      <td>0.0</td>\n",
       "      <td>switch</td>\n",
       "      <td>1.0</td>\n",
       "      <td>parabolic</td>\n",
       "    </tr>\n",
       "    <tr>\n",
       "      <th>15</th>\n",
       "      <td>por_m_gp</td>\n",
       "      <td>relative</td>\n",
       "      <td>0.1</td>\n",
       "      <td>0.0</td>\n",
       "      <td>switch</td>\n",
       "      <td>1.0</td>\n",
       "      <td>parabolic</td>\n",
       "    </tr>\n",
       "    <tr>\n",
       "      <th>16</th>\n",
       "      <td>perm_p_gp</td>\n",
       "      <td>relative</td>\n",
       "      <td>0.1</td>\n",
       "      <td>0.0</td>\n",
       "      <td>switch</td>\n",
       "      <td>1.0</td>\n",
       "      <td>parabolic</td>\n",
       "    </tr>\n",
       "    <tr>\n",
       "      <th>17</th>\n",
       "      <td>perm_m_gp</td>\n",
       "      <td>relative</td>\n",
       "      <td>0.1</td>\n",
       "      <td>0.0</td>\n",
       "      <td>switch</td>\n",
       "      <td>1.0</td>\n",
       "      <td>parabolic</td>\n",
       "    </tr>\n",
       "    <tr>\n",
       "      <th>18</th>\n",
       "      <td>den_p_gp</td>\n",
       "      <td>relative</td>\n",
       "      <td>0.1</td>\n",
       "      <td>0.0</td>\n",
       "      <td>switch</td>\n",
       "      <td>1.0</td>\n",
       "      <td>parabolic</td>\n",
       "    </tr>\n",
       "    <tr>\n",
       "      <th>19</th>\n",
       "      <td>den_m_gp</td>\n",
       "      <td>relative</td>\n",
       "      <td>0.1</td>\n",
       "      <td>0.0</td>\n",
       "      <td>switch</td>\n",
       "      <td>1.0</td>\n",
       "      <td>parabolic</td>\n",
       "    </tr>\n",
       "    <tr>\n",
       "      <th>20</th>\n",
       "      <td>albedo_bg_gp</td>\n",
       "      <td>relative</td>\n",
       "      <td>0.1</td>\n",
       "      <td>0.0</td>\n",
       "      <td>switch</td>\n",
       "      <td>1.0</td>\n",
       "      <td>parabolic</td>\n",
       "    </tr>\n",
       "    <tr>\n",
       "      <th>21</th>\n",
       "      <td>e_bg_gp</td>\n",
       "      <td>relative</td>\n",
       "      <td>0.1</td>\n",
       "      <td>0.0</td>\n",
       "      <td>switch</td>\n",
       "      <td>1.0</td>\n",
       "      <td>parabolic</td>\n",
       "    </tr>\n",
       "    <tr>\n",
       "      <th>22</th>\n",
       "      <td>pen_w_gp</td>\n",
       "      <td>relative</td>\n",
       "      <td>0.1</td>\n",
       "      <td>0.0</td>\n",
       "      <td>switch</td>\n",
       "      <td>1.0</td>\n",
       "      <td>parabolic</td>\n",
       "    </tr>\n",
       "    <tr>\n",
       "      <th>23</th>\n",
       "      <td>pen_s_gp</td>\n",
       "      <td>relative</td>\n",
       "      <td>0.1</td>\n",
       "      <td>0.0</td>\n",
       "      <td>switch</td>\n",
       "      <td>1.0</td>\n",
       "      <td>parabolic</td>\n",
       "    </tr>\n",
       "    <tr>\n",
       "      <th>24</th>\n",
       "      <td>z_bg_gp</td>\n",
       "      <td>relative</td>\n",
       "      <td>0.1</td>\n",
       "      <td>0.0</td>\n",
       "      <td>switch</td>\n",
       "      <td>1.0</td>\n",
       "      <td>parabolic</td>\n",
       "    </tr>\n",
       "    <tr>\n",
       "      <th>25</th>\n",
       "      <td>z_s_gp</td>\n",
       "      <td>relative</td>\n",
       "      <td>0.1</td>\n",
       "      <td>0.0</td>\n",
       "      <td>switch</td>\n",
       "      <td>1.0</td>\n",
       "      <td>parabolic</td>\n",
       "    </tr>\n",
       "    <tr>\n",
       "      <th>26</th>\n",
       "      <td>ini_sd_gp</td>\n",
       "      <td>relative</td>\n",
       "      <td>0.1</td>\n",
       "      <td>0.0</td>\n",
       "      <td>switch</td>\n",
       "      <td>1.0</td>\n",
       "      <td>parabolic</td>\n",
       "    </tr>\n",
       "    <tr>\n",
       "      <th>27</th>\n",
       "      <td>ini_wt_gp</td>\n",
       "      <td>relative</td>\n",
       "      <td>0.1</td>\n",
       "      <td>0.0</td>\n",
       "      <td>switch</td>\n",
       "      <td>1.0</td>\n",
       "      <td>parabolic</td>\n",
       "    </tr>\n",
       "    <tr>\n",
       "      <th>28</th>\n",
       "      <td>sden_gp</td>\n",
       "      <td>relative</td>\n",
       "      <td>0.1</td>\n",
       "      <td>0.0</td>\n",
       "      <td>switch</td>\n",
       "      <td>1.0</td>\n",
       "      <td>parabolic</td>\n",
       "    </tr>\n",
       "  </tbody>\n",
       "</table>\n",
       "</div>"
      ],
      "text/plain": [
       "        pargpnme    inctyp  derinc  derinclb  forcen  derincmul    dermthd\n",
       "0     alpha_p_gp  relative     0.1       0.0  switch        1.0  parabolic\n",
       "1     alpha_m_gp  relative     0.1       0.0  switch        1.0  parabolic\n",
       "2         n_p_gp  relative     0.1       0.0  switch        1.0  parabolic\n",
       "3         n_m_gp  relative     0.1       0.0  switch        1.0  parabolic\n",
       "4        wr_p_gp  relative     0.1       0.0  switch        1.0  parabolic\n",
       "5        wr_m_gp  relative     0.1       0.0  switch        1.0  parabolic\n",
       "6       tcs_p_gp  relative     0.1       0.0  switch        1.0  parabolic\n",
       "7       tcs_m_gp  relative     0.1       0.0  switch        1.0  parabolic\n",
       "8       tcd_p_gp  relative     0.1       0.0  switch        1.0  parabolic\n",
       "9       tcd_m_gp  relative     0.1       0.0  switch        1.0  parabolic\n",
       "10       af_p_gp  relative     0.1       0.0  switch        1.0  parabolic\n",
       "11       af_m_gp  relative     0.1       0.0  switch        1.0  parabolic\n",
       "12      auf_p_gp  relative     0.1       0.0  switch        1.0  parabolic\n",
       "13      auf_m_gp  relative     0.1       0.0  switch        1.0  parabolic\n",
       "14      por_p_gp  relative     0.1       0.0  switch        1.0  parabolic\n",
       "15      por_m_gp  relative     0.1       0.0  switch        1.0  parabolic\n",
       "16     perm_p_gp  relative     0.1       0.0  switch        1.0  parabolic\n",
       "17     perm_m_gp  relative     0.1       0.0  switch        1.0  parabolic\n",
       "18      den_p_gp  relative     0.1       0.0  switch        1.0  parabolic\n",
       "19      den_m_gp  relative     0.1       0.0  switch        1.0  parabolic\n",
       "20  albedo_bg_gp  relative     0.1       0.0  switch        1.0  parabolic\n",
       "21       e_bg_gp  relative     0.1       0.0  switch        1.0  parabolic\n",
       "22      pen_w_gp  relative     0.1       0.0  switch        1.0  parabolic\n",
       "23      pen_s_gp  relative     0.1       0.0  switch        1.0  parabolic\n",
       "24       z_bg_gp  relative     0.1       0.0  switch        1.0  parabolic\n",
       "25        z_s_gp  relative     0.1       0.0  switch        1.0  parabolic\n",
       "26     ini_sd_gp  relative     0.1       0.0  switch        1.0  parabolic\n",
       "27     ini_wt_gp  relative     0.1       0.0  switch        1.0  parabolic\n",
       "28       sden_gp  relative     0.1       0.0  switch        1.0  parabolic"
      ]
     },
     "execution_count": 209,
     "metadata": {},
     "output_type": "execute_result"
    }
   ],
   "source": [
    "pargrp = pargrp_data_example.copy()\n",
    "# Dropping all rows to replace with the two newly defined rows\n",
    "pargrp.drop(pargrp.index, inplace=True)\n",
    "# Dropping the columns - splitthresh, splitreldiff, splitaction\n",
    "pargrp.drop(columns=['splitthresh', 'splitreldiff', 'splitaction'], inplace=True)\n",
    "\n",
    "group_names = ['alpha_p_gp', 'alpha_m_gp', 'n_p_gp', 'n_m_gp', 'wr_p_gp', 'wr_m_gp', 'tcs_p_gp', 'tcs_m_gp', 'tcd_p_gp', 'tcd_m_gp', 'af_p_gp', 'af_m_gp', 'auf_p_gp', 'auf_m_gp', 'por_p_gp', 'por_m_gp', 'perm_p_gp', 'perm_m_gp', 'den_p_gp', 'den_m_gp','albedo_bg_gp','e_bg_gp','pen_w_gp','pen_s_gp','z_bg_gp','z_s_gp', 'ini_sd_gp', 'ini_wt_gp', 'sden_gp']\n",
    "\n",
    "for i, gp_nm in enumerate(group_names):\n",
    "    pargrp.loc[i] = [gp_nm, 'relative',0.1,0.0,'switch',1.0,'parabolic']\n",
    "    #print(i, gp_nm)\n",
    "\n",
    "pargrp"
   ]
  },
  {
   "cell_type": "code",
   "execution_count": 210,
   "id": "5749a257",
   "metadata": {},
   "outputs": [],
   "source": [
    "#PESTCHEK Version 17.3. Watermark Numerical Computing.\n",
    "#Errors ----->\n",
    "#Initial derivative increment for parameter \"ini_t\" greater than parameter \n",
    "#range divided by 3.2.\n",
    "# Due to the following error, we are considering to change the increment to 1 instead of 0.1\n",
    "#pargrp.iloc[26,2] = 1"
   ]
  },
  {
   "cell_type": "code",
   "execution_count": 211,
   "id": "4d4f2700-1a79-42c4-bc99-b96f5ff951db",
   "metadata": {},
   "outputs": [
    {
     "data": {
      "text/plain": [
       "'Case5_III_C_cv_start.demo'"
      ]
     },
     "execution_count": 211,
     "metadata": {},
     "output_type": "execute_result"
    }
   ],
   "source": [
    "directory_name"
   ]
  },
  {
   "cell_type": "code",
   "execution_count": 212,
   "id": "eee2e66f-76c9-499f-a78b-b226940a5b5a",
   "metadata": {},
   "outputs": [
    {
     "data": {
      "text/plain": [
       "'Case5_III_C_cv'"
      ]
     },
     "execution_count": 212,
     "metadata": {},
     "output_type": "execute_result"
    }
   ],
   "source": [
    "file_name"
   ]
  },
  {
   "cell_type": "code",
   "execution_count": 213,
   "id": "abbabe85",
   "metadata": {},
   "outputs": [
    {
     "data": {
      "text/plain": [
       "'/home/rk/pestpp/pestpp/rk_model_final_4yrs/Case5_III_C_cv_start.demo'"
      ]
     },
     "execution_count": 213,
     "metadata": {},
     "output_type": "execute_result"
    }
   ],
   "source": [
    "os.getcwd()"
   ]
  },
  {
   "cell_type": "code",
   "execution_count": 214,
   "id": "64517f7e",
   "metadata": {},
   "outputs": [],
   "source": [
    "#os.chdir('..')"
   ]
  },
  {
   "cell_type": "code",
   "execution_count": 215,
   "id": "eaffd0cc-fee4-4b89-9e35-0b3a1a41b0d2",
   "metadata": {},
   "outputs": [],
   "source": [
    "# Exporting the parameter group csv file\n",
    "pargrp.to_csv(f'{directory_name}/{file_name}_pargrp_data.csv', index=False)"
   ]
  },
  {
   "cell_type": "code",
   "execution_count": 216,
   "id": "2546db73",
   "metadata": {
    "scrolled": true
   },
   "outputs": [
    {
     "data": {
      "text/plain": [
       "'/home/rk/pestpp/pestpp/rk_model_final_4yrs'"
      ]
     },
     "execution_count": 216,
     "metadata": {},
     "output_type": "execute_result"
    }
   ],
   "source": [
    "os.getcwd()"
   ]
  },
  {
   "cell_type": "markdown",
   "id": "fccccfc6-d9d7-4aa3-a832-b2e8bfef8218",
   "metadata": {},
   "source": [
    "### 3. Parameter names external\n",
    "There are 30 parameters that we are considering for this analysis"
   ]
  },
  {
   "cell_type": "code",
   "execution_count": 168,
   "id": "de22227b-1b1c-4060-a445-8198391c2646",
   "metadata": {},
   "outputs": [
    {
     "data": {
      "text/html": [
       "<div>\n",
       "<style scoped>\n",
       "    .dataframe tbody tr th:only-of-type {\n",
       "        vertical-align: middle;\n",
       "    }\n",
       "\n",
       "    .dataframe tbody tr th {\n",
       "        vertical-align: top;\n",
       "    }\n",
       "\n",
       "    .dataframe thead th {\n",
       "        text-align: right;\n",
       "    }\n",
       "</style>\n",
       "<table border=\"1\" class=\"dataframe\">\n",
       "  <thead>\n",
       "    <tr style=\"text-align: right;\">\n",
       "      <th></th>\n",
       "      <th>parnme</th>\n",
       "      <th>partrans</th>\n",
       "      <th>parchglim</th>\n",
       "      <th>parval1</th>\n",
       "      <th>parlbnd</th>\n",
       "      <th>parubnd</th>\n",
       "      <th>pargp</th>\n",
       "      <th>scale</th>\n",
       "      <th>offset</th>\n",
       "      <th>dercom</th>\n",
       "      <th>partied</th>\n",
       "    </tr>\n",
       "  </thead>\n",
       "  <tbody>\n",
       "    <tr>\n",
       "      <th>0</th>\n",
       "      <td>npf_k33_0_000_000</td>\n",
       "      <td>log</td>\n",
       "      <td>factor</td>\n",
       "      <td>0.3</td>\n",
       "      <td>0.03</td>\n",
       "      <td>3.0</td>\n",
       "      <td>npf_k33_0</td>\n",
       "      <td>1.0</td>\n",
       "      <td>0.0</td>\n",
       "      <td>1</td>\n",
       "      <td>NaN</td>\n",
       "    </tr>\n",
       "    <tr>\n",
       "      <th>1</th>\n",
       "      <td>npf_k33_0_000_001</td>\n",
       "      <td>tied</td>\n",
       "      <td>factor</td>\n",
       "      <td>0.3</td>\n",
       "      <td>0.03</td>\n",
       "      <td>3.0</td>\n",
       "      <td>npf_k33_0</td>\n",
       "      <td>1.0</td>\n",
       "      <td>0.0</td>\n",
       "      <td>1</td>\n",
       "      <td>npf_k33_0_000_000</td>\n",
       "    </tr>\n",
       "    <tr>\n",
       "      <th>2</th>\n",
       "      <td>npf_k33_0_000_002</td>\n",
       "      <td>tied</td>\n",
       "      <td>factor</td>\n",
       "      <td>0.3</td>\n",
       "      <td>0.03</td>\n",
       "      <td>3.0</td>\n",
       "      <td>npf_k33_0</td>\n",
       "      <td>1.0</td>\n",
       "      <td>0.0</td>\n",
       "      <td>1</td>\n",
       "      <td>npf_k33_0_000_000</td>\n",
       "    </tr>\n",
       "    <tr>\n",
       "      <th>3</th>\n",
       "      <td>npf_k33_0_000_003</td>\n",
       "      <td>tied</td>\n",
       "      <td>factor</td>\n",
       "      <td>0.3</td>\n",
       "      <td>0.03</td>\n",
       "      <td>3.0</td>\n",
       "      <td>npf_k33_0</td>\n",
       "      <td>1.0</td>\n",
       "      <td>0.0</td>\n",
       "      <td>1</td>\n",
       "      <td>npf_k33_0_000_000</td>\n",
       "    </tr>\n",
       "    <tr>\n",
       "      <th>4</th>\n",
       "      <td>npf_k33_0_000_004</td>\n",
       "      <td>tied</td>\n",
       "      <td>factor</td>\n",
       "      <td>0.3</td>\n",
       "      <td>0.03</td>\n",
       "      <td>3.0</td>\n",
       "      <td>npf_k33_0</td>\n",
       "      <td>1.0</td>\n",
       "      <td>0.0</td>\n",
       "      <td>1</td>\n",
       "      <td>npf_k33_0_000_000</td>\n",
       "    </tr>\n",
       "  </tbody>\n",
       "</table>\n",
       "</div>"
      ],
      "text/plain": [
       "              parnme partrans parchglim  parval1  parlbnd  parubnd      pargp  \\\n",
       "0  npf_k33_0_000_000      log    factor      0.3     0.03      3.0  npf_k33_0   \n",
       "1  npf_k33_0_000_001     tied    factor      0.3     0.03      3.0  npf_k33_0   \n",
       "2  npf_k33_0_000_002     tied    factor      0.3     0.03      3.0  npf_k33_0   \n",
       "3  npf_k33_0_000_003     tied    factor      0.3     0.03      3.0  npf_k33_0   \n",
       "4  npf_k33_0_000_004     tied    factor      0.3     0.03      3.0  npf_k33_0   \n",
       "\n",
       "   scale  offset  dercom            partied  \n",
       "0    1.0     0.0       1                NaN  \n",
       "1    1.0     0.0       1  npf_k33_0_000_000  \n",
       "2    1.0     0.0       1  npf_k33_0_000_000  \n",
       "3    1.0     0.0       1  npf_k33_0_000_000  \n",
       "4    1.0     0.0       1  npf_k33_0_000_000  "
      ]
     },
     "execution_count": 168,
     "metadata": {},
     "output_type": "execute_result"
    }
   ],
   "source": [
    "par_data_example = pd.read_csv('Freyberg_example/freyberg6_run_glm.par_data.csv') \n",
    "par_data_example.head()"
   ]
  },
  {
   "cell_type": "markdown",
   "id": "ebef45d4-9558-4351-abf4-0ca2466c174c",
   "metadata": {},
   "source": [
    "The following details need to be defined:\n",
    "- PARNME: 'n_m', 'tcs_m', 'af_m', 'af_p', .... - It is the parameter name\n",
    "- PARTRANS: 'none' {'log' - Can we considered later if the inversion process does not occur. Log-transformations helps in ensuring that the parameter changes and model output changes are more linear.}\n",
    "- PARCHGLIM: 'factor' - Alteration to a parameter's value is factor-limited. { PARCHGLIM must be provided with a value of “relative” or “factor”. The former designates that alterations to a parameter’s value are factor-limited whereas the latter designates that alterations to its value are relative-limited. }\n",
    "- PARVALI: 1.2, 1, 0.05, 0.005 - These are the starting values for the parameters\n",
    "- PARLBND: 1.05, 0.8, 0.02, 0.002 - Lower bounds for the parameters.\n",
    "- PARUBND: 3, 2.5, 0.1, 0.01 - Upper bounds for the parameters.\n",
    "- PARGRP: 'hydraulic','thermal','hydraulic', 'hydraulic' - It is the parameter group names associated with the parameters. \n",
    "- SCALE: 1.0, 1.0, 1.0, 1.0 - No scale or offset is provided\n",
    "- OFFSET: 0.0, 0.0, 0.0, 0.0 - No scale or offset is provided\n",
    "- DERCOM: 1, 1, 1, 1 - Only model command exists. Hence we give 1 which represents 'ats'\n",
    "- Partied: This column will be dropped since we have no tied elements"
   ]
  },
  {
   "cell_type": "code",
   "execution_count": 217,
   "id": "a38a9f6f",
   "metadata": {},
   "outputs": [
    {
     "data": {
      "text/plain": [
       "'/home/rk/pestpp/pestpp/rk_model_final_4yrs'"
      ]
     },
     "execution_count": 217,
     "metadata": {},
     "output_type": "execute_result"
    }
   ],
   "source": [
    "os.getcwd()"
   ]
  },
  {
   "cell_type": "code",
   "execution_count": 170,
   "id": "9dc94793-1e13-47ae-9a09-c1809ccf33ef",
   "metadata": {},
   "outputs": [
    {
     "data": {
      "text/html": [
       "<div>\n",
       "<style scoped>\n",
       "    .dataframe tbody tr th:only-of-type {\n",
       "        vertical-align: middle;\n",
       "    }\n",
       "\n",
       "    .dataframe tbody tr th {\n",
       "        vertical-align: top;\n",
       "    }\n",
       "\n",
       "    .dataframe thead th {\n",
       "        text-align: right;\n",
       "    }\n",
       "</style>\n",
       "<table border=\"1\" class=\"dataframe\">\n",
       "  <thead>\n",
       "    <tr style=\"text-align: right;\">\n",
       "      <th></th>\n",
       "      <th>PARVAL1</th>\n",
       "      <th>PARLBND</th>\n",
       "      <th>PARUBND</th>\n",
       "    </tr>\n",
       "    <tr>\n",
       "      <th>parameter</th>\n",
       "      <th></th>\n",
       "      <th></th>\n",
       "      <th></th>\n",
       "    </tr>\n",
       "  </thead>\n",
       "  <tbody>\n",
       "    <tr>\n",
       "      <th>alpha_p</th>\n",
       "      <td>0.010000</td>\n",
       "      <td>0.002500</td>\n",
       "      <td>0.017500</td>\n",
       "    </tr>\n",
       "    <tr>\n",
       "      <th>alpha_m</th>\n",
       "      <td>0.001825</td>\n",
       "      <td>0.000456</td>\n",
       "      <td>0.003194</td>\n",
       "    </tr>\n",
       "    <tr>\n",
       "      <th>n_p</th>\n",
       "      <td>2.050000</td>\n",
       "      <td>1.025000</td>\n",
       "      <td>3.075000</td>\n",
       "    </tr>\n",
       "    <tr>\n",
       "      <th>n_m</th>\n",
       "      <td>2.050000</td>\n",
       "      <td>1.025000</td>\n",
       "      <td>3.075000</td>\n",
       "    </tr>\n",
       "    <tr>\n",
       "      <th>wr_p</th>\n",
       "      <td>0.224324</td>\n",
       "      <td>0.056081</td>\n",
       "      <td>0.392567</td>\n",
       "    </tr>\n",
       "  </tbody>\n",
       "</table>\n",
       "</div>"
      ],
      "text/plain": [
       "            PARVAL1   PARLBND   PARUBND\n",
       "parameter                              \n",
       "alpha_p    0.010000  0.002500  0.017500\n",
       "alpha_m    0.001825  0.000456  0.003194\n",
       "n_p        2.050000  1.025000  3.075000\n",
       "n_m        2.050000  1.025000  3.075000\n",
       "wr_p       0.224324  0.056081  0.392567"
      ]
     },
     "execution_count": 170,
     "metadata": {},
     "output_type": "execute_result"
    }
   ],
   "source": [
    "# Getting the best parameter dataset from the simulation - all_params_afterrw.demo\n",
    "directory_name_params = 'all_params_afterrw.demo'\n",
    "best_params_afterrw = pd.read_csv(f'{directory_name_params}/rk_model_glm_cf_v1_allparams_rw.par',delimiter='\\s+',skiprows=1, header=None)\n",
    "best_params_afterrw.drop(columns=[2,3],inplace=True)\n",
    "best_params_afterrw.columns = ['parameter','PARVAL1']\n",
    "best_params_afterrw.head()\n",
    "\n",
    "\n",
    "\n",
    "length_index = len(best_params_afterrw.index)\n",
    "\n",
    "\n",
    "best_params_afterrw.index = best_params_afterrw['parameter']\n",
    "best_params_afterrw.drop(columns='parameter',inplace=True)\n",
    "\n",
    "\n",
    "# Changing the initial value of n_p, n_m and den_m\n",
    "best_params_afterrw.loc['n_p'] = 2.05 # Since value below 1.05 is not allowed\n",
    "best_params_afterrw.loc['n_m'] = 2.05 # Since value below 1.05 is not allowed\n",
    "best_params_afterrw.loc['den_m'] = 1900 # Since value above 2700 represents a soil mineral layer\n",
    "\n",
    "#best_params_afterrw.loc['perm_p'] = 5.346622127220000e-11\n",
    "\n",
    "# Changing to float type \n",
    "best_params_afterrw = best_params_afterrw.astype('float64')\n",
    "\n",
    "# Adding the lower and upper bound - 75% for all params except n_p, n_m and den_m which is given 50 %\n",
    "best_params_afterrw['PARLBND'] = best_params_afterrw['PARVAL1']*0.25\n",
    "best_params_afterrw['PARUBND'] = best_params_afterrw['PARVAL1']*1.75\n",
    "\n",
    "best_params_afterrw.loc['n_p']['PARLBND'] = best_params_afterrw.loc['n_p']['PARVAL1']*0.5\n",
    "best_params_afterrw.loc['n_p']['PARUBND'] = best_params_afterrw.loc['n_p']['PARVAL1']*1.5\n",
    "\n",
    "best_params_afterrw.loc['n_m']['PARLBND'] = best_params_afterrw.loc['n_m']['PARVAL1']*0.5\n",
    "best_params_afterrw.loc['n_m']['PARUBND'] = best_params_afterrw.loc['n_m']['PARVAL1']*1.5\n",
    "\n",
    "best_params_afterrw.loc['den_m']['PARLBND'] = best_params_afterrw.loc['den_m']['PARVAL1']*0.5\n",
    "best_params_afterrw.loc['den_m']['PARUBND'] = best_params_afterrw.loc['den_m']['PARVAL1']*1.5\n",
    "\n",
    "best_params_afterrw.head()"
   ]
  },
  {
   "cell_type": "code",
   "execution_count": 218,
   "id": "3ea4f1a1-ccab-4da1-aca5-608e11ec529b",
   "metadata": {},
   "outputs": [
    {
     "data": {
      "text/html": [
       "<div>\n",
       "<style scoped>\n",
       "    .dataframe tbody tr th:only-of-type {\n",
       "        vertical-align: middle;\n",
       "    }\n",
       "\n",
       "    .dataframe tbody tr th {\n",
       "        vertical-align: top;\n",
       "    }\n",
       "\n",
       "    .dataframe thead th {\n",
       "        text-align: right;\n",
       "    }\n",
       "</style>\n",
       "<table border=\"1\" class=\"dataframe\">\n",
       "  <thead>\n",
       "    <tr style=\"text-align: right;\">\n",
       "      <th></th>\n",
       "      <th>parnme</th>\n",
       "      <th>partrans</th>\n",
       "      <th>parchglim</th>\n",
       "      <th>parval1</th>\n",
       "      <th>parlbnd</th>\n",
       "      <th>parubnd</th>\n",
       "      <th>pargp</th>\n",
       "      <th>scale</th>\n",
       "      <th>offset</th>\n",
       "      <th>dercom</th>\n",
       "    </tr>\n",
       "  </thead>\n",
       "  <tbody>\n",
       "    <tr>\n",
       "      <th>0</th>\n",
       "      <td>alpha_p</td>\n",
       "      <td>none</td>\n",
       "      <td>factor</td>\n",
       "      <td>1.000000e-02</td>\n",
       "      <td>2.500000e-03</td>\n",
       "      <td>1.750000e-02</td>\n",
       "      <td>alpha_p_gp</td>\n",
       "      <td>1.0</td>\n",
       "      <td>0.0</td>\n",
       "      <td>1</td>\n",
       "    </tr>\n",
       "    <tr>\n",
       "      <th>1</th>\n",
       "      <td>alpha_m</td>\n",
       "      <td>none</td>\n",
       "      <td>factor</td>\n",
       "      <td>1.824914e-03</td>\n",
       "      <td>4.562286e-04</td>\n",
       "      <td>3.193600e-03</td>\n",
       "      <td>alpha_m_gp</td>\n",
       "      <td>1.0</td>\n",
       "      <td>0.0</td>\n",
       "      <td>1</td>\n",
       "    </tr>\n",
       "    <tr>\n",
       "      <th>2</th>\n",
       "      <td>n_p</td>\n",
       "      <td>none</td>\n",
       "      <td>factor</td>\n",
       "      <td>2.050000e+00</td>\n",
       "      <td>1.025000e+00</td>\n",
       "      <td>3.075000e+00</td>\n",
       "      <td>n_p_gp</td>\n",
       "      <td>1.0</td>\n",
       "      <td>0.0</td>\n",
       "      <td>1</td>\n",
       "    </tr>\n",
       "    <tr>\n",
       "      <th>3</th>\n",
       "      <td>n_m</td>\n",
       "      <td>none</td>\n",
       "      <td>factor</td>\n",
       "      <td>2.050000e+00</td>\n",
       "      <td>1.025000e+00</td>\n",
       "      <td>3.075000e+00</td>\n",
       "      <td>n_m_gp</td>\n",
       "      <td>1.0</td>\n",
       "      <td>0.0</td>\n",
       "      <td>1</td>\n",
       "    </tr>\n",
       "    <tr>\n",
       "      <th>4</th>\n",
       "      <td>wr_p</td>\n",
       "      <td>none</td>\n",
       "      <td>factor</td>\n",
       "      <td>2.243241e-01</td>\n",
       "      <td>5.608104e-02</td>\n",
       "      <td>3.925673e-01</td>\n",
       "      <td>wr_p_gp</td>\n",
       "      <td>1.0</td>\n",
       "      <td>0.0</td>\n",
       "      <td>1</td>\n",
       "    </tr>\n",
       "    <tr>\n",
       "      <th>5</th>\n",
       "      <td>wr_m</td>\n",
       "      <td>none</td>\n",
       "      <td>factor</td>\n",
       "      <td>1.594881e-01</td>\n",
       "      <td>3.987202e-02</td>\n",
       "      <td>2.791041e-01</td>\n",
       "      <td>wr_m_gp</td>\n",
       "      <td>1.0</td>\n",
       "      <td>0.0</td>\n",
       "      <td>1</td>\n",
       "    </tr>\n",
       "    <tr>\n",
       "      <th>6</th>\n",
       "      <td>tcs_p</td>\n",
       "      <td>none</td>\n",
       "      <td>factor</td>\n",
       "      <td>4.395766e-01</td>\n",
       "      <td>1.098942e-01</td>\n",
       "      <td>7.692591e-01</td>\n",
       "      <td>tcs_p_gp</td>\n",
       "      <td>1.0</td>\n",
       "      <td>0.0</td>\n",
       "      <td>1</td>\n",
       "    </tr>\n",
       "    <tr>\n",
       "      <th>7</th>\n",
       "      <td>tcs_m</td>\n",
       "      <td>none</td>\n",
       "      <td>factor</td>\n",
       "      <td>9.521051e-01</td>\n",
       "      <td>2.380263e-01</td>\n",
       "      <td>1.666184e+00</td>\n",
       "      <td>tcs_m_gp</td>\n",
       "      <td>1.0</td>\n",
       "      <td>0.0</td>\n",
       "      <td>1</td>\n",
       "    </tr>\n",
       "    <tr>\n",
       "      <th>8</th>\n",
       "      <td>tcd_p</td>\n",
       "      <td>none</td>\n",
       "      <td>factor</td>\n",
       "      <td>1.010234e-01</td>\n",
       "      <td>2.525585e-02</td>\n",
       "      <td>1.767910e-01</td>\n",
       "      <td>tcd_p_gp</td>\n",
       "      <td>1.0</td>\n",
       "      <td>0.0</td>\n",
       "      <td>1</td>\n",
       "    </tr>\n",
       "    <tr>\n",
       "      <th>9</th>\n",
       "      <td>tcd_m</td>\n",
       "      <td>none</td>\n",
       "      <td>factor</td>\n",
       "      <td>9.844054e-01</td>\n",
       "      <td>2.461014e-01</td>\n",
       "      <td>1.722710e+00</td>\n",
       "      <td>tcd_m_gp</td>\n",
       "      <td>1.0</td>\n",
       "      <td>0.0</td>\n",
       "      <td>1</td>\n",
       "    </tr>\n",
       "    <tr>\n",
       "      <th>10</th>\n",
       "      <td>af_p</td>\n",
       "      <td>none</td>\n",
       "      <td>factor</td>\n",
       "      <td>1.505114e+00</td>\n",
       "      <td>3.762785e-01</td>\n",
       "      <td>2.633950e+00</td>\n",
       "      <td>af_p_gp</td>\n",
       "      <td>1.0</td>\n",
       "      <td>0.0</td>\n",
       "      <td>1</td>\n",
       "    </tr>\n",
       "    <tr>\n",
       "      <th>11</th>\n",
       "      <td>af_m</td>\n",
       "      <td>none</td>\n",
       "      <td>factor</td>\n",
       "      <td>1.499389e+00</td>\n",
       "      <td>3.748473e-01</td>\n",
       "      <td>2.623931e+00</td>\n",
       "      <td>af_m_gp</td>\n",
       "      <td>1.0</td>\n",
       "      <td>0.0</td>\n",
       "      <td>1</td>\n",
       "    </tr>\n",
       "    <tr>\n",
       "      <th>12</th>\n",
       "      <td>auf_p</td>\n",
       "      <td>none</td>\n",
       "      <td>factor</td>\n",
       "      <td>4.869354e-01</td>\n",
       "      <td>1.217339e-01</td>\n",
       "      <td>8.521370e-01</td>\n",
       "      <td>auf_p_gp</td>\n",
       "      <td>1.0</td>\n",
       "      <td>0.0</td>\n",
       "      <td>1</td>\n",
       "    </tr>\n",
       "    <tr>\n",
       "      <th>13</th>\n",
       "      <td>auf_m</td>\n",
       "      <td>none</td>\n",
       "      <td>factor</td>\n",
       "      <td>6.988840e-01</td>\n",
       "      <td>1.747210e-01</td>\n",
       "      <td>1.223047e+00</td>\n",
       "      <td>auf_m_gp</td>\n",
       "      <td>1.0</td>\n",
       "      <td>0.0</td>\n",
       "      <td>1</td>\n",
       "    </tr>\n",
       "    <tr>\n",
       "      <th>14</th>\n",
       "      <td>por_p</td>\n",
       "      <td>none</td>\n",
       "      <td>factor</td>\n",
       "      <td>6.373950e-01</td>\n",
       "      <td>1.593487e-01</td>\n",
       "      <td>1.115441e+00</td>\n",
       "      <td>por_p_gp</td>\n",
       "      <td>1.0</td>\n",
       "      <td>0.0</td>\n",
       "      <td>1</td>\n",
       "    </tr>\n",
       "    <tr>\n",
       "      <th>15</th>\n",
       "      <td>por_m</td>\n",
       "      <td>none</td>\n",
       "      <td>factor</td>\n",
       "      <td>4.810308e-01</td>\n",
       "      <td>1.202577e-01</td>\n",
       "      <td>8.418038e-01</td>\n",
       "      <td>por_m_gp</td>\n",
       "      <td>1.0</td>\n",
       "      <td>0.0</td>\n",
       "      <td>1</td>\n",
       "    </tr>\n",
       "    <tr>\n",
       "      <th>16</th>\n",
       "      <td>perm_p</td>\n",
       "      <td>none</td>\n",
       "      <td>factor</td>\n",
       "      <td>5.346622e-11</td>\n",
       "      <td>1.336656e-11</td>\n",
       "      <td>9.356589e-11</td>\n",
       "      <td>perm_p_gp</td>\n",
       "      <td>1.0</td>\n",
       "      <td>0.0</td>\n",
       "      <td>1</td>\n",
       "    </tr>\n",
       "    <tr>\n",
       "      <th>17</th>\n",
       "      <td>perm_m</td>\n",
       "      <td>none</td>\n",
       "      <td>factor</td>\n",
       "      <td>1.000000e-13</td>\n",
       "      <td>2.500000e-14</td>\n",
       "      <td>1.750000e-13</td>\n",
       "      <td>perm_m_gp</td>\n",
       "      <td>1.0</td>\n",
       "      <td>0.0</td>\n",
       "      <td>1</td>\n",
       "    </tr>\n",
       "    <tr>\n",
       "      <th>18</th>\n",
       "      <td>den_p</td>\n",
       "      <td>none</td>\n",
       "      <td>factor</td>\n",
       "      <td>9.000000e+02</td>\n",
       "      <td>2.250000e+02</td>\n",
       "      <td>1.575000e+03</td>\n",
       "      <td>den_p_gp</td>\n",
       "      <td>1.0</td>\n",
       "      <td>0.0</td>\n",
       "      <td>1</td>\n",
       "    </tr>\n",
       "    <tr>\n",
       "      <th>19</th>\n",
       "      <td>den_m</td>\n",
       "      <td>none</td>\n",
       "      <td>factor</td>\n",
       "      <td>1.900000e+03</td>\n",
       "      <td>9.500000e+02</td>\n",
       "      <td>2.850000e+03</td>\n",
       "      <td>den_m_gp</td>\n",
       "      <td>1.0</td>\n",
       "      <td>0.0</td>\n",
       "      <td>1</td>\n",
       "    </tr>\n",
       "    <tr>\n",
       "      <th>20</th>\n",
       "      <td>albedo_bg</td>\n",
       "      <td>none</td>\n",
       "      <td>factor</td>\n",
       "      <td>5.500000e-01</td>\n",
       "      <td>1.375000e-01</td>\n",
       "      <td>9.625000e-01</td>\n",
       "      <td>albedo_bg_gp</td>\n",
       "      <td>1.0</td>\n",
       "      <td>0.0</td>\n",
       "      <td>1</td>\n",
       "    </tr>\n",
       "    <tr>\n",
       "      <th>21</th>\n",
       "      <td>e_bg</td>\n",
       "      <td>none</td>\n",
       "      <td>factor</td>\n",
       "      <td>5.500000e-01</td>\n",
       "      <td>1.375000e-01</td>\n",
       "      <td>9.625000e-01</td>\n",
       "      <td>e_bg_gp</td>\n",
       "      <td>1.0</td>\n",
       "      <td>0.0</td>\n",
       "      <td>1</td>\n",
       "    </tr>\n",
       "    <tr>\n",
       "      <th>22</th>\n",
       "      <td>pen_w</td>\n",
       "      <td>none</td>\n",
       "      <td>factor</td>\n",
       "      <td>1.000000e-02</td>\n",
       "      <td>2.500000e-03</td>\n",
       "      <td>1.750000e-02</td>\n",
       "      <td>pen_w_gp</td>\n",
       "      <td>1.0</td>\n",
       "      <td>0.0</td>\n",
       "      <td>1</td>\n",
       "    </tr>\n",
       "    <tr>\n",
       "      <th>23</th>\n",
       "      <td>pen_s</td>\n",
       "      <td>none</td>\n",
       "      <td>factor</td>\n",
       "      <td>2.000000e-02</td>\n",
       "      <td>5.000000e-03</td>\n",
       "      <td>3.500000e-02</td>\n",
       "      <td>pen_s_gp</td>\n",
       "      <td>1.0</td>\n",
       "      <td>0.0</td>\n",
       "      <td>1</td>\n",
       "    </tr>\n",
       "    <tr>\n",
       "      <th>24</th>\n",
       "      <td>z_bg</td>\n",
       "      <td>none</td>\n",
       "      <td>factor</td>\n",
       "      <td>4.000000e-02</td>\n",
       "      <td>1.000000e-02</td>\n",
       "      <td>7.000000e-02</td>\n",
       "      <td>z_bg_gp</td>\n",
       "      <td>1.0</td>\n",
       "      <td>0.0</td>\n",
       "      <td>1</td>\n",
       "    </tr>\n",
       "    <tr>\n",
       "      <th>25</th>\n",
       "      <td>z_s</td>\n",
       "      <td>none</td>\n",
       "      <td>factor</td>\n",
       "      <td>5.000000e-03</td>\n",
       "      <td>1.250000e-03</td>\n",
       "      <td>8.750000e-03</td>\n",
       "      <td>albedo_bg_gp</td>\n",
       "      <td>1.0</td>\n",
       "      <td>0.0</td>\n",
       "      <td>1</td>\n",
       "    </tr>\n",
       "    <tr>\n",
       "      <th>26</th>\n",
       "      <td>ini_sd</td>\n",
       "      <td>none</td>\n",
       "      <td>factor</td>\n",
       "      <td>1.500000e-01</td>\n",
       "      <td>1.000000e-03</td>\n",
       "      <td>3.000000e-01</td>\n",
       "      <td>ini_sd_gp</td>\n",
       "      <td>1.0</td>\n",
       "      <td>0.0</td>\n",
       "      <td>1</td>\n",
       "    </tr>\n",
       "    <tr>\n",
       "      <th>27</th>\n",
       "      <td>ini_wt</td>\n",
       "      <td>none</td>\n",
       "      <td>factor</td>\n",
       "      <td>1.000000e+00</td>\n",
       "      <td>1.000000e-01</td>\n",
       "      <td>2.000000e+00</td>\n",
       "      <td>ini_wt_gp</td>\n",
       "      <td>1.0</td>\n",
       "      <td>0.0</td>\n",
       "      <td>1</td>\n",
       "    </tr>\n",
       "    <tr>\n",
       "      <th>28</th>\n",
       "      <td>sden</td>\n",
       "      <td>none</td>\n",
       "      <td>factor</td>\n",
       "      <td>4.000000e-01</td>\n",
       "      <td>1.000000e-02</td>\n",
       "      <td>8.000000e-01</td>\n",
       "      <td>sden_gp</td>\n",
       "      <td>1.0</td>\n",
       "      <td>0.0</td>\n",
       "      <td>1</td>\n",
       "    </tr>\n",
       "  </tbody>\n",
       "</table>\n",
       "</div>"
      ],
      "text/plain": [
       "       parnme partrans parchglim       parval1       parlbnd       parubnd  \\\n",
       "0     alpha_p     none    factor  1.000000e-02  2.500000e-03  1.750000e-02   \n",
       "1     alpha_m     none    factor  1.824914e-03  4.562286e-04  3.193600e-03   \n",
       "2         n_p     none    factor  2.050000e+00  1.025000e+00  3.075000e+00   \n",
       "3         n_m     none    factor  2.050000e+00  1.025000e+00  3.075000e+00   \n",
       "4        wr_p     none    factor  2.243241e-01  5.608104e-02  3.925673e-01   \n",
       "5        wr_m     none    factor  1.594881e-01  3.987202e-02  2.791041e-01   \n",
       "6       tcs_p     none    factor  4.395766e-01  1.098942e-01  7.692591e-01   \n",
       "7       tcs_m     none    factor  9.521051e-01  2.380263e-01  1.666184e+00   \n",
       "8       tcd_p     none    factor  1.010234e-01  2.525585e-02  1.767910e-01   \n",
       "9       tcd_m     none    factor  9.844054e-01  2.461014e-01  1.722710e+00   \n",
       "10       af_p     none    factor  1.505114e+00  3.762785e-01  2.633950e+00   \n",
       "11       af_m     none    factor  1.499389e+00  3.748473e-01  2.623931e+00   \n",
       "12      auf_p     none    factor  4.869354e-01  1.217339e-01  8.521370e-01   \n",
       "13      auf_m     none    factor  6.988840e-01  1.747210e-01  1.223047e+00   \n",
       "14      por_p     none    factor  6.373950e-01  1.593487e-01  1.115441e+00   \n",
       "15      por_m     none    factor  4.810308e-01  1.202577e-01  8.418038e-01   \n",
       "16     perm_p     none    factor  5.346622e-11  1.336656e-11  9.356589e-11   \n",
       "17     perm_m     none    factor  1.000000e-13  2.500000e-14  1.750000e-13   \n",
       "18      den_p     none    factor  9.000000e+02  2.250000e+02  1.575000e+03   \n",
       "19      den_m     none    factor  1.900000e+03  9.500000e+02  2.850000e+03   \n",
       "20  albedo_bg     none    factor  5.500000e-01  1.375000e-01  9.625000e-01   \n",
       "21       e_bg     none    factor  5.500000e-01  1.375000e-01  9.625000e-01   \n",
       "22      pen_w     none    factor  1.000000e-02  2.500000e-03  1.750000e-02   \n",
       "23      pen_s     none    factor  2.000000e-02  5.000000e-03  3.500000e-02   \n",
       "24       z_bg     none    factor  4.000000e-02  1.000000e-02  7.000000e-02   \n",
       "25        z_s     none    factor  5.000000e-03  1.250000e-03  8.750000e-03   \n",
       "26     ini_sd     none    factor  1.500000e-01  1.000000e-03  3.000000e-01   \n",
       "27     ini_wt     none    factor  1.000000e+00  1.000000e-01  2.000000e+00   \n",
       "28       sden     none    factor  4.000000e-01  1.000000e-02  8.000000e-01   \n",
       "\n",
       "           pargp  scale  offset  dercom  \n",
       "0     alpha_p_gp    1.0     0.0       1  \n",
       "1     alpha_m_gp    1.0     0.0       1  \n",
       "2         n_p_gp    1.0     0.0       1  \n",
       "3         n_m_gp    1.0     0.0       1  \n",
       "4        wr_p_gp    1.0     0.0       1  \n",
       "5        wr_m_gp    1.0     0.0       1  \n",
       "6       tcs_p_gp    1.0     0.0       1  \n",
       "7       tcs_m_gp    1.0     0.0       1  \n",
       "8       tcd_p_gp    1.0     0.0       1  \n",
       "9       tcd_m_gp    1.0     0.0       1  \n",
       "10       af_p_gp    1.0     0.0       1  \n",
       "11       af_m_gp    1.0     0.0       1  \n",
       "12      auf_p_gp    1.0     0.0       1  \n",
       "13      auf_m_gp    1.0     0.0       1  \n",
       "14      por_p_gp    1.0     0.0       1  \n",
       "15      por_m_gp    1.0     0.0       1  \n",
       "16     perm_p_gp    1.0     0.0       1  \n",
       "17     perm_m_gp    1.0     0.0       1  \n",
       "18      den_p_gp    1.0     0.0       1  \n",
       "19      den_m_gp    1.0     0.0       1  \n",
       "20  albedo_bg_gp    1.0     0.0       1  \n",
       "21       e_bg_gp    1.0     0.0       1  \n",
       "22      pen_w_gp    1.0     0.0       1  \n",
       "23      pen_s_gp    1.0     0.0       1  \n",
       "24       z_bg_gp    1.0     0.0       1  \n",
       "25  albedo_bg_gp    1.0     0.0       1  \n",
       "26     ini_sd_gp    1.0     0.0       1  \n",
       "27     ini_wt_gp    1.0     0.0       1  \n",
       "28       sden_gp    1.0     0.0       1  "
      ]
     },
     "execution_count": 218,
     "metadata": {},
     "output_type": "execute_result"
    }
   ],
   "source": [
    "par_data = par_data_example.copy()\n",
    "par_data.drop(par_data.index, inplace=True)\n",
    "# Dropping the columns - splitthresh, splitreldiff, splitaction\n",
    "par_data.drop(columns=['partied'], inplace=True)\n",
    "\n",
    "#param_names = ['alpha_p', 'alpha_m', 'n_p', 'n_m', 'wr_p', 'wr_m', 'tcs_p', 'tcs_m', 'tcd_p', 'tcd_m', 'af_p', 'af_m', 'auf_p', 'por_p', 'por_m', 'perm_p', 'perm_m', 'den_p', 'den_m', 'lh_w','lh_i','hc_l','hc_r']\n",
    "\n",
    "for i, values in enumerate(best_params_afterrw.index):\n",
    "    par_data.loc[i] = [best_params_afterrw.index[i], 'none','factor', best_params_afterrw['PARVAL1'].values[i], best_params_afterrw['PARLBND'].values[i], best_params_afterrw['PARUBND'].values[i], pargrp['pargpnme'].values[i], 1.0, 0.0, 1] \n",
    "\n",
    "par_data\n",
    "# Adding row information for surface parameters:\n",
    "\n",
    "par_data.loc[par_data.index.max()+1] = ['albedo_bg','none','factor', 0.55, 0.55*0.25, 0.55*1.75, 'albedo_bg_gp', 1.0, 0.0, 1]\n",
    "par_data.loc[par_data.index.max()+1] = ['e_bg','none','factor', 0.55, 0.55*0.25, 0.55*1.75, 'e_bg_gp', 1.0, 0.0, 1]\n",
    "par_data.loc[par_data.index.max()+1] = ['pen_w','none','factor', 0.01, 0.01*0.25, 0.01*1.75, 'pen_w_gp', 1.0, 0.0, 1]\n",
    "par_data.loc[par_data.index.max()+1] = ['pen_s','none','factor', 0.02, 0.02*0.25, 0.02*1.75, 'pen_s_gp', 1.0, 0.0, 1]\n",
    "par_data.loc[par_data.index.max()+1] = ['z_bg','none','factor', 0.04, 0.04*0.25, 0.04*1.75, 'z_bg_gp', 1.0, 0.0, 1]\n",
    "par_data.loc[par_data.index.max()+1] = ['z_s','none','factor', 0.005, 0.005*0.25, 0.005*1.75, 'albedo_bg_gp', 1.0, 0.0, 1]\n",
    "#par_data.loc[1] = ['alpha_m','none','factor', 0.005, 0.001, 0.01, 'alpha_m_gp', 1.0, 0.0, 1]\n",
    "\n",
    "# Initial temperature - \n",
    "# The initial soil temperature along the depths [0.04 m - 1.6 m] varies from 260 K - 271 K [Middle value - 265 K] on the first day of January. \n",
    "#par_data.loc[par_data.index.max()+1] = ['ini_t','none','factor', 265, 260, 271, 'ini_t_gp', 1.0, 0.0, 1]\n",
    "# The initial snow depth can vary from 0 - 0.3 [Middle value - 0.15]\n",
    "par_data.loc[par_data.index.max()+1] = ['ini_sd','none','factor', 0.15, 1e-3, 0.3, 'ini_sd_gp', 1.0, 0.0, 1]\n",
    "# The initial water table varies from 0.1 - 2.0 m [1 m] based on the values from the Dr. Xiao's article [2020]\n",
    "par_data.loc[par_data.index.max()+1] = ['ini_wt','none','factor', 1.0, 0.1, 2.0, 'ini_wt_gp', 1.0, 0.0, 1]\n",
    "# The snow density varies from 10 - 800 kg/m3 i.e 0.01 - 0.8 [0.4] for the snow density ratio based on Paterson W.S.B. 1994. The Physics of Galciers.\n",
    "par_data.loc[par_data.index.max()+1] = ['sden','none','factor', 0.4, 0.01, 0.8, 'sden_gp', 1.0, 0.0, 1]\n",
    "\n",
    "par_data"
   ]
  },
  {
   "cell_type": "code",
   "execution_count": 219,
   "id": "34615aef-c948-4286-a83e-8811d7a96a85",
   "metadata": {},
   "outputs": [],
   "source": [
    "# Exporting the parameter csv file\n",
    "par_data.to_csv(f'{directory_name}/{file_name}_par_data.csv', index=False)"
   ]
  },
  {
   "cell_type": "code",
   "execution_count": 220,
   "id": "ca6d4cde",
   "metadata": {},
   "outputs": [
    {
     "data": {
      "text/plain": [
       "'Case5_III_C_cv'"
      ]
     },
     "execution_count": 220,
     "metadata": {},
     "output_type": "execute_result"
    }
   ],
   "source": [
    "file_name"
   ]
  },
  {
   "cell_type": "markdown",
   "id": "c9b509e0-99ce-4532-aec6-bce747048f03",
   "metadata": {},
   "source": [
    "### Template files"
   ]
  },
  {
   "cell_type": "markdown",
   "id": "8d71f7b0-4dad-48f0-bd7c-261362f1f1fd",
   "metadata": {},
   "source": [
    "- It could be created by manually editing the files."
   ]
  },
  {
   "cell_type": "markdown",
   "id": "e00a84b4-c919-4f0a-bfde-f0012637a275",
   "metadata": {},
   "source": [
    "### Instruction files\n"
   ]
  },
  {
   "cell_type": "code",
   "execution_count": 221,
   "id": "2435cab5-d59a-4895-bf28-e546651ddbd7",
   "metadata": {
    "scrolled": false
   },
   "outputs": [
    {
     "data": {
      "text/plain": [
       "'/home/rk/pestpp/pestpp/rk_model_final_4yrs'"
      ]
     },
     "execution_count": 221,
     "metadata": {},
     "output_type": "execute_result"
    }
   ],
   "source": [
    "os.getcwd()"
   ]
  },
  {
   "cell_type": "code",
   "execution_count": 93,
   "id": "66bccdc0",
   "metadata": {},
   "outputs": [
    {
     "data": {
      "text/plain": [
       "'Case5_III_C_cv_start.demo'"
      ]
     },
     "execution_count": 93,
     "metadata": {},
     "output_type": "execute_result"
    }
   ],
   "source": [
    "directory_name"
   ]
  },
  {
   "cell_type": "code",
   "execution_count": 94,
   "id": "5ecf3a79-f3eb-4f39-88d2-8c337b8c902b",
   "metadata": {},
   "outputs": [
    {
     "data": {
      "text/html": [
       "<div>\n",
       "<style scoped>\n",
       "    .dataframe tbody tr th:only-of-type {\n",
       "        vertical-align: middle;\n",
       "    }\n",
       "\n",
       "    .dataframe tbody tr th {\n",
       "        vertical-align: top;\n",
       "    }\n",
       "\n",
       "    .dataframe thead th {\n",
       "        text-align: right;\n",
       "    }\n",
       "</style>\n",
       "<table border=\"1\" class=\"dataframe\">\n",
       "  <thead>\n",
       "    <tr style=\"text-align: right;\">\n",
       "      <th></th>\n",
       "      <th>time [s]</th>\n",
       "      <th>point -0.04 temperature [K]</th>\n",
       "      <th>point -0.1 temperature [K]</th>\n",
       "      <th>point -0.2 temperature [K]</th>\n",
       "      <th>point -0.4 temperature [K]</th>\n",
       "      <th>point -0.8 temperature [K]</th>\n",
       "      <th>point -1.2 temperature [K]</th>\n",
       "      <th>point -1.6 temperature [K]</th>\n",
       "      <th>point -0.04 saturation liquid</th>\n",
       "      <th>point -0.1 saturation liquid</th>\n",
       "      <th>point -0.2 saturation liquid</th>\n",
       "      <th>point -0.4 saturation liquid</th>\n",
       "      <th>point -0.8 saturation liquid</th>\n",
       "      <th>point -1.2 saturation liquid</th>\n",
       "      <th>point -1.6 saturation liquid</th>\n",
       "    </tr>\n",
       "  </thead>\n",
       "  <tbody>\n",
       "    <tr>\n",
       "      <th>0</th>\n",
       "      <td>0.0</td>\n",
       "      <td>270.150000</td>\n",
       "      <td>270.150000</td>\n",
       "      <td>270.150000</td>\n",
       "      <td>270.150000</td>\n",
       "      <td>270.150000</td>\n",
       "      <td>270.150000</td>\n",
       "      <td>270.150000</td>\n",
       "      <td>0.164877</td>\n",
       "      <td>0.164877</td>\n",
       "      <td>0.164877</td>\n",
       "      <td>0.165884</td>\n",
       "      <td>0.165884</td>\n",
       "      <td>0.165884</td>\n",
       "      <td>0.165884</td>\n",
       "    </tr>\n",
       "    <tr>\n",
       "      <th>1</th>\n",
       "      <td>86400.0</td>\n",
       "      <td>259.136901</td>\n",
       "      <td>262.535868</td>\n",
       "      <td>265.147149</td>\n",
       "      <td>267.394073</td>\n",
       "      <td>269.696063</td>\n",
       "      <td>270.095452</td>\n",
       "      <td>270.141342</td>\n",
       "      <td>0.164562</td>\n",
       "      <td>0.164595</td>\n",
       "      <td>0.164637</td>\n",
       "      <td>0.165872</td>\n",
       "      <td>0.165881</td>\n",
       "      <td>0.165883</td>\n",
       "      <td>0.165884</td>\n",
       "    </tr>\n",
       "    <tr>\n",
       "      <th>2</th>\n",
       "      <td>172800.0</td>\n",
       "      <td>258.197106</td>\n",
       "      <td>260.855646</td>\n",
       "      <td>263.138526</td>\n",
       "      <td>265.497559</td>\n",
       "      <td>268.847926</td>\n",
       "      <td>269.857438</td>\n",
       "      <td>270.071454</td>\n",
       "      <td>0.164555</td>\n",
       "      <td>0.164576</td>\n",
       "      <td>0.164603</td>\n",
       "      <td>0.165869</td>\n",
       "      <td>0.165876</td>\n",
       "      <td>0.165882</td>\n",
       "      <td>0.165883</td>\n",
       "    </tr>\n",
       "    <tr>\n",
       "      <th>3</th>\n",
       "      <td>259200.0</td>\n",
       "      <td>257.479951</td>\n",
       "      <td>259.815014</td>\n",
       "      <td>261.891707</td>\n",
       "      <td>264.200052</td>\n",
       "      <td>268.024330</td>\n",
       "      <td>269.519566</td>\n",
       "      <td>269.940783</td>\n",
       "      <td>0.164550</td>\n",
       "      <td>0.164567</td>\n",
       "      <td>0.164587</td>\n",
       "      <td>0.165867</td>\n",
       "      <td>0.165874</td>\n",
       "      <td>0.165880</td>\n",
       "      <td>0.165882</td>\n",
       "    </tr>\n",
       "    <tr>\n",
       "      <th>4</th>\n",
       "      <td>345600.0</td>\n",
       "      <td>256.943673</td>\n",
       "      <td>259.080611</td>\n",
       "      <td>261.016618</td>\n",
       "      <td>263.251096</td>\n",
       "      <td>267.286315</td>\n",
       "      <td>269.131162</td>\n",
       "      <td>269.758407</td>\n",
       "      <td>0.164547</td>\n",
       "      <td>0.164561</td>\n",
       "      <td>0.164578</td>\n",
       "      <td>0.165867</td>\n",
       "      <td>0.165872</td>\n",
       "      <td>0.165878</td>\n",
       "      <td>0.165881</td>\n",
       "    </tr>\n",
       "  </tbody>\n",
       "</table>\n",
       "</div>"
      ],
      "text/plain": [
       "   time [s]  point -0.04 temperature [K]  point -0.1 temperature [K]  \\\n",
       "0       0.0                   270.150000                  270.150000   \n",
       "1   86400.0                   259.136901                  262.535868   \n",
       "2  172800.0                   258.197106                  260.855646   \n",
       "3  259200.0                   257.479951                  259.815014   \n",
       "4  345600.0                   256.943673                  259.080611   \n",
       "\n",
       "   point -0.2 temperature [K]  point -0.4 temperature [K]  \\\n",
       "0                  270.150000                  270.150000   \n",
       "1                  265.147149                  267.394073   \n",
       "2                  263.138526                  265.497559   \n",
       "3                  261.891707                  264.200052   \n",
       "4                  261.016618                  263.251096   \n",
       "\n",
       "   point -0.8 temperature [K]  point -1.2 temperature [K]  \\\n",
       "0                  270.150000                  270.150000   \n",
       "1                  269.696063                  270.095452   \n",
       "2                  268.847926                  269.857438   \n",
       "3                  268.024330                  269.519566   \n",
       "4                  267.286315                  269.131162   \n",
       "\n",
       "   point -1.6 temperature [K]  point -0.04 saturation liquid  \\\n",
       "0                  270.150000                       0.164877   \n",
       "1                  270.141342                       0.164562   \n",
       "2                  270.071454                       0.164555   \n",
       "3                  269.940783                       0.164550   \n",
       "4                  269.758407                       0.164547   \n",
       "\n",
       "   point -0.1 saturation liquid  point -0.2 saturation liquid  \\\n",
       "0                      0.164877                      0.164877   \n",
       "1                      0.164595                      0.164637   \n",
       "2                      0.164576                      0.164603   \n",
       "3                      0.164567                      0.164587   \n",
       "4                      0.164561                      0.164578   \n",
       "\n",
       "   point -0.4 saturation liquid  point -0.8 saturation liquid  \\\n",
       "0                      0.165884                      0.165884   \n",
       "1                      0.165872                      0.165881   \n",
       "2                      0.165869                      0.165876   \n",
       "3                      0.165867                      0.165874   \n",
       "4                      0.165867                      0.165872   \n",
       "\n",
       "   point -1.2 saturation liquid  point -1.6 saturation liquid  \n",
       "0                      0.165884                      0.165884  \n",
       "1                      0.165883                      0.165884  \n",
       "2                      0.165882                      0.165883  \n",
       "3                      0.165880                      0.165882  \n",
       "4                      0.165878                      0.165881  "
      ]
     },
     "execution_count": 94,
     "metadata": {},
     "output_type": "execute_result"
    }
   ],
   "source": [
    "# Reading the simulated data - from the xml file generated\n",
    "sim_data = pd.read_csv(f'{directory_name}/observation.dat',sep=' ',skiprows=88) \n",
    "\n",
    "sim_data.head()"
   ]
  },
  {
   "cell_type": "code",
   "execution_count": 95,
   "id": "cde58a71-cb9d-4b97-9b39-d161928655cb",
   "metadata": {},
   "outputs": [
    {
     "data": {
      "text/html": [
       "<div>\n",
       "<style scoped>\n",
       "    .dataframe tbody tr th:only-of-type {\n",
       "        vertical-align: middle;\n",
       "    }\n",
       "\n",
       "    .dataframe tbody tr th {\n",
       "        vertical-align: top;\n",
       "    }\n",
       "\n",
       "    .dataframe thead th {\n",
       "        text-align: right;\n",
       "    }\n",
       "</style>\n",
       "<table border=\"1\" class=\"dataframe\">\n",
       "  <thead>\n",
       "    <tr style=\"text-align: right;\">\n",
       "      <th></th>\n",
       "      <th>time [s]</th>\n",
       "      <th>point -0.04 temperature [K]</th>\n",
       "      <th>point -0.1 temperature [K]</th>\n",
       "      <th>point -0.2 temperature [K]</th>\n",
       "      <th>point -0.4 temperature [K]</th>\n",
       "      <th>point -0.8 temperature [K]</th>\n",
       "      <th>point -1.2 temperature [K]</th>\n",
       "      <th>point -1.6 temperature [K]</th>\n",
       "      <th>point -0.04 saturation liquid</th>\n",
       "      <th>point -0.1 saturation liquid</th>\n",
       "      <th>point -0.2 saturation liquid</th>\n",
       "      <th>point -0.4 saturation liquid</th>\n",
       "      <th>point -0.8 saturation liquid</th>\n",
       "      <th>point -1.2 saturation liquid</th>\n",
       "      <th>point -1.6 saturation liquid</th>\n",
       "    </tr>\n",
       "  </thead>\n",
       "  <tbody>\n",
       "    <tr>\n",
       "      <th>0</th>\n",
       "      <td>NaN</td>\n",
       "      <td>NaN</td>\n",
       "      <td>NaN</td>\n",
       "      <td>NaN</td>\n",
       "      <td>NaN</td>\n",
       "      <td>NaN</td>\n",
       "      <td>NaN</td>\n",
       "      <td>NaN</td>\n",
       "      <td>NaN</td>\n",
       "      <td>NaN</td>\n",
       "      <td>NaN</td>\n",
       "      <td>NaN</td>\n",
       "      <td>NaN</td>\n",
       "      <td>NaN</td>\n",
       "      <td>NaN</td>\n",
       "    </tr>\n",
       "    <tr>\n",
       "      <th>1</th>\n",
       "      <td>NaN</td>\n",
       "      <td>!stemp_0.04_0!</td>\n",
       "      <td>!stemp_0.1_0!</td>\n",
       "      <td>!stemp_0.2_0!</td>\n",
       "      <td>!stemp_0.4_0!</td>\n",
       "      <td>!stemp_0.8_0!</td>\n",
       "      <td>!stemp_1.2_0!</td>\n",
       "      <td>!stemp_1.6_0!</td>\n",
       "      <td>!smois_0.04_0!</td>\n",
       "      <td>!smois_0.1_0!</td>\n",
       "      <td>!smois_0.2_0!</td>\n",
       "      <td>!smois_0.4_0!</td>\n",
       "      <td>!smois_0.8_0!</td>\n",
       "      <td>!smois_1.2_0!</td>\n",
       "      <td>!smois_1.6_0!</td>\n",
       "    </tr>\n",
       "    <tr>\n",
       "      <th>2</th>\n",
       "      <td>NaN</td>\n",
       "      <td>!stemp_0.04_1!</td>\n",
       "      <td>!stemp_0.1_1!</td>\n",
       "      <td>!stemp_0.2_1!</td>\n",
       "      <td>!stemp_0.4_1!</td>\n",
       "      <td>!stemp_0.8_1!</td>\n",
       "      <td>!stemp_1.2_1!</td>\n",
       "      <td>!stemp_1.6_1!</td>\n",
       "      <td>!smois_0.04_1!</td>\n",
       "      <td>!smois_0.1_1!</td>\n",
       "      <td>!smois_0.2_1!</td>\n",
       "      <td>!smois_0.4_1!</td>\n",
       "      <td>!smois_0.8_1!</td>\n",
       "      <td>!smois_1.2_1!</td>\n",
       "      <td>!smois_1.6_1!</td>\n",
       "    </tr>\n",
       "    <tr>\n",
       "      <th>3</th>\n",
       "      <td>NaN</td>\n",
       "      <td>!stemp_0.04_2!</td>\n",
       "      <td>!stemp_0.1_2!</td>\n",
       "      <td>!stemp_0.2_2!</td>\n",
       "      <td>!stemp_0.4_2!</td>\n",
       "      <td>!stemp_0.8_2!</td>\n",
       "      <td>!stemp_1.2_2!</td>\n",
       "      <td>!stemp_1.6_2!</td>\n",
       "      <td>!smois_0.04_2!</td>\n",
       "      <td>!smois_0.1_2!</td>\n",
       "      <td>!smois_0.2_2!</td>\n",
       "      <td>!smois_0.4_2!</td>\n",
       "      <td>!smois_0.8_2!</td>\n",
       "      <td>!smois_1.2_2!</td>\n",
       "      <td>!smois_1.6_2!</td>\n",
       "    </tr>\n",
       "    <tr>\n",
       "      <th>4</th>\n",
       "      <td>NaN</td>\n",
       "      <td>!stemp_0.04_3!</td>\n",
       "      <td>!stemp_0.1_3!</td>\n",
       "      <td>!stemp_0.2_3!</td>\n",
       "      <td>!stemp_0.4_3!</td>\n",
       "      <td>!stemp_0.8_3!</td>\n",
       "      <td>!stemp_1.2_3!</td>\n",
       "      <td>!stemp_1.6_3!</td>\n",
       "      <td>!smois_0.04_3!</td>\n",
       "      <td>!smois_0.1_3!</td>\n",
       "      <td>!smois_0.2_3!</td>\n",
       "      <td>!smois_0.4_3!</td>\n",
       "      <td>!smois_0.8_3!</td>\n",
       "      <td>!smois_1.2_3!</td>\n",
       "      <td>!smois_1.6_3!</td>\n",
       "    </tr>\n",
       "  </tbody>\n",
       "</table>\n",
       "</div>"
      ],
      "text/plain": [
       "  time [s] point -0.04 temperature [K] point -0.1 temperature [K]  \\\n",
       "0      NaN                         NaN                        NaN   \n",
       "1      NaN             !stemp_0.04_0!              !stemp_0.1_0!    \n",
       "2      NaN             !stemp_0.04_1!              !stemp_0.1_1!    \n",
       "3      NaN             !stemp_0.04_2!              !stemp_0.1_2!    \n",
       "4      NaN             !stemp_0.04_3!              !stemp_0.1_3!    \n",
       "\n",
       "  point -0.2 temperature [K] point -0.4 temperature [K]  \\\n",
       "0                        NaN                        NaN   \n",
       "1             !stemp_0.2_0!              !stemp_0.4_0!    \n",
       "2             !stemp_0.2_1!              !stemp_0.4_1!    \n",
       "3             !stemp_0.2_2!              !stemp_0.4_2!    \n",
       "4             !stemp_0.2_3!              !stemp_0.4_3!    \n",
       "\n",
       "  point -0.8 temperature [K] point -1.2 temperature [K]  \\\n",
       "0                        NaN                        NaN   \n",
       "1             !stemp_0.8_0!              !stemp_1.2_0!    \n",
       "2             !stemp_0.8_1!              !stemp_1.2_1!    \n",
       "3             !stemp_0.8_2!              !stemp_1.2_2!    \n",
       "4             !stemp_0.8_3!              !stemp_1.2_3!    \n",
       "\n",
       "  point -1.6 temperature [K] point -0.04 saturation liquid  \\\n",
       "0                        NaN                           NaN   \n",
       "1             !stemp_1.6_0!                !smois_0.04_0!    \n",
       "2             !stemp_1.6_1!                !smois_0.04_1!    \n",
       "3             !stemp_1.6_2!                !smois_0.04_2!    \n",
       "4             !stemp_1.6_3!                !smois_0.04_3!    \n",
       "\n",
       "  point -0.1 saturation liquid point -0.2 saturation liquid  \\\n",
       "0                          NaN                          NaN   \n",
       "1               !smois_0.1_0!                !smois_0.2_0!    \n",
       "2               !smois_0.1_1!                !smois_0.2_1!    \n",
       "3               !smois_0.1_2!                !smois_0.2_2!    \n",
       "4               !smois_0.1_3!                !smois_0.2_3!    \n",
       "\n",
       "  point -0.4 saturation liquid point -0.8 saturation liquid  \\\n",
       "0                          NaN                          NaN   \n",
       "1               !smois_0.4_0!                !smois_0.8_0!    \n",
       "2               !smois_0.4_1!                !smois_0.8_1!    \n",
       "3               !smois_0.4_2!                !smois_0.8_2!    \n",
       "4               !smois_0.4_3!                !smois_0.8_3!    \n",
       "\n",
       "  point -1.2 saturation liquid point -1.6 saturation liquid  \n",
       "0                          NaN                          NaN  \n",
       "1               !smois_1.2_0!                !smois_1.6_0!   \n",
       "2               !smois_1.2_1!                !smois_1.6_1!   \n",
       "3               !smois_1.2_2!                !smois_1.6_2!   \n",
       "4               !smois_1.2_3!                !smois_1.6_3!   "
      ]
     },
     "execution_count": 95,
     "metadata": {},
     "output_type": "execute_result"
    }
   ],
   "source": [
    "# Creating an instruction file suitable for the analysis\n",
    "ins_data = pd.DataFrame(columns=sim_data.columns, index=sim_data.index)\n",
    "\n",
    "# Adding the simulated variables [Temperature & Moisture] in the instruction file\n",
    "\n",
    "# Temperature\n",
    "for i, depth in enumerate(depths):\n",
    "    for j, time in enumerate(times):\n",
    "        # Column name = obsnme\n",
    "        # (i + 1) - Signifies the start from the 2nd column\n",
    "        ins_data.iloc[j+1, i+1] = f' !stemp_{depth}_{j}! ' \n",
    "\n",
    "# Moisture\n",
    "for i, depth in enumerate(depths):\n",
    "    for j, time in enumerate(times):\n",
    "        # Column name = obsnme\n",
    "        # (i + 1) - Signifies the start from the 2nd column\n",
    "        ins_data.iloc[j+1, i+8] = f' !smois_{depth}_{j}! ' \n",
    "\n",
    "ins_data.head()"
   ]
  },
  {
   "cell_type": "code",
   "execution_count": 96,
   "id": "5801c1a4-06dd-49e8-b579-aecbd252d142",
   "metadata": {},
   "outputs": [
    {
     "data": {
      "text/plain": [
       "1092     !smois_1.6_1091!\n",
       "1093     !smois_1.6_1092!\n",
       "1094     !smois_1.6_1093!\n",
       "1095     !smois_1.6_1094!\n",
       "1096     !smois_1.6_1095!\n",
       "Name: point -1.6 saturation liquid, dtype: object"
      ]
     },
     "execution_count": 96,
     "metadata": {},
     "output_type": "execute_result"
    }
   ],
   "source": [
    "# Removing the last character from the last column '~' to mimic the file sfr.csv.in\n",
    "ins_data[\"point -1.6 saturation liquid\"] = ins_data[\"point -1.6 saturation liquid\"].str[:-1]\n",
    "ins_data[\"point -1.6 saturation liquid\"].tail()"
   ]
  },
  {
   "cell_type": "code",
   "execution_count": 97,
   "id": "43098ad7-54d9-4724-a57a-63cbb36e8f43",
   "metadata": {},
   "outputs": [
    {
     "data": {
      "text/html": [
       "<div>\n",
       "<style scoped>\n",
       "    .dataframe tbody tr th:only-of-type {\n",
       "        vertical-align: middle;\n",
       "    }\n",
       "\n",
       "    .dataframe tbody tr th {\n",
       "        vertical-align: top;\n",
       "    }\n",
       "\n",
       "    .dataframe thead th {\n",
       "        text-align: right;\n",
       "    }\n",
       "</style>\n",
       "<table border=\"1\" class=\"dataframe\">\n",
       "  <thead>\n",
       "    <tr style=\"text-align: right;\">\n",
       "      <th></th>\n",
       "      <th>time [s]</th>\n",
       "      <th>point -0.04 temperature [K]</th>\n",
       "      <th>point -0.1 temperature [K]</th>\n",
       "      <th>point -0.2 temperature [K]</th>\n",
       "      <th>point -0.4 temperature [K]</th>\n",
       "      <th>point -0.8 temperature [K]</th>\n",
       "      <th>point -1.2 temperature [K]</th>\n",
       "      <th>point -1.6 temperature [K]</th>\n",
       "      <th>point -0.04 saturation liquid</th>\n",
       "      <th>point -0.1 saturation liquid</th>\n",
       "      <th>point -0.2 saturation liquid</th>\n",
       "      <th>point -0.4 saturation liquid</th>\n",
       "      <th>point -0.8 saturation liquid</th>\n",
       "      <th>point -1.2 saturation liquid</th>\n",
       "      <th>point -1.6 saturation liquid</th>\n",
       "    </tr>\n",
       "  </thead>\n",
       "  <tbody>\n",
       "    <tr>\n",
       "      <th>1</th>\n",
       "      <td>!dum!</td>\n",
       "      <td>!stemp_0.04_0!</td>\n",
       "      <td>!stemp_0.1_0!</td>\n",
       "      <td>!stemp_0.2_0!</td>\n",
       "      <td>!stemp_0.4_0!</td>\n",
       "      <td>!stemp_0.8_0!</td>\n",
       "      <td>!stemp_1.2_0!</td>\n",
       "      <td>!stemp_1.6_0!</td>\n",
       "      <td>!smois_0.04_0!</td>\n",
       "      <td>!smois_0.1_0!</td>\n",
       "      <td>!smois_0.2_0!</td>\n",
       "      <td>!smois_0.4_0!</td>\n",
       "      <td>!smois_0.8_0!</td>\n",
       "      <td>!smois_1.2_0!</td>\n",
       "      <td>!smois_1.6_0!</td>\n",
       "    </tr>\n",
       "    <tr>\n",
       "      <th>2</th>\n",
       "      <td>!dum!</td>\n",
       "      <td>!stemp_0.04_1!</td>\n",
       "      <td>!stemp_0.1_1!</td>\n",
       "      <td>!stemp_0.2_1!</td>\n",
       "      <td>!stemp_0.4_1!</td>\n",
       "      <td>!stemp_0.8_1!</td>\n",
       "      <td>!stemp_1.2_1!</td>\n",
       "      <td>!stemp_1.6_1!</td>\n",
       "      <td>!smois_0.04_1!</td>\n",
       "      <td>!smois_0.1_1!</td>\n",
       "      <td>!smois_0.2_1!</td>\n",
       "      <td>!smois_0.4_1!</td>\n",
       "      <td>!smois_0.8_1!</td>\n",
       "      <td>!smois_1.2_1!</td>\n",
       "      <td>!smois_1.6_1!</td>\n",
       "    </tr>\n",
       "    <tr>\n",
       "      <th>3</th>\n",
       "      <td>!dum!</td>\n",
       "      <td>!stemp_0.04_2!</td>\n",
       "      <td>!stemp_0.1_2!</td>\n",
       "      <td>!stemp_0.2_2!</td>\n",
       "      <td>!stemp_0.4_2!</td>\n",
       "      <td>!stemp_0.8_2!</td>\n",
       "      <td>!stemp_1.2_2!</td>\n",
       "      <td>!stemp_1.6_2!</td>\n",
       "      <td>!smois_0.04_2!</td>\n",
       "      <td>!smois_0.1_2!</td>\n",
       "      <td>!smois_0.2_2!</td>\n",
       "      <td>!smois_0.4_2!</td>\n",
       "      <td>!smois_0.8_2!</td>\n",
       "      <td>!smois_1.2_2!</td>\n",
       "      <td>!smois_1.6_2!</td>\n",
       "    </tr>\n",
       "    <tr>\n",
       "      <th>4</th>\n",
       "      <td>!dum!</td>\n",
       "      <td>!stemp_0.04_3!</td>\n",
       "      <td>!stemp_0.1_3!</td>\n",
       "      <td>!stemp_0.2_3!</td>\n",
       "      <td>!stemp_0.4_3!</td>\n",
       "      <td>!stemp_0.8_3!</td>\n",
       "      <td>!stemp_1.2_3!</td>\n",
       "      <td>!stemp_1.6_3!</td>\n",
       "      <td>!smois_0.04_3!</td>\n",
       "      <td>!smois_0.1_3!</td>\n",
       "      <td>!smois_0.2_3!</td>\n",
       "      <td>!smois_0.4_3!</td>\n",
       "      <td>!smois_0.8_3!</td>\n",
       "      <td>!smois_1.2_3!</td>\n",
       "      <td>!smois_1.6_3!</td>\n",
       "    </tr>\n",
       "    <tr>\n",
       "      <th>5</th>\n",
       "      <td>!dum!</td>\n",
       "      <td>!stemp_0.04_4!</td>\n",
       "      <td>!stemp_0.1_4!</td>\n",
       "      <td>!stemp_0.2_4!</td>\n",
       "      <td>!stemp_0.4_4!</td>\n",
       "      <td>!stemp_0.8_4!</td>\n",
       "      <td>!stemp_1.2_4!</td>\n",
       "      <td>!stemp_1.6_4!</td>\n",
       "      <td>!smois_0.04_4!</td>\n",
       "      <td>!smois_0.1_4!</td>\n",
       "      <td>!smois_0.2_4!</td>\n",
       "      <td>!smois_0.4_4!</td>\n",
       "      <td>!smois_0.8_4!</td>\n",
       "      <td>!smois_1.2_4!</td>\n",
       "      <td>!smois_1.6_4!</td>\n",
       "    </tr>\n",
       "  </tbody>\n",
       "</table>\n",
       "</div>"
      ],
      "text/plain": [
       "  time [s] point -0.04 temperature [K] point -0.1 temperature [K]  \\\n",
       "1   !dum!              !stemp_0.04_0!              !stemp_0.1_0!    \n",
       "2   !dum!              !stemp_0.04_1!              !stemp_0.1_1!    \n",
       "3   !dum!              !stemp_0.04_2!              !stemp_0.1_2!    \n",
       "4   !dum!              !stemp_0.04_3!              !stemp_0.1_3!    \n",
       "5   !dum!              !stemp_0.04_4!              !stemp_0.1_4!    \n",
       "\n",
       "  point -0.2 temperature [K] point -0.4 temperature [K]  \\\n",
       "1             !stemp_0.2_0!              !stemp_0.4_0!    \n",
       "2             !stemp_0.2_1!              !stemp_0.4_1!    \n",
       "3             !stemp_0.2_2!              !stemp_0.4_2!    \n",
       "4             !stemp_0.2_3!              !stemp_0.4_3!    \n",
       "5             !stemp_0.2_4!              !stemp_0.4_4!    \n",
       "\n",
       "  point -0.8 temperature [K] point -1.2 temperature [K]  \\\n",
       "1             !stemp_0.8_0!              !stemp_1.2_0!    \n",
       "2             !stemp_0.8_1!              !stemp_1.2_1!    \n",
       "3             !stemp_0.8_2!              !stemp_1.2_2!    \n",
       "4             !stemp_0.8_3!              !stemp_1.2_3!    \n",
       "5             !stemp_0.8_4!              !stemp_1.2_4!    \n",
       "\n",
       "  point -1.6 temperature [K] point -0.04 saturation liquid  \\\n",
       "1             !stemp_1.6_0!                !smois_0.04_0!    \n",
       "2             !stemp_1.6_1!                !smois_0.04_1!    \n",
       "3             !stemp_1.6_2!                !smois_0.04_2!    \n",
       "4             !stemp_1.6_3!                !smois_0.04_3!    \n",
       "5             !stemp_1.6_4!                !smois_0.04_4!    \n",
       "\n",
       "  point -0.1 saturation liquid point -0.2 saturation liquid  \\\n",
       "1               !smois_0.1_0!                !smois_0.2_0!    \n",
       "2               !smois_0.1_1!                !smois_0.2_1!    \n",
       "3               !smois_0.1_2!                !smois_0.2_2!    \n",
       "4               !smois_0.1_3!                !smois_0.2_3!    \n",
       "5               !smois_0.1_4!                !smois_0.2_4!    \n",
       "\n",
       "  point -0.4 saturation liquid point -0.8 saturation liquid  \\\n",
       "1               !smois_0.4_0!                !smois_0.8_0!    \n",
       "2               !smois_0.4_1!                !smois_0.8_1!    \n",
       "3               !smois_0.4_2!                !smois_0.8_2!    \n",
       "4               !smois_0.4_3!                !smois_0.8_3!    \n",
       "5               !smois_0.4_4!                !smois_0.8_4!    \n",
       "\n",
       "  point -1.2 saturation liquid point -1.6 saturation liquid  \n",
       "1               !smois_1.2_0!                 !smois_1.6_0!  \n",
       "2               !smois_1.2_1!                 !smois_1.6_1!  \n",
       "3               !smois_1.2_2!                 !smois_1.6_2!  \n",
       "4               !smois_1.2_3!                 !smois_1.6_3!  \n",
       "5               !smois_1.2_4!                 !smois_1.6_4!  "
      ]
     },
     "execution_count": 97,
     "metadata": {},
     "output_type": "execute_result"
    }
   ],
   "source": [
    "# Replacing the time vaiable with ~dum\n",
    "ins_data['time [s]'] = f' !dum! '\n",
    "\n",
    "# Dropping unnecessary row and column\n",
    "#ins_data.drop(['time [s]'], axis=1, inplace=True)\n",
    "ins_data.drop([0], axis=0, inplace=True)\n",
    "ins_data.head()\n"
   ]
  },
  {
   "cell_type": "code",
   "execution_count": 98,
   "id": "5045571a-4a24-46c9-8bee-66edaa9341c1",
   "metadata": {},
   "outputs": [],
   "source": [
    "#ins_data['l1'] = 'l1 ~'\n",
    "# Adding an extra column to mimic sfr.csv.ins\n",
    "ins_data.insert(0, 'l1', 'l1 ')"
   ]
  },
  {
   "cell_type": "code",
   "execution_count": 102,
   "id": "3d6f3bd4",
   "metadata": {},
   "outputs": [
    {
     "name": "stdout",
     "output_type": "stream",
     "text": [
      "Case5_III_C_cv_obs_data.dat.ins\n"
     ]
    }
   ],
   "source": [
    "print(f'{file_name}_obs_data.dat.ins')"
   ]
  },
  {
   "cell_type": "code",
   "execution_count": 37,
   "id": "99eb4ebf-d256-4e3c-9984-3037b38dc144",
   "metadata": {},
   "outputs": [],
   "source": [
    "# Exporting the instruction file\n",
    "ins_data.to_csv(f'{directory_name}/{file_name}_obs_data.dat.ins', header=False, index=False,sep=' ')"
   ]
  },
  {
   "cell_type": "markdown",
   "id": "c1324151-d6a3-4a53-af43-bf25d06870b8",
   "metadata": {},
   "source": [
    "##### Dont forget to remove Quotes & add 'pif ~' string manually ;) (Dont know why the quotes are appearing as it did not in previous formats!\n",
    "##### Also check if the spacing, indentation and rest of the content is correct by checking with the another instruction file (preferably by vs code?)"
   ]
  },
  {
   "cell_type": "markdown",
   "id": "07237394-3689-46b2-a227-201930eb6efd",
   "metadata": {},
   "source": [
    "### Running pest in python:\n",
    "1. Checks to be done\n",
    "\n",
    "    a. TEMPCHEK - To check the template file\n",
    "    \n",
    "    b. INSCHEK - To check the instruction file\n",
    "    \n",
    "    c. Converting the file to version 1\n",
    "    \n",
    "    d. PESTCHEK - To check the pest control file\n",
    "    \n",
    "2. Running PEST (Not PEST++) with NOPTMAX = -1 (Wait until the results are displayed)\n",
    "    \n",
    "3. Running PWTADJ1 - pwtadj1 case1_v1.pst case2_v1_new.pst contribution\n",
    "\n",
    "4. Running PEST++ for the redistributed weights\n"
   ]
  },
  {
   "cell_type": "code",
   "execution_count": 103,
   "id": "fbbd9e30-c168-4228-9162-228c0d0bc72a",
   "metadata": {},
   "outputs": [
    {
     "data": {
      "text/plain": [
       "'Case5_III_C_cv_start.demo'"
      ]
     },
     "execution_count": 103,
     "metadata": {},
     "output_type": "execute_result"
    }
   ],
   "source": [
    "directory_name"
   ]
  },
  {
   "cell_type": "code",
   "execution_count": 104,
   "id": "c5eb9d39-1ad9-4ef8-8bd1-eff5bcbf0a4a",
   "metadata": {},
   "outputs": [
    {
     "data": {
      "text/plain": [
       "'/home/rk/pestpp/pestpp/rk_model_final_4yrs'"
      ]
     },
     "execution_count": 104,
     "metadata": {},
     "output_type": "execute_result"
    }
   ],
   "source": [
    "os.getcwd()"
   ]
  },
  {
   "cell_type": "code",
   "execution_count": 205,
   "id": "07d808c6-3430-4710-89bd-9b97a986f7bf",
   "metadata": {},
   "outputs": [],
   "source": [
    "# Change directory to required directory with simulation input files\n",
    "os.chdir(f'{directory_name}')"
   ]
  },
  {
   "cell_type": "code",
   "execution_count": 175,
   "id": "ced5b995-095c-4809-8ce5-32412286c2dd",
   "metadata": {},
   "outputs": [
    {
     "data": {
      "text/plain": [
       "'/home/rk/pestpp/pestpp/rk_model_final_4yrs/Case5_III_C_cv_start.demo'"
      ]
     },
     "execution_count": 175,
     "metadata": {},
     "output_type": "execute_result"
    }
   ],
   "source": [
    "os.getcwd()"
   ]
  },
  {
   "cell_type": "markdown",
   "id": "251d7143-fa6c-410c-ab28-c55783be1ebe",
   "metadata": {},
   "source": [
    "1. Checks to be done:\n",
    "\n",
    "a. Check ats input file - .xml file\n",
    "    \n",
    "b. TEMPCHEK - To check the template file\n",
    "    \n",
    "c. INSCHEK - To check the instruction file\n",
    "    \n",
    "d. Converting the file to version 1\n",
    "    \n",
    "e. PESTCHEK - To check the pest control file"
   ]
  },
  {
   "cell_type": "code",
   "execution_count": 107,
   "id": "b40e9b90-f045-403e-ae88-900cf0f5b234",
   "metadata": {},
   "outputs": [
    {
     "data": {
      "text/plain": [
       "b'total 5284\\n-rw-rw-r-- 1 rk rk    3031 Jan 27 10:50 ats_modelcmd.py\\n-rw-rw-r-- 1 rk rk    7102 Feb 18 09:45 ats_sd.py\\n-rw-rw-r-- 1 rk rk     427 Jan 27 14:54 Case1_B_cv_cf.pst\\n-rw-rw-r-- 1 rk rk 1359261 Jan 27 15:20 Case1_B_cv_cf_v1.pst\\n-rw-rw-r-- 1 rk rk  882961 Jan 28 16:11 Case1_B_cv_cf_v1_rw.pst\\n-rw-rw-r-- 1 rk rk      76 Jan 27 15:20 Case1_B_cv.insfile.csv\\n-rw-rw-r-- 1 rk rk    1712 Jan 27 14:08 Case1_B_cv_par_data.csv\\n-rw-rw-r-- 1 rk rk     995 Jan 27 14:07 Case1_B_cv_pargrp_data.csv\\n-rw-rw-r-- 1 rk rk      55 Jan 27 15:00 Case1_B_cv.tplfile.csv\\n-rw-rw-r-- 1 rk rk  266269 Jan 28 15:33 Case1_B_cv_vm_obs_data.dat\\n-rw-rw-r-- 1 rk rk   52420 Feb  1 09:12 Case1_B_cv_vm.xml\\n-rw-rw-r-- 1 rk rk   52424 Jan 27 15:50 Case1_B_cv.xml\\n-rw-rw-r-- 1 rk rk   52437 Jan 27 09:39 Case1_B_cv.xml.tpl\\n-rw-rw-r-- 1 rk rk     432 Nov 26 14:49 Case1_B_glm_cf.pst\\n-rw-rw-r-- 1 rk rk   53901 Nov 26 16:29 Case1_B_glm.xml\\n-rw-rw-r-- 1 rk rk   53913 Nov 26 14:31 Case1_B_glm.xml.tpl\\n-rw-rw-r-- 1 rk rk  901137 Feb 18 15:43 Case5_III_C_cv_obs_data.csv\\n-rw-rw-r-- 1 rk rk  257371 Jan 27 14:11 Case5_III_C_cv_obs_data.dat.ins\\n-rw-rw-r-- 1 rk rk    2283 Feb 18 17:34 Case5_III_C_cv_par_data.csv\\n-rw-rw-r-- 1 rk rk    1466 Feb 18 15:46 Case5_III_C_cv_pargrp_data.csv\\n-rw-rw-r-- 1 rk rk   92542 Feb 18 18:21 Case5_III_C_cv.xml\\n-rw-rw-r-- 1 rk rk   92634 Feb 18 18:21 Case5_III_C_cv.xml.tpl\\n-rw-rw-r-- 1 rk rk  901137 Jan 27 14:07 Case5_III_cv_obs_data.csv\\n-rw-rw-r-- 1 rk rk  316542 Jan 27 09:35 observation.dat\\n'"
      ]
     },
     "execution_count": 107,
     "metadata": {},
     "output_type": "execute_result"
    }
   ],
   "source": [
    "# Testing subprocess\n",
    "subprocess.check_output(['ls', '-l'])"
   ]
  },
  {
   "cell_type": "code",
   "execution_count": 108,
   "id": "615cccae-a65d-4c74-b5fb-2e9c841bde4b",
   "metadata": {},
   "outputs": [
    {
     "data": {
      "text/plain": [
       "''"
      ]
     },
     "execution_count": 108,
     "metadata": {},
     "output_type": "execute_result"
    }
   ],
   "source": [
    "### Running ats within a temp folder\n",
    "\n",
    "subprocess.run(['mkdir','test_ats.demo'], capture_output=True, text=True).stdout"
   ]
  },
  {
   "cell_type": "code",
   "execution_count": 109,
   "id": "4408528a-eaa4-4264-b477-b00c034bd2ce",
   "metadata": {},
   "outputs": [],
   "source": [
    "os.chdir('test_ats.demo')"
   ]
  },
  {
   "cell_type": "markdown",
   "id": "a088066f",
   "metadata": {},
   "source": [
    "##### We need to also run the simulations on the cluster, therefore we have created a seperate file where the data access changes!"
   ]
  },
  {
   "cell_type": "code",
   "execution_count": 110,
   "id": "8d37a167",
   "metadata": {},
   "outputs": [
    {
     "data": {
      "text/plain": [
       "'Case5_III_C_cv'"
      ]
     },
     "execution_count": 110,
     "metadata": {},
     "output_type": "execute_result"
    }
   ],
   "source": [
    "file_name"
   ]
  },
  {
   "cell_type": "code",
   "execution_count": 111,
   "id": "4b7eceea-f4aa-43a6-b901-ddd84f9a581e",
   "metadata": {},
   "outputs": [
    {
     "name": "stdout",
     "output_type": "stream",
     "text": [
      "CPU times: user 614 ms, sys: 78.3 ms, total: 692 ms\n",
      "Wall time: 4h 33min 24s\n"
     ]
    },
    {
     "data": {
      "text/plain": [
       "0"
      ]
     },
     "execution_count": 111,
     "metadata": {},
     "output_type": "execute_result"
    }
   ],
   "source": [
    "%%time\n",
    "os.system(f'ats --xml_file=../{file_name}.xml')"
   ]
  },
  {
   "cell_type": "code",
   "execution_count": 112,
   "id": "018f074f",
   "metadata": {},
   "outputs": [
    {
     "data": {
      "text/plain": [
       "'/home/rk/pestpp/pestpp/rk_model_final_4yrs/Case5_III_C_cv_start.demo/test_ats.demo'"
      ]
     },
     "execution_count": 112,
     "metadata": {},
     "output_type": "execute_result"
    }
   ],
   "source": [
    "os.getcwd()"
   ]
  },
  {
   "cell_type": "code",
   "execution_count": 115,
   "id": "424aa664",
   "metadata": {},
   "outputs": [
    {
     "data": {
      "text/html": [
       "<div>\n",
       "<style scoped>\n",
       "    .dataframe tbody tr th:only-of-type {\n",
       "        vertical-align: middle;\n",
       "    }\n",
       "\n",
       "    .dataframe tbody tr th {\n",
       "        vertical-align: top;\n",
       "    }\n",
       "\n",
       "    .dataframe thead th {\n",
       "        text-align: right;\n",
       "    }\n",
       "</style>\n",
       "<table border=\"1\" class=\"dataframe\">\n",
       "  <thead>\n",
       "    <tr style=\"text-align: right;\">\n",
       "      <th></th>\n",
       "      <th>time [s]</th>\n",
       "      <th>point -0.04 temperature [K]</th>\n",
       "      <th>point -0.1 temperature [K]</th>\n",
       "      <th>point -0.2 temperature [K]</th>\n",
       "      <th>point -0.4 temperature [K]</th>\n",
       "      <th>point -0.8 temperature [K]</th>\n",
       "      <th>point -1.2 temperature [K]</th>\n",
       "      <th>point -1.6 temperature [K]</th>\n",
       "      <th>point -0.04 saturation liquid</th>\n",
       "      <th>point -0.1 saturation liquid</th>\n",
       "      <th>point -0.2 saturation liquid</th>\n",
       "      <th>point -0.4 saturation liquid</th>\n",
       "      <th>point -0.8 saturation liquid</th>\n",
       "      <th>point -1.2 saturation liquid</th>\n",
       "      <th>point -1.6 saturation liquid</th>\n",
       "    </tr>\n",
       "  </thead>\n",
       "  <tbody>\n",
       "    <tr>\n",
       "      <th>1092</th>\n",
       "      <td>94348800.0</td>\n",
       "      <td>271.646266</td>\n",
       "      <td>271.681031</td>\n",
       "      <td>271.722305</td>\n",
       "      <td>271.756304</td>\n",
       "      <td>271.811077</td>\n",
       "      <td>271.835570</td>\n",
       "      <td>271.837325</td>\n",
       "      <td>0.116452</td>\n",
       "      <td>0.116517</td>\n",
       "      <td>0.116596</td>\n",
       "      <td>0.162541</td>\n",
       "      <td>0.162543</td>\n",
       "      <td>0.162544</td>\n",
       "      <td>0.162544</td>\n",
       "    </tr>\n",
       "    <tr>\n",
       "      <th>1093</th>\n",
       "      <td>94435200.0</td>\n",
       "      <td>271.629005</td>\n",
       "      <td>271.663587</td>\n",
       "      <td>271.706217</td>\n",
       "      <td>271.742023</td>\n",
       "      <td>271.800294</td>\n",
       "      <td>271.826770</td>\n",
       "      <td>271.829653</td>\n",
       "      <td>0.116421</td>\n",
       "      <td>0.116484</td>\n",
       "      <td>0.116565</td>\n",
       "      <td>0.162540</td>\n",
       "      <td>0.162542</td>\n",
       "      <td>0.162543</td>\n",
       "      <td>0.162543</td>\n",
       "    </tr>\n",
       "    <tr>\n",
       "      <th>1094</th>\n",
       "      <td>94521600.0</td>\n",
       "      <td>271.618718</td>\n",
       "      <td>271.651482</td>\n",
       "      <td>271.693248</td>\n",
       "      <td>271.729311</td>\n",
       "      <td>271.789541</td>\n",
       "      <td>271.817820</td>\n",
       "      <td>271.821896</td>\n",
       "      <td>0.116402</td>\n",
       "      <td>0.116462</td>\n",
       "      <td>0.116540</td>\n",
       "      <td>0.162540</td>\n",
       "      <td>0.162542</td>\n",
       "      <td>0.162543</td>\n",
       "      <td>0.162543</td>\n",
       "    </tr>\n",
       "    <tr>\n",
       "      <th>1095</th>\n",
       "      <td>94608000.0</td>\n",
       "      <td>271.612704</td>\n",
       "      <td>271.643282</td>\n",
       "      <td>271.683223</td>\n",
       "      <td>271.718554</td>\n",
       "      <td>271.779236</td>\n",
       "      <td>271.808857</td>\n",
       "      <td>271.814080</td>\n",
       "      <td>0.116392</td>\n",
       "      <td>0.116447</td>\n",
       "      <td>0.116521</td>\n",
       "      <td>0.162540</td>\n",
       "      <td>0.162542</td>\n",
       "      <td>0.162543</td>\n",
       "      <td>0.162543</td>\n",
       "    </tr>\n",
       "    <tr>\n",
       "      <th>1096</th>\n",
       "      <td>94694400.0</td>\n",
       "      <td>271.605923</td>\n",
       "      <td>271.635555</td>\n",
       "      <td>271.674331</td>\n",
       "      <td>271.708952</td>\n",
       "      <td>271.769467</td>\n",
       "      <td>271.799996</td>\n",
       "      <td>271.806254</td>\n",
       "      <td>0.116380</td>\n",
       "      <td>0.116433</td>\n",
       "      <td>0.116504</td>\n",
       "      <td>0.162539</td>\n",
       "      <td>0.162541</td>\n",
       "      <td>0.162542</td>\n",
       "      <td>0.162543</td>\n",
       "    </tr>\n",
       "  </tbody>\n",
       "</table>\n",
       "</div>"
      ],
      "text/plain": [
       "        time [s]  point -0.04 temperature [K]  point -0.1 temperature [K]  \\\n",
       "1092  94348800.0                   271.646266                  271.681031   \n",
       "1093  94435200.0                   271.629005                  271.663587   \n",
       "1094  94521600.0                   271.618718                  271.651482   \n",
       "1095  94608000.0                   271.612704                  271.643282   \n",
       "1096  94694400.0                   271.605923                  271.635555   \n",
       "\n",
       "      point -0.2 temperature [K]  point -0.4 temperature [K]  \\\n",
       "1092                  271.722305                  271.756304   \n",
       "1093                  271.706217                  271.742023   \n",
       "1094                  271.693248                  271.729311   \n",
       "1095                  271.683223                  271.718554   \n",
       "1096                  271.674331                  271.708952   \n",
       "\n",
       "      point -0.8 temperature [K]  point -1.2 temperature [K]  \\\n",
       "1092                  271.811077                  271.835570   \n",
       "1093                  271.800294                  271.826770   \n",
       "1094                  271.789541                  271.817820   \n",
       "1095                  271.779236                  271.808857   \n",
       "1096                  271.769467                  271.799996   \n",
       "\n",
       "      point -1.6 temperature [K]  point -0.04 saturation liquid  \\\n",
       "1092                  271.837325                       0.116452   \n",
       "1093                  271.829653                       0.116421   \n",
       "1094                  271.821896                       0.116402   \n",
       "1095                  271.814080                       0.116392   \n",
       "1096                  271.806254                       0.116380   \n",
       "\n",
       "      point -0.1 saturation liquid  point -0.2 saturation liquid  \\\n",
       "1092                      0.116517                      0.116596   \n",
       "1093                      0.116484                      0.116565   \n",
       "1094                      0.116462                      0.116540   \n",
       "1095                      0.116447                      0.116521   \n",
       "1096                      0.116433                      0.116504   \n",
       "\n",
       "      point -0.4 saturation liquid  point -0.8 saturation liquid  \\\n",
       "1092                      0.162541                      0.162543   \n",
       "1093                      0.162540                      0.162542   \n",
       "1094                      0.162540                      0.162542   \n",
       "1095                      0.162540                      0.162542   \n",
       "1096                      0.162539                      0.162541   \n",
       "\n",
       "      point -1.2 saturation liquid  point -1.6 saturation liquid  \n",
       "1092                      0.162544                      0.162544  \n",
       "1093                      0.162543                      0.162543  \n",
       "1094                      0.162543                      0.162543  \n",
       "1095                      0.162543                      0.162543  \n",
       "1096                      0.162542                      0.162543  "
      ]
     },
     "execution_count": 115,
     "metadata": {},
     "output_type": "execute_result"
    }
   ],
   "source": [
    "sim_data_obs = pd.read_csv('observation.dat',skiprows=88,sep=' ')\n",
    "sim_data_obs.tail()"
   ]
  },
  {
   "cell_type": "code",
   "execution_count": 116,
   "id": "614693e3",
   "metadata": {},
   "outputs": [],
   "source": [
    "#sim_data_obs = pd.read_csv('../Case5_I_cv_obs_data.dat',sep=' ',header=None)\n",
    "#sim_data_obs.columns = sim_data.columns\n",
    "#sim_data_obs.head()"
   ]
  },
  {
   "cell_type": "code",
   "execution_count": 117,
   "id": "76d51ce7",
   "metadata": {},
   "outputs": [
    {
     "data": {
      "image/png": "[encoded data removed]",
      "text/plain": [
       "<Figure size 1008x720 with 2 Axes>"
      ]
     },
     "metadata": {
      "needs_background": "light"
     },
     "output_type": "display_data"
    }
   ],
   "source": [
    "fig, (ax1, ax2) = plt.subplots(2, 1)\n",
    "fig.set_size_inches(w=14,h=10)\n",
    "fig.suptitle('Plotting temperature and saturation of liquid')\n",
    "\n",
    "ax1.set_title('Soil temperature [K]')\n",
    "#ax1.plot(sim_data_obs['point -0.01 temperature [K]'],label='0.01 m')\n",
    "ax1.plot(sim_data_obs['point -0.04 temperature [K]'],label='0.04 m')\n",
    "ax1.plot(sim_data_obs['point -0.2 temperature [K]'],label='0.2 m')\n",
    "ax1.plot(sim_data_obs['point -0.4 temperature [K]'],label='0.4 m')\n",
    "ax1.plot(sim_data_obs['point -0.8 temperature [K]'],label='0.8 m')\n",
    "ax1.plot(sim_data_obs['point -1.2 temperature [K]'],label='1.2 m')\n",
    "ax1.plot(sim_data_obs['point -1.6 temperature [K]'],label='1.6 m')\n",
    "#ax1.plot(sim_data_obs['point -5.0 temperature [K]'],label='5.0 m')\n",
    "#ax1.plot(sim_data_obs['point -10.0 temperature [K]'],label='10.0 m')\n",
    "#ax1.plot(sim_data_obs['point -20.0 temperature [K]'],label='20.0 m')\n",
    "#ax1.plot(sim_data_obs['point -30.0 temperature [K]'],label='30.0 m')\n",
    "#ax1.plot(sim_data_obs['point -40.0 temperature [K]'],label='40.0 m')\n",
    "ax1.set_ylabel('Temperature (K)')\n",
    "#ax1.gca().xaxis.set_major_formatter(mdates.DateFormatter('%m-%d'))\n",
    "#ax1.set_xlabel('Date (days)')\n",
    "ax1.legend(fontsize=8)\n",
    "ax1.grid(True)\n",
    "\n",
    "ax2.set_title('Plotting soil saturation liquid')\n",
    "#ax2.plot(sim_data_obs['point -0.01 saturation liquid'],label='0.01 m')\n",
    "ax2.plot(sim_data_obs['point -0.04 saturation liquid'],label='0.04 m')\n",
    "ax2.plot(sim_data_obs['point -0.2 saturation liquid'],label='0.2 m')\n",
    "ax2.plot(sim_data_obs['point -0.4 saturation liquid'],label='0.4 m')\n",
    "ax2.plot(sim_data_obs['point -0.8 saturation liquid'],label='0.8 m')\n",
    "ax2.plot(sim_data_obs['point -1.2 saturation liquid'],label='1.2 m')\n",
    "ax2.plot(sim_data_obs['point -1.6 saturation liquid'],label='1.6 m')\n",
    "#ax2.plot(sim_data_obs['point -5.0 saturation liquid'],label='5.0 m')\n",
    "#ax2.plot(sim_data_obs['point -10.0 saturation liquid'],label='10.0 m')\n",
    "\n",
    "ax2.set_ylabel('Saturation of liquid (%)')\n",
    "#ax2.gca().xaxis.set_major_formatter(mdates.DateFormatter('%m-%d'))\n",
    "#ax2.xlabel('Date (days)')\n",
    "ax2.legend(fontsize=8)\n",
    "ax2.grid(True)"
   ]
  },
  {
   "cell_type": "markdown",
   "id": "c5451362",
   "metadata": {},
   "source": [
    "Comments:\n",
    "\n",
    "    * The saturation of liquid is reaching one and hence ats is finding it hard to find a solution!"
   ]
  },
  {
   "cell_type": "markdown",
   "id": "990ec634-8d21-4540-b8b7-eb5416066ff2",
   "metadata": {},
   "source": [
    "#### Check the outputs in the file and also the jupyter notebook terminal - weather it is running. If all is good you can start with the pestcheck!"
   ]
  },
  {
   "cell_type": "code",
   "execution_count": 118,
   "id": "55ac3a1c-8bb9-47e6-a21c-c69c1c55c9c7",
   "metadata": {},
   "outputs": [],
   "source": [
    "os.chdir('..')"
   ]
  },
  {
   "cell_type": "code",
   "execution_count": 119,
   "id": "ea0a722d",
   "metadata": {},
   "outputs": [
    {
     "data": {
      "text/plain": [
       "'/home/rk/pestpp/pestpp/rk_model_final_4yrs/Case5_III_C_cv_start.demo'"
      ]
     },
     "execution_count": 119,
     "metadata": {},
     "output_type": "execute_result"
    }
   ],
   "source": [
    "os.getcwd()"
   ]
  },
  {
   "cell_type": "code",
   "execution_count": 121,
   "id": "52c2f3cf-55c8-4e71-9029-b641df2f18bf",
   "metadata": {},
   "outputs": [
    {
     "name": "stdout",
     "output_type": "stream",
     "text": [
      "CPU times: user 734 ms, sys: 83 ms, total: 817 ms\n",
      "Wall time: 4h 47min 16s\n"
     ]
    },
    {
     "data": {
      "text/plain": [
       "256"
      ]
     },
     "execution_count": 121,
     "metadata": {},
     "output_type": "execute_result"
    }
   ],
   "source": [
    "%%time\n",
    "### Check the ats_modelcmd.py file - Change the file name line of peat and mineral\n",
    "os.system('python3 ats_modelcmd_sd.py')\n",
    "### Make sure that the observation file is created! - Testing in cmd is better "
   ]
  },
  {
   "cell_type": "code",
   "execution_count": 145,
   "id": "dadb9ead",
   "metadata": {},
   "outputs": [
    {
     "data": {
      "text/html": [
       "<div>\n",
       "<style scoped>\n",
       "    .dataframe tbody tr th:only-of-type {\n",
       "        vertical-align: middle;\n",
       "    }\n",
       "\n",
       "    .dataframe tbody tr th {\n",
       "        vertical-align: top;\n",
       "    }\n",
       "\n",
       "    .dataframe thead th {\n",
       "        text-align: right;\n",
       "    }\n",
       "</style>\n",
       "<table border=\"1\" class=\"dataframe\">\n",
       "  <thead>\n",
       "    <tr style=\"text-align: right;\">\n",
       "      <th></th>\n",
       "      <th>0.0</th>\n",
       "      <th>270.15</th>\n",
       "      <th>270.15.1</th>\n",
       "      <th>270.15.2</th>\n",
       "      <th>270.15.3</th>\n",
       "      <th>270.15.4</th>\n",
       "      <th>270.15.5</th>\n",
       "      <th>270.15.6</th>\n",
       "      <th>7.348796414280403</th>\n",
       "      <th>7.348796414280403.1</th>\n",
       "      <th>7.348796414280403.2</th>\n",
       "      <th>7.828766876709516</th>\n",
       "      <th>7.828766876709516.1</th>\n",
       "      <th>7.828766875495579</th>\n",
       "      <th>7.828766873554242</th>\n",
       "    </tr>\n",
       "  </thead>\n",
       "  <tbody>\n",
       "    <tr>\n",
       "      <th>1091</th>\n",
       "      <td>94348800.0</td>\n",
       "      <td>271.646266</td>\n",
       "      <td>271.681031</td>\n",
       "      <td>271.722305</td>\n",
       "      <td>271.756304</td>\n",
       "      <td>271.811077</td>\n",
       "      <td>271.835570</td>\n",
       "      <td>271.837325</td>\n",
       "      <td>7.451553</td>\n",
       "      <td>7.455692</td>\n",
       "      <td>7.460800</td>\n",
       "      <td>7.829933</td>\n",
       "      <td>7.830024</td>\n",
       "      <td>7.830067</td>\n",
       "      <td>7.830070</td>\n",
       "    </tr>\n",
       "    <tr>\n",
       "      <th>1092</th>\n",
       "      <td>94435200.0</td>\n",
       "      <td>271.629005</td>\n",
       "      <td>271.663587</td>\n",
       "      <td>271.706217</td>\n",
       "      <td>271.742023</td>\n",
       "      <td>271.800294</td>\n",
       "      <td>271.826770</td>\n",
       "      <td>271.829653</td>\n",
       "      <td>7.449551</td>\n",
       "      <td>7.453597</td>\n",
       "      <td>7.458783</td>\n",
       "      <td>7.829911</td>\n",
       "      <td>7.830006</td>\n",
       "      <td>7.830051</td>\n",
       "      <td>7.830057</td>\n",
       "    </tr>\n",
       "    <tr>\n",
       "      <th>1093</th>\n",
       "      <td>94521600.0</td>\n",
       "      <td>271.618718</td>\n",
       "      <td>271.651482</td>\n",
       "      <td>271.693248</td>\n",
       "      <td>271.729311</td>\n",
       "      <td>271.789541</td>\n",
       "      <td>271.817820</td>\n",
       "      <td>271.821896</td>\n",
       "      <td>7.448374</td>\n",
       "      <td>7.452165</td>\n",
       "      <td>7.457182</td>\n",
       "      <td>7.829891</td>\n",
       "      <td>7.829988</td>\n",
       "      <td>7.830036</td>\n",
       "      <td>7.830043</td>\n",
       "    </tr>\n",
       "    <tr>\n",
       "      <th>1094</th>\n",
       "      <td>94608000.0</td>\n",
       "      <td>271.612704</td>\n",
       "      <td>271.643282</td>\n",
       "      <td>271.683223</td>\n",
       "      <td>271.718554</td>\n",
       "      <td>271.779236</td>\n",
       "      <td>271.808857</td>\n",
       "      <td>271.814080</td>\n",
       "      <td>7.447692</td>\n",
       "      <td>7.451205</td>\n",
       "      <td>7.455958</td>\n",
       "      <td>7.829875</td>\n",
       "      <td>7.829970</td>\n",
       "      <td>7.830020</td>\n",
       "      <td>7.830029</td>\n",
       "    </tr>\n",
       "    <tr>\n",
       "      <th>1095</th>\n",
       "      <td>94694400.0</td>\n",
       "      <td>271.605923</td>\n",
       "      <td>271.635555</td>\n",
       "      <td>271.674331</td>\n",
       "      <td>271.708952</td>\n",
       "      <td>271.769467</td>\n",
       "      <td>271.799996</td>\n",
       "      <td>271.806254</td>\n",
       "      <td>7.446927</td>\n",
       "      <td>7.450307</td>\n",
       "      <td>7.454883</td>\n",
       "      <td>7.829861</td>\n",
       "      <td>7.829955</td>\n",
       "      <td>7.830005</td>\n",
       "      <td>7.830016</td>\n",
       "    </tr>\n",
       "  </tbody>\n",
       "</table>\n",
       "</div>"
      ],
      "text/plain": [
       "             0.0      270.15    270.15.1    270.15.2    270.15.3    270.15.4  \\\n",
       "1091  94348800.0  271.646266  271.681031  271.722305  271.756304  271.811077   \n",
       "1092  94435200.0  271.629005  271.663587  271.706217  271.742023  271.800294   \n",
       "1093  94521600.0  271.618718  271.651482  271.693248  271.729311  271.789541   \n",
       "1094  94608000.0  271.612704  271.643282  271.683223  271.718554  271.779236   \n",
       "1095  94694400.0  271.605923  271.635555  271.674331  271.708952  271.769467   \n",
       "\n",
       "        270.15.5    270.15.6  7.348796414280403  7.348796414280403.1  \\\n",
       "1091  271.835570  271.837325           7.451553             7.455692   \n",
       "1092  271.826770  271.829653           7.449551             7.453597   \n",
       "1093  271.817820  271.821896           7.448374             7.452165   \n",
       "1094  271.808857  271.814080           7.447692             7.451205   \n",
       "1095  271.799996  271.806254           7.446927             7.450307   \n",
       "\n",
       "      7.348796414280403.2  7.828766876709516  7.828766876709516.1  \\\n",
       "1091             7.460800           7.829933             7.830024   \n",
       "1092             7.458783           7.829911             7.830006   \n",
       "1093             7.457182           7.829891             7.829988   \n",
       "1094             7.455958           7.829875             7.829970   \n",
       "1095             7.454883           7.829861             7.829955   \n",
       "\n",
       "      7.828766875495579  7.828766873554242  \n",
       "1091           7.830067           7.830070  \n",
       "1092           7.830051           7.830057  \n",
       "1093           7.830036           7.830043  \n",
       "1094           7.830020           7.830029  \n",
       "1095           7.830005           7.830016  "
      ]
     },
     "execution_count": 145,
     "metadata": {},
     "output_type": "execute_result"
    }
   ],
   "source": [
    "### Check the observation data\n",
    "sim_data_obs_modelcmd = pd.read_csv('Case5_III_C_cv_obs_data.dat',sep=' ')\n",
    "sim_data_obs_modelcmd.tail()"
   ]
  },
  {
   "cell_type": "code",
   "execution_count": 222,
   "id": "84c9e477-6cd0-4ed3-8145-c79e668b46a9",
   "metadata": {},
   "outputs": [
    {
     "data": {
      "text/plain": [
       "' TEMPCHEK Version 17.3. Watermark Numerical Computing.\\n\\n TEMPCHEK is run using the command:\\n\\n    tempchek tempfile [modfile [parfile]]\\n\\n where\\n\\n    \"tempfile\" is a PEST template file,\\n    \"modfile\" is an [optional] model input file to be written by TEMPCHEK, and\\n    \"parfile\" is an [optional] parameter value file.\\n\\n'"
      ]
     },
     "execution_count": 222,
     "metadata": {},
     "output_type": "execute_result"
    }
   ],
   "source": [
    "# Running tempchek\n",
    "subprocess.run(['tempchek'], capture_output=True, text=True).stdout"
   ]
  },
  {
   "cell_type": "code",
   "execution_count": 223,
   "id": "450206e3",
   "metadata": {},
   "outputs": [
    {
     "data": {
      "text/plain": [
       "'Case5_III_C_cv'"
      ]
     },
     "execution_count": 223,
     "metadata": {},
     "output_type": "execute_result"
    }
   ],
   "source": [
    "file_name"
   ]
  },
  {
   "cell_type": "code",
   "execution_count": 227,
   "id": "6685972d",
   "metadata": {},
   "outputs": [],
   "source": [
    "#os.chdir('Case5_III_C_cv_start.demo')"
   ]
  },
  {
   "cell_type": "code",
   "execution_count": 228,
   "id": "6d86f948-7412-4606-84bb-e68740761d90",
   "metadata": {},
   "outputs": [
    {
     "data": {
      "text/plain": [
       "' TEMPCHEK Version 17.3. Watermark Numerical Computing.\\n\\n Errors in file Case5_III_C_cv.xml.tpl ----->\\n No errors encountered.\\n\\n 29 parameters identified in file Case5_III_C_cv.xml.tpl: these are listed in \\n   file Case5_III_C_cv.xml.pmt.\\n\\n'"
      ]
     },
     "execution_count": 228,
     "metadata": {},
     "output_type": "execute_result"
    }
   ],
   "source": [
    "# Running tempchek\n",
    "subprocess.run(['tempchek',f'{file_name}.xml.tpl'], capture_output=True, text=True).stdout"
   ]
  },
  {
   "cell_type": "code",
   "execution_count": 229,
   "id": "69fda3e2-6b6c-4690-bd1d-7d6121ca89ad",
   "metadata": {},
   "outputs": [
    {
     "data": {
      "text/plain": [
       "' INSCHEK Version 17.3. Watermark Numerical Computing.\\n\\n Errors in file Case5_III_C_cv_obs_data.dat.ins ----->\\n No errors encountered.\\n\\n 15344 observations identified in file Case5_III_C_cv_obs_data.dat.ins: these \\n   are listed in file Case5_III_C_cv_obs_data.dat.obf.\\n\\n'"
      ]
     },
     "execution_count": 229,
     "metadata": {},
     "output_type": "execute_result"
    }
   ],
   "source": [
    "# Running inschek\n",
    "subprocess.run(['inschek',f'{file_name}_obs_data.dat.ins'], capture_output=True, text=True).stdout"
   ]
  },
  {
   "cell_type": "code",
   "execution_count": 230,
   "id": "82434f8f-c803-4309-a0fb-99f092a48965",
   "metadata": {},
   "outputs": [],
   "source": [
    "### Converting the pest control file to version 1"
   ]
  },
  {
   "cell_type": "code",
   "execution_count": 231,
   "id": "42be69b5-bc46-4e08-ab77-0f67b5713c16",
   "metadata": {},
   "outputs": [],
   "source": [
    "import pyemu"
   ]
  },
  {
   "cell_type": "code",
   "execution_count": 232,
   "id": "9e398a41",
   "metadata": {},
   "outputs": [
    {
     "data": {
      "text/plain": [
       "'/home/rk/pestpp/pestpp/rk_model_final_4yrs/Case5_III_C_cv_start.demo'"
      ]
     },
     "execution_count": 232,
     "metadata": {},
     "output_type": "execute_result"
    }
   ],
   "source": [
    "os.getcwd()"
   ]
  },
  {
   "cell_type": "code",
   "execution_count": 233,
   "id": "49954514-c450-430f-84ed-0d845772dbfd",
   "metadata": {},
   "outputs": [
    {
     "data": {
      "text/plain": [
       "'Case5_III_C_cv_start.demo'"
      ]
     },
     "execution_count": 233,
     "metadata": {},
     "output_type": "execute_result"
    }
   ],
   "source": [
    "directory_name"
   ]
  },
  {
   "cell_type": "code",
   "execution_count": 234,
   "id": "1a69218a-411c-43b5-b0e6-93ebbc4495ed",
   "metadata": {},
   "outputs": [
    {
     "name": "stdout",
     "output_type": "stream",
     "text": [
      "noptmax:-1, npar_adj:29, nnz_obs:15344\n"
     ]
    }
   ],
   "source": [
    "pst = pyemu.Pst(f\"{file_name}_cf.pst\")\n",
    "pst.write(f\"{file_name}_cf_v1.pst\")"
   ]
  },
  {
   "cell_type": "code",
   "execution_count": 235,
   "id": "b1f1683e-e18b-498b-a4f4-43b92c5cd5c2",
   "metadata": {},
   "outputs": [
    {
     "data": {
      "text/plain": [
       "'/home/rk/pestpp/pestpp/rk_model_final_4yrs/Case5_III_C_cv_start.demo'"
      ]
     },
     "execution_count": 235,
     "metadata": {},
     "output_type": "execute_result"
    }
   ],
   "source": [
    "os.getcwd()"
   ]
  },
  {
   "cell_type": "code",
   "execution_count": 236,
   "id": "9064c890-bb65-42bb-adc6-9d5b6957c52f",
   "metadata": {},
   "outputs": [
    {
     "data": {
      "text/plain": [
       "' PESTCHEK Version 17.3. Watermark Numerical Computing.\\n\\n Errors ----->\\n No errors encountered.\\n\\n Warnings ----->\\n It appears that the PEST control file contains a \"rsi\" section. PESTCHEK did \\n   not check this. It can only be used by RSI_HP.\\n NUMLAM is supplied as negative. This will be reset to positive. If Parallel \\n   PEST or BEOPEST is used PARLAM will automatically be set to -9999.\\n NOPTMAX provided as -1. No optimisation will be carried out; objective \\n   function, residuals and statistics will be recorded for initial parameter \\n   estimates only.\\n MAXSING in the singular value decomposition section is greater than the \\n   number of adjustable parameters.\\n'"
      ]
     },
     "execution_count": 236,
     "metadata": {},
     "output_type": "execute_result"
    }
   ],
   "source": [
    "### Checking the pest control file once more\n",
    "\n",
    "subprocess.run(['pestchek',f\"{file_name}_cf_v1.pst\"], capture_output=True, text=True).stdout"
   ]
  },
  {
   "cell_type": "markdown",
   "id": "d825e61d-6c10-4a46-8e91-ddc44b5cfe55",
   "metadata": {},
   "source": [
    "* If the error of DERCOM appears - Just remove 1 from the all the par_data lines!"
   ]
  },
  {
   "cell_type": "markdown",
   "id": "ed371806-6b43-4149-b366-34977e9f31cd",
   "metadata": {},
   "source": [
    "#### Change the file name in 'ats_modelcmd.py' to pest file name"
   ]
  },
  {
   "cell_type": "code",
   "execution_count": 237,
   "id": "3f9ad751-16d0-471e-ab26-6e0257882b94",
   "metadata": {},
   "outputs": [
    {
     "data": {
      "text/plain": [
       "'/home/rk/pestpp/pestpp/rk_model_final_4yrs/Case5_III_C_cv_start.demo'"
      ]
     },
     "execution_count": 237,
     "metadata": {},
     "output_type": "execute_result"
    }
   ],
   "source": [
    "os.getcwd()"
   ]
  },
  {
   "cell_type": "code",
   "execution_count": null,
   "id": "c3c42bd3-52be-4d91-ad42-584f3137ba8f",
   "metadata": {},
   "outputs": [],
   "source": [
    "%%time\n",
    "### Running pest file\n",
    "\n",
    "os.system(f'pest {file_name}_cf_v1.pst')\n",
    "#subprocess.run(['pest',f'{file_name}_cf_v1.pst','&>out.log'], capture_output=True, text=True).stdout"
   ]
  },
  {
   "cell_type": "markdown",
   "id": "52ee03a7-fc38-4beb-9df7-cd283270c11f",
   "metadata": {},
   "source": [
    "### Reweighting strategy - PWTADJ1\n"
   ]
  },
  {
   "cell_type": "code",
   "execution_count": 14,
   "id": "bd11f409-d77e-448d-a11d-6725be17ca63",
   "metadata": {},
   "outputs": [
    {
     "data": {
      "text/plain": [
       "'\\n PWTADJ1 version 17.3. Watermark Numerical Computing.\\n\\n PWTADJ1 is run using the command:\\n\\n     pwtadj1 casename pestoutfile contribution\\n\\n where\\n\\n     casename     is an existing PEST casename,\\n     pestoutfile  is the name of a new PEST control file, and \\n     contribution is the new objective function for each observation group.\\n'"
      ]
     },
     "execution_count": 14,
     "metadata": {},
     "output_type": "execute_result"
    }
   ],
   "source": [
    "subprocess.run(['pwtadj1'], capture_output=True, text=True).stdout"
   ]
  },
  {
   "cell_type": "markdown",
   "id": "7876062d-beec-45ff-92cb-9cd499bd7c55",
   "metadata": {},
   "source": [
    "### Check the total objective function value in the .rec file and add in the cmd below:"
   ]
  },
  {
   "cell_type": "markdown",
   "id": "463439ce",
   "metadata": {},
   "source": [
    " Objective function ----->\n",
    "\n",
    "   Sum of squared weighted residuals (ie phi)                =  **5.01490E-03**\n",
    "   Contribution to phi from observation group \"temp\"         =  2.30051E-04\n",
    "   Contribution to phi from observation group \"mois\"         =  4.78485E-03"
   ]
  },
  {
   "cell_type": "code",
   "execution_count": 15,
   "id": "bd78fccd-cfe6-4079-acef-49c815338db4",
   "metadata": {},
   "outputs": [],
   "source": [
    "obj_fn_value = 5.01490E-03 # Taken from .rec file"
   ]
  },
  {
   "cell_type": "code",
   "execution_count": 16,
   "id": "a1154cf8-5827-4053-80bd-9f2ee021c3fd",
   "metadata": {},
   "outputs": [
    {
     "data": {
      "text/plain": [
       "'\\n PWTADJ1 version 17.3. Watermark Numerical Computing.\\n\\n - reading PEST control file Case5_I_cv_cf_v1.pst for first time...\\n - file Case5_I_cv_cf_v1.pst read ok.\\n\\n - reading PEST run record file Case5_I_cv_cf_v1.rec...\\n - file Case5_I_cv_cf_v1.rec read ok.\\n\\n - re-reading file Case5_I_cv_cf_v1.pst and writing file Case5_I_cv_cf_v1_rw.pst...\\n - file Case5_I_cv_cf_v1.pst read ok.\\n - file Case5_I_cv_cf_v1_rw.pst written ok.\\n'"
      ]
     },
     "execution_count": 16,
     "metadata": {},
     "output_type": "execute_result"
    }
   ],
   "source": [
    "subprocess.run(['pwtadj1',f'{file_name}_cf_v1.pst',f'{file_name}_cf_v1_rw.pst',f'{obj_fn_value/2}'], capture_output=True, text=True).stdout"
   ]
  },
  {
   "cell_type": "code",
   "execution_count": 18,
   "id": "436d2bd6-6db1-4464-b36d-04b0a0995cb9",
   "metadata": {},
   "outputs": [
    {
     "data": {
      "text/plain": [
       "''"
      ]
     },
     "execution_count": 18,
     "metadata": {},
     "output_type": "execute_result"
    }
   ],
   "source": [
    "# Removing the out.log file since it's file size is large\n",
    "subprocess.run(['rm','-rf','out.log'], capture_output=True, text=True).stdout"
   ]
  },
  {
   "cell_type": "code",
   "execution_count": 11,
   "id": "42f88539-3047-4009-8e1a-af33be941a31",
   "metadata": {},
   "outputs": [],
   "source": [
    "os.chdir(f'..')"
   ]
  },
  {
   "cell_type": "code",
   "execution_count": 12,
   "id": "9e372898-617f-4338-b8de-4f781502060e",
   "metadata": {},
   "outputs": [
    {
     "data": {
      "text/plain": [
       "'/home/rk/pestpp/pestpp/rk_model_final_4yrs'"
      ]
     },
     "execution_count": 12,
     "metadata": {},
     "output_type": "execute_result"
    }
   ],
   "source": [
    "os.getcwd()"
   ]
  },
  {
   "cell_type": "code",
   "execution_count": 13,
   "id": "51506431",
   "metadata": {},
   "outputs": [
    {
     "data": {
      "text/plain": [
       "'Case5_I_cv'"
      ]
     },
     "execution_count": 13,
     "metadata": {},
     "output_type": "execute_result"
    }
   ],
   "source": [
    "file_name"
   ]
  },
  {
   "cell_type": "code",
   "execution_count": 14,
   "id": "859cf981-7750-4aab-a6dc-6f102508337a",
   "metadata": {},
   "outputs": [],
   "source": [
    "directory_name_rw = f'{file_name}_rw_2.demo'"
   ]
  },
  {
   "cell_type": "code",
   "execution_count": 15,
   "id": "2bb7c00d-de35-4b95-a5fa-775487c75743",
   "metadata": {},
   "outputs": [
    {
     "data": {
      "text/plain": [
       "'Case5_I_cv_rw_2.demo'"
      ]
     },
     "execution_count": 15,
     "metadata": {},
     "output_type": "execute_result"
    }
   ],
   "source": [
    "directory_name_rw"
   ]
  },
  {
   "cell_type": "code",
   "execution_count": 16,
   "id": "68ab1f24-e886-4c30-8c7b-2144f5451bfa",
   "metadata": {},
   "outputs": [
    {
     "data": {
      "text/plain": [
       "'Case5_I_cv_rw_2.demo'"
      ]
     },
     "execution_count": 16,
     "metadata": {},
     "output_type": "execute_result"
    }
   ],
   "source": [
    "# Copying the files to a new folder\n",
    "shutil.copytree(directory_name, directory_name_rw)"
   ]
  },
  {
   "cell_type": "code",
   "execution_count": 17,
   "id": "1668efe2-34ef-4dab-b4b6-e329b881e6e9",
   "metadata": {},
   "outputs": [],
   "source": [
    "os.chdir(f'{directory_name_rw}')"
   ]
  },
  {
   "cell_type": "code",
   "execution_count": 19,
   "id": "2ec07e47-6222-4aaf-b8b8-1aae1579f883",
   "metadata": {},
   "outputs": [],
   "source": [
    "cf_name = f'{file_name}_cf_v1' # Control file name before reweighting"
   ]
  },
  {
   "cell_type": "code",
   "execution_count": 20,
   "id": "7f3fd5ff-70f1-42bd-8ace-bd0ad0b9978b",
   "metadata": {},
   "outputs": [
    {
     "data": {
      "text/plain": [
       "0"
      ]
     },
     "execution_count": 20,
     "metadata": {},
     "output_type": "execute_result"
    }
   ],
   "source": [
    "# Removing unnecessary files to provide space for the simulation\n",
    "# Check once more if all the files have been removed properly\n",
    "os.system(f'rm {cf_name}.drf {cf_name}.jac {cf_name}.jst {cf_name}.jco {cf_name}.mtt {cf_name}.par {cf_name}.rec {cf_name}.rei {cf_name}.res {cf_name}.sen {cf_name}.seo {cf_name}.svd {cf_name}.rst jacob.runs')"
   ]
  },
  {
   "cell_type": "code",
   "execution_count": 21,
   "id": "fa4c4f28-2e0f-4bfe-8d70-24cabd4fadbe",
   "metadata": {},
   "outputs": [
    {
     "data": {
      "text/plain": [
       "'Case5_I_cv'"
      ]
     },
     "execution_count": 21,
     "metadata": {},
     "output_type": "execute_result"
    }
   ],
   "source": [
    "file_name"
   ]
  },
  {
   "cell_type": "code",
   "execution_count": null,
   "id": "a2a66bf6",
   "metadata": {},
   "outputs": [],
   "source": [
    "%%time\n",
    "# Running the new re-weighted pest file\n",
    "os.system(f'pestpp-glm {file_name}_cf_v1_rw.pst')\n",
    "# Prefer running it on the terminal?"
   ]
  },
  {
   "cell_type": "code",
   "execution_count": null,
   "id": "b5d36dca",
   "metadata": {},
   "outputs": [],
   "source": []
  }
 ],
 "metadata": {
  "kernelspec": {
   "display_name": "Python 3",
   "language": "python",
   "name": "python3"
  },
  "language_info": {
   "codemirror_mode": {
    "name": "ipython",
    "version": 3
   },
   "file_extension": ".py",
   "mimetype": "text/x-python",
   "name": "python",
   "nbconvert_exporter": "python",
   "pygments_lexer": "ipython3",
   "version": "3.8.8"
  }
 },
 "nbformat": 4,
 "nbformat_minor": 5
}
