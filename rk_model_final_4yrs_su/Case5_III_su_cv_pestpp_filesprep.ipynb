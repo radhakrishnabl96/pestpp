{
 "cells": [
  {
   "cell_type": "markdown",
   "id": "3afae032",
   "metadata": {},
   "source": [
    "**The following file is to calibrate and validate the model with 4 years of data with the results from spinup as the initial condition. Previously in the folder rk_model_final - /home/rk/ats_rk/testing/ats-demos/rk_model/Spinup_final_16032022. The calibration was carried out for only 1 year. All the files will have a similar naming with the ending cv (calibration and validation) and su (spinup).**\n",
    "\n",
    "* The notebook is developed to code the methodology and extract relevant files that are suitable as input to PEST.\n",
    "- pestpp/pestpp/benchmarks/mf6_freyberg - This is used as the standard benchmark folder from which the files are referred.\n",
    "- Currently, the freyberg6_run_glm.pst which solves the Levenberg - Marquardt algorithm is considered.\n",
    "\n",
    "Parameters considered: 'alpha_p_gp', 'alpha_m_gp', 'n_p_gp', 'n_m_gp', 'wr_p_gp', 'wr_m_gp', 'tcs_p_gp', 'tcs_m_gp', 'tcd_p_gp', 'tcd_m_gp', 'af_p_gp', 'af_m_gp', 'auf_p_gp', 'auf_m_gp', 'por_p_gp', 'por_m_gp', 'perm_p_gp', 'perm_m_gp', 'den_p_gp', 'den_m_gp'\n",
    "\n",
    "- We are considering the initial parameters based on the simulation : all_params_afterrw.demo\n",
    "\n",
    "- The lower and upper bound is fixed to 75 % of the initial value\n",
    "\n",
    "- Some values that do not accept these changes, have been changed with respect to their initial value\n",
    "\n",
    "- We are considering to reduce the parameter space so that the pest simulation can run quicker. We will be considering the results from calibration of 1 year - Case5_I_E simulation. Considering the file path - pestpp/pestpp/rk_model_final/Output_comp_analysis_3.ipynb. For the parameters that were not considered in the analysis - the calibrated values from 1 year of calibration is taken. All parameters with log_rel_sen < - 8 is not considered. The results are shown below when the command - rel_cases_log.iloc[1,:][rel_cases_log.iloc[1,:] <-8] was run. \n",
    "\n",
    "    * n_m         -10.780082\n",
    "    * wr_m         -8.237805\n",
    "    * tcs_p        -9.283912\n",
    "    * tcs_m        -8.707658\n",
    "    * tcd_p        -8.552841\n",
    "    * tcd_m       -10.539404\n",
    "    * af_p        -10.874932\n",
    "    * af_m        -10.649015\n",
    "    * auf_p        -8.592941\n",
    "    * auf_m       -10.588667\n",
    "    * den_p       -18.200911\n",
    "    * den_m       -17.717395\n",
    "    * albedo_bg    -8.457213\n",
    "    * e_bg         -8.210573\n",
    "    * pen_w        -8.971497\n",
    "\n",
    "\n",
    "- The snow depth dataset is available from 2014 - 2017. The meteorological data is available from the year 2016 - 2020. 2020 - 2021 is not considered for the analysis since it contains missing data for nearly 3 months (2020-02 : 2020-05). **Therefore for Case 5 we can consider the year 2016 as calibration dataset and the year 2017 as validation dataset**. This can ensure that we are working with the right kind of dataset for both calibration and validation.\n"
   ]
  },
  {
   "cell_type": "code",
   "execution_count": 1,
   "id": "6bf7df5e-9d54-474f-971e-9136c5cf69bc",
   "metadata": {},
   "outputs": [],
   "source": [
    "import warnings\n",
    "warnings.filterwarnings(\"ignore\", category=DeprecationWarning)"
   ]
  },
  {
   "cell_type": "code",
   "execution_count": 2,
   "id": "d3d7bcd1",
   "metadata": {},
   "outputs": [],
   "source": [
    "%matplotlib inline\n",
    "import sys,os\n",
    "#import colors\n",
    "import numpy as np\n",
    "import matplotlib.cm\n",
    "from matplotlib import pyplot as plt\n",
    "import matplotlib.gridspec as gridspec\n",
    "import h5py\n",
    "import pandas as pd\n",
    "from datetime import datetime\n",
    "import matplotlib.image as mpimg"
   ]
  },
  {
   "cell_type": "code",
   "execution_count": 3,
   "id": "cd399d23-fe32-47d2-b67f-6804ab07f1ed",
   "metadata": {},
   "outputs": [],
   "source": [
    "import shutil\n",
    "import numpy as np\n",
    "import pandas as pd\n",
    "#import pyemu\n",
    "#import flopy\n",
    "import subprocess"
   ]
  },
  {
   "cell_type": "code",
   "execution_count": 4,
   "id": "086cab93",
   "metadata": {},
   "outputs": [],
   "source": [
    "import warnings\n",
    "warnings.filterwarnings(\"ignore\", category=DeprecationWarning)"
   ]
  },
  {
   "cell_type": "code",
   "execution_count": 5,
   "id": "ef27d92a-d034-4031-8d65-93568f7ae7ab",
   "metadata": {},
   "outputs": [],
   "source": [
    "directory_name = 'Case5_III_su_cv_start.demo' # Main directory name where the data is stored for the initial round of calibration\n",
    "file_name = 'Case5_III_su_cv' # Name of the xml file"
   ]
  },
  {
   "cell_type": "code",
   "execution_count": 6,
   "id": "d7c125c6",
   "metadata": {},
   "outputs": [
    {
     "data": {
      "text/plain": [
       "'/bigwork/nhgjrabl/Simulations/pestpp/rk_model_final_4yrs_su'"
      ]
     },
     "execution_count": 6,
     "metadata": {},
     "output_type": "execute_result"
    }
   ],
   "source": [
    "os.getcwd()"
   ]
  },
  {
   "cell_type": "markdown",
   "id": "07ff8682",
   "metadata": {
    "tags": []
   },
   "source": [
    "### 1. Observation data"
   ]
  },
  {
   "cell_type": "code",
   "execution_count": 7,
   "id": "7270a1f1",
   "metadata": {
    "collapsed": true,
    "jupyter": {
     "outputs_hidden": true
    },
    "tags": []
   },
   "outputs": [
    {
     "ename": "FileNotFoundError",
     "evalue": "[Errno 2] No such file or directory: '/home/rk/ats_rk/testing/ats-demos/rk_model/Data/Data_Yakou/Yakou_met_data_ITP_rk/Final_OutputData_Case5/Calib_outputdata_Case5_2016.csv'",
     "output_type": "error",
     "traceback": [
      "\u001b[0;31m---------------------------------------------------------------------------\u001b[0m",
      "\u001b[0;31mFileNotFoundError\u001b[0m                         Traceback (most recent call last)",
      "\u001b[0;32m/tmp/ipykernel_117262/3472459225.py\u001b[0m in \u001b[0;36m<module>\u001b[0;34m\u001b[0m\n\u001b[0;32m----> 1\u001b[0;31m \u001b[0mdf_obs_AWS\u001b[0m \u001b[0;34m=\u001b[0m \u001b[0mpd\u001b[0m\u001b[0;34m.\u001b[0m\u001b[0mread_csv\u001b[0m\u001b[0;34m(\u001b[0m\u001b[0;34m'/home/rk/ats_rk/testing/ats-demos/rk_model/Data/Data_Yakou/Yakou_met_data_ITP_rk/Final_OutputData_Case5/Calib_outputdata_Case5_2016.csv'\u001b[0m\u001b[0;34m,\u001b[0m\u001b[0msep\u001b[0m\u001b[0;34m=\u001b[0m\u001b[0;34m'\\t'\u001b[0m\u001b[0;34m)\u001b[0m\u001b[0;34m\u001b[0m\u001b[0;34m\u001b[0m\u001b[0m\n\u001b[0m\u001b[1;32m      2\u001b[0m \u001b[0mdf_obs_AWS\u001b[0m\u001b[0;34m.\u001b[0m\u001b[0mhead\u001b[0m\u001b[0;34m(\u001b[0m\u001b[0;34m)\u001b[0m\u001b[0;34m\u001b[0m\u001b[0;34m\u001b[0m\u001b[0m\n\u001b[1;32m      3\u001b[0m \u001b[0;34m\u001b[0m\u001b[0m\n\u001b[1;32m      4\u001b[0m \u001b[0;31m# The observation data was processed previously in /home/rk/ats_rk/testing/ats-demos/rk_model/Data/Data_Yakou/Yakou_met_data_ITP_rk/AWS_final_metdata_4yrs_concise.ipynb\u001b[0m\u001b[0;34m\u001b[0m\u001b[0;34m\u001b[0m\u001b[0;34m\u001b[0m\u001b[0m\n",
      "\u001b[0;32m/sw-eb/system/home/ood/conda/envs/miniconda3-2021.11_python-3.8/lib/python3.8/site-packages/pandas/util/_decorators.py\u001b[0m in \u001b[0;36mwrapper\u001b[0;34m(*args, **kwargs)\u001b[0m\n\u001b[1;32m    309\u001b[0m                     \u001b[0mstacklevel\u001b[0m\u001b[0;34m=\u001b[0m\u001b[0mstacklevel\u001b[0m\u001b[0;34m,\u001b[0m\u001b[0;34m\u001b[0m\u001b[0;34m\u001b[0m\u001b[0m\n\u001b[1;32m    310\u001b[0m                 )\n\u001b[0;32m--> 311\u001b[0;31m             \u001b[0;32mreturn\u001b[0m \u001b[0mfunc\u001b[0m\u001b[0;34m(\u001b[0m\u001b[0;34m*\u001b[0m\u001b[0margs\u001b[0m\u001b[0;34m,\u001b[0m \u001b[0;34m**\u001b[0m\u001b[0mkwargs\u001b[0m\u001b[0;34m)\u001b[0m\u001b[0;34m\u001b[0m\u001b[0;34m\u001b[0m\u001b[0m\n\u001b[0m\u001b[1;32m    312\u001b[0m \u001b[0;34m\u001b[0m\u001b[0m\n\u001b[1;32m    313\u001b[0m         \u001b[0;32mreturn\u001b[0m \u001b[0mwrapper\u001b[0m\u001b[0;34m\u001b[0m\u001b[0;34m\u001b[0m\u001b[0m\n",
      "\u001b[0;32m/sw-eb/system/home/ood/conda/envs/miniconda3-2021.11_python-3.8/lib/python3.8/site-packages/pandas/io/parsers/readers.py\u001b[0m in \u001b[0;36mread_csv\u001b[0;34m(filepath_or_buffer, sep, delimiter, header, names, index_col, usecols, squeeze, prefix, mangle_dupe_cols, dtype, engine, converters, true_values, false_values, skipinitialspace, skiprows, skipfooter, nrows, na_values, keep_default_na, na_filter, verbose, skip_blank_lines, parse_dates, infer_datetime_format, keep_date_col, date_parser, dayfirst, cache_dates, iterator, chunksize, compression, thousands, decimal, lineterminator, quotechar, quoting, doublequote, escapechar, comment, encoding, encoding_errors, dialect, error_bad_lines, warn_bad_lines, on_bad_lines, delim_whitespace, low_memory, memory_map, float_precision, storage_options)\u001b[0m\n\u001b[1;32m    584\u001b[0m     \u001b[0mkwds\u001b[0m\u001b[0;34m.\u001b[0m\u001b[0mupdate\u001b[0m\u001b[0;34m(\u001b[0m\u001b[0mkwds_defaults\u001b[0m\u001b[0;34m)\u001b[0m\u001b[0;34m\u001b[0m\u001b[0;34m\u001b[0m\u001b[0m\n\u001b[1;32m    585\u001b[0m \u001b[0;34m\u001b[0m\u001b[0m\n\u001b[0;32m--> 586\u001b[0;31m     \u001b[0;32mreturn\u001b[0m \u001b[0m_read\u001b[0m\u001b[0;34m(\u001b[0m\u001b[0mfilepath_or_buffer\u001b[0m\u001b[0;34m,\u001b[0m \u001b[0mkwds\u001b[0m\u001b[0;34m)\u001b[0m\u001b[0;34m\u001b[0m\u001b[0;34m\u001b[0m\u001b[0m\n\u001b[0m\u001b[1;32m    587\u001b[0m \u001b[0;34m\u001b[0m\u001b[0m\n\u001b[1;32m    588\u001b[0m \u001b[0;34m\u001b[0m\u001b[0m\n",
      "\u001b[0;32m/sw-eb/system/home/ood/conda/envs/miniconda3-2021.11_python-3.8/lib/python3.8/site-packages/pandas/io/parsers/readers.py\u001b[0m in \u001b[0;36m_read\u001b[0;34m(filepath_or_buffer, kwds)\u001b[0m\n\u001b[1;32m    480\u001b[0m \u001b[0;34m\u001b[0m\u001b[0m\n\u001b[1;32m    481\u001b[0m     \u001b[0;31m# Create the parser.\u001b[0m\u001b[0;34m\u001b[0m\u001b[0;34m\u001b[0m\u001b[0;34m\u001b[0m\u001b[0m\n\u001b[0;32m--> 482\u001b[0;31m     \u001b[0mparser\u001b[0m \u001b[0;34m=\u001b[0m \u001b[0mTextFileReader\u001b[0m\u001b[0;34m(\u001b[0m\u001b[0mfilepath_or_buffer\u001b[0m\u001b[0;34m,\u001b[0m \u001b[0;34m**\u001b[0m\u001b[0mkwds\u001b[0m\u001b[0;34m)\u001b[0m\u001b[0;34m\u001b[0m\u001b[0;34m\u001b[0m\u001b[0m\n\u001b[0m\u001b[1;32m    483\u001b[0m \u001b[0;34m\u001b[0m\u001b[0m\n\u001b[1;32m    484\u001b[0m     \u001b[0;32mif\u001b[0m \u001b[0mchunksize\u001b[0m \u001b[0;32mor\u001b[0m \u001b[0miterator\u001b[0m\u001b[0;34m:\u001b[0m\u001b[0;34m\u001b[0m\u001b[0;34m\u001b[0m\u001b[0m\n",
      "\u001b[0;32m/sw-eb/system/home/ood/conda/envs/miniconda3-2021.11_python-3.8/lib/python3.8/site-packages/pandas/io/parsers/readers.py\u001b[0m in \u001b[0;36m__init__\u001b[0;34m(self, f, engine, **kwds)\u001b[0m\n\u001b[1;32m    809\u001b[0m             \u001b[0mself\u001b[0m\u001b[0;34m.\u001b[0m\u001b[0moptions\u001b[0m\u001b[0;34m[\u001b[0m\u001b[0;34m\"has_index_names\"\u001b[0m\u001b[0;34m]\u001b[0m \u001b[0;34m=\u001b[0m \u001b[0mkwds\u001b[0m\u001b[0;34m[\u001b[0m\u001b[0;34m\"has_index_names\"\u001b[0m\u001b[0;34m]\u001b[0m\u001b[0;34m\u001b[0m\u001b[0;34m\u001b[0m\u001b[0m\n\u001b[1;32m    810\u001b[0m \u001b[0;34m\u001b[0m\u001b[0m\n\u001b[0;32m--> 811\u001b[0;31m         \u001b[0mself\u001b[0m\u001b[0;34m.\u001b[0m\u001b[0m_engine\u001b[0m \u001b[0;34m=\u001b[0m \u001b[0mself\u001b[0m\u001b[0;34m.\u001b[0m\u001b[0m_make_engine\u001b[0m\u001b[0;34m(\u001b[0m\u001b[0mself\u001b[0m\u001b[0;34m.\u001b[0m\u001b[0mengine\u001b[0m\u001b[0;34m)\u001b[0m\u001b[0;34m\u001b[0m\u001b[0;34m\u001b[0m\u001b[0m\n\u001b[0m\u001b[1;32m    812\u001b[0m \u001b[0;34m\u001b[0m\u001b[0m\n\u001b[1;32m    813\u001b[0m     \u001b[0;32mdef\u001b[0m \u001b[0mclose\u001b[0m\u001b[0;34m(\u001b[0m\u001b[0mself\u001b[0m\u001b[0;34m)\u001b[0m\u001b[0;34m:\u001b[0m\u001b[0;34m\u001b[0m\u001b[0;34m\u001b[0m\u001b[0m\n",
      "\u001b[0;32m/sw-eb/system/home/ood/conda/envs/miniconda3-2021.11_python-3.8/lib/python3.8/site-packages/pandas/io/parsers/readers.py\u001b[0m in \u001b[0;36m_make_engine\u001b[0;34m(self, engine)\u001b[0m\n\u001b[1;32m   1038\u001b[0m             )\n\u001b[1;32m   1039\u001b[0m         \u001b[0;31m# error: Too many arguments for \"ParserBase\"\u001b[0m\u001b[0;34m\u001b[0m\u001b[0;34m\u001b[0m\u001b[0;34m\u001b[0m\u001b[0m\n\u001b[0;32m-> 1040\u001b[0;31m         \u001b[0;32mreturn\u001b[0m \u001b[0mmapping\u001b[0m\u001b[0;34m[\u001b[0m\u001b[0mengine\u001b[0m\u001b[0;34m]\u001b[0m\u001b[0;34m(\u001b[0m\u001b[0mself\u001b[0m\u001b[0;34m.\u001b[0m\u001b[0mf\u001b[0m\u001b[0;34m,\u001b[0m \u001b[0;34m**\u001b[0m\u001b[0mself\u001b[0m\u001b[0;34m.\u001b[0m\u001b[0moptions\u001b[0m\u001b[0;34m)\u001b[0m  \u001b[0;31m# type: ignore[call-arg]\u001b[0m\u001b[0;34m\u001b[0m\u001b[0;34m\u001b[0m\u001b[0m\n\u001b[0m\u001b[1;32m   1041\u001b[0m \u001b[0;34m\u001b[0m\u001b[0m\n\u001b[1;32m   1042\u001b[0m     \u001b[0;32mdef\u001b[0m \u001b[0m_failover_to_python\u001b[0m\u001b[0;34m(\u001b[0m\u001b[0mself\u001b[0m\u001b[0;34m)\u001b[0m\u001b[0;34m:\u001b[0m\u001b[0;34m\u001b[0m\u001b[0;34m\u001b[0m\u001b[0m\n",
      "\u001b[0;32m/sw-eb/system/home/ood/conda/envs/miniconda3-2021.11_python-3.8/lib/python3.8/site-packages/pandas/io/parsers/c_parser_wrapper.py\u001b[0m in \u001b[0;36m__init__\u001b[0;34m(self, src, **kwds)\u001b[0m\n\u001b[1;32m     49\u001b[0m \u001b[0;34m\u001b[0m\u001b[0m\n\u001b[1;32m     50\u001b[0m         \u001b[0;31m# open handles\u001b[0m\u001b[0;34m\u001b[0m\u001b[0;34m\u001b[0m\u001b[0;34m\u001b[0m\u001b[0m\n\u001b[0;32m---> 51\u001b[0;31m         \u001b[0mself\u001b[0m\u001b[0;34m.\u001b[0m\u001b[0m_open_handles\u001b[0m\u001b[0;34m(\u001b[0m\u001b[0msrc\u001b[0m\u001b[0;34m,\u001b[0m \u001b[0mkwds\u001b[0m\u001b[0;34m)\u001b[0m\u001b[0;34m\u001b[0m\u001b[0;34m\u001b[0m\u001b[0m\n\u001b[0m\u001b[1;32m     52\u001b[0m         \u001b[0;32massert\u001b[0m \u001b[0mself\u001b[0m\u001b[0;34m.\u001b[0m\u001b[0mhandles\u001b[0m \u001b[0;32mis\u001b[0m \u001b[0;32mnot\u001b[0m \u001b[0;32mNone\u001b[0m\u001b[0;34m\u001b[0m\u001b[0;34m\u001b[0m\u001b[0m\n\u001b[1;32m     53\u001b[0m \u001b[0;34m\u001b[0m\u001b[0m\n",
      "\u001b[0;32m/sw-eb/system/home/ood/conda/envs/miniconda3-2021.11_python-3.8/lib/python3.8/site-packages/pandas/io/parsers/base_parser.py\u001b[0m in \u001b[0;36m_open_handles\u001b[0;34m(self, src, kwds)\u001b[0m\n\u001b[1;32m    220\u001b[0m         \u001b[0mLet\u001b[0m \u001b[0mthe\u001b[0m \u001b[0mreaders\u001b[0m \u001b[0mopen\u001b[0m \u001b[0mIOHandles\u001b[0m \u001b[0mafter\u001b[0m \u001b[0mthey\u001b[0m \u001b[0mare\u001b[0m \u001b[0mdone\u001b[0m \u001b[0;32mwith\u001b[0m \u001b[0mtheir\u001b[0m \u001b[0mpotential\u001b[0m \u001b[0mraises\u001b[0m\u001b[0;34m.\u001b[0m\u001b[0;34m\u001b[0m\u001b[0;34m\u001b[0m\u001b[0m\n\u001b[1;32m    221\u001b[0m         \"\"\"\n\u001b[0;32m--> 222\u001b[0;31m         self.handles = get_handle(\n\u001b[0m\u001b[1;32m    223\u001b[0m             \u001b[0msrc\u001b[0m\u001b[0;34m,\u001b[0m\u001b[0;34m\u001b[0m\u001b[0;34m\u001b[0m\u001b[0m\n\u001b[1;32m    224\u001b[0m             \u001b[0;34m\"r\"\u001b[0m\u001b[0;34m,\u001b[0m\u001b[0;34m\u001b[0m\u001b[0;34m\u001b[0m\u001b[0m\n",
      "\u001b[0;32m/sw-eb/system/home/ood/conda/envs/miniconda3-2021.11_python-3.8/lib/python3.8/site-packages/pandas/io/common.py\u001b[0m in \u001b[0;36mget_handle\u001b[0;34m(path_or_buf, mode, encoding, compression, memory_map, is_text, errors, storage_options)\u001b[0m\n\u001b[1;32m    700\u001b[0m         \u001b[0;32mif\u001b[0m \u001b[0mioargs\u001b[0m\u001b[0;34m.\u001b[0m\u001b[0mencoding\u001b[0m \u001b[0;32mand\u001b[0m \u001b[0;34m\"b\"\u001b[0m \u001b[0;32mnot\u001b[0m \u001b[0;32min\u001b[0m \u001b[0mioargs\u001b[0m\u001b[0;34m.\u001b[0m\u001b[0mmode\u001b[0m\u001b[0;34m:\u001b[0m\u001b[0;34m\u001b[0m\u001b[0;34m\u001b[0m\u001b[0m\n\u001b[1;32m    701\u001b[0m             \u001b[0;31m# Encoding\u001b[0m\u001b[0;34m\u001b[0m\u001b[0;34m\u001b[0m\u001b[0;34m\u001b[0m\u001b[0m\n\u001b[0;32m--> 702\u001b[0;31m             handle = open(\n\u001b[0m\u001b[1;32m    703\u001b[0m                 \u001b[0mhandle\u001b[0m\u001b[0;34m,\u001b[0m\u001b[0;34m\u001b[0m\u001b[0;34m\u001b[0m\u001b[0m\n\u001b[1;32m    704\u001b[0m                 \u001b[0mioargs\u001b[0m\u001b[0;34m.\u001b[0m\u001b[0mmode\u001b[0m\u001b[0;34m,\u001b[0m\u001b[0;34m\u001b[0m\u001b[0;34m\u001b[0m\u001b[0m\n",
      "\u001b[0;31mFileNotFoundError\u001b[0m: [Errno 2] No such file or directory: '/home/rk/ats_rk/testing/ats-demos/rk_model/Data/Data_Yakou/Yakou_met_data_ITP_rk/Final_OutputData_Case5/Calib_outputdata_Case5_2016.csv'"
     ]
    }
   ],
   "source": [
    "df_obs_AWS = pd.read_csv('/home/rk/ats_rk/testing/ats-demos/rk_model/Data/Data_Yakou/Yakou_met_data_ITP_rk/Final_OutputData_Case5/Calib_outputdata_Case5_2016.csv',sep='\\t')\n",
    "df_obs_AWS.head()\n",
    "\n",
    "# The observation data was processed previously in /home/rk/ats_rk/testing/ats-demos/rk_model/Data/Data_Yakou/Yakou_met_data_ITP_rk/AWS_final_metdata_4yrs_concise.ipynb"
   ]
  },
  {
   "cell_type": "code",
   "execution_count": 12,
   "id": "8a9ea23b",
   "metadata": {},
   "outputs": [
    {
     "data": {
      "text/plain": [
       "366"
      ]
     },
     "execution_count": 12,
     "metadata": {},
     "output_type": "execute_result"
    }
   ],
   "source": [
    "len(df_obs_AWS)"
   ]
  },
  {
   "cell_type": "code",
   "execution_count": 13,
   "id": "326ae89c",
   "metadata": {},
   "outputs": [
    {
     "data": {
      "text/plain": [
       "0    260.642153\n",
       "1    261.288403\n",
       "2    261.325486\n",
       "3    261.152153\n",
       "4    260.778403\n",
       "Name: Soil temperature at - 0.04 m (K), dtype: float64"
      ]
     },
     "execution_count": 13,
     "metadata": {},
     "output_type": "execute_result"
    }
   ],
   "source": [
    "# Calculating the temperature in Kelvin\n",
    "\n",
    "depths = [0.04, 0.1, 0.2, 0.4, 0.8, 1.2, 1.6]\n",
    "\n",
    "time_values = len(df_obs_AWS) # Number of time values\n",
    "\n",
    "times = np.arange(1, time_values+1, 1)\n",
    "\n",
    "# Adding column information:\n",
    "\n",
    "\n",
    "x = 0\n",
    "for i, depth in enumerate(depths):\n",
    "        df_obs_AWS[f'Soil temperature at - {depth} m (K)'] = df_obs_AWS[f'Soil temperature at - {depth} m (°C)'] + 273.15\n",
    "\n",
    "df_obs_AWS['Soil temperature at - 0.04 m (K)'].head()"
   ]
  },
  {
   "cell_type": "code",
   "execution_count": 14,
   "id": "613f7a1a",
   "metadata": {},
   "outputs": [
    {
     "data": {
      "text/html": [
       "<div>\n",
       "<style scoped>\n",
       "    .dataframe tbody tr th:only-of-type {\n",
       "        vertical-align: middle;\n",
       "    }\n",
       "\n",
       "    .dataframe tbody tr th {\n",
       "        vertical-align: top;\n",
       "    }\n",
       "\n",
       "    .dataframe thead th {\n",
       "        text-align: right;\n",
       "    }\n",
       "</style>\n",
       "<table border=\"1\" class=\"dataframe\">\n",
       "  <thead>\n",
       "    <tr style=\"text-align: right;\">\n",
       "      <th></th>\n",
       "      <th>obsnme</th>\n",
       "      <th>obsval</th>\n",
       "      <th>weight</th>\n",
       "      <th>obgnme</th>\n",
       "    </tr>\n",
       "  </thead>\n",
       "  <tbody>\n",
       "    <tr>\n",
       "      <th>0</th>\n",
       "      <td>gage_1_20151231</td>\n",
       "      <td>951.71</td>\n",
       "      <td>0.000000</td>\n",
       "      <td>gage</td>\n",
       "    </tr>\n",
       "    <tr>\n",
       "      <th>1</th>\n",
       "      <td>gage_1_20160131</td>\n",
       "      <td>1530.10</td>\n",
       "      <td>0.004357</td>\n",
       "      <td>gage</td>\n",
       "    </tr>\n",
       "    <tr>\n",
       "      <th>2</th>\n",
       "      <td>gage_1_20160229</td>\n",
       "      <td>1855.30</td>\n",
       "      <td>0.003593</td>\n",
       "      <td>gage</td>\n",
       "    </tr>\n",
       "    <tr>\n",
       "      <th>3</th>\n",
       "      <td>gage_1_20160331</td>\n",
       "      <td>1907.10</td>\n",
       "      <td>0.003496</td>\n",
       "      <td>gage</td>\n",
       "    </tr>\n",
       "    <tr>\n",
       "      <th>4</th>\n",
       "      <td>gage_1_20160430</td>\n",
       "      <td>1747.70</td>\n",
       "      <td>0.003815</td>\n",
       "      <td>gage</td>\n",
       "    </tr>\n",
       "  </tbody>\n",
       "</table>\n",
       "</div>"
      ],
      "text/plain": [
       "            obsnme   obsval    weight obgnme\n",
       "0  gage_1_20151231   951.71  0.000000   gage\n",
       "1  gage_1_20160131  1530.10  0.004357   gage\n",
       "2  gage_1_20160229  1855.30  0.003593   gage\n",
       "3  gage_1_20160331  1907.10  0.003496   gage\n",
       "4  gage_1_20160430  1747.70  0.003815   gage"
      ]
     },
     "execution_count": 14,
     "metadata": {},
     "output_type": "execute_result"
    }
   ],
   "source": [
    "# Extracting an example \n",
    "obs_data_example = pd.read_csv('Freyberg_example/freyberg6_run_glm.obs_data.csv') \n",
    "obs_data_example.head()"
   ]
  },
  {
   "cell_type": "code",
   "execution_count": 16,
   "id": "6b51e2a2",
   "metadata": {},
   "outputs": [
    {
     "data": {
      "text/plain": [
       "5124"
      ]
     },
     "execution_count": 16,
     "metadata": {},
     "output_type": "execute_result"
    }
   ],
   "source": [
    "obs_weight = 2 * 7 * 366\n",
    "obs_weight"
   ]
  },
  {
   "cell_type": "markdown",
   "id": "cc14ca87",
   "metadata": {},
   "source": [
    "The following details need to be defined:\n",
    "\n",
    "Note: Here we need to add the values from the excel that we read previously.\n",
    "\n",
    "- OBSNME: stemp_{depth}_{1-366} & smois_{depth}_{1-366}: Observation names - We have temperature and moisture values at 7 depths. \n",
    "- OBSVAL: The corresponding values need to be added in pandas from the dataframe - data_AWS_syn_2016\n",
    "- WEIGHT (Initial): Assigning equal weights to all variables. 1/5124 = 1.9516e-04; 2 {soil_temp, soil_mois} * 7 {7 sensors} * 366 {1-366}  = 5124\n",
    "- obgnme: 'temp', 'mois'"
   ]
  },
  {
   "cell_type": "code",
   "execution_count": 17,
   "id": "62eb3708",
   "metadata": {},
   "outputs": [
    {
     "data": {
      "text/plain": [
       "0.000195160031225605"
      ]
     },
     "execution_count": 17,
     "metadata": {},
     "output_type": "execute_result"
    }
   ],
   "source": [
    "# Initial values \n",
    "time_values = 366 # Number of time values\n",
    "# Total number of values 1/15344 = 6.517e-05; 2 {soil_temp, soil_mois} * 7 {7 sensors} * 1096 {1-365}  = 15344\n",
    "total_values = 2 * 7 * 366 \n",
    "ini_wt = 1/total_values # Initial weight\n",
    "ini_wt"
   ]
  },
  {
   "cell_type": "code",
   "execution_count": 18,
   "id": "0ebd5d64",
   "metadata": {},
   "outputs": [
    {
     "data": {
      "text/html": [
       "<div>\n",
       "<style scoped>\n",
       "    .dataframe tbody tr th:only-of-type {\n",
       "        vertical-align: middle;\n",
       "    }\n",
       "\n",
       "    .dataframe tbody tr th {\n",
       "        vertical-align: top;\n",
       "    }\n",
       "\n",
       "    .dataframe thead th {\n",
       "        text-align: right;\n",
       "    }\n",
       "</style>\n",
       "<table border=\"1\" class=\"dataframe\">\n",
       "  <thead>\n",
       "    <tr style=\"text-align: right;\">\n",
       "      <th></th>\n",
       "      <th>obsnme</th>\n",
       "      <th>obsval</th>\n",
       "      <th>weight</th>\n",
       "      <th>obgnme</th>\n",
       "    </tr>\n",
       "  </thead>\n",
       "  <tbody>\n",
       "    <tr>\n",
       "      <th>1</th>\n",
       "      <td>stemp_0.04_0</td>\n",
       "      <td>260.642153</td>\n",
       "      <td>0.000195</td>\n",
       "      <td>temp</td>\n",
       "    </tr>\n",
       "    <tr>\n",
       "      <th>2</th>\n",
       "      <td>stemp_0.04_1</td>\n",
       "      <td>261.288403</td>\n",
       "      <td>0.000195</td>\n",
       "      <td>temp</td>\n",
       "    </tr>\n",
       "    <tr>\n",
       "      <th>3</th>\n",
       "      <td>stemp_0.04_2</td>\n",
       "      <td>261.325486</td>\n",
       "      <td>0.000195</td>\n",
       "      <td>temp</td>\n",
       "    </tr>\n",
       "    <tr>\n",
       "      <th>4</th>\n",
       "      <td>stemp_0.04_3</td>\n",
       "      <td>261.152153</td>\n",
       "      <td>0.000195</td>\n",
       "      <td>temp</td>\n",
       "    </tr>\n",
       "    <tr>\n",
       "      <th>5</th>\n",
       "      <td>stemp_0.04_4</td>\n",
       "      <td>260.778403</td>\n",
       "      <td>0.000195</td>\n",
       "      <td>temp</td>\n",
       "    </tr>\n",
       "  </tbody>\n",
       "</table>\n",
       "</div>"
      ],
      "text/plain": [
       "         obsnme      obsval    weight obgnme\n",
       "1  stemp_0.04_0  260.642153  0.000195   temp\n",
       "2  stemp_0.04_1  261.288403  0.000195   temp\n",
       "3  stemp_0.04_2  261.325486  0.000195   temp\n",
       "4  stemp_0.04_3  261.152153  0.000195   temp\n",
       "5  stemp_0.04_4  260.778403  0.000195   temp"
      ]
     },
     "execution_count": 18,
     "metadata": {},
     "output_type": "execute_result"
    }
   ],
   "source": [
    "# Creating a new dataframes with columns = obs_data_example.index and rows = 0 - 15344\n",
    "# There are 1096 values for one sensor in each year, hence we move from 0 - 1095 & then it repeats again for the next sensor.\n",
    "\n",
    "obs_data = pd.DataFrame(data=None,columns=obs_data_example.columns,index=np.arange(1,total_values+1,1))\n",
    "\n",
    "\n",
    "depths = [0.04, 0.1, 0.2, 0.4, 0.8, 1.2, 1.6]\n",
    "\n",
    "times = np.arange(1, time_values+1, 1)\n",
    "\n",
    "# Adding column information:\n",
    "\n",
    "\n",
    "x = 0\n",
    "for i, depth in enumerate(depths):\n",
    "    for j, time in enumerate(times):\n",
    "        # Column name = obsnme\n",
    "        obs_data.iloc[x,0] = f'stemp_{depth}_{j}'\n",
    "        # Column name = obsval\n",
    "        obs_data.iloc[x,1] = df_obs_AWS[f'Soil temperature at - {depth} m (K)'][j]\n",
    "        # Column name = weights : Assigning equal weight to all variables\n",
    "        obs_data.iloc[x,2] = 1/total_values\n",
    "        # Column name = obgnme : Assigning observation group name\n",
    "        obs_data.iloc[x,3] = 'temp'\n",
    "        x = x + 1\n",
    "\n",
    "for i, depth in enumerate(depths):\n",
    "    for j, time in enumerate(times):\n",
    "        obs_data.iloc[x,0] = f'smois_{depth}_{j}'\n",
    "        # Column name = obsval\n",
    "        obs_data.iloc[x,1] = df_obs_AWS[f'Soil moisture at - {depth} m (%)'][j]\n",
    "        # Column name = weights : Assigning equal weight to all variables\n",
    "        obs_data.iloc[x,2] = 1/total_values\n",
    "        # Column name = obgnme : Assigning observation group name\n",
    "        obs_data.iloc[x,3] = 'mois'\n",
    "        x = x + 1\n",
    "\n",
    "        \n",
    "obs_data.head()"
   ]
  },
  {
   "cell_type": "code",
   "execution_count": 20,
   "id": "884c004e",
   "metadata": {},
   "outputs": [
    {
     "data": {
      "text/plain": [
       "200    279.461694\n",
       "201    280.641611\n",
       "202    280.277917\n",
       "203    279.958944\n",
       "204    280.124236\n",
       "Name: Soil temperature at - 0.2 m (K), dtype: float64"
      ]
     },
     "execution_count": 20,
     "metadata": {},
     "output_type": "execute_result"
    }
   ],
   "source": [
    "df_obs_AWS['Soil temperature at - 0.2 m (K)'][200:205]"
   ]
  },
  {
   "cell_type": "code",
   "execution_count": 24,
   "id": "d3a72ff2",
   "metadata": {},
   "outputs": [
    {
     "data": {
      "text/html": [
       "<div>\n",
       "<style scoped>\n",
       "    .dataframe tbody tr th:only-of-type {\n",
       "        vertical-align: middle;\n",
       "    }\n",
       "\n",
       "    .dataframe tbody tr th {\n",
       "        vertical-align: top;\n",
       "    }\n",
       "\n",
       "    .dataframe thead th {\n",
       "        text-align: right;\n",
       "    }\n",
       "</style>\n",
       "<table border=\"1\" class=\"dataframe\">\n",
       "  <thead>\n",
       "    <tr style=\"text-align: right;\">\n",
       "      <th></th>\n",
       "      <th>obsnme</th>\n",
       "      <th>obsval</th>\n",
       "      <th>weight</th>\n",
       "      <th>obgnme</th>\n",
       "    </tr>\n",
       "  </thead>\n",
       "  <tbody>\n",
       "    <tr>\n",
       "      <th>933</th>\n",
       "      <td>stemp_0.2_200</td>\n",
       "      <td>279.461694</td>\n",
       "      <td>0.000195</td>\n",
       "      <td>temp</td>\n",
       "    </tr>\n",
       "    <tr>\n",
       "      <th>934</th>\n",
       "      <td>stemp_0.2_201</td>\n",
       "      <td>280.641611</td>\n",
       "      <td>0.000195</td>\n",
       "      <td>temp</td>\n",
       "    </tr>\n",
       "    <tr>\n",
       "      <th>935</th>\n",
       "      <td>stemp_0.2_202</td>\n",
       "      <td>280.277917</td>\n",
       "      <td>0.000195</td>\n",
       "      <td>temp</td>\n",
       "    </tr>\n",
       "    <tr>\n",
       "      <th>936</th>\n",
       "      <td>stemp_0.2_203</td>\n",
       "      <td>279.958944</td>\n",
       "      <td>0.000195</td>\n",
       "      <td>temp</td>\n",
       "    </tr>\n",
       "  </tbody>\n",
       "</table>\n",
       "</div>"
      ],
      "text/plain": [
       "            obsnme      obsval    weight obgnme\n",
       "933  stemp_0.2_200  279.461694  0.000195   temp\n",
       "934  stemp_0.2_201  280.641611  0.000195   temp\n",
       "935  stemp_0.2_202  280.277917  0.000195   temp\n",
       "936  stemp_0.2_203  279.958944  0.000195   temp"
      ]
     },
     "execution_count": 24,
     "metadata": {},
     "output_type": "execute_result"
    }
   ],
   "source": [
    "# Check the observation values\n",
    "obs_data.iloc[932:936]"
   ]
  },
  {
   "cell_type": "code",
   "execution_count": 25,
   "id": "a607599b",
   "metadata": {},
   "outputs": [
    {
     "data": {
      "text/plain": [
       "'Case5_III_su_cv_start.demo'"
      ]
     },
     "execution_count": 25,
     "metadata": {},
     "output_type": "execute_result"
    }
   ],
   "source": [
    "directory_name"
   ]
  },
  {
   "cell_type": "code",
   "execution_count": 26,
   "id": "314e4adf",
   "metadata": {},
   "outputs": [
    {
     "data": {
      "text/plain": [
       "'Case5_III_su_cv'"
      ]
     },
     "execution_count": 26,
     "metadata": {},
     "output_type": "execute_result"
    }
   ],
   "source": [
    "file_name"
   ]
  },
  {
   "cell_type": "code",
   "execution_count": 27,
   "id": "80b61641",
   "metadata": {},
   "outputs": [],
   "source": [
    "# Exporting the observation data csv file\n",
    "obs_data.to_csv(f'{directory_name}/{file_name}_obs_data.csv', index=False)"
   ]
  },
  {
   "cell_type": "markdown",
   "id": "63bd1149-39b2-4d3e-b557-6859a0993d08",
   "metadata": {
    "tags": []
   },
   "source": [
    "### 2. Parameter groups external\n",
    "- Extracting the data from the example"
   ]
  },
  {
   "cell_type": "code",
   "execution_count": 28,
   "id": "7921545f-b8d4-4e90-aef9-61de308834f8",
   "metadata": {},
   "outputs": [
    {
     "data": {
      "text/html": [
       "<div>\n",
       "<style scoped>\n",
       "    .dataframe tbody tr th:only-of-type {\n",
       "        vertical-align: middle;\n",
       "    }\n",
       "\n",
       "    .dataframe tbody tr th {\n",
       "        vertical-align: top;\n",
       "    }\n",
       "\n",
       "    .dataframe thead th {\n",
       "        text-align: right;\n",
       "    }\n",
       "</style>\n",
       "<table border=\"1\" class=\"dataframe\">\n",
       "  <thead>\n",
       "    <tr style=\"text-align: right;\">\n",
       "      <th></th>\n",
       "      <th>pargpnme</th>\n",
       "      <th>inctyp</th>\n",
       "      <th>derinc</th>\n",
       "      <th>derinclb</th>\n",
       "      <th>forcen</th>\n",
       "      <th>derincmul</th>\n",
       "      <th>dermthd</th>\n",
       "      <th>splitthresh</th>\n",
       "      <th>splitreldiff</th>\n",
       "      <th>splitaction</th>\n",
       "    </tr>\n",
       "  </thead>\n",
       "  <tbody>\n",
       "    <tr>\n",
       "      <th>0</th>\n",
       "      <td>sto_ss_0</td>\n",
       "      <td>relative</td>\n",
       "      <td>0.01</td>\n",
       "      <td>0.0</td>\n",
       "      <td>switch</td>\n",
       "      <td>2.0</td>\n",
       "      <td>parabolic</td>\n",
       "      <td>0.00001</td>\n",
       "      <td>0.5</td>\n",
       "      <td>smaller</td>\n",
       "    </tr>\n",
       "    <tr>\n",
       "      <th>1</th>\n",
       "      <td>npf_k33_1</td>\n",
       "      <td>relative</td>\n",
       "      <td>0.01</td>\n",
       "      <td>0.0</td>\n",
       "      <td>switch</td>\n",
       "      <td>2.0</td>\n",
       "      <td>parabolic</td>\n",
       "      <td>0.00001</td>\n",
       "      <td>0.5</td>\n",
       "      <td>smaller</td>\n",
       "    </tr>\n",
       "    <tr>\n",
       "      <th>2</th>\n",
       "      <td>npf_k_1</td>\n",
       "      <td>relative</td>\n",
       "      <td>0.01</td>\n",
       "      <td>0.0</td>\n",
       "      <td>switch</td>\n",
       "      <td>2.0</td>\n",
       "      <td>parabolic</td>\n",
       "      <td>0.00001</td>\n",
       "      <td>0.5</td>\n",
       "      <td>smaller</td>\n",
       "    </tr>\n",
       "    <tr>\n",
       "      <th>3</th>\n",
       "      <td>sto_ss_1</td>\n",
       "      <td>relative</td>\n",
       "      <td>0.01</td>\n",
       "      <td>0.0</td>\n",
       "      <td>switch</td>\n",
       "      <td>2.0</td>\n",
       "      <td>parabolic</td>\n",
       "      <td>0.00001</td>\n",
       "      <td>0.5</td>\n",
       "      <td>smaller</td>\n",
       "    </tr>\n",
       "    <tr>\n",
       "      <th>4</th>\n",
       "      <td>npf_k_0</td>\n",
       "      <td>relative</td>\n",
       "      <td>0.01</td>\n",
       "      <td>0.0</td>\n",
       "      <td>switch</td>\n",
       "      <td>2.0</td>\n",
       "      <td>parabolic</td>\n",
       "      <td>0.00001</td>\n",
       "      <td>0.5</td>\n",
       "      <td>smaller</td>\n",
       "    </tr>\n",
       "  </tbody>\n",
       "</table>\n",
       "</div>"
      ],
      "text/plain": [
       "    pargpnme    inctyp  derinc  derinclb  forcen  derincmul    dermthd  \\\n",
       "0   sto_ss_0  relative    0.01       0.0  switch        2.0  parabolic   \n",
       "1  npf_k33_1  relative    0.01       0.0  switch        2.0  parabolic   \n",
       "2    npf_k_1  relative    0.01       0.0  switch        2.0  parabolic   \n",
       "3   sto_ss_1  relative    0.01       0.0  switch        2.0  parabolic   \n",
       "4    npf_k_0  relative    0.01       0.0  switch        2.0  parabolic   \n",
       "\n",
       "   splitthresh  splitreldiff splitaction  \n",
       "0      0.00001           0.5     smaller  \n",
       "1      0.00001           0.5     smaller  \n",
       "2      0.00001           0.5     smaller  \n",
       "3      0.00001           0.5     smaller  \n",
       "4      0.00001           0.5     smaller  "
      ]
     },
     "execution_count": 28,
     "metadata": {},
     "output_type": "execute_result"
    }
   ],
   "source": [
    "pargrp_data_example = pd.read_csv('Freyberg_example/freyberg6_run_glm.pargrp_data.csv') \n",
    "pargrp_data_example.head()"
   ]
  },
  {
   "cell_type": "markdown",
   "id": "5b49aaab-b8a8-4522-8c60-1afa84db2dc6",
   "metadata": {},
   "source": [
    "#### Defining the variables in Parameter Group variables: \n",
    "- PARGPNME : Individual groups assigned for all parameters! - Assigned a total of 20 parameters (10 for each material)\n",
    "- INCTYP : 'relative' - The increment used for forward-difference calculation of derivatives with respect to any parameter belonging to the group is calculated as the fraction of the current value of that parameter; that fraction is provided as the real variable DERINC. Ex: If current value of parameter = 10 & DERINC =  0.01. Then the next parameter value = 0.01 * 10 = 0.1.\n",
    "- DERINC : '0.01' - The fraction of increment of the current value of parameter. [Consider the range of variation of the parameters, upper and lower bounds]\n",
    "- DERINCLB : '0.0'\n",
    "- FORCEN : 'switch'. In the first iteration, forward difference method is employed. From the second iteration, it switches to central difference method for the remainder of the inversion process on the iteration after which the relative objective function reduction between successive iterations is less than PHIREDSWH. Note we need to define PHIREDSWH (Where is it defined in this format?)\n",
    "- DERINCMUL : '1.0' - If three-point derivatives calculation is employed, the value of DERINC is multiplied by DERINCMUL.\n",
    "- DERMTHD : 'parabolic' - This is preferred as it provides greater accuracy.\n",
    "- [SPLITTHRESH] [SPLITRELDIFF] [SPLITACTION] - For the first analysis, we ignore the three variables."
   ]
  },
  {
   "cell_type": "code",
   "execution_count": 29,
   "id": "da4189f7-ce8b-41db-b29b-86be1bef2257",
   "metadata": {},
   "outputs": [
    {
     "data": {
      "text/html": [
       "<div>\n",
       "<style scoped>\n",
       "    .dataframe tbody tr th:only-of-type {\n",
       "        vertical-align: middle;\n",
       "    }\n",
       "\n",
       "    .dataframe tbody tr th {\n",
       "        vertical-align: top;\n",
       "    }\n",
       "\n",
       "    .dataframe thead th {\n",
       "        text-align: right;\n",
       "    }\n",
       "</style>\n",
       "<table border=\"1\" class=\"dataframe\">\n",
       "  <thead>\n",
       "    <tr style=\"text-align: right;\">\n",
       "      <th></th>\n",
       "      <th>pargpnme</th>\n",
       "      <th>inctyp</th>\n",
       "      <th>derinc</th>\n",
       "      <th>derinclb</th>\n",
       "      <th>forcen</th>\n",
       "      <th>derincmul</th>\n",
       "      <th>dermthd</th>\n",
       "    </tr>\n",
       "  </thead>\n",
       "  <tbody>\n",
       "    <tr>\n",
       "      <th>0</th>\n",
       "      <td>alpha_p_gp</td>\n",
       "      <td>relative</td>\n",
       "      <td>0.1</td>\n",
       "      <td>0.0</td>\n",
       "      <td>switch</td>\n",
       "      <td>1.0</td>\n",
       "      <td>parabolic</td>\n",
       "    </tr>\n",
       "    <tr>\n",
       "      <th>1</th>\n",
       "      <td>alpha_m_gp</td>\n",
       "      <td>relative</td>\n",
       "      <td>0.1</td>\n",
       "      <td>0.0</td>\n",
       "      <td>switch</td>\n",
       "      <td>1.0</td>\n",
       "      <td>parabolic</td>\n",
       "    </tr>\n",
       "    <tr>\n",
       "      <th>2</th>\n",
       "      <td>n_p_gp</td>\n",
       "      <td>relative</td>\n",
       "      <td>0.1</td>\n",
       "      <td>0.0</td>\n",
       "      <td>switch</td>\n",
       "      <td>1.0</td>\n",
       "      <td>parabolic</td>\n",
       "    </tr>\n",
       "    <tr>\n",
       "      <th>3</th>\n",
       "      <td>wr_p_gp</td>\n",
       "      <td>relative</td>\n",
       "      <td>0.1</td>\n",
       "      <td>0.0</td>\n",
       "      <td>switch</td>\n",
       "      <td>1.0</td>\n",
       "      <td>parabolic</td>\n",
       "    </tr>\n",
       "    <tr>\n",
       "      <th>4</th>\n",
       "      <td>por_p_gp</td>\n",
       "      <td>relative</td>\n",
       "      <td>0.1</td>\n",
       "      <td>0.0</td>\n",
       "      <td>switch</td>\n",
       "      <td>1.0</td>\n",
       "      <td>parabolic</td>\n",
       "    </tr>\n",
       "    <tr>\n",
       "      <th>5</th>\n",
       "      <td>por_m_gp</td>\n",
       "      <td>relative</td>\n",
       "      <td>0.1</td>\n",
       "      <td>0.0</td>\n",
       "      <td>switch</td>\n",
       "      <td>1.0</td>\n",
       "      <td>parabolic</td>\n",
       "    </tr>\n",
       "    <tr>\n",
       "      <th>6</th>\n",
       "      <td>perm_p_gp</td>\n",
       "      <td>relative</td>\n",
       "      <td>0.1</td>\n",
       "      <td>0.0</td>\n",
       "      <td>switch</td>\n",
       "      <td>1.0</td>\n",
       "      <td>parabolic</td>\n",
       "    </tr>\n",
       "    <tr>\n",
       "      <th>7</th>\n",
       "      <td>perm_m_gp</td>\n",
       "      <td>relative</td>\n",
       "      <td>0.1</td>\n",
       "      <td>0.0</td>\n",
       "      <td>switch</td>\n",
       "      <td>1.0</td>\n",
       "      <td>parabolic</td>\n",
       "    </tr>\n",
       "    <tr>\n",
       "      <th>8</th>\n",
       "      <td>pen_s_gp</td>\n",
       "      <td>relative</td>\n",
       "      <td>0.1</td>\n",
       "      <td>0.0</td>\n",
       "      <td>switch</td>\n",
       "      <td>1.0</td>\n",
       "      <td>parabolic</td>\n",
       "    </tr>\n",
       "    <tr>\n",
       "      <th>9</th>\n",
       "      <td>z_bg_gp</td>\n",
       "      <td>relative</td>\n",
       "      <td>0.1</td>\n",
       "      <td>0.0</td>\n",
       "      <td>switch</td>\n",
       "      <td>1.0</td>\n",
       "      <td>parabolic</td>\n",
       "    </tr>\n",
       "    <tr>\n",
       "      <th>10</th>\n",
       "      <td>z_s_gp</td>\n",
       "      <td>relative</td>\n",
       "      <td>0.1</td>\n",
       "      <td>0.0</td>\n",
       "      <td>switch</td>\n",
       "      <td>1.0</td>\n",
       "      <td>parabolic</td>\n",
       "    </tr>\n",
       "    <tr>\n",
       "      <th>11</th>\n",
       "      <td>b_bc_gp</td>\n",
       "      <td>relative</td>\n",
       "      <td>0.1</td>\n",
       "      <td>0.0</td>\n",
       "      <td>switch</td>\n",
       "      <td>1.0</td>\n",
       "      <td>parabolic</td>\n",
       "    </tr>\n",
       "  </tbody>\n",
       "</table>\n",
       "</div>"
      ],
      "text/plain": [
       "      pargpnme    inctyp  derinc  derinclb  forcen  derincmul    dermthd\n",
       "0   alpha_p_gp  relative     0.1       0.0  switch        1.0  parabolic\n",
       "1   alpha_m_gp  relative     0.1       0.0  switch        1.0  parabolic\n",
       "2       n_p_gp  relative     0.1       0.0  switch        1.0  parabolic\n",
       "3      wr_p_gp  relative     0.1       0.0  switch        1.0  parabolic\n",
       "4     por_p_gp  relative     0.1       0.0  switch        1.0  parabolic\n",
       "5     por_m_gp  relative     0.1       0.0  switch        1.0  parabolic\n",
       "6    perm_p_gp  relative     0.1       0.0  switch        1.0  parabolic\n",
       "7    perm_m_gp  relative     0.1       0.0  switch        1.0  parabolic\n",
       "8     pen_s_gp  relative     0.1       0.0  switch        1.0  parabolic\n",
       "9      z_bg_gp  relative     0.1       0.0  switch        1.0  parabolic\n",
       "10      z_s_gp  relative     0.1       0.0  switch        1.0  parabolic\n",
       "11     b_bc_gp  relative     0.1       0.0  switch        1.0  parabolic"
      ]
     },
     "execution_count": 29,
     "metadata": {},
     "output_type": "execute_result"
    }
   ],
   "source": [
    "pargrp = pargrp_data_example.copy()\n",
    "# Dropping all rows to replace with the two newly defined rows\n",
    "pargrp.drop(pargrp.index, inplace=True)\n",
    "# Dropping the columns - splitthresh, splitreldiff, splitaction\n",
    "pargrp.drop(columns=['splitthresh', 'splitreldiff', 'splitaction'], inplace=True)\n",
    "\n",
    "group_names = ['alpha_p_gp', 'alpha_m_gp', 'n_p_gp', 'wr_p_gp', 'por_p_gp', 'por_m_gp', 'perm_p_gp', 'perm_m_gp', 'pen_s_gp','z_bg_gp','z_s_gp','b_bc_gp']\n",
    "\n",
    "for i, gp_nm in enumerate(group_names):\n",
    "    pargrp.loc[i] = [gp_nm, 'relative',0.1,0.0,'switch',1.0,'parabolic']\n",
    "    #print(i, gp_nm)\n",
    "    \n",
    "pargrp"
   ]
  },
  {
   "cell_type": "code",
   "execution_count": 30,
   "id": "4d4f2700-1a79-42c4-bc99-b96f5ff951db",
   "metadata": {},
   "outputs": [
    {
     "data": {
      "text/plain": [
       "'Case5_III_su_cv_start.demo'"
      ]
     },
     "execution_count": 30,
     "metadata": {},
     "output_type": "execute_result"
    }
   ],
   "source": [
    "directory_name"
   ]
  },
  {
   "cell_type": "code",
   "execution_count": 31,
   "id": "9d25af61",
   "metadata": {},
   "outputs": [],
   "source": [
    "### The derinc value for bottom_bc needs to be reduced by a factor of 10 - i.e. derinc = 0.001\n",
    "# 268.45 * 0.1 = 26.845 which does not lie in the parameter range (263.15 - 274.15)\n",
    "\n",
    "pargrp.iloc[11,2] = 0.01"
   ]
  },
  {
   "cell_type": "code",
   "execution_count": 32,
   "id": "eee2e66f-76c9-499f-a78b-b226940a5b5a",
   "metadata": {},
   "outputs": [
    {
     "data": {
      "text/plain": [
       "'Case5_III_su_cv'"
      ]
     },
     "execution_count": 32,
     "metadata": {},
     "output_type": "execute_result"
    }
   ],
   "source": [
    "file_name"
   ]
  },
  {
   "cell_type": "code",
   "execution_count": null,
   "id": "95dab426-5614-44e6-9079-90f38d2df98b",
   "metadata": {},
   "outputs": [],
   "source": []
  },
  {
   "cell_type": "code",
   "execution_count": 33,
   "id": "eaffd0cc-fee4-4b89-9e35-0b3a1a41b0d2",
   "metadata": {},
   "outputs": [],
   "source": [
    "# Exporting the parameter group csv file\n",
    "pargrp.to_csv(f'{directory_name}/{file_name}_pargrp_data.csv', index=False)"
   ]
  },
  {
   "cell_type": "markdown",
   "id": "fccccfc6-d9d7-4aa3-a832-b2e8bfef8218",
   "metadata": {},
   "source": [
    "### 3. Parameter names external\n",
    "There are 12 parameters that we are considering for this analysis"
   ]
  },
  {
   "cell_type": "code",
   "execution_count": 34,
   "id": "de22227b-1b1c-4060-a445-8198391c2646",
   "metadata": {},
   "outputs": [
    {
     "data": {
      "text/html": [
       "<div>\n",
       "<style scoped>\n",
       "    .dataframe tbody tr th:only-of-type {\n",
       "        vertical-align: middle;\n",
       "    }\n",
       "\n",
       "    .dataframe tbody tr th {\n",
       "        vertical-align: top;\n",
       "    }\n",
       "\n",
       "    .dataframe thead th {\n",
       "        text-align: right;\n",
       "    }\n",
       "</style>\n",
       "<table border=\"1\" class=\"dataframe\">\n",
       "  <thead>\n",
       "    <tr style=\"text-align: right;\">\n",
       "      <th></th>\n",
       "      <th>parnme</th>\n",
       "      <th>partrans</th>\n",
       "      <th>parchglim</th>\n",
       "      <th>parval1</th>\n",
       "      <th>parlbnd</th>\n",
       "      <th>parubnd</th>\n",
       "      <th>pargp</th>\n",
       "      <th>scale</th>\n",
       "      <th>offset</th>\n",
       "      <th>dercom</th>\n",
       "      <th>partied</th>\n",
       "    </tr>\n",
       "  </thead>\n",
       "  <tbody>\n",
       "    <tr>\n",
       "      <th>0</th>\n",
       "      <td>npf_k33_0_000_000</td>\n",
       "      <td>log</td>\n",
       "      <td>factor</td>\n",
       "      <td>0.3</td>\n",
       "      <td>0.03</td>\n",
       "      <td>3.0</td>\n",
       "      <td>npf_k33_0</td>\n",
       "      <td>1.0</td>\n",
       "      <td>0.0</td>\n",
       "      <td>1</td>\n",
       "      <td>NaN</td>\n",
       "    </tr>\n",
       "    <tr>\n",
       "      <th>1</th>\n",
       "      <td>npf_k33_0_000_001</td>\n",
       "      <td>tied</td>\n",
       "      <td>factor</td>\n",
       "      <td>0.3</td>\n",
       "      <td>0.03</td>\n",
       "      <td>3.0</td>\n",
       "      <td>npf_k33_0</td>\n",
       "      <td>1.0</td>\n",
       "      <td>0.0</td>\n",
       "      <td>1</td>\n",
       "      <td>npf_k33_0_000_000</td>\n",
       "    </tr>\n",
       "    <tr>\n",
       "      <th>2</th>\n",
       "      <td>npf_k33_0_000_002</td>\n",
       "      <td>tied</td>\n",
       "      <td>factor</td>\n",
       "      <td>0.3</td>\n",
       "      <td>0.03</td>\n",
       "      <td>3.0</td>\n",
       "      <td>npf_k33_0</td>\n",
       "      <td>1.0</td>\n",
       "      <td>0.0</td>\n",
       "      <td>1</td>\n",
       "      <td>npf_k33_0_000_000</td>\n",
       "    </tr>\n",
       "    <tr>\n",
       "      <th>3</th>\n",
       "      <td>npf_k33_0_000_003</td>\n",
       "      <td>tied</td>\n",
       "      <td>factor</td>\n",
       "      <td>0.3</td>\n",
       "      <td>0.03</td>\n",
       "      <td>3.0</td>\n",
       "      <td>npf_k33_0</td>\n",
       "      <td>1.0</td>\n",
       "      <td>0.0</td>\n",
       "      <td>1</td>\n",
       "      <td>npf_k33_0_000_000</td>\n",
       "    </tr>\n",
       "    <tr>\n",
       "      <th>4</th>\n",
       "      <td>npf_k33_0_000_004</td>\n",
       "      <td>tied</td>\n",
       "      <td>factor</td>\n",
       "      <td>0.3</td>\n",
       "      <td>0.03</td>\n",
       "      <td>3.0</td>\n",
       "      <td>npf_k33_0</td>\n",
       "      <td>1.0</td>\n",
       "      <td>0.0</td>\n",
       "      <td>1</td>\n",
       "      <td>npf_k33_0_000_000</td>\n",
       "    </tr>\n",
       "  </tbody>\n",
       "</table>\n",
       "</div>"
      ],
      "text/plain": [
       "              parnme partrans parchglim  parval1  parlbnd  parubnd      pargp  \\\n",
       "0  npf_k33_0_000_000      log    factor      0.3     0.03      3.0  npf_k33_0   \n",
       "1  npf_k33_0_000_001     tied    factor      0.3     0.03      3.0  npf_k33_0   \n",
       "2  npf_k33_0_000_002     tied    factor      0.3     0.03      3.0  npf_k33_0   \n",
       "3  npf_k33_0_000_003     tied    factor      0.3     0.03      3.0  npf_k33_0   \n",
       "4  npf_k33_0_000_004     tied    factor      0.3     0.03      3.0  npf_k33_0   \n",
       "\n",
       "   scale  offset  dercom            partied  \n",
       "0    1.0     0.0       1                NaN  \n",
       "1    1.0     0.0       1  npf_k33_0_000_000  \n",
       "2    1.0     0.0       1  npf_k33_0_000_000  \n",
       "3    1.0     0.0       1  npf_k33_0_000_000  \n",
       "4    1.0     0.0       1  npf_k33_0_000_000  "
      ]
     },
     "execution_count": 34,
     "metadata": {},
     "output_type": "execute_result"
    }
   ],
   "source": [
    "par_data_example = pd.read_csv('Freyberg_example/freyberg6_run_glm.par_data.csv') \n",
    "par_data_example.head()"
   ]
  },
  {
   "cell_type": "markdown",
   "id": "ebef45d4-9558-4351-abf4-0ca2466c174c",
   "metadata": {},
   "source": [
    "The following details need to be defined:\n",
    "- PARNME: 'n_m', 'tcs_m', 'af_m', 'af_p', .... - It is the parameter name\n",
    "- PARTRANS: 'none' {'log' - Can we considered later if the inversion process does not occur. Log-transformations helps in ensuring that the parameter changes and model output changes are more linear.}\n",
    "- PARCHGLIM: 'factor' - Alteration to a parameter's value is factor-limited. { PARCHGLIM must be provided with a value of “relative” or “factor”. The former designates that alterations to a parameter’s value are factor-limited whereas the latter designates that alterations to its value are relative-limited. }\n",
    "- PARVALI: 1.2, 1, 0.05, 0.005 - These are the starting values for the parameters\n",
    "- PARLBND: 1.05, 0.8, 0.02, 0.002 - Lower bounds for the parameters.\n",
    "- PARUBND: 3, 2.5, 0.1, 0.01 - Upper bounds for the parameters.\n",
    "- PARGRP: 'hydraulic','thermal','hydraulic', 'hydraulic' - It is the parameter group names associated with the parameters. \n",
    "- SCALE: 1.0, 1.0, 1.0, 1.0 - No scale or offset is provided\n",
    "- OFFSET: 0.0, 0.0, 0.0, 0.0 - No scale or offset is provided\n",
    "- DERCOM: 1, 1, 1, 1 - Only model command exists. Hence we give 1 which represents 'ats'\n",
    "- Partied: This column will be dropped since we have no tied elements"
   ]
  },
  {
   "cell_type": "code",
   "execution_count": 56,
   "id": "47feb228",
   "metadata": {},
   "outputs": [
    {
     "data": {
      "text/html": [
       "<div>\n",
       "<style scoped>\n",
       "    .dataframe tbody tr th:only-of-type {\n",
       "        vertical-align: middle;\n",
       "    }\n",
       "\n",
       "    .dataframe tbody tr th {\n",
       "        vertical-align: top;\n",
       "    }\n",
       "\n",
       "    .dataframe thead th {\n",
       "        text-align: right;\n",
       "    }\n",
       "</style>\n",
       "<table border=\"1\" class=\"dataframe\">\n",
       "  <thead>\n",
       "    <tr style=\"text-align: right;\">\n",
       "      <th></th>\n",
       "      <th>parnme</th>\n",
       "      <th>partrans</th>\n",
       "      <th>parchglim</th>\n",
       "      <th>parval1</th>\n",
       "      <th>parlbnd</th>\n",
       "      <th>parubnd</th>\n",
       "      <th>pargp</th>\n",
       "      <th>scale</th>\n",
       "      <th>offset</th>\n",
       "      <th>dercom</th>\n",
       "    </tr>\n",
       "  </thead>\n",
       "  <tbody>\n",
       "    <tr>\n",
       "      <th>0</th>\n",
       "      <td>alpha_p</td>\n",
       "      <td>none</td>\n",
       "      <td>factor</td>\n",
       "      <td>1.000000e-02</td>\n",
       "      <td>2.500000e-03</td>\n",
       "      <td>1.250000e-02</td>\n",
       "      <td>alpha_p_gp</td>\n",
       "      <td>1.0</td>\n",
       "      <td>0.0</td>\n",
       "      <td>1</td>\n",
       "    </tr>\n",
       "    <tr>\n",
       "      <th>1</th>\n",
       "      <td>alpha_m</td>\n",
       "      <td>none</td>\n",
       "      <td>factor</td>\n",
       "      <td>1.824914e-03</td>\n",
       "      <td>4.562286e-04</td>\n",
       "      <td>3.193600e-03</td>\n",
       "      <td>alpha_m_gp</td>\n",
       "      <td>1.0</td>\n",
       "      <td>0.0</td>\n",
       "      <td>1</td>\n",
       "    </tr>\n",
       "    <tr>\n",
       "      <th>2</th>\n",
       "      <td>n_p</td>\n",
       "      <td>none</td>\n",
       "      <td>factor</td>\n",
       "      <td>1.500000e+00</td>\n",
       "      <td>1.025000e+00</td>\n",
       "      <td>2.050000e+00</td>\n",
       "      <td>n_p_gp</td>\n",
       "      <td>1.0</td>\n",
       "      <td>0.0</td>\n",
       "      <td>1</td>\n",
       "    </tr>\n",
       "    <tr>\n",
       "      <th>4</th>\n",
       "      <td>wr_p</td>\n",
       "      <td>none</td>\n",
       "      <td>factor</td>\n",
       "      <td>1.000000e-01</td>\n",
       "      <td>2.400000e-02</td>\n",
       "      <td>2.000000e-01</td>\n",
       "      <td>wr_p_gp</td>\n",
       "      <td>1.0</td>\n",
       "      <td>0.0</td>\n",
       "      <td>1</td>\n",
       "    </tr>\n",
       "    <tr>\n",
       "      <th>14</th>\n",
       "      <td>por_p</td>\n",
       "      <td>none</td>\n",
       "      <td>factor</td>\n",
       "      <td>6.373900e-01</td>\n",
       "      <td>1.590000e-01</td>\n",
       "      <td>8.500000e-01</td>\n",
       "      <td>por_p_gp</td>\n",
       "      <td>1.0</td>\n",
       "      <td>0.0</td>\n",
       "      <td>1</td>\n",
       "    </tr>\n",
       "    <tr>\n",
       "      <th>15</th>\n",
       "      <td>por_m</td>\n",
       "      <td>none</td>\n",
       "      <td>factor</td>\n",
       "      <td>4.810308e-01</td>\n",
       "      <td>1.202577e-01</td>\n",
       "      <td>8.418038e-01</td>\n",
       "      <td>por_m_gp</td>\n",
       "      <td>1.0</td>\n",
       "      <td>0.0</td>\n",
       "      <td>1</td>\n",
       "    </tr>\n",
       "    <tr>\n",
       "      <th>16</th>\n",
       "      <td>perm_p</td>\n",
       "      <td>none</td>\n",
       "      <td>factor</td>\n",
       "      <td>5.346622e-11</td>\n",
       "      <td>1.336656e-11</td>\n",
       "      <td>9.356589e-11</td>\n",
       "      <td>perm_p_gp</td>\n",
       "      <td>1.0</td>\n",
       "      <td>0.0</td>\n",
       "      <td>1</td>\n",
       "    </tr>\n",
       "    <tr>\n",
       "      <th>17</th>\n",
       "      <td>perm_m</td>\n",
       "      <td>none</td>\n",
       "      <td>factor</td>\n",
       "      <td>1.000000e-13</td>\n",
       "      <td>2.500000e-14</td>\n",
       "      <td>1.750000e-13</td>\n",
       "      <td>perm_m_gp</td>\n",
       "      <td>1.0</td>\n",
       "      <td>0.0</td>\n",
       "      <td>1</td>\n",
       "    </tr>\n",
       "    <tr>\n",
       "      <th>23</th>\n",
       "      <td>pen_s</td>\n",
       "      <td>none</td>\n",
       "      <td>factor</td>\n",
       "      <td>2.000000e-02</td>\n",
       "      <td>5.000000e-03</td>\n",
       "      <td>3.500000e-02</td>\n",
       "      <td>pen_s_gp</td>\n",
       "      <td>1.0</td>\n",
       "      <td>0.0</td>\n",
       "      <td>1</td>\n",
       "    </tr>\n",
       "    <tr>\n",
       "      <th>24</th>\n",
       "      <td>z_bg</td>\n",
       "      <td>none</td>\n",
       "      <td>factor</td>\n",
       "      <td>4.000000e-02</td>\n",
       "      <td>1.000000e-02</td>\n",
       "      <td>7.000000e-02</td>\n",
       "      <td>z_bg_gp</td>\n",
       "      <td>1.0</td>\n",
       "      <td>0.0</td>\n",
       "      <td>1</td>\n",
       "    </tr>\n",
       "    <tr>\n",
       "      <th>25</th>\n",
       "      <td>z_s</td>\n",
       "      <td>none</td>\n",
       "      <td>factor</td>\n",
       "      <td>5.000000e-03</td>\n",
       "      <td>1.250000e-03</td>\n",
       "      <td>8.750000e-03</td>\n",
       "      <td>z_s_gp</td>\n",
       "      <td>1.0</td>\n",
       "      <td>0.0</td>\n",
       "      <td>1</td>\n",
       "    </tr>\n",
       "  </tbody>\n",
       "</table>\n",
       "</div>"
      ],
      "text/plain": [
       "     parnme partrans parchglim       parval1       parlbnd       parubnd  \\\n",
       "0   alpha_p     none    factor  1.000000e-02  2.500000e-03  1.250000e-02   \n",
       "1   alpha_m     none    factor  1.824914e-03  4.562286e-04  3.193600e-03   \n",
       "2       n_p     none    factor  1.500000e+00  1.025000e+00  2.050000e+00   \n",
       "4      wr_p     none    factor  1.000000e-01  2.400000e-02  2.000000e-01   \n",
       "14    por_p     none    factor  6.373900e-01  1.590000e-01  8.500000e-01   \n",
       "15    por_m     none    factor  4.810308e-01  1.202577e-01  8.418038e-01   \n",
       "16   perm_p     none    factor  5.346622e-11  1.336656e-11  9.356589e-11   \n",
       "17   perm_m     none    factor  1.000000e-13  2.500000e-14  1.750000e-13   \n",
       "23    pen_s     none    factor  2.000000e-02  5.000000e-03  3.500000e-02   \n",
       "24     z_bg     none    factor  4.000000e-02  1.000000e-02  7.000000e-02   \n",
       "25      z_s     none    factor  5.000000e-03  1.250000e-03  8.750000e-03   \n",
       "\n",
       "         pargp  scale  offset  dercom  \n",
       "0   alpha_p_gp    1.0     0.0       1  \n",
       "1   alpha_m_gp    1.0     0.0       1  \n",
       "2       n_p_gp    1.0     0.0       1  \n",
       "4      wr_p_gp    1.0     0.0       1  \n",
       "14    por_p_gp    1.0     0.0       1  \n",
       "15    por_m_gp    1.0     0.0       1  \n",
       "16   perm_p_gp    1.0     0.0       1  \n",
       "17   perm_m_gp    1.0     0.0       1  \n",
       "23    pen_s_gp    1.0     0.0       1  \n",
       "24     z_bg_gp    1.0     0.0       1  \n",
       "25      z_s_gp    1.0     0.0       1  "
      ]
     },
     "execution_count": 56,
     "metadata": {},
     "output_type": "execute_result"
    }
   ],
   "source": [
    "directory_name_params = '/home/rk/pestpp/pestpp/rk_model_final_4yrs_su/Case5_I_E_suitable_params.csv'\n",
    "\n",
    "best_params = pd.read_csv(f'{directory_name_params}')\n",
    "\n",
    "\n",
    "best_params_concise = best_params.drop(best_params.index[[3,5,6,7,8,9,10,11,12,13,18,19,20,21,22]])\n",
    "\n",
    "best_params_concise\n",
    "#best_params.drop(ndex=['n_m','wr_m','tcs_p','tcs_m','tcd_p','tcd_m','af_p','af_m','auf_p','auf_m','den_p','den_m'],inplace=True)"
   ]
  },
  {
   "cell_type": "code",
   "execution_count": 57,
   "id": "4349f6db",
   "metadata": {},
   "outputs": [],
   "source": [
    "# Getting the best parameter dataset from the simulation - all_params_afterrw.demo\n",
    "#directory_name_params = 'all_params_afterrw.demo'\n",
    "#best_params_afterrw = pd.read_csv(f'{directory_name_params}/rk_model_glm_cf_v1_allparams_rw.par',delimiter='\\s+',skiprows=1, header=None)\n",
    "#best_params_afterrw.drop(columns=[2,3],inplace=True)\n",
    "#best_params_afterrw.columns = ['parameter','PARVAL1']\n",
    "#best_params_afterrw.head()\n",
    "\n",
    "\n",
    "\n",
    "#length_index = len(best_params_afterrw.index)\n",
    "\n",
    "\n",
    "#best_params_afterrw.index = best_params_afterrw['parameter']\n",
    "#best_params_afterrw.drop(columns='parameter',inplace=True)\n",
    "\n",
    "# Dropping all parameters that are not of interest\n",
    "\n",
    "#best_params_afterrw.drop(index=['n_m','wr_m','tcs_p','tcs_m','tcd_p','tcd_m','af_p','af_m','auf_p','auf_m','den_p','den_m'],inplace=True)\n",
    "\n"
   ]
  },
  {
   "cell_type": "code",
   "execution_count": 58,
   "id": "9dc94793-1e13-47ae-9a09-c1809ccf33ef",
   "metadata": {},
   "outputs": [],
   "source": [
    "# Changing the initial value of n_p, n_m and den_m\n",
    "#best_params_afterrw.loc['n_p'] = 2.05 # Since value below 1.05 is not allowed\n",
    "#best_params_afterrw.loc['n_m'] = 2.05 # Since value below 1.05 is not allowed\n",
    "#best_params_afterrw.loc['den_m'] = 1900 # Since value above 2700 represents a soil mineral layer\n",
    "#best_params_afterrw.loc['b_bc'] = 268.45 # Average temperature at Yakou catchment - -4.7 °C\n",
    "\n",
    "#best_params_afterrw.loc['perm_p'] = 5.346622127220000e-11\n",
    "\n",
    "# Changing to float type \n",
    "#best_params_afterrw = best_params_afterrw.astype('float64')\n",
    "\n",
    "# Adding the lower and upper bound - 75% for all params except n_p, n_m and den_m which is given 50 %\n",
    "#best_params_afterrw['PARLBND'] = best_params_afterrw['PARVAL1']*0.25\n",
    "#best_params_afterrw['PARUBND'] = best_params_afterrw['PARVAL1']*1.75\n",
    "\n",
    "\n",
    "#best_params_afterrw.loc['n_p']['PARLBND'] = best_params_afterrw.loc['n_p']['PARVAL1']*0.5\n",
    "#best_params_afterrw.loc['n_p']['PARUBND'] = best_params_afterrw.loc['n_p']['PARVAL1']*1.5\n",
    "\n",
    "#best_params_afterrw.loc['n_m']['PARLBND'] = best_params_afterrw.loc['n_m']['PARVAL1']*0.5\n",
    "#best_params_afterrw.loc['n_m']['PARUBND'] = best_params_afterrw.loc['n_m']['PARVAL1']*1.5\n",
    "\n",
    "#best_params_afterrw.loc['den_m']['PARLBND'] = best_params_afterrw.loc['den_m']['PARVAL1']*0.5\n",
    "#best_params_afterrw.loc['den_m']['PARUBND'] = best_params_afterrw.loc['den_m']['PARVAL1']*1.5\n",
    "\n",
    "# The bottom B.C - upper bound is given 1°C (274.15) and the lower bound is given -10°C (263.15)\n",
    "#best_params_afterrw.loc['b_bc']['PARLBND'] = 263.15 \n",
    "#best_params_afterrw.loc['b_bc']['PARUBND'] = 274.15\n",
    "\n",
    "#best_params_afterrw"
   ]
  },
  {
   "cell_type": "code",
   "execution_count": 59,
   "id": "ecf247ab",
   "metadata": {},
   "outputs": [],
   "source": [
    "par_data = best_params_concise.copy()"
   ]
  },
  {
   "cell_type": "code",
   "execution_count": 60,
   "id": "3ea4f1a1-ccab-4da1-aca5-608e11ec529b",
   "metadata": {},
   "outputs": [
    {
     "data": {
      "text/html": [
       "<div>\n",
       "<style scoped>\n",
       "    .dataframe tbody tr th:only-of-type {\n",
       "        vertical-align: middle;\n",
       "    }\n",
       "\n",
       "    .dataframe tbody tr th {\n",
       "        vertical-align: top;\n",
       "    }\n",
       "\n",
       "    .dataframe thead th {\n",
       "        text-align: right;\n",
       "    }\n",
       "</style>\n",
       "<table border=\"1\" class=\"dataframe\">\n",
       "  <thead>\n",
       "    <tr style=\"text-align: right;\">\n",
       "      <th></th>\n",
       "      <th>parnme</th>\n",
       "      <th>partrans</th>\n",
       "      <th>parchglim</th>\n",
       "      <th>parval1</th>\n",
       "      <th>parlbnd</th>\n",
       "      <th>parubnd</th>\n",
       "      <th>pargp</th>\n",
       "      <th>scale</th>\n",
       "      <th>offset</th>\n",
       "      <th>dercom</th>\n",
       "    </tr>\n",
       "  </thead>\n",
       "  <tbody>\n",
       "    <tr>\n",
       "      <th>0</th>\n",
       "      <td>alpha_p</td>\n",
       "      <td>none</td>\n",
       "      <td>factor</td>\n",
       "      <td>1.000000e-02</td>\n",
       "      <td>2.500000e-03</td>\n",
       "      <td>1.250000e-02</td>\n",
       "      <td>alpha_p_gp</td>\n",
       "      <td>1.0</td>\n",
       "      <td>0.0</td>\n",
       "      <td>1</td>\n",
       "    </tr>\n",
       "    <tr>\n",
       "      <th>1</th>\n",
       "      <td>alpha_m</td>\n",
       "      <td>none</td>\n",
       "      <td>factor</td>\n",
       "      <td>1.824914e-03</td>\n",
       "      <td>4.562286e-04</td>\n",
       "      <td>3.193600e-03</td>\n",
       "      <td>alpha_m_gp</td>\n",
       "      <td>1.0</td>\n",
       "      <td>0.0</td>\n",
       "      <td>1</td>\n",
       "    </tr>\n",
       "    <tr>\n",
       "      <th>2</th>\n",
       "      <td>n_p</td>\n",
       "      <td>none</td>\n",
       "      <td>factor</td>\n",
       "      <td>1.500000e+00</td>\n",
       "      <td>1.025000e+00</td>\n",
       "      <td>2.050000e+00</td>\n",
       "      <td>n_p_gp</td>\n",
       "      <td>1.0</td>\n",
       "      <td>0.0</td>\n",
       "      <td>1</td>\n",
       "    </tr>\n",
       "    <tr>\n",
       "      <th>4</th>\n",
       "      <td>wr_p</td>\n",
       "      <td>none</td>\n",
       "      <td>factor</td>\n",
       "      <td>1.000000e-01</td>\n",
       "      <td>2.400000e-02</td>\n",
       "      <td>2.000000e-01</td>\n",
       "      <td>wr_p_gp</td>\n",
       "      <td>1.0</td>\n",
       "      <td>0.0</td>\n",
       "      <td>1</td>\n",
       "    </tr>\n",
       "    <tr>\n",
       "      <th>14</th>\n",
       "      <td>por_p</td>\n",
       "      <td>none</td>\n",
       "      <td>factor</td>\n",
       "      <td>6.373900e-01</td>\n",
       "      <td>1.590000e-01</td>\n",
       "      <td>8.500000e-01</td>\n",
       "      <td>por_p_gp</td>\n",
       "      <td>1.0</td>\n",
       "      <td>0.0</td>\n",
       "      <td>1</td>\n",
       "    </tr>\n",
       "    <tr>\n",
       "      <th>15</th>\n",
       "      <td>por_m</td>\n",
       "      <td>none</td>\n",
       "      <td>factor</td>\n",
       "      <td>4.810308e-01</td>\n",
       "      <td>1.202577e-01</td>\n",
       "      <td>8.418038e-01</td>\n",
       "      <td>por_m_gp</td>\n",
       "      <td>1.0</td>\n",
       "      <td>0.0</td>\n",
       "      <td>1</td>\n",
       "    </tr>\n",
       "    <tr>\n",
       "      <th>16</th>\n",
       "      <td>perm_p</td>\n",
       "      <td>none</td>\n",
       "      <td>factor</td>\n",
       "      <td>5.346622e-11</td>\n",
       "      <td>1.336656e-11</td>\n",
       "      <td>9.356589e-11</td>\n",
       "      <td>perm_p_gp</td>\n",
       "      <td>1.0</td>\n",
       "      <td>0.0</td>\n",
       "      <td>1</td>\n",
       "    </tr>\n",
       "    <tr>\n",
       "      <th>17</th>\n",
       "      <td>perm_m</td>\n",
       "      <td>none</td>\n",
       "      <td>factor</td>\n",
       "      <td>1.000000e-13</td>\n",
       "      <td>2.500000e-14</td>\n",
       "      <td>1.750000e-13</td>\n",
       "      <td>perm_m_gp</td>\n",
       "      <td>1.0</td>\n",
       "      <td>0.0</td>\n",
       "      <td>1</td>\n",
       "    </tr>\n",
       "    <tr>\n",
       "      <th>23</th>\n",
       "      <td>pen_s</td>\n",
       "      <td>none</td>\n",
       "      <td>factor</td>\n",
       "      <td>2.000000e-02</td>\n",
       "      <td>5.000000e-03</td>\n",
       "      <td>3.500000e-02</td>\n",
       "      <td>pen_s_gp</td>\n",
       "      <td>1.0</td>\n",
       "      <td>0.0</td>\n",
       "      <td>1</td>\n",
       "    </tr>\n",
       "    <tr>\n",
       "      <th>24</th>\n",
       "      <td>z_bg</td>\n",
       "      <td>none</td>\n",
       "      <td>factor</td>\n",
       "      <td>4.000000e-02</td>\n",
       "      <td>1.000000e-02</td>\n",
       "      <td>7.000000e-02</td>\n",
       "      <td>z_bg_gp</td>\n",
       "      <td>1.0</td>\n",
       "      <td>0.0</td>\n",
       "      <td>1</td>\n",
       "    </tr>\n",
       "    <tr>\n",
       "      <th>25</th>\n",
       "      <td>z_s</td>\n",
       "      <td>none</td>\n",
       "      <td>factor</td>\n",
       "      <td>5.000000e-03</td>\n",
       "      <td>1.250000e-03</td>\n",
       "      <td>8.750000e-03</td>\n",
       "      <td>z_s_gp</td>\n",
       "      <td>1.0</td>\n",
       "      <td>0.0</td>\n",
       "      <td>1</td>\n",
       "    </tr>\n",
       "    <tr>\n",
       "      <th>26</th>\n",
       "      <td>b_bc</td>\n",
       "      <td>none</td>\n",
       "      <td>factor</td>\n",
       "      <td>2.684500e+02</td>\n",
       "      <td>2.631500e+02</td>\n",
       "      <td>2.741500e+02</td>\n",
       "      <td>b_bc_gp</td>\n",
       "      <td>1.0</td>\n",
       "      <td>0.0</td>\n",
       "      <td>1</td>\n",
       "    </tr>\n",
       "  </tbody>\n",
       "</table>\n",
       "</div>"
      ],
      "text/plain": [
       "     parnme partrans parchglim       parval1       parlbnd       parubnd  \\\n",
       "0   alpha_p     none    factor  1.000000e-02  2.500000e-03  1.250000e-02   \n",
       "1   alpha_m     none    factor  1.824914e-03  4.562286e-04  3.193600e-03   \n",
       "2       n_p     none    factor  1.500000e+00  1.025000e+00  2.050000e+00   \n",
       "4      wr_p     none    factor  1.000000e-01  2.400000e-02  2.000000e-01   \n",
       "14    por_p     none    factor  6.373900e-01  1.590000e-01  8.500000e-01   \n",
       "15    por_m     none    factor  4.810308e-01  1.202577e-01  8.418038e-01   \n",
       "16   perm_p     none    factor  5.346622e-11  1.336656e-11  9.356589e-11   \n",
       "17   perm_m     none    factor  1.000000e-13  2.500000e-14  1.750000e-13   \n",
       "23    pen_s     none    factor  2.000000e-02  5.000000e-03  3.500000e-02   \n",
       "24     z_bg     none    factor  4.000000e-02  1.000000e-02  7.000000e-02   \n",
       "25      z_s     none    factor  5.000000e-03  1.250000e-03  8.750000e-03   \n",
       "26     b_bc     none    factor  2.684500e+02  2.631500e+02  2.741500e+02   \n",
       "\n",
       "         pargp  scale  offset  dercom  \n",
       "0   alpha_p_gp    1.0     0.0       1  \n",
       "1   alpha_m_gp    1.0     0.0       1  \n",
       "2       n_p_gp    1.0     0.0       1  \n",
       "4      wr_p_gp    1.0     0.0       1  \n",
       "14    por_p_gp    1.0     0.0       1  \n",
       "15    por_m_gp    1.0     0.0       1  \n",
       "16   perm_p_gp    1.0     0.0       1  \n",
       "17   perm_m_gp    1.0     0.0       1  \n",
       "23    pen_s_gp    1.0     0.0       1  \n",
       "24     z_bg_gp    1.0     0.0       1  \n",
       "25      z_s_gp    1.0     0.0       1  \n",
       "26     b_bc_gp    1.0     0.0       1  "
      ]
     },
     "execution_count": 60,
     "metadata": {},
     "output_type": "execute_result"
    }
   ],
   "source": [
    "#par_data = par_data_example.copy()\n",
    "#par_data.drop(par_data.index, inplace=True)\n",
    "# Dropping the columns - splitthresh, splitreldiff, splitaction\n",
    "#par_data.drop(columns=['partied'], inplace=True)\n",
    "\n",
    "#param_names = ['alpha_p', 'alpha_m', 'n_p', 'n_m', 'wr_p', 'wr_m', 'tcs_p', 'tcs_m', 'tcd_p', 'tcd_m', 'af_p', 'af_m', 'auf_p', 'por_p', 'por_m', 'perm_p', 'perm_m', 'den_p', 'den_m', 'lh_w','lh_i','hc_l','hc_r']\n",
    "\n",
    "#for i, values in enumerate(best_params_afterrw.index):\n",
    "    #par_data.loc[i] = [best_params_afterrw.index[i], 'none','factor', best_params_afterrw['PARVAL1'].values[i], best_params_afterrw['PARLBND'].values[i], best_params_afterrw['PARUBND'].values[i], pargrp['pargpnme'].values[i], 1.0, 0.0, 1] \n",
    "\n",
    "#par_data\n",
    "# Adding row information for surface parameters:\n",
    "\n",
    "#par_data.loc[par_data.index.max()+1] = ['albedo_bg','none','factor', 0.55, 0.55*0.25, 0.55*1.75, 'albedo_bg_gp', 1.0, 0.0, 1]\n",
    "#par_data.loc[par_data.index.max()+1] = ['e_bg','none','factor', 0.55, 0.55*0.25, 0.55*1.75, 'e_bg_gp', 1.0, 0.0, 1]\n",
    "#par_data.loc[par_data.index.max()+1] = ['pen_w','none','factor', 0.01, 0.01*0.25, 0.01*1.75, 'pen_w_gp', 1.0, 0.0, 1]\n",
    "#par_data.loc[par_data.index.max()+1] = ['pen_s','none','factor', 0.02, 0.02*0.25, 0.02*1.75, 'pen_s_gp', 1.0, 0.0, 1]\n",
    "#par_data.loc[par_data.index.max()+1] = ['z_bg','none','factor', 0.04, 0.04*0.25, 0.04*1.75, 'z_bg_gp', 1.0, 0.0, 1]\n",
    "#par_data.loc[par_data.index.max()+1] = ['z_s','none','factor', 0.005, 0.005*0.25, 0.005*1.75, 'albedo_bg_gp', 1.0, 0.0, 1]\n",
    "#par_data.loc[1] = ['alpha_m','none','factor', 0.005, 0.001, 0.01, 'alpha_m_gp', 1.0, 0.0, 1]\n",
    "\n",
    "# The bottom B.C - upper bound is given 1°C (274.15) and the lower bound is given -10°C (263.15)\n",
    "par_data.loc[par_data.index.max()+1] = ['b_bc','none','factor', 268.45, 263.15, 274.15, 'b_bc_gp', 1.0, 0.0, 1]\n",
    "\n",
    "\n",
    "par_data"
   ]
  },
  {
   "cell_type": "code",
   "execution_count": 61,
   "id": "70576789",
   "metadata": {},
   "outputs": [
    {
     "data": {
      "text/html": [
       "<div>\n",
       "<style scoped>\n",
       "    .dataframe tbody tr th:only-of-type {\n",
       "        vertical-align: middle;\n",
       "    }\n",
       "\n",
       "    .dataframe tbody tr th {\n",
       "        vertical-align: top;\n",
       "    }\n",
       "\n",
       "    .dataframe thead th {\n",
       "        text-align: right;\n",
       "    }\n",
       "</style>\n",
       "<table border=\"1\" class=\"dataframe\">\n",
       "  <thead>\n",
       "    <tr style=\"text-align: right;\">\n",
       "      <th></th>\n",
       "      <th>pargpnme</th>\n",
       "      <th>inctyp</th>\n",
       "      <th>derinc</th>\n",
       "      <th>derinclb</th>\n",
       "      <th>forcen</th>\n",
       "      <th>derincmul</th>\n",
       "      <th>dermthd</th>\n",
       "    </tr>\n",
       "  </thead>\n",
       "  <tbody>\n",
       "    <tr>\n",
       "      <th>0</th>\n",
       "      <td>alpha_p_gp</td>\n",
       "      <td>relative</td>\n",
       "      <td>0.10</td>\n",
       "      <td>0.0</td>\n",
       "      <td>switch</td>\n",
       "      <td>1.0</td>\n",
       "      <td>parabolic</td>\n",
       "    </tr>\n",
       "    <tr>\n",
       "      <th>1</th>\n",
       "      <td>alpha_m_gp</td>\n",
       "      <td>relative</td>\n",
       "      <td>0.10</td>\n",
       "      <td>0.0</td>\n",
       "      <td>switch</td>\n",
       "      <td>1.0</td>\n",
       "      <td>parabolic</td>\n",
       "    </tr>\n",
       "    <tr>\n",
       "      <th>2</th>\n",
       "      <td>n_p_gp</td>\n",
       "      <td>relative</td>\n",
       "      <td>0.10</td>\n",
       "      <td>0.0</td>\n",
       "      <td>switch</td>\n",
       "      <td>1.0</td>\n",
       "      <td>parabolic</td>\n",
       "    </tr>\n",
       "    <tr>\n",
       "      <th>3</th>\n",
       "      <td>wr_p_gp</td>\n",
       "      <td>relative</td>\n",
       "      <td>0.10</td>\n",
       "      <td>0.0</td>\n",
       "      <td>switch</td>\n",
       "      <td>1.0</td>\n",
       "      <td>parabolic</td>\n",
       "    </tr>\n",
       "    <tr>\n",
       "      <th>4</th>\n",
       "      <td>por_p_gp</td>\n",
       "      <td>relative</td>\n",
       "      <td>0.10</td>\n",
       "      <td>0.0</td>\n",
       "      <td>switch</td>\n",
       "      <td>1.0</td>\n",
       "      <td>parabolic</td>\n",
       "    </tr>\n",
       "    <tr>\n",
       "      <th>5</th>\n",
       "      <td>por_m_gp</td>\n",
       "      <td>relative</td>\n",
       "      <td>0.10</td>\n",
       "      <td>0.0</td>\n",
       "      <td>switch</td>\n",
       "      <td>1.0</td>\n",
       "      <td>parabolic</td>\n",
       "    </tr>\n",
       "    <tr>\n",
       "      <th>6</th>\n",
       "      <td>perm_p_gp</td>\n",
       "      <td>relative</td>\n",
       "      <td>0.10</td>\n",
       "      <td>0.0</td>\n",
       "      <td>switch</td>\n",
       "      <td>1.0</td>\n",
       "      <td>parabolic</td>\n",
       "    </tr>\n",
       "    <tr>\n",
       "      <th>7</th>\n",
       "      <td>perm_m_gp</td>\n",
       "      <td>relative</td>\n",
       "      <td>0.10</td>\n",
       "      <td>0.0</td>\n",
       "      <td>switch</td>\n",
       "      <td>1.0</td>\n",
       "      <td>parabolic</td>\n",
       "    </tr>\n",
       "    <tr>\n",
       "      <th>8</th>\n",
       "      <td>pen_s_gp</td>\n",
       "      <td>relative</td>\n",
       "      <td>0.10</td>\n",
       "      <td>0.0</td>\n",
       "      <td>switch</td>\n",
       "      <td>1.0</td>\n",
       "      <td>parabolic</td>\n",
       "    </tr>\n",
       "    <tr>\n",
       "      <th>9</th>\n",
       "      <td>z_bg_gp</td>\n",
       "      <td>relative</td>\n",
       "      <td>0.10</td>\n",
       "      <td>0.0</td>\n",
       "      <td>switch</td>\n",
       "      <td>1.0</td>\n",
       "      <td>parabolic</td>\n",
       "    </tr>\n",
       "    <tr>\n",
       "      <th>10</th>\n",
       "      <td>z_s_gp</td>\n",
       "      <td>relative</td>\n",
       "      <td>0.10</td>\n",
       "      <td>0.0</td>\n",
       "      <td>switch</td>\n",
       "      <td>1.0</td>\n",
       "      <td>parabolic</td>\n",
       "    </tr>\n",
       "    <tr>\n",
       "      <th>11</th>\n",
       "      <td>b_bc_gp</td>\n",
       "      <td>relative</td>\n",
       "      <td>0.01</td>\n",
       "      <td>0.0</td>\n",
       "      <td>switch</td>\n",
       "      <td>1.0</td>\n",
       "      <td>parabolic</td>\n",
       "    </tr>\n",
       "  </tbody>\n",
       "</table>\n",
       "</div>"
      ],
      "text/plain": [
       "      pargpnme    inctyp  derinc  derinclb  forcen  derincmul    dermthd\n",
       "0   alpha_p_gp  relative    0.10       0.0  switch        1.0  parabolic\n",
       "1   alpha_m_gp  relative    0.10       0.0  switch        1.0  parabolic\n",
       "2       n_p_gp  relative    0.10       0.0  switch        1.0  parabolic\n",
       "3      wr_p_gp  relative    0.10       0.0  switch        1.0  parabolic\n",
       "4     por_p_gp  relative    0.10       0.0  switch        1.0  parabolic\n",
       "5     por_m_gp  relative    0.10       0.0  switch        1.0  parabolic\n",
       "6    perm_p_gp  relative    0.10       0.0  switch        1.0  parabolic\n",
       "7    perm_m_gp  relative    0.10       0.0  switch        1.0  parabolic\n",
       "8     pen_s_gp  relative    0.10       0.0  switch        1.0  parabolic\n",
       "9      z_bg_gp  relative    0.10       0.0  switch        1.0  parabolic\n",
       "10      z_s_gp  relative    0.10       0.0  switch        1.0  parabolic\n",
       "11     b_bc_gp  relative    0.01       0.0  switch        1.0  parabolic"
      ]
     },
     "execution_count": 61,
     "metadata": {},
     "output_type": "execute_result"
    }
   ],
   "source": [
    "pargrp"
   ]
  },
  {
   "cell_type": "code",
   "execution_count": 62,
   "id": "34615aef-c948-4286-a83e-8811d7a96a85",
   "metadata": {},
   "outputs": [],
   "source": [
    "# Exporting the parameter group csv file\n",
    "par_data.to_csv(f'{directory_name}/{file_name}_par_data.csv', index=False)"
   ]
  },
  {
   "cell_type": "code",
   "execution_count": 64,
   "id": "ca6d4cde",
   "metadata": {},
   "outputs": [
    {
     "data": {
      "text/plain": [
       "'/home/rk/pestpp/pestpp/rk_model_final_4yrs_su'"
      ]
     },
     "execution_count": 64,
     "metadata": {},
     "output_type": "execute_result"
    }
   ],
   "source": [
    "os.getcwd()"
   ]
  },
  {
   "cell_type": "markdown",
   "id": "c9b509e0-99ce-4532-aec6-bce747048f03",
   "metadata": {},
   "source": [
    "### Template files"
   ]
  },
  {
   "cell_type": "markdown",
   "id": "8d71f7b0-4dad-48f0-bd7c-261362f1f1fd",
   "metadata": {},
   "source": [
    "- It could be created by manually editing the files."
   ]
  },
  {
   "cell_type": "markdown",
   "id": "e00a84b4-c919-4f0a-bfde-f0012637a275",
   "metadata": {},
   "source": [
    "### Instruction files\n"
   ]
  },
  {
   "cell_type": "code",
   "execution_count": 18,
   "id": "2435cab5-d59a-4895-bf28-e546651ddbd7",
   "metadata": {},
   "outputs": [],
   "source": [
    "#os.chdir('..')"
   ]
  },
  {
   "cell_type": "code",
   "execution_count": 19,
   "id": "66bccdc0",
   "metadata": {},
   "outputs": [],
   "source": [
    "#os.chdir('Case5_su_cv_start_cl.demo')"
   ]
  },
  {
   "cell_type": "code",
   "execution_count": 75,
   "id": "5ecf3a79-f3eb-4f39-88d2-8c337b8c902b",
   "metadata": {},
   "outputs": [
    {
     "data": {
      "text/html": [
       "<div>\n",
       "<style scoped>\n",
       "    .dataframe tbody tr th:only-of-type {\n",
       "        vertical-align: middle;\n",
       "    }\n",
       "\n",
       "    .dataframe tbody tr th {\n",
       "        vertical-align: top;\n",
       "    }\n",
       "\n",
       "    .dataframe thead th {\n",
       "        text-align: right;\n",
       "    }\n",
       "</style>\n",
       "<table border=\"1\" class=\"dataframe\">\n",
       "  <thead>\n",
       "    <tr style=\"text-align: right;\">\n",
       "      <th></th>\n",
       "      <th>time [s]</th>\n",
       "      <th>point -0.04 temperature [K]</th>\n",
       "      <th>point -0.1 temperature [K]</th>\n",
       "      <th>point -0.2 temperature [K]</th>\n",
       "      <th>point -0.4 temperature [K]</th>\n",
       "      <th>point -0.8 temperature [K]</th>\n",
       "      <th>point -1.2 temperature [K]</th>\n",
       "      <th>point -1.6 temperature [K]</th>\n",
       "      <th>point -0.04 saturation liquid</th>\n",
       "      <th>point -0.1 saturation liquid</th>\n",
       "      <th>point -0.2 saturation liquid</th>\n",
       "      <th>point -0.4 saturation liquid</th>\n",
       "      <th>point -0.8 saturation liquid</th>\n",
       "      <th>point -1.2 saturation liquid</th>\n",
       "      <th>point -1.6 saturation liquid</th>\n",
       "    </tr>\n",
       "  </thead>\n",
       "  <tbody>\n",
       "    <tr>\n",
       "      <th>0</th>\n",
       "      <td>0.0</td>\n",
       "      <td>269.134510</td>\n",
       "      <td>269.824655</td>\n",
       "      <td>270.454577</td>\n",
       "      <td>271.081625</td>\n",
       "      <td>272.128637</td>\n",
       "      <td>272.510957</td>\n",
       "      <td>272.424620</td>\n",
       "      <td>0.162131</td>\n",
       "      <td>0.162707</td>\n",
       "      <td>0.163412</td>\n",
       "      <td>0.164430</td>\n",
       "      <td>0.167828</td>\n",
       "      <td>0.170772</td>\n",
       "      <td>0.169899</td>\n",
       "    </tr>\n",
       "    <tr>\n",
       "      <th>1</th>\n",
       "      <td>86400.0</td>\n",
       "      <td>269.421964</td>\n",
       "      <td>269.895492</td>\n",
       "      <td>270.379834</td>\n",
       "      <td>270.908316</td>\n",
       "      <td>271.909510</td>\n",
       "      <td>272.404970</td>\n",
       "      <td>272.391156</td>\n",
       "      <td>0.162352</td>\n",
       "      <td>0.162776</td>\n",
       "      <td>0.163316</td>\n",
       "      <td>0.164105</td>\n",
       "      <td>0.166769</td>\n",
       "      <td>0.169722</td>\n",
       "      <td>0.169601</td>\n",
       "    </tr>\n",
       "    <tr>\n",
       "      <th>2</th>\n",
       "      <td>172800.0</td>\n",
       "      <td>269.584311</td>\n",
       "      <td>269.980281</td>\n",
       "      <td>270.383729</td>\n",
       "      <td>270.832489</td>\n",
       "      <td>271.744671</td>\n",
       "      <td>272.288038</td>\n",
       "      <td>272.341358</td>\n",
       "      <td>0.162488</td>\n",
       "      <td>0.162861</td>\n",
       "      <td>0.163321</td>\n",
       "      <td>0.163974</td>\n",
       "      <td>0.166138</td>\n",
       "      <td>0.168794</td>\n",
       "      <td>0.169192</td>\n",
       "    </tr>\n",
       "    <tr>\n",
       "      <th>3</th>\n",
       "      <td>259200.0</td>\n",
       "      <td>269.736180</td>\n",
       "      <td>270.067058</td>\n",
       "      <td>270.407321</td>\n",
       "      <td>270.792139</td>\n",
       "      <td>271.614978</td>\n",
       "      <td>272.173011</td>\n",
       "      <td>272.282015</td>\n",
       "      <td>0.162624</td>\n",
       "      <td>0.162953</td>\n",
       "      <td>0.163351</td>\n",
       "      <td>0.163906</td>\n",
       "      <td>0.165714</td>\n",
       "      <td>0.168047</td>\n",
       "      <td>0.168751</td>\n",
       "    </tr>\n",
       "    <tr>\n",
       "      <th>4</th>\n",
       "      <td>345600.0</td>\n",
       "      <td>269.826550</td>\n",
       "      <td>270.123556</td>\n",
       "      <td>270.424823</td>\n",
       "      <td>270.765161</td>\n",
       "      <td>271.512048</td>\n",
       "      <td>272.065549</td>\n",
       "      <td>272.216873</td>\n",
       "      <td>0.162709</td>\n",
       "      <td>0.163014</td>\n",
       "      <td>0.163373</td>\n",
       "      <td>0.163861</td>\n",
       "      <td>0.165414</td>\n",
       "      <td>0.167459</td>\n",
       "      <td>0.168316</td>\n",
       "    </tr>\n",
       "  </tbody>\n",
       "</table>\n",
       "</div>"
      ],
      "text/plain": [
       "   time [s]  point -0.04 temperature [K]  point -0.1 temperature [K]  \\\n",
       "0       0.0                   269.134510                  269.824655   \n",
       "1   86400.0                   269.421964                  269.895492   \n",
       "2  172800.0                   269.584311                  269.980281   \n",
       "3  259200.0                   269.736180                  270.067058   \n",
       "4  345600.0                   269.826550                  270.123556   \n",
       "\n",
       "   point -0.2 temperature [K]  point -0.4 temperature [K]  \\\n",
       "0                  270.454577                  271.081625   \n",
       "1                  270.379834                  270.908316   \n",
       "2                  270.383729                  270.832489   \n",
       "3                  270.407321                  270.792139   \n",
       "4                  270.424823                  270.765161   \n",
       "\n",
       "   point -0.8 temperature [K]  point -1.2 temperature [K]  \\\n",
       "0                  272.128637                  272.510957   \n",
       "1                  271.909510                  272.404970   \n",
       "2                  271.744671                  272.288038   \n",
       "3                  271.614978                  272.173011   \n",
       "4                  271.512048                  272.065549   \n",
       "\n",
       "   point -1.6 temperature [K]  point -0.04 saturation liquid  \\\n",
       "0                  272.424620                       0.162131   \n",
       "1                  272.391156                       0.162352   \n",
       "2                  272.341358                       0.162488   \n",
       "3                  272.282015                       0.162624   \n",
       "4                  272.216873                       0.162709   \n",
       "\n",
       "   point -0.1 saturation liquid  point -0.2 saturation liquid  \\\n",
       "0                      0.162707                      0.163412   \n",
       "1                      0.162776                      0.163316   \n",
       "2                      0.162861                      0.163321   \n",
       "3                      0.162953                      0.163351   \n",
       "4                      0.163014                      0.163373   \n",
       "\n",
       "   point -0.4 saturation liquid  point -0.8 saturation liquid  \\\n",
       "0                      0.164430                      0.167828   \n",
       "1                      0.164105                      0.166769   \n",
       "2                      0.163974                      0.166138   \n",
       "3                      0.163906                      0.165714   \n",
       "4                      0.163861                      0.165414   \n",
       "\n",
       "   point -1.2 saturation liquid  point -1.6 saturation liquid  \n",
       "0                      0.170772                      0.169899  \n",
       "1                      0.169722                      0.169601  \n",
       "2                      0.168794                      0.169192  \n",
       "3                      0.168047                      0.168751  \n",
       "4                      0.167459                      0.168316  "
      ]
     },
     "execution_count": 75,
     "metadata": {},
     "output_type": "execute_result"
    }
   ],
   "source": [
    "# Reading the simulated data - from the xml file generated\n",
    "sim_data = pd.read_csv(f'{directory_name}/observations.dat',sep=' ',skiprows=88) \n",
    "\n",
    "sim_data.head()"
   ]
  },
  {
   "cell_type": "code",
   "execution_count": 76,
   "id": "69a61c57",
   "metadata": {},
   "outputs": [
    {
     "data": {
      "text/plain": [
       "367"
      ]
     },
     "execution_count": 76,
     "metadata": {},
     "output_type": "execute_result"
    }
   ],
   "source": [
    "len(sim_data)"
   ]
  },
  {
   "cell_type": "code",
   "execution_count": 77,
   "id": "6ee88f53",
   "metadata": {},
   "outputs": [],
   "source": [
    "# Excluding the first value (since it is the initial condition)\n",
    "#sim_data = sim_data.iloc[1:,:]"
   ]
  },
  {
   "cell_type": "code",
   "execution_count": 79,
   "id": "cde58a71-cb9d-4b97-9b39-d161928655cb",
   "metadata": {
    "scrolled": true
   },
   "outputs": [
    {
     "data": {
      "text/html": [
       "<div>\n",
       "<style scoped>\n",
       "    .dataframe tbody tr th:only-of-type {\n",
       "        vertical-align: middle;\n",
       "    }\n",
       "\n",
       "    .dataframe tbody tr th {\n",
       "        vertical-align: top;\n",
       "    }\n",
       "\n",
       "    .dataframe thead th {\n",
       "        text-align: right;\n",
       "    }\n",
       "</style>\n",
       "<table border=\"1\" class=\"dataframe\">\n",
       "  <thead>\n",
       "    <tr style=\"text-align: right;\">\n",
       "      <th></th>\n",
       "      <th>time [s]</th>\n",
       "      <th>point -0.04 temperature [K]</th>\n",
       "      <th>point -0.1 temperature [K]</th>\n",
       "      <th>point -0.2 temperature [K]</th>\n",
       "      <th>point -0.4 temperature [K]</th>\n",
       "      <th>point -0.8 temperature [K]</th>\n",
       "      <th>point -1.2 temperature [K]</th>\n",
       "      <th>point -1.6 temperature [K]</th>\n",
       "      <th>point -0.04 saturation liquid</th>\n",
       "      <th>point -0.1 saturation liquid</th>\n",
       "      <th>point -0.2 saturation liquid</th>\n",
       "      <th>point -0.4 saturation liquid</th>\n",
       "      <th>point -0.8 saturation liquid</th>\n",
       "      <th>point -1.2 saturation liquid</th>\n",
       "      <th>point -1.6 saturation liquid</th>\n",
       "    </tr>\n",
       "  </thead>\n",
       "  <tbody>\n",
       "    <tr>\n",
       "      <th>0</th>\n",
       "      <td>NaN</td>\n",
       "      <td>NaN</td>\n",
       "      <td>NaN</td>\n",
       "      <td>NaN</td>\n",
       "      <td>NaN</td>\n",
       "      <td>NaN</td>\n",
       "      <td>NaN</td>\n",
       "      <td>NaN</td>\n",
       "      <td>NaN</td>\n",
       "      <td>NaN</td>\n",
       "      <td>NaN</td>\n",
       "      <td>NaN</td>\n",
       "      <td>NaN</td>\n",
       "      <td>NaN</td>\n",
       "      <td>NaN</td>\n",
       "    </tr>\n",
       "    <tr>\n",
       "      <th>1</th>\n",
       "      <td>NaN</td>\n",
       "      <td>!stemp_0.04_0!</td>\n",
       "      <td>!stemp_0.1_0!</td>\n",
       "      <td>!stemp_0.2_0!</td>\n",
       "      <td>!stemp_0.4_0!</td>\n",
       "      <td>!stemp_0.8_0!</td>\n",
       "      <td>!stemp_1.2_0!</td>\n",
       "      <td>!stemp_1.6_0!</td>\n",
       "      <td>!smois_0.04_0!</td>\n",
       "      <td>!smois_0.1_0!</td>\n",
       "      <td>!smois_0.2_0!</td>\n",
       "      <td>!smois_0.4_0!</td>\n",
       "      <td>!smois_0.8_0!</td>\n",
       "      <td>!smois_1.2_0!</td>\n",
       "      <td>!smois_1.6_0!</td>\n",
       "    </tr>\n",
       "    <tr>\n",
       "      <th>2</th>\n",
       "      <td>NaN</td>\n",
       "      <td>!stemp_0.04_1!</td>\n",
       "      <td>!stemp_0.1_1!</td>\n",
       "      <td>!stemp_0.2_1!</td>\n",
       "      <td>!stemp_0.4_1!</td>\n",
       "      <td>!stemp_0.8_1!</td>\n",
       "      <td>!stemp_1.2_1!</td>\n",
       "      <td>!stemp_1.6_1!</td>\n",
       "      <td>!smois_0.04_1!</td>\n",
       "      <td>!smois_0.1_1!</td>\n",
       "      <td>!smois_0.2_1!</td>\n",
       "      <td>!smois_0.4_1!</td>\n",
       "      <td>!smois_0.8_1!</td>\n",
       "      <td>!smois_1.2_1!</td>\n",
       "      <td>!smois_1.6_1!</td>\n",
       "    </tr>\n",
       "    <tr>\n",
       "      <th>3</th>\n",
       "      <td>NaN</td>\n",
       "      <td>!stemp_0.04_2!</td>\n",
       "      <td>!stemp_0.1_2!</td>\n",
       "      <td>!stemp_0.2_2!</td>\n",
       "      <td>!stemp_0.4_2!</td>\n",
       "      <td>!stemp_0.8_2!</td>\n",
       "      <td>!stemp_1.2_2!</td>\n",
       "      <td>!stemp_1.6_2!</td>\n",
       "      <td>!smois_0.04_2!</td>\n",
       "      <td>!smois_0.1_2!</td>\n",
       "      <td>!smois_0.2_2!</td>\n",
       "      <td>!smois_0.4_2!</td>\n",
       "      <td>!smois_0.8_2!</td>\n",
       "      <td>!smois_1.2_2!</td>\n",
       "      <td>!smois_1.6_2!</td>\n",
       "    </tr>\n",
       "    <tr>\n",
       "      <th>4</th>\n",
       "      <td>NaN</td>\n",
       "      <td>!stemp_0.04_3!</td>\n",
       "      <td>!stemp_0.1_3!</td>\n",
       "      <td>!stemp_0.2_3!</td>\n",
       "      <td>!stemp_0.4_3!</td>\n",
       "      <td>!stemp_0.8_3!</td>\n",
       "      <td>!stemp_1.2_3!</td>\n",
       "      <td>!stemp_1.6_3!</td>\n",
       "      <td>!smois_0.04_3!</td>\n",
       "      <td>!smois_0.1_3!</td>\n",
       "      <td>!smois_0.2_3!</td>\n",
       "      <td>!smois_0.4_3!</td>\n",
       "      <td>!smois_0.8_3!</td>\n",
       "      <td>!smois_1.2_3!</td>\n",
       "      <td>!smois_1.6_3!</td>\n",
       "    </tr>\n",
       "  </tbody>\n",
       "</table>\n",
       "</div>"
      ],
      "text/plain": [
       "  time [s] point -0.04 temperature [K] point -0.1 temperature [K]  \\\n",
       "0      NaN                         NaN                        NaN   \n",
       "1      NaN             !stemp_0.04_0!              !stemp_0.1_0!    \n",
       "2      NaN             !stemp_0.04_1!              !stemp_0.1_1!    \n",
       "3      NaN             !stemp_0.04_2!              !stemp_0.1_2!    \n",
       "4      NaN             !stemp_0.04_3!              !stemp_0.1_3!    \n",
       "\n",
       "  point -0.2 temperature [K] point -0.4 temperature [K]  \\\n",
       "0                        NaN                        NaN   \n",
       "1             !stemp_0.2_0!              !stemp_0.4_0!    \n",
       "2             !stemp_0.2_1!              !stemp_0.4_1!    \n",
       "3             !stemp_0.2_2!              !stemp_0.4_2!    \n",
       "4             !stemp_0.2_3!              !stemp_0.4_3!    \n",
       "\n",
       "  point -0.8 temperature [K] point -1.2 temperature [K]  \\\n",
       "0                        NaN                        NaN   \n",
       "1             !stemp_0.8_0!              !stemp_1.2_0!    \n",
       "2             !stemp_0.8_1!              !stemp_1.2_1!    \n",
       "3             !stemp_0.8_2!              !stemp_1.2_2!    \n",
       "4             !stemp_0.8_3!              !stemp_1.2_3!    \n",
       "\n",
       "  point -1.6 temperature [K] point -0.04 saturation liquid  \\\n",
       "0                        NaN                           NaN   \n",
       "1             !stemp_1.6_0!                !smois_0.04_0!    \n",
       "2             !stemp_1.6_1!                !smois_0.04_1!    \n",
       "3             !stemp_1.6_2!                !smois_0.04_2!    \n",
       "4             !stemp_1.6_3!                !smois_0.04_3!    \n",
       "\n",
       "  point -0.1 saturation liquid point -0.2 saturation liquid  \\\n",
       "0                          NaN                          NaN   \n",
       "1               !smois_0.1_0!                !smois_0.2_0!    \n",
       "2               !smois_0.1_1!                !smois_0.2_1!    \n",
       "3               !smois_0.1_2!                !smois_0.2_2!    \n",
       "4               !smois_0.1_3!                !smois_0.2_3!    \n",
       "\n",
       "  point -0.4 saturation liquid point -0.8 saturation liquid  \\\n",
       "0                          NaN                          NaN   \n",
       "1               !smois_0.4_0!                !smois_0.8_0!    \n",
       "2               !smois_0.4_1!                !smois_0.8_1!    \n",
       "3               !smois_0.4_2!                !smois_0.8_2!    \n",
       "4               !smois_0.4_3!                !smois_0.8_3!    \n",
       "\n",
       "  point -1.2 saturation liquid point -1.6 saturation liquid  \n",
       "0                          NaN                          NaN  \n",
       "1               !smois_1.2_0!                !smois_1.6_0!   \n",
       "2               !smois_1.2_1!                !smois_1.6_1!   \n",
       "3               !smois_1.2_2!                !smois_1.6_2!   \n",
       "4               !smois_1.2_3!                !smois_1.6_3!   "
      ]
     },
     "execution_count": 79,
     "metadata": {},
     "output_type": "execute_result"
    }
   ],
   "source": [
    "# Creating an instruction file suitable for the analysis\n",
    "ins_data = pd.DataFrame(columns=sim_data.columns, index=sim_data.index)\n",
    "\n",
    "# Adding the simulated variables [Temperature & Moisture] in the instruction file\n",
    "\n",
    "# Temperature\n",
    "for i, depth in enumerate(depths):\n",
    "    for j, time in enumerate(times):\n",
    "        # Column name = obsnme\n",
    "        # (i + 1) - Signifies the start from the 2nd column\n",
    "        ins_data.iloc[j+1, i+1] = f' !stemp_{depth}_{j}! ' \n",
    "\n",
    "# Moisture\n",
    "for i, depth in enumerate(depths):\n",
    "    for j, time in enumerate(times):\n",
    "        # Column name = obsnme\n",
    "        # (i + 1) - Signifies the start from the 2nd column\n",
    "        ins_data.iloc[j+1, i+8] = f' !smois_{depth}_{j}! ' \n",
    "\n",
    "ins_data.head()"
   ]
  },
  {
   "cell_type": "code",
   "execution_count": 80,
   "id": "5801c1a4-06dd-49e8-b579-aecbd252d142",
   "metadata": {},
   "outputs": [
    {
     "data": {
      "text/plain": [
       "362     !smois_1.6_361!\n",
       "363     !smois_1.6_362!\n",
       "364     !smois_1.6_363!\n",
       "365     !smois_1.6_364!\n",
       "366     !smois_1.6_365!\n",
       "Name: point -1.6 saturation liquid, dtype: object"
      ]
     },
     "execution_count": 80,
     "metadata": {},
     "output_type": "execute_result"
    }
   ],
   "source": [
    "# Removing the last character from the last column '~' to mimic the file sfr.csv.in\n",
    "ins_data[\"point -1.6 saturation liquid\"] = ins_data[\"point -1.6 saturation liquid\"].str[:-1]\n",
    "ins_data[\"point -1.6 saturation liquid\"].tail()"
   ]
  },
  {
   "cell_type": "code",
   "execution_count": 81,
   "id": "43098ad7-54d9-4724-a57a-63cbb36e8f43",
   "metadata": {},
   "outputs": [
    {
     "data": {
      "text/html": [
       "<div>\n",
       "<style scoped>\n",
       "    .dataframe tbody tr th:only-of-type {\n",
       "        vertical-align: middle;\n",
       "    }\n",
       "\n",
       "    .dataframe tbody tr th {\n",
       "        vertical-align: top;\n",
       "    }\n",
       "\n",
       "    .dataframe thead th {\n",
       "        text-align: right;\n",
       "    }\n",
       "</style>\n",
       "<table border=\"1\" class=\"dataframe\">\n",
       "  <thead>\n",
       "    <tr style=\"text-align: right;\">\n",
       "      <th></th>\n",
       "      <th>time [s]</th>\n",
       "      <th>point -0.04 temperature [K]</th>\n",
       "      <th>point -0.1 temperature [K]</th>\n",
       "      <th>point -0.2 temperature [K]</th>\n",
       "      <th>point -0.4 temperature [K]</th>\n",
       "      <th>point -0.8 temperature [K]</th>\n",
       "      <th>point -1.2 temperature [K]</th>\n",
       "      <th>point -1.6 temperature [K]</th>\n",
       "      <th>point -0.04 saturation liquid</th>\n",
       "      <th>point -0.1 saturation liquid</th>\n",
       "      <th>point -0.2 saturation liquid</th>\n",
       "      <th>point -0.4 saturation liquid</th>\n",
       "      <th>point -0.8 saturation liquid</th>\n",
       "      <th>point -1.2 saturation liquid</th>\n",
       "      <th>point -1.6 saturation liquid</th>\n",
       "    </tr>\n",
       "  </thead>\n",
       "  <tbody>\n",
       "    <tr>\n",
       "      <th>1</th>\n",
       "      <td>!dum!</td>\n",
       "      <td>!stemp_0.04_0!</td>\n",
       "      <td>!stemp_0.1_0!</td>\n",
       "      <td>!stemp_0.2_0!</td>\n",
       "      <td>!stemp_0.4_0!</td>\n",
       "      <td>!stemp_0.8_0!</td>\n",
       "      <td>!stemp_1.2_0!</td>\n",
       "      <td>!stemp_1.6_0!</td>\n",
       "      <td>!smois_0.04_0!</td>\n",
       "      <td>!smois_0.1_0!</td>\n",
       "      <td>!smois_0.2_0!</td>\n",
       "      <td>!smois_0.4_0!</td>\n",
       "      <td>!smois_0.8_0!</td>\n",
       "      <td>!smois_1.2_0!</td>\n",
       "      <td>!smois_1.6_0!</td>\n",
       "    </tr>\n",
       "    <tr>\n",
       "      <th>2</th>\n",
       "      <td>!dum!</td>\n",
       "      <td>!stemp_0.04_1!</td>\n",
       "      <td>!stemp_0.1_1!</td>\n",
       "      <td>!stemp_0.2_1!</td>\n",
       "      <td>!stemp_0.4_1!</td>\n",
       "      <td>!stemp_0.8_1!</td>\n",
       "      <td>!stemp_1.2_1!</td>\n",
       "      <td>!stemp_1.6_1!</td>\n",
       "      <td>!smois_0.04_1!</td>\n",
       "      <td>!smois_0.1_1!</td>\n",
       "      <td>!smois_0.2_1!</td>\n",
       "      <td>!smois_0.4_1!</td>\n",
       "      <td>!smois_0.8_1!</td>\n",
       "      <td>!smois_1.2_1!</td>\n",
       "      <td>!smois_1.6_1!</td>\n",
       "    </tr>\n",
       "    <tr>\n",
       "      <th>3</th>\n",
       "      <td>!dum!</td>\n",
       "      <td>!stemp_0.04_2!</td>\n",
       "      <td>!stemp_0.1_2!</td>\n",
       "      <td>!stemp_0.2_2!</td>\n",
       "      <td>!stemp_0.4_2!</td>\n",
       "      <td>!stemp_0.8_2!</td>\n",
       "      <td>!stemp_1.2_2!</td>\n",
       "      <td>!stemp_1.6_2!</td>\n",
       "      <td>!smois_0.04_2!</td>\n",
       "      <td>!smois_0.1_2!</td>\n",
       "      <td>!smois_0.2_2!</td>\n",
       "      <td>!smois_0.4_2!</td>\n",
       "      <td>!smois_0.8_2!</td>\n",
       "      <td>!smois_1.2_2!</td>\n",
       "      <td>!smois_1.6_2!</td>\n",
       "    </tr>\n",
       "    <tr>\n",
       "      <th>4</th>\n",
       "      <td>!dum!</td>\n",
       "      <td>!stemp_0.04_3!</td>\n",
       "      <td>!stemp_0.1_3!</td>\n",
       "      <td>!stemp_0.2_3!</td>\n",
       "      <td>!stemp_0.4_3!</td>\n",
       "      <td>!stemp_0.8_3!</td>\n",
       "      <td>!stemp_1.2_3!</td>\n",
       "      <td>!stemp_1.6_3!</td>\n",
       "      <td>!smois_0.04_3!</td>\n",
       "      <td>!smois_0.1_3!</td>\n",
       "      <td>!smois_0.2_3!</td>\n",
       "      <td>!smois_0.4_3!</td>\n",
       "      <td>!smois_0.8_3!</td>\n",
       "      <td>!smois_1.2_3!</td>\n",
       "      <td>!smois_1.6_3!</td>\n",
       "    </tr>\n",
       "    <tr>\n",
       "      <th>5</th>\n",
       "      <td>!dum!</td>\n",
       "      <td>!stemp_0.04_4!</td>\n",
       "      <td>!stemp_0.1_4!</td>\n",
       "      <td>!stemp_0.2_4!</td>\n",
       "      <td>!stemp_0.4_4!</td>\n",
       "      <td>!stemp_0.8_4!</td>\n",
       "      <td>!stemp_1.2_4!</td>\n",
       "      <td>!stemp_1.6_4!</td>\n",
       "      <td>!smois_0.04_4!</td>\n",
       "      <td>!smois_0.1_4!</td>\n",
       "      <td>!smois_0.2_4!</td>\n",
       "      <td>!smois_0.4_4!</td>\n",
       "      <td>!smois_0.8_4!</td>\n",
       "      <td>!smois_1.2_4!</td>\n",
       "      <td>!smois_1.6_4!</td>\n",
       "    </tr>\n",
       "  </tbody>\n",
       "</table>\n",
       "</div>"
      ],
      "text/plain": [
       "  time [s] point -0.04 temperature [K] point -0.1 temperature [K]  \\\n",
       "1   !dum!              !stemp_0.04_0!              !stemp_0.1_0!    \n",
       "2   !dum!              !stemp_0.04_1!              !stemp_0.1_1!    \n",
       "3   !dum!              !stemp_0.04_2!              !stemp_0.1_2!    \n",
       "4   !dum!              !stemp_0.04_3!              !stemp_0.1_3!    \n",
       "5   !dum!              !stemp_0.04_4!              !stemp_0.1_4!    \n",
       "\n",
       "  point -0.2 temperature [K] point -0.4 temperature [K]  \\\n",
       "1             !stemp_0.2_0!              !stemp_0.4_0!    \n",
       "2             !stemp_0.2_1!              !stemp_0.4_1!    \n",
       "3             !stemp_0.2_2!              !stemp_0.4_2!    \n",
       "4             !stemp_0.2_3!              !stemp_0.4_3!    \n",
       "5             !stemp_0.2_4!              !stemp_0.4_4!    \n",
       "\n",
       "  point -0.8 temperature [K] point -1.2 temperature [K]  \\\n",
       "1             !stemp_0.8_0!              !stemp_1.2_0!    \n",
       "2             !stemp_0.8_1!              !stemp_1.2_1!    \n",
       "3             !stemp_0.8_2!              !stemp_1.2_2!    \n",
       "4             !stemp_0.8_3!              !stemp_1.2_3!    \n",
       "5             !stemp_0.8_4!              !stemp_1.2_4!    \n",
       "\n",
       "  point -1.6 temperature [K] point -0.04 saturation liquid  \\\n",
       "1             !stemp_1.6_0!                !smois_0.04_0!    \n",
       "2             !stemp_1.6_1!                !smois_0.04_1!    \n",
       "3             !stemp_1.6_2!                !smois_0.04_2!    \n",
       "4             !stemp_1.6_3!                !smois_0.04_3!    \n",
       "5             !stemp_1.6_4!                !smois_0.04_4!    \n",
       "\n",
       "  point -0.1 saturation liquid point -0.2 saturation liquid  \\\n",
       "1               !smois_0.1_0!                !smois_0.2_0!    \n",
       "2               !smois_0.1_1!                !smois_0.2_1!    \n",
       "3               !smois_0.1_2!                !smois_0.2_2!    \n",
       "4               !smois_0.1_3!                !smois_0.2_3!    \n",
       "5               !smois_0.1_4!                !smois_0.2_4!    \n",
       "\n",
       "  point -0.4 saturation liquid point -0.8 saturation liquid  \\\n",
       "1               !smois_0.4_0!                !smois_0.8_0!    \n",
       "2               !smois_0.4_1!                !smois_0.8_1!    \n",
       "3               !smois_0.4_2!                !smois_0.8_2!    \n",
       "4               !smois_0.4_3!                !smois_0.8_3!    \n",
       "5               !smois_0.4_4!                !smois_0.8_4!    \n",
       "\n",
       "  point -1.2 saturation liquid point -1.6 saturation liquid  \n",
       "1               !smois_1.2_0!                 !smois_1.6_0!  \n",
       "2               !smois_1.2_1!                 !smois_1.6_1!  \n",
       "3               !smois_1.2_2!                 !smois_1.6_2!  \n",
       "4               !smois_1.2_3!                 !smois_1.6_3!  \n",
       "5               !smois_1.2_4!                 !smois_1.6_4!  "
      ]
     },
     "execution_count": 81,
     "metadata": {},
     "output_type": "execute_result"
    }
   ],
   "source": [
    "# Replacing the time vaiable with ~dum\n",
    "ins_data['time [s]'] = f' !dum! '\n",
    "\n",
    "# Dropping unnecessary row and column\n",
    "#ins_data.drop(['time [s]'], axis=1, inplace=True)\n",
    "ins_data.drop([0], axis=0, inplace=True)\n",
    "ins_data.head()\n"
   ]
  },
  {
   "cell_type": "code",
   "execution_count": 82,
   "id": "5045571a-4a24-46c9-8bee-66edaa9341c1",
   "metadata": {},
   "outputs": [],
   "source": [
    "#ins_data['l1'] = 'l1 ~'\n",
    "# Adding an extra column to mimic sfr.csv.ins\n",
    "ins_data.insert(0, 'l1', 'l1 ')"
   ]
  },
  {
   "cell_type": "code",
   "execution_count": 83,
   "id": "65c4af73",
   "metadata": {},
   "outputs": [
    {
     "data": {
      "text/html": [
       "<div>\n",
       "<style scoped>\n",
       "    .dataframe tbody tr th:only-of-type {\n",
       "        vertical-align: middle;\n",
       "    }\n",
       "\n",
       "    .dataframe tbody tr th {\n",
       "        vertical-align: top;\n",
       "    }\n",
       "\n",
       "    .dataframe thead th {\n",
       "        text-align: right;\n",
       "    }\n",
       "</style>\n",
       "<table border=\"1\" class=\"dataframe\">\n",
       "  <thead>\n",
       "    <tr style=\"text-align: right;\">\n",
       "      <th></th>\n",
       "      <th>l1</th>\n",
       "      <th>time [s]</th>\n",
       "      <th>point -0.04 temperature [K]</th>\n",
       "      <th>point -0.1 temperature [K]</th>\n",
       "      <th>point -0.2 temperature [K]</th>\n",
       "      <th>point -0.4 temperature [K]</th>\n",
       "      <th>point -0.8 temperature [K]</th>\n",
       "      <th>point -1.2 temperature [K]</th>\n",
       "      <th>point -1.6 temperature [K]</th>\n",
       "      <th>point -0.04 saturation liquid</th>\n",
       "      <th>point -0.1 saturation liquid</th>\n",
       "      <th>point -0.2 saturation liquid</th>\n",
       "      <th>point -0.4 saturation liquid</th>\n",
       "      <th>point -0.8 saturation liquid</th>\n",
       "      <th>point -1.2 saturation liquid</th>\n",
       "      <th>point -1.6 saturation liquid</th>\n",
       "    </tr>\n",
       "  </thead>\n",
       "  <tbody>\n",
       "    <tr>\n",
       "      <th>1</th>\n",
       "      <td>l1</td>\n",
       "      <td>!dum!</td>\n",
       "      <td>!stemp_0.04_0!</td>\n",
       "      <td>!stemp_0.1_0!</td>\n",
       "      <td>!stemp_0.2_0!</td>\n",
       "      <td>!stemp_0.4_0!</td>\n",
       "      <td>!stemp_0.8_0!</td>\n",
       "      <td>!stemp_1.2_0!</td>\n",
       "      <td>!stemp_1.6_0!</td>\n",
       "      <td>!smois_0.04_0!</td>\n",
       "      <td>!smois_0.1_0!</td>\n",
       "      <td>!smois_0.2_0!</td>\n",
       "      <td>!smois_0.4_0!</td>\n",
       "      <td>!smois_0.8_0!</td>\n",
       "      <td>!smois_1.2_0!</td>\n",
       "      <td>!smois_1.6_0!</td>\n",
       "    </tr>\n",
       "    <tr>\n",
       "      <th>2</th>\n",
       "      <td>l1</td>\n",
       "      <td>!dum!</td>\n",
       "      <td>!stemp_0.04_1!</td>\n",
       "      <td>!stemp_0.1_1!</td>\n",
       "      <td>!stemp_0.2_1!</td>\n",
       "      <td>!stemp_0.4_1!</td>\n",
       "      <td>!stemp_0.8_1!</td>\n",
       "      <td>!stemp_1.2_1!</td>\n",
       "      <td>!stemp_1.6_1!</td>\n",
       "      <td>!smois_0.04_1!</td>\n",
       "      <td>!smois_0.1_1!</td>\n",
       "      <td>!smois_0.2_1!</td>\n",
       "      <td>!smois_0.4_1!</td>\n",
       "      <td>!smois_0.8_1!</td>\n",
       "      <td>!smois_1.2_1!</td>\n",
       "      <td>!smois_1.6_1!</td>\n",
       "    </tr>\n",
       "    <tr>\n",
       "      <th>3</th>\n",
       "      <td>l1</td>\n",
       "      <td>!dum!</td>\n",
       "      <td>!stemp_0.04_2!</td>\n",
       "      <td>!stemp_0.1_2!</td>\n",
       "      <td>!stemp_0.2_2!</td>\n",
       "      <td>!stemp_0.4_2!</td>\n",
       "      <td>!stemp_0.8_2!</td>\n",
       "      <td>!stemp_1.2_2!</td>\n",
       "      <td>!stemp_1.6_2!</td>\n",
       "      <td>!smois_0.04_2!</td>\n",
       "      <td>!smois_0.1_2!</td>\n",
       "      <td>!smois_0.2_2!</td>\n",
       "      <td>!smois_0.4_2!</td>\n",
       "      <td>!smois_0.8_2!</td>\n",
       "      <td>!smois_1.2_2!</td>\n",
       "      <td>!smois_1.6_2!</td>\n",
       "    </tr>\n",
       "    <tr>\n",
       "      <th>4</th>\n",
       "      <td>l1</td>\n",
       "      <td>!dum!</td>\n",
       "      <td>!stemp_0.04_3!</td>\n",
       "      <td>!stemp_0.1_3!</td>\n",
       "      <td>!stemp_0.2_3!</td>\n",
       "      <td>!stemp_0.4_3!</td>\n",
       "      <td>!stemp_0.8_3!</td>\n",
       "      <td>!stemp_1.2_3!</td>\n",
       "      <td>!stemp_1.6_3!</td>\n",
       "      <td>!smois_0.04_3!</td>\n",
       "      <td>!smois_0.1_3!</td>\n",
       "      <td>!smois_0.2_3!</td>\n",
       "      <td>!smois_0.4_3!</td>\n",
       "      <td>!smois_0.8_3!</td>\n",
       "      <td>!smois_1.2_3!</td>\n",
       "      <td>!smois_1.6_3!</td>\n",
       "    </tr>\n",
       "    <tr>\n",
       "      <th>5</th>\n",
       "      <td>l1</td>\n",
       "      <td>!dum!</td>\n",
       "      <td>!stemp_0.04_4!</td>\n",
       "      <td>!stemp_0.1_4!</td>\n",
       "      <td>!stemp_0.2_4!</td>\n",
       "      <td>!stemp_0.4_4!</td>\n",
       "      <td>!stemp_0.8_4!</td>\n",
       "      <td>!stemp_1.2_4!</td>\n",
       "      <td>!stemp_1.6_4!</td>\n",
       "      <td>!smois_0.04_4!</td>\n",
       "      <td>!smois_0.1_4!</td>\n",
       "      <td>!smois_0.2_4!</td>\n",
       "      <td>!smois_0.4_4!</td>\n",
       "      <td>!smois_0.8_4!</td>\n",
       "      <td>!smois_1.2_4!</td>\n",
       "      <td>!smois_1.6_4!</td>\n",
       "    </tr>\n",
       "  </tbody>\n",
       "</table>\n",
       "</div>"
      ],
      "text/plain": [
       "    l1 time [s] point -0.04 temperature [K] point -0.1 temperature [K]  \\\n",
       "1  l1    !dum!              !stemp_0.04_0!              !stemp_0.1_0!    \n",
       "2  l1    !dum!              !stemp_0.04_1!              !stemp_0.1_1!    \n",
       "3  l1    !dum!              !stemp_0.04_2!              !stemp_0.1_2!    \n",
       "4  l1    !dum!              !stemp_0.04_3!              !stemp_0.1_3!    \n",
       "5  l1    !dum!              !stemp_0.04_4!              !stemp_0.1_4!    \n",
       "\n",
       "  point -0.2 temperature [K] point -0.4 temperature [K]  \\\n",
       "1             !stemp_0.2_0!              !stemp_0.4_0!    \n",
       "2             !stemp_0.2_1!              !stemp_0.4_1!    \n",
       "3             !stemp_0.2_2!              !stemp_0.4_2!    \n",
       "4             !stemp_0.2_3!              !stemp_0.4_3!    \n",
       "5             !stemp_0.2_4!              !stemp_0.4_4!    \n",
       "\n",
       "  point -0.8 temperature [K] point -1.2 temperature [K]  \\\n",
       "1             !stemp_0.8_0!              !stemp_1.2_0!    \n",
       "2             !stemp_0.8_1!              !stemp_1.2_1!    \n",
       "3             !stemp_0.8_2!              !stemp_1.2_2!    \n",
       "4             !stemp_0.8_3!              !stemp_1.2_3!    \n",
       "5             !stemp_0.8_4!              !stemp_1.2_4!    \n",
       "\n",
       "  point -1.6 temperature [K] point -0.04 saturation liquid  \\\n",
       "1             !stemp_1.6_0!                !smois_0.04_0!    \n",
       "2             !stemp_1.6_1!                !smois_0.04_1!    \n",
       "3             !stemp_1.6_2!                !smois_0.04_2!    \n",
       "4             !stemp_1.6_3!                !smois_0.04_3!    \n",
       "5             !stemp_1.6_4!                !smois_0.04_4!    \n",
       "\n",
       "  point -0.1 saturation liquid point -0.2 saturation liquid  \\\n",
       "1               !smois_0.1_0!                !smois_0.2_0!    \n",
       "2               !smois_0.1_1!                !smois_0.2_1!    \n",
       "3               !smois_0.1_2!                !smois_0.2_2!    \n",
       "4               !smois_0.1_3!                !smois_0.2_3!    \n",
       "5               !smois_0.1_4!                !smois_0.2_4!    \n",
       "\n",
       "  point -0.4 saturation liquid point -0.8 saturation liquid  \\\n",
       "1               !smois_0.4_0!                !smois_0.8_0!    \n",
       "2               !smois_0.4_1!                !smois_0.8_1!    \n",
       "3               !smois_0.4_2!                !smois_0.8_2!    \n",
       "4               !smois_0.4_3!                !smois_0.8_3!    \n",
       "5               !smois_0.4_4!                !smois_0.8_4!    \n",
       "\n",
       "  point -1.2 saturation liquid point -1.6 saturation liquid  \n",
       "1               !smois_1.2_0!                 !smois_1.6_0!  \n",
       "2               !smois_1.2_1!                 !smois_1.6_1!  \n",
       "3               !smois_1.2_2!                 !smois_1.6_2!  \n",
       "4               !smois_1.2_3!                 !smois_1.6_3!  \n",
       "5               !smois_1.2_4!                 !smois_1.6_4!  "
      ]
     },
     "execution_count": 83,
     "metadata": {},
     "output_type": "execute_result"
    }
   ],
   "source": [
    "ins_data.head()"
   ]
  },
  {
   "cell_type": "code",
   "execution_count": 84,
   "id": "99eb4ebf-d256-4e3c-9984-3037b38dc144",
   "metadata": {},
   "outputs": [],
   "source": [
    "# Exporting the instruction file\n",
    "ins_data.to_csv(f'{directory_name}/{file_name}_obs_data.dat.ins', header=False, index=False,sep=' ')"
   ]
  },
  {
   "cell_type": "markdown",
   "id": "c1324151-d6a3-4a53-af43-bf25d06870b8",
   "metadata": {},
   "source": [
    "##### Dont forget to remove Quotes & add 'pif ~' string manually ;) (Dont know why the quotes are appearing as it did not in previous formats!\n",
    "##### Also check if the spacing, indentation and rest of the content is correct by checking with the another instruction file (preferably by vs code?)"
   ]
  },
  {
   "cell_type": "markdown",
   "id": "07237394-3689-46b2-a227-201930eb6efd",
   "metadata": {},
   "source": [
    "### Running pest in python:\n",
    "1. Checks to be done\n",
    "\n",
    "    a. TEMPCHEK - To check the template file\n",
    "    \n",
    "    b. INSCHEK - To check the instruction file\n",
    "    \n",
    "    c. Converting the file to version 1\n",
    "    \n",
    "    d. PESTCHEK - To check the pest control file\n",
    "    \n",
    "2. Running PEST (Not PEST++) with NOPTMAX = -1 (Wait until the results are displayed)\n",
    "    \n",
    "3. Running PWTADJ1 - pwtadj1 case1_v1.pst case2_v1_new.pst contribution\n",
    "\n",
    "4. Running PEST++ for the redistributed weights\n"
   ]
  },
  {
   "cell_type": "code",
   "execution_count": 8,
   "id": "fbbd9e30-c168-4228-9162-228c0d0bc72a",
   "metadata": {},
   "outputs": [
    {
     "data": {
      "text/plain": [
       "'Case5_III_su_cv_start.demo'"
      ]
     },
     "execution_count": 8,
     "metadata": {},
     "output_type": "execute_result"
    }
   ],
   "source": [
    "directory_name"
   ]
  },
  {
   "cell_type": "code",
   "execution_count": 9,
   "id": "c5eb9d39-1ad9-4ef8-8bd1-eff5bcbf0a4a",
   "metadata": {},
   "outputs": [
    {
     "data": {
      "text/plain": [
       "'/bigwork/nhgjrabl/Simulations/pestpp/rk_model_final_4yrs_su'"
      ]
     },
     "execution_count": 9,
     "metadata": {},
     "output_type": "execute_result"
    }
   ],
   "source": [
    "os.getcwd()"
   ]
  },
  {
   "cell_type": "code",
   "execution_count": 10,
   "id": "07d808c6-3430-4710-89bd-9b97a986f7bf",
   "metadata": {},
   "outputs": [],
   "source": [
    "# Change directory to required directory with simulation input files\n",
    "os.chdir(f'{directory_name}')"
   ]
  },
  {
   "cell_type": "code",
   "execution_count": 11,
   "id": "ced5b995-095c-4809-8ce5-32412286c2dd",
   "metadata": {},
   "outputs": [
    {
     "data": {
      "text/plain": [
       "'/bigwork/nhgjrabl/Simulations/pestpp/rk_model_final_4yrs_su/Case5_III_su_cv_start.demo'"
      ]
     },
     "execution_count": 11,
     "metadata": {},
     "output_type": "execute_result"
    }
   ],
   "source": [
    "os.getcwd()"
   ]
  },
  {
   "cell_type": "markdown",
   "id": "251d7143-fa6c-410c-ab28-c55783be1ebe",
   "metadata": {},
   "source": [
    "1. Checks to be done:\n",
    "\n",
    "a. Check ats input file - .xml file\n",
    "    \n",
    "b. TEMPCHEK - To check the template file\n",
    "    \n",
    "c. INSCHEK - To check the instruction file\n",
    "    \n",
    "d. Converting the file to version 1\n",
    "    \n",
    "e. PESTCHEK - To check the pest control file"
   ]
  },
  {
   "cell_type": "code",
   "execution_count": 36,
   "id": "b40e9b90-f045-403e-ae88-900cf0f5b234",
   "metadata": {},
   "outputs": [
    {
     "data": {
      "text/plain": [
       "b'total 3232\\ndrwxrwxr-x 4 rk rk    4096 Jan 31 14:13 ats_Case5_I_calib_test_3yrs\\n-rw-rw-r-- 1 rk rk    3028 Jan 31 14:13 ats_modelcmd.py\\n-rw-rw-r-- 1 rk rk     427 Jan 31 14:13 Case5_I_cv_cf.pst\\n-rw-rw-r-- 1 rk rk 1361531 Jan 31 14:13 Case5_I_cv_cf_v1.pst\\n-rw-rw-r-- 1 rk rk      73 Jan 31 14:13 Case5_I_cv.insfile.csv\\n-rw-rw-r-- 1 rk rk  901137 Jan 31 14:13 Case5_I_cv_obs_data.csv\\n-rw-rw-r-- 1 rk rk   87804 Jan 31 16:31 Case5_I_cv_obs_data.dat\\n-rw-rw-r-- 1 rk rk  257371 Jan 31 14:13 Case5_I_cv_obs_data.dat.ins\\n-rw-rw-r-- 1 rk rk  337568 Jan 31 14:13 Case5_I_cv_obs_data.dat.obf\\n-rw-rw-r-- 1 rk rk    2075 Jan 31 14:13 Case5_I_cv_par_data.csv\\n-rw-rw-r-- 1 rk rk    1277 Jan 31 14:13 Case5_I_cv_pargrp_data.csv\\n-rw-rw-r-- 1 rk rk      55 Jan 31 14:13 Case5_I_cv.tplfile.csv\\n-rw-rw-r-- 1 rk rk   92736 Jan 31 14:13 Case5_I_cv.xml\\n-rw-rw-r-- 1 rk rk     364 Jan 31 14:13 Case5_I_cv.xml.pmt\\n-rw-rw-r-- 1 rk rk   92671 Jan 31 14:13 Case5_I_cv.xml.tpl\\n-rw-rw-r-- 1 rk rk   92539 Jan 31 14:13 Case5_I_E_glm.xml\\n-rw-rw-r-- 1 rk rk       0 Jan 31 14:13 jacob.runs\\n-rw-rw-r-- 1 rk rk   24416 Jan 31 14:13 observation.dat\\ndrwxrwxr-x 2 rk rk   12288 Jan 31 14:13 test_ats.demo\\n'"
      ]
     },
     "execution_count": 36,
     "metadata": {},
     "output_type": "execute_result"
    }
   ],
   "source": [
    "# Testing subprocess\n",
    "subprocess.check_output(['ls', '-l'])"
   ]
  },
  {
   "cell_type": "code",
   "execution_count": 45,
   "id": "615cccae-a65d-4c74-b5fb-2e9c841bde4b",
   "metadata": {},
   "outputs": [
    {
     "data": {
      "text/plain": [
       "''"
      ]
     },
     "execution_count": 45,
     "metadata": {},
     "output_type": "execute_result"
    }
   ],
   "source": [
    "### Running ats within a temp folder\n",
    "\n",
    "subprocess.run(['mkdir','test_ats_2.demo'], capture_output=True, text=True).stdout"
   ]
  },
  {
   "cell_type": "code",
   "execution_count": 18,
   "id": "4408528a-eaa4-4264-b477-b00c034bd2ce",
   "metadata": {},
   "outputs": [],
   "source": [
    "os.chdir('test_ats_2.demo')"
   ]
  },
  {
   "cell_type": "markdown",
   "id": "a088066f",
   "metadata": {},
   "source": [
    "##### We need to also run the simulations on the cluster, therefore we have created a seperate file where the data access changes!"
   ]
  },
  {
   "cell_type": "code",
   "execution_count": 19,
   "id": "8d37a167",
   "metadata": {},
   "outputs": [
    {
     "data": {
      "text/plain": [
       "'Case5_III_su_cv'"
      ]
     },
     "execution_count": 19,
     "metadata": {},
     "output_type": "execute_result"
    }
   ],
   "source": [
    "file_name"
   ]
  },
  {
   "cell_type": "code",
   "execution_count": 48,
   "id": "4b7eceea-f4aa-43a6-b901-ddd84f9a581e",
   "metadata": {},
   "outputs": [
    {
     "name": "stdout",
     "output_type": "stream",
     "text": [
      "CPU times: user 290 ms, sys: 68.4 ms, total: 358 ms\n",
      "Wall time: 2h 5min 12s\n"
     ]
    },
    {
     "data": {
      "text/plain": [
       "0"
      ]
     },
     "execution_count": 48,
     "metadata": {},
     "output_type": "execute_result"
    }
   ],
   "source": [
    "%%time\n",
    "os.system(f'ats --xml_file=../{file_name}.xml')"
   ]
  },
  {
   "cell_type": "code",
   "execution_count": 20,
   "id": "018f074f",
   "metadata": {},
   "outputs": [
    {
     "data": {
      "text/plain": [
       "'/bigwork/nhgjrabl/Simulations/pestpp/rk_model_final_4yrs_su/Case5_III_su_cv_start.demo/test_ats_2.demo'"
      ]
     },
     "execution_count": 20,
     "metadata": {},
     "output_type": "execute_result"
    }
   ],
   "source": [
    "os.getcwd()"
   ]
  },
  {
   "cell_type": "markdown",
   "id": "e19b2047",
   "metadata": {},
   "source": [
    "##### That's a lot of time! - 46 mins! - Do we spend time on ensuring that we speed up the process? - How do we do it? - The problem is that a saturation of 1 is achieved and therefore the simulation cannot find a solution"
   ]
  },
  {
   "cell_type": "code",
   "execution_count": 21,
   "id": "424aa664",
   "metadata": {},
   "outputs": [
    {
     "data": {
      "text/html": [
       "<div>\n",
       "<style scoped>\n",
       "    .dataframe tbody tr th:only-of-type {\n",
       "        vertical-align: middle;\n",
       "    }\n",
       "\n",
       "    .dataframe tbody tr th {\n",
       "        vertical-align: top;\n",
       "    }\n",
       "\n",
       "    .dataframe thead th {\n",
       "        text-align: right;\n",
       "    }\n",
       "</style>\n",
       "<table border=\"1\" class=\"dataframe\">\n",
       "  <thead>\n",
       "    <tr style=\"text-align: right;\">\n",
       "      <th></th>\n",
       "      <th>time [s]</th>\n",
       "      <th>point -0.04 temperature [K]</th>\n",
       "      <th>point -0.1 temperature [K]</th>\n",
       "      <th>point -0.2 temperature [K]</th>\n",
       "      <th>point -0.4 temperature [K]</th>\n",
       "      <th>point -0.8 temperature [K]</th>\n",
       "      <th>point -1.2 temperature [K]</th>\n",
       "      <th>point -1.6 temperature [K]</th>\n",
       "      <th>point -0.04 saturation liquid</th>\n",
       "      <th>point -0.1 saturation liquid</th>\n",
       "      <th>point -0.2 saturation liquid</th>\n",
       "      <th>point -0.4 saturation liquid</th>\n",
       "      <th>point -0.8 saturation liquid</th>\n",
       "      <th>point -1.2 saturation liquid</th>\n",
       "      <th>point -1.6 saturation liquid</th>\n",
       "    </tr>\n",
       "  </thead>\n",
       "  <tbody>\n",
       "    <tr>\n",
       "      <th>362</th>\n",
       "      <td>31276800.0</td>\n",
       "      <td>271.265719</td>\n",
       "      <td>271.334054</td>\n",
       "      <td>271.395253</td>\n",
       "      <td>271.455859</td>\n",
       "      <td>271.565840</td>\n",
       "      <td>271.637561</td>\n",
       "      <td>271.659841</td>\n",
       "      <td>0.164795</td>\n",
       "      <td>0.164951</td>\n",
       "      <td>0.165098</td>\n",
       "      <td>0.165252</td>\n",
       "      <td>0.165556</td>\n",
       "      <td>0.165770</td>\n",
       "      <td>0.165840</td>\n",
       "    </tr>\n",
       "    <tr>\n",
       "      <th>363</th>\n",
       "      <td>31363200.0</td>\n",
       "      <td>271.247840</td>\n",
       "      <td>271.314335</td>\n",
       "      <td>271.374852</td>\n",
       "      <td>271.435597</td>\n",
       "      <td>271.547908</td>\n",
       "      <td>271.623044</td>\n",
       "      <td>271.647957</td>\n",
       "      <td>0.164755</td>\n",
       "      <td>0.164905</td>\n",
       "      <td>0.165048</td>\n",
       "      <td>0.165199</td>\n",
       "      <td>0.165505</td>\n",
       "      <td>0.165726</td>\n",
       "      <td>0.165803</td>\n",
       "    </tr>\n",
       "    <tr>\n",
       "      <th>364</th>\n",
       "      <td>31449600.0</td>\n",
       "      <td>271.245423</td>\n",
       "      <td>271.305094</td>\n",
       "      <td>271.361298</td>\n",
       "      <td>271.419395</td>\n",
       "      <td>271.530939</td>\n",
       "      <td>271.608538</td>\n",
       "      <td>271.635935</td>\n",
       "      <td>0.164750</td>\n",
       "      <td>0.164884</td>\n",
       "      <td>0.165015</td>\n",
       "      <td>0.165158</td>\n",
       "      <td>0.165457</td>\n",
       "      <td>0.165682</td>\n",
       "      <td>0.165765</td>\n",
       "    </tr>\n",
       "    <tr>\n",
       "      <th>365</th>\n",
       "      <td>31536000.0</td>\n",
       "      <td>271.249349</td>\n",
       "      <td>271.302255</td>\n",
       "      <td>271.353281</td>\n",
       "      <td>271.407399</td>\n",
       "      <td>271.515564</td>\n",
       "      <td>271.594315</td>\n",
       "      <td>271.623868</td>\n",
       "      <td>0.164758</td>\n",
       "      <td>0.164877</td>\n",
       "      <td>0.164996</td>\n",
       "      <td>0.165128</td>\n",
       "      <td>0.165414</td>\n",
       "      <td>0.165639</td>\n",
       "      <td>0.165728</td>\n",
       "    </tr>\n",
       "    <tr>\n",
       "      <th>366</th>\n",
       "      <td>31622400.0</td>\n",
       "      <td>271.247471</td>\n",
       "      <td>271.297813</td>\n",
       "      <td>271.345978</td>\n",
       "      <td>271.397214</td>\n",
       "      <td>271.501693</td>\n",
       "      <td>271.580574</td>\n",
       "      <td>271.611866</td>\n",
       "      <td>0.164754</td>\n",
       "      <td>0.164867</td>\n",
       "      <td>0.164979</td>\n",
       "      <td>0.165102</td>\n",
       "      <td>0.165376</td>\n",
       "      <td>0.165599</td>\n",
       "      <td>0.165692</td>\n",
       "    </tr>\n",
       "  </tbody>\n",
       "</table>\n",
       "</div>"
      ],
      "text/plain": [
       "       time [s]  point -0.04 temperature [K]  point -0.1 temperature [K]  \\\n",
       "362  31276800.0                   271.265719                  271.334054   \n",
       "363  31363200.0                   271.247840                  271.314335   \n",
       "364  31449600.0                   271.245423                  271.305094   \n",
       "365  31536000.0                   271.249349                  271.302255   \n",
       "366  31622400.0                   271.247471                  271.297813   \n",
       "\n",
       "     point -0.2 temperature [K]  point -0.4 temperature [K]  \\\n",
       "362                  271.395253                  271.455859   \n",
       "363                  271.374852                  271.435597   \n",
       "364                  271.361298                  271.419395   \n",
       "365                  271.353281                  271.407399   \n",
       "366                  271.345978                  271.397214   \n",
       "\n",
       "     point -0.8 temperature [K]  point -1.2 temperature [K]  \\\n",
       "362                  271.565840                  271.637561   \n",
       "363                  271.547908                  271.623044   \n",
       "364                  271.530939                  271.608538   \n",
       "365                  271.515564                  271.594315   \n",
       "366                  271.501693                  271.580574   \n",
       "\n",
       "     point -1.6 temperature [K]  point -0.04 saturation liquid  \\\n",
       "362                  271.659841                       0.164795   \n",
       "363                  271.647957                       0.164755   \n",
       "364                  271.635935                       0.164750   \n",
       "365                  271.623868                       0.164758   \n",
       "366                  271.611866                       0.164754   \n",
       "\n",
       "     point -0.1 saturation liquid  point -0.2 saturation liquid  \\\n",
       "362                      0.164951                      0.165098   \n",
       "363                      0.164905                      0.165048   \n",
       "364                      0.164884                      0.165015   \n",
       "365                      0.164877                      0.164996   \n",
       "366                      0.164867                      0.164979   \n",
       "\n",
       "     point -0.4 saturation liquid  point -0.8 saturation liquid  \\\n",
       "362                      0.165252                      0.165556   \n",
       "363                      0.165199                      0.165505   \n",
       "364                      0.165158                      0.165457   \n",
       "365                      0.165128                      0.165414   \n",
       "366                      0.165102                      0.165376   \n",
       "\n",
       "     point -1.2 saturation liquid  point -1.6 saturation liquid  \n",
       "362                      0.165770                      0.165840  \n",
       "363                      0.165726                      0.165803  \n",
       "364                      0.165682                      0.165765  \n",
       "365                      0.165639                      0.165728  \n",
       "366                      0.165599                      0.165692  "
      ]
     },
     "execution_count": 21,
     "metadata": {},
     "output_type": "execute_result"
    }
   ],
   "source": [
    "sim_data = pd.read_csv('observations.dat',skiprows=88,sep=' ')\n",
    "sim_data.tail()"
   ]
  },
  {
   "cell_type": "code",
   "execution_count": 22,
   "id": "d0d43001-a95b-4c0f-8811-9aeae89db647",
   "metadata": {},
   "outputs": [
    {
     "data": {
      "text/plain": [
       "'/bigwork/nhgjrabl/Simulations/pestpp/rk_model_final_4yrs_su/Case5_III_su_cv_start.demo/test_ats_2.demo'"
      ]
     },
     "execution_count": 22,
     "metadata": {},
     "output_type": "execute_result"
    }
   ],
   "source": [
    "os.getcwd()"
   ]
  },
  {
   "cell_type": "code",
   "execution_count": 23,
   "id": "e8646c68-7b06-49c9-a31e-a3cb790502b3",
   "metadata": {},
   "outputs": [
    {
     "data": {
      "image/png": "[encoded data removed]",
      "text/plain": [
       "<Figure size 1008x720 with 2 Axes>"
      ]
     },
     "metadata": {
      "needs_background": "light"
     },
     "output_type": "display_data"
    }
   ],
   "source": [
    "fig, (ax1, ax2) = plt.subplots(2, 1)\n",
    "fig.set_size_inches(w=14,h=10)\n",
    "fig.suptitle('Plotting temperature and saturation of liquid')\n",
    "\n",
    "ax1.set_title('Soil temperature [K]')\n",
    "#ax1.plot(sim_data['point -0.01 temperature [K]'],label='0.01 m')\n",
    "ax1.plot(sim_data['point -0.04 temperature [K]'],label='0.04 m')\n",
    "ax1.plot(sim_data['point -0.2 temperature [K]'],label='0.2 m')\n",
    "ax1.plot(sim_data['point -0.4 temperature [K]'],label='0.4 m')\n",
    "ax1.plot(sim_data['point -0.8 temperature [K]'],label='0.8 m')\n",
    "ax1.plot(sim_data['point -1.2 temperature [K]'],label='1.2 m')\n",
    "ax1.plot(sim_data['point -1.6 temperature [K]'],label='1.6 m')\n",
    "#ax1.plot(sim_data['point -5.0 temperature [K]'],label='5.0 m')\n",
    "#ax1.plot(sim_data['point -10.0 temperature [K]'],label='10.0 m')\n",
    "#ax1.plot(sim_data['point -20.0 temperature [K]'],label='20.0 m')\n",
    "#ax1.plot(sim_data['point -30.0 temperature [K]'],label='30.0 m')\n",
    "#ax1.plot(sim_data['point -40.0 temperature [K]'],label='40.0 m')\n",
    "ax1.set_ylabel('Temperature (K)')\n",
    "#ax1.gca().xaxis.set_major_formatter(mdates.DateFormatter('%m-%d'))\n",
    "#ax1.set_xlabel('Date (days)')\n",
    "ax1.legend(fontsize=8)\n",
    "ax1.grid(True)\n",
    "\n",
    "ax2.set_title('Plotting soil saturation liquid')\n",
    "#ax2.plot(sim_data['point -0.01 saturation liquid'],label='0.01 m')\n",
    "ax2.plot(sim_data['point -0.04 saturation liquid'],label='0.04 m')\n",
    "ax2.plot(sim_data['point -0.2 saturation liquid'],label='0.2 m')\n",
    "ax2.plot(sim_data['point -0.4 saturation liquid'],label='0.4 m')\n",
    "ax2.plot(sim_data['point -0.8 saturation liquid'],label='0.8 m')\n",
    "ax2.plot(sim_data['point -1.2 saturation liquid'],label='1.2 m')\n",
    "ax2.plot(sim_data['point -1.6 saturation liquid'],label='1.6 m')\n",
    "#ax2.plot(sim_data['point -5.0 saturation liquid'],label='5.0 m')\n",
    "#ax2.plot(sim_data['point -10.0 saturation liquid'],label='10.0 m')\n",
    "\n",
    "ax2.set_ylabel('Saturation of liquid (%)')\n",
    "#ax2.gca().xaxis.set_major_formatter(mdates.DateFormatter('%m-%d'))\n",
    "#ax2.xlabel('Date (days)')\n",
    "ax2.legend(fontsize=8)\n",
    "ax2.grid(True)"
   ]
  },
  {
   "cell_type": "code",
   "execution_count": 24,
   "id": "fae60b1c-a48d-4cde-9d98-5641a26eb627",
   "metadata": {},
   "outputs": [
    {
     "data": {
      "text/plain": [
       "'Case5_III_su_cv'"
      ]
     },
     "execution_count": 24,
     "metadata": {},
     "output_type": "execute_result"
    }
   ],
   "source": [
    "file_name"
   ]
  },
  {
   "cell_type": "code",
   "execution_count": 25,
   "id": "614693e3",
   "metadata": {
    "collapsed": true,
    "jupyter": {
     "outputs_hidden": true
    },
    "tags": []
   },
   "outputs": [
    {
     "ename": "FileNotFoundError",
     "evalue": "[Errno 2] No such file or directory: 'Case5_III_su_cv_obs_data.dat'",
     "output_type": "error",
     "traceback": [
      "\u001b[0;31m---------------------------------------------------------------------------\u001b[0m",
      "\u001b[0;31mFileNotFoundError\u001b[0m                         Traceback (most recent call last)",
      "\u001b[0;32m/tmp/ipykernel_117262/4121138960.py\u001b[0m in \u001b[0;36m<module>\u001b[0;34m\u001b[0m\n\u001b[0;32m----> 1\u001b[0;31m \u001b[0msim_data_obs\u001b[0m \u001b[0;34m=\u001b[0m \u001b[0mpd\u001b[0m\u001b[0;34m.\u001b[0m\u001b[0mread_csv\u001b[0m\u001b[0;34m(\u001b[0m\u001b[0;34mf'{file_name}_obs_data.dat'\u001b[0m\u001b[0;34m,\u001b[0m\u001b[0msep\u001b[0m\u001b[0;34m=\u001b[0m\u001b[0;34m' '\u001b[0m\u001b[0;34m,\u001b[0m\u001b[0mheader\u001b[0m\u001b[0;34m=\u001b[0m\u001b[0;32mNone\u001b[0m\u001b[0;34m)\u001b[0m\u001b[0;34m\u001b[0m\u001b[0;34m\u001b[0m\u001b[0m\n\u001b[0m\u001b[1;32m      2\u001b[0m \u001b[0msim_data_obs\u001b[0m\u001b[0;34m.\u001b[0m\u001b[0mcolumns\u001b[0m \u001b[0;34m=\u001b[0m \u001b[0msim_data\u001b[0m\u001b[0;34m.\u001b[0m\u001b[0mcolumns\u001b[0m\u001b[0;34m\u001b[0m\u001b[0;34m\u001b[0m\u001b[0m\n\u001b[1;32m      3\u001b[0m \u001b[0msim_data_obs\u001b[0m\u001b[0;34m.\u001b[0m\u001b[0mhead\u001b[0m\u001b[0;34m(\u001b[0m\u001b[0;34m)\u001b[0m\u001b[0;34m\u001b[0m\u001b[0;34m\u001b[0m\u001b[0m\n",
      "\u001b[0;32m/sw-eb/system/home/ood/conda/envs/miniconda3-2021.11_python-3.8/lib/python3.8/site-packages/pandas/util/_decorators.py\u001b[0m in \u001b[0;36mwrapper\u001b[0;34m(*args, **kwargs)\u001b[0m\n\u001b[1;32m    309\u001b[0m                     \u001b[0mstacklevel\u001b[0m\u001b[0;34m=\u001b[0m\u001b[0mstacklevel\u001b[0m\u001b[0;34m,\u001b[0m\u001b[0;34m\u001b[0m\u001b[0;34m\u001b[0m\u001b[0m\n\u001b[1;32m    310\u001b[0m                 )\n\u001b[0;32m--> 311\u001b[0;31m             \u001b[0;32mreturn\u001b[0m \u001b[0mfunc\u001b[0m\u001b[0;34m(\u001b[0m\u001b[0;34m*\u001b[0m\u001b[0margs\u001b[0m\u001b[0;34m,\u001b[0m \u001b[0;34m**\u001b[0m\u001b[0mkwargs\u001b[0m\u001b[0;34m)\u001b[0m\u001b[0;34m\u001b[0m\u001b[0;34m\u001b[0m\u001b[0m\n\u001b[0m\u001b[1;32m    312\u001b[0m \u001b[0;34m\u001b[0m\u001b[0m\n\u001b[1;32m    313\u001b[0m         \u001b[0;32mreturn\u001b[0m \u001b[0mwrapper\u001b[0m\u001b[0;34m\u001b[0m\u001b[0;34m\u001b[0m\u001b[0m\n",
      "\u001b[0;32m/sw-eb/system/home/ood/conda/envs/miniconda3-2021.11_python-3.8/lib/python3.8/site-packages/pandas/io/parsers/readers.py\u001b[0m in \u001b[0;36mread_csv\u001b[0;34m(filepath_or_buffer, sep, delimiter, header, names, index_col, usecols, squeeze, prefix, mangle_dupe_cols, dtype, engine, converters, true_values, false_values, skipinitialspace, skiprows, skipfooter, nrows, na_values, keep_default_na, na_filter, verbose, skip_blank_lines, parse_dates, infer_datetime_format, keep_date_col, date_parser, dayfirst, cache_dates, iterator, chunksize, compression, thousands, decimal, lineterminator, quotechar, quoting, doublequote, escapechar, comment, encoding, encoding_errors, dialect, error_bad_lines, warn_bad_lines, on_bad_lines, delim_whitespace, low_memory, memory_map, float_precision, storage_options)\u001b[0m\n\u001b[1;32m    584\u001b[0m     \u001b[0mkwds\u001b[0m\u001b[0;34m.\u001b[0m\u001b[0mupdate\u001b[0m\u001b[0;34m(\u001b[0m\u001b[0mkwds_defaults\u001b[0m\u001b[0;34m)\u001b[0m\u001b[0;34m\u001b[0m\u001b[0;34m\u001b[0m\u001b[0m\n\u001b[1;32m    585\u001b[0m \u001b[0;34m\u001b[0m\u001b[0m\n\u001b[0;32m--> 586\u001b[0;31m     \u001b[0;32mreturn\u001b[0m \u001b[0m_read\u001b[0m\u001b[0;34m(\u001b[0m\u001b[0mfilepath_or_buffer\u001b[0m\u001b[0;34m,\u001b[0m \u001b[0mkwds\u001b[0m\u001b[0;34m)\u001b[0m\u001b[0;34m\u001b[0m\u001b[0;34m\u001b[0m\u001b[0m\n\u001b[0m\u001b[1;32m    587\u001b[0m \u001b[0;34m\u001b[0m\u001b[0m\n\u001b[1;32m    588\u001b[0m \u001b[0;34m\u001b[0m\u001b[0m\n",
      "\u001b[0;32m/sw-eb/system/home/ood/conda/envs/miniconda3-2021.11_python-3.8/lib/python3.8/site-packages/pandas/io/parsers/readers.py\u001b[0m in \u001b[0;36m_read\u001b[0;34m(filepath_or_buffer, kwds)\u001b[0m\n\u001b[1;32m    480\u001b[0m \u001b[0;34m\u001b[0m\u001b[0m\n\u001b[1;32m    481\u001b[0m     \u001b[0;31m# Create the parser.\u001b[0m\u001b[0;34m\u001b[0m\u001b[0;34m\u001b[0m\u001b[0;34m\u001b[0m\u001b[0m\n\u001b[0;32m--> 482\u001b[0;31m     \u001b[0mparser\u001b[0m \u001b[0;34m=\u001b[0m \u001b[0mTextFileReader\u001b[0m\u001b[0;34m(\u001b[0m\u001b[0mfilepath_or_buffer\u001b[0m\u001b[0;34m,\u001b[0m \u001b[0;34m**\u001b[0m\u001b[0mkwds\u001b[0m\u001b[0;34m)\u001b[0m\u001b[0;34m\u001b[0m\u001b[0;34m\u001b[0m\u001b[0m\n\u001b[0m\u001b[1;32m    483\u001b[0m \u001b[0;34m\u001b[0m\u001b[0m\n\u001b[1;32m    484\u001b[0m     \u001b[0;32mif\u001b[0m \u001b[0mchunksize\u001b[0m \u001b[0;32mor\u001b[0m \u001b[0miterator\u001b[0m\u001b[0;34m:\u001b[0m\u001b[0;34m\u001b[0m\u001b[0;34m\u001b[0m\u001b[0m\n",
      "\u001b[0;32m/sw-eb/system/home/ood/conda/envs/miniconda3-2021.11_python-3.8/lib/python3.8/site-packages/pandas/io/parsers/readers.py\u001b[0m in \u001b[0;36m__init__\u001b[0;34m(self, f, engine, **kwds)\u001b[0m\n\u001b[1;32m    809\u001b[0m             \u001b[0mself\u001b[0m\u001b[0;34m.\u001b[0m\u001b[0moptions\u001b[0m\u001b[0;34m[\u001b[0m\u001b[0;34m\"has_index_names\"\u001b[0m\u001b[0;34m]\u001b[0m \u001b[0;34m=\u001b[0m \u001b[0mkwds\u001b[0m\u001b[0;34m[\u001b[0m\u001b[0;34m\"has_index_names\"\u001b[0m\u001b[0;34m]\u001b[0m\u001b[0;34m\u001b[0m\u001b[0;34m\u001b[0m\u001b[0m\n\u001b[1;32m    810\u001b[0m \u001b[0;34m\u001b[0m\u001b[0m\n\u001b[0;32m--> 811\u001b[0;31m         \u001b[0mself\u001b[0m\u001b[0;34m.\u001b[0m\u001b[0m_engine\u001b[0m \u001b[0;34m=\u001b[0m \u001b[0mself\u001b[0m\u001b[0;34m.\u001b[0m\u001b[0m_make_engine\u001b[0m\u001b[0;34m(\u001b[0m\u001b[0mself\u001b[0m\u001b[0;34m.\u001b[0m\u001b[0mengine\u001b[0m\u001b[0;34m)\u001b[0m\u001b[0;34m\u001b[0m\u001b[0;34m\u001b[0m\u001b[0m\n\u001b[0m\u001b[1;32m    812\u001b[0m \u001b[0;34m\u001b[0m\u001b[0m\n\u001b[1;32m    813\u001b[0m     \u001b[0;32mdef\u001b[0m \u001b[0mclose\u001b[0m\u001b[0;34m(\u001b[0m\u001b[0mself\u001b[0m\u001b[0;34m)\u001b[0m\u001b[0;34m:\u001b[0m\u001b[0;34m\u001b[0m\u001b[0;34m\u001b[0m\u001b[0m\n",
      "\u001b[0;32m/sw-eb/system/home/ood/conda/envs/miniconda3-2021.11_python-3.8/lib/python3.8/site-packages/pandas/io/parsers/readers.py\u001b[0m in \u001b[0;36m_make_engine\u001b[0;34m(self, engine)\u001b[0m\n\u001b[1;32m   1038\u001b[0m             )\n\u001b[1;32m   1039\u001b[0m         \u001b[0;31m# error: Too many arguments for \"ParserBase\"\u001b[0m\u001b[0;34m\u001b[0m\u001b[0;34m\u001b[0m\u001b[0;34m\u001b[0m\u001b[0m\n\u001b[0;32m-> 1040\u001b[0;31m         \u001b[0;32mreturn\u001b[0m \u001b[0mmapping\u001b[0m\u001b[0;34m[\u001b[0m\u001b[0mengine\u001b[0m\u001b[0;34m]\u001b[0m\u001b[0;34m(\u001b[0m\u001b[0mself\u001b[0m\u001b[0;34m.\u001b[0m\u001b[0mf\u001b[0m\u001b[0;34m,\u001b[0m \u001b[0;34m**\u001b[0m\u001b[0mself\u001b[0m\u001b[0;34m.\u001b[0m\u001b[0moptions\u001b[0m\u001b[0;34m)\u001b[0m  \u001b[0;31m# type: ignore[call-arg]\u001b[0m\u001b[0;34m\u001b[0m\u001b[0;34m\u001b[0m\u001b[0m\n\u001b[0m\u001b[1;32m   1041\u001b[0m \u001b[0;34m\u001b[0m\u001b[0m\n\u001b[1;32m   1042\u001b[0m     \u001b[0;32mdef\u001b[0m \u001b[0m_failover_to_python\u001b[0m\u001b[0;34m(\u001b[0m\u001b[0mself\u001b[0m\u001b[0;34m)\u001b[0m\u001b[0;34m:\u001b[0m\u001b[0;34m\u001b[0m\u001b[0;34m\u001b[0m\u001b[0m\n",
      "\u001b[0;32m/sw-eb/system/home/ood/conda/envs/miniconda3-2021.11_python-3.8/lib/python3.8/site-packages/pandas/io/parsers/c_parser_wrapper.py\u001b[0m in \u001b[0;36m__init__\u001b[0;34m(self, src, **kwds)\u001b[0m\n\u001b[1;32m     49\u001b[0m \u001b[0;34m\u001b[0m\u001b[0m\n\u001b[1;32m     50\u001b[0m         \u001b[0;31m# open handles\u001b[0m\u001b[0;34m\u001b[0m\u001b[0;34m\u001b[0m\u001b[0;34m\u001b[0m\u001b[0m\n\u001b[0;32m---> 51\u001b[0;31m         \u001b[0mself\u001b[0m\u001b[0;34m.\u001b[0m\u001b[0m_open_handles\u001b[0m\u001b[0;34m(\u001b[0m\u001b[0msrc\u001b[0m\u001b[0;34m,\u001b[0m \u001b[0mkwds\u001b[0m\u001b[0;34m)\u001b[0m\u001b[0;34m\u001b[0m\u001b[0;34m\u001b[0m\u001b[0m\n\u001b[0m\u001b[1;32m     52\u001b[0m         \u001b[0;32massert\u001b[0m \u001b[0mself\u001b[0m\u001b[0;34m.\u001b[0m\u001b[0mhandles\u001b[0m \u001b[0;32mis\u001b[0m \u001b[0;32mnot\u001b[0m \u001b[0;32mNone\u001b[0m\u001b[0;34m\u001b[0m\u001b[0;34m\u001b[0m\u001b[0m\n\u001b[1;32m     53\u001b[0m \u001b[0;34m\u001b[0m\u001b[0m\n",
      "\u001b[0;32m/sw-eb/system/home/ood/conda/envs/miniconda3-2021.11_python-3.8/lib/python3.8/site-packages/pandas/io/parsers/base_parser.py\u001b[0m in \u001b[0;36m_open_handles\u001b[0;34m(self, src, kwds)\u001b[0m\n\u001b[1;32m    220\u001b[0m         \u001b[0mLet\u001b[0m \u001b[0mthe\u001b[0m \u001b[0mreaders\u001b[0m \u001b[0mopen\u001b[0m \u001b[0mIOHandles\u001b[0m \u001b[0mafter\u001b[0m \u001b[0mthey\u001b[0m \u001b[0mare\u001b[0m \u001b[0mdone\u001b[0m \u001b[0;32mwith\u001b[0m \u001b[0mtheir\u001b[0m \u001b[0mpotential\u001b[0m \u001b[0mraises\u001b[0m\u001b[0;34m.\u001b[0m\u001b[0;34m\u001b[0m\u001b[0;34m\u001b[0m\u001b[0m\n\u001b[1;32m    221\u001b[0m         \"\"\"\n\u001b[0;32m--> 222\u001b[0;31m         self.handles = get_handle(\n\u001b[0m\u001b[1;32m    223\u001b[0m             \u001b[0msrc\u001b[0m\u001b[0;34m,\u001b[0m\u001b[0;34m\u001b[0m\u001b[0;34m\u001b[0m\u001b[0m\n\u001b[1;32m    224\u001b[0m             \u001b[0;34m\"r\"\u001b[0m\u001b[0;34m,\u001b[0m\u001b[0;34m\u001b[0m\u001b[0;34m\u001b[0m\u001b[0m\n",
      "\u001b[0;32m/sw-eb/system/home/ood/conda/envs/miniconda3-2021.11_python-3.8/lib/python3.8/site-packages/pandas/io/common.py\u001b[0m in \u001b[0;36mget_handle\u001b[0;34m(path_or_buf, mode, encoding, compression, memory_map, is_text, errors, storage_options)\u001b[0m\n\u001b[1;32m    700\u001b[0m         \u001b[0;32mif\u001b[0m \u001b[0mioargs\u001b[0m\u001b[0;34m.\u001b[0m\u001b[0mencoding\u001b[0m \u001b[0;32mand\u001b[0m \u001b[0;34m\"b\"\u001b[0m \u001b[0;32mnot\u001b[0m \u001b[0;32min\u001b[0m \u001b[0mioargs\u001b[0m\u001b[0;34m.\u001b[0m\u001b[0mmode\u001b[0m\u001b[0;34m:\u001b[0m\u001b[0;34m\u001b[0m\u001b[0;34m\u001b[0m\u001b[0m\n\u001b[1;32m    701\u001b[0m             \u001b[0;31m# Encoding\u001b[0m\u001b[0;34m\u001b[0m\u001b[0;34m\u001b[0m\u001b[0;34m\u001b[0m\u001b[0m\n\u001b[0;32m--> 702\u001b[0;31m             handle = open(\n\u001b[0m\u001b[1;32m    703\u001b[0m                 \u001b[0mhandle\u001b[0m\u001b[0;34m,\u001b[0m\u001b[0;34m\u001b[0m\u001b[0;34m\u001b[0m\u001b[0m\n\u001b[1;32m    704\u001b[0m                 \u001b[0mioargs\u001b[0m\u001b[0;34m.\u001b[0m\u001b[0mmode\u001b[0m\u001b[0;34m,\u001b[0m\u001b[0;34m\u001b[0m\u001b[0;34m\u001b[0m\u001b[0m\n",
      "\u001b[0;31mFileNotFoundError\u001b[0m: [Errno 2] No such file or directory: 'Case5_III_su_cv_obs_data.dat'"
     ]
    }
   ],
   "source": [
    "sim_data_obs = pd.read_csv(f'{file_name}_obs_data.dat',sep=' ',header=None)\n",
    "sim_data_obs.columns = sim_data.columns\n",
    "sim_data_obs.head()"
   ]
  },
  {
   "cell_type": "code",
   "execution_count": 24,
   "id": "76d51ce7",
   "metadata": {
    "collapsed": true,
    "jupyter": {
     "outputs_hidden": true
    },
    "tags": []
   },
   "outputs": [
    {
     "data": {
      "image/png": "[encoded data removed]",
      "text/plain": [
       "<Figure size 1008x720 with 2 Axes>"
      ]
     },
     "metadata": {
      "needs_background": "light"
     },
     "output_type": "display_data"
    }
   ],
   "source": [
    "fig, (ax1, ax2) = plt.subplots(2, 1)\n",
    "fig.set_size_inches(w=14,h=10)\n",
    "fig.suptitle('Plotting temperature and saturation of liquid')\n",
    "\n",
    "ax1.set_title('Soil temperature [K]')\n",
    "#ax1.plot(sim_data_obs['point -0.01 temperature [K]'],label='0.01 m')\n",
    "ax1.plot(sim_data_obs['point -0.04 temperature [K]'],label='0.04 m')\n",
    "ax1.plot(sim_data_obs['point -0.2 temperature [K]'],label='0.2 m')\n",
    "ax1.plot(sim_data_obs['point -0.4 temperature [K]'],label='0.4 m')\n",
    "ax1.plot(sim_data_obs['point -0.8 temperature [K]'],label='0.8 m')\n",
    "ax1.plot(sim_data_obs['point -1.2 temperature [K]'],label='1.2 m')\n",
    "ax1.plot(sim_data_obs['point -1.6 temperature [K]'],label='1.6 m')\n",
    "#ax1.plot(sim_data_obs['point -5.0 temperature [K]'],label='5.0 m')\n",
    "#ax1.plot(sim_data_obs['point -10.0 temperature [K]'],label='10.0 m')\n",
    "#ax1.plot(sim_data_obs['point -20.0 temperature [K]'],label='20.0 m')\n",
    "#ax1.plot(sim_data_obs['point -30.0 temperature [K]'],label='30.0 m')\n",
    "#ax1.plot(sim_data_obs['point -40.0 temperature [K]'],label='40.0 m')\n",
    "ax1.set_ylabel('Temperature (K)')\n",
    "#ax1.gca().xaxis.set_major_formatter(mdates.DateFormatter('%m-%d'))\n",
    "#ax1.set_xlabel('Date (days)')\n",
    "ax1.legend(fontsize=8)\n",
    "ax1.grid(True)\n",
    "\n",
    "ax2.set_title('Plotting soil saturation liquid')\n",
    "#ax2.plot(sim_data_obs['point -0.01 saturation liquid'],label='0.01 m')\n",
    "ax2.plot(sim_data_obs['point -0.04 saturation liquid'],label='0.04 m')\n",
    "ax2.plot(sim_data_obs['point -0.2 saturation liquid'],label='0.2 m')\n",
    "ax2.plot(sim_data_obs['point -0.4 saturation liquid'],label='0.4 m')\n",
    "ax2.plot(sim_data_obs['point -0.8 saturation liquid'],label='0.8 m')\n",
    "ax2.plot(sim_data_obs['point -1.2 saturation liquid'],label='1.2 m')\n",
    "ax2.plot(sim_data_obs['point -1.6 saturation liquid'],label='1.6 m')\n",
    "#ax2.plot(sim_data_obs['point -5.0 saturation liquid'],label='5.0 m')\n",
    "#ax2.plot(sim_data_obs['point -10.0 saturation liquid'],label='10.0 m')\n",
    "\n",
    "ax2.set_ylabel('Saturation of liquid (%)')\n",
    "#ax2.gca().xaxis.set_major_formatter(mdates.DateFormatter('%m-%d'))\n",
    "#ax2.xlabel('Date (days)')\n",
    "ax2.legend(fontsize=8)\n",
    "ax2.grid(True)"
   ]
  },
  {
   "cell_type": "markdown",
   "id": "c5451362",
   "metadata": {},
   "source": [
    "Comments:\n",
    "\n",
    "    * The saturation of liquid is reaching one and hence ats is finding it hard to find a solution!"
   ]
  },
  {
   "cell_type": "markdown",
   "id": "990ec634-8d21-4540-b8b7-eb5416066ff2",
   "metadata": {},
   "source": [
    "#### Check the outputs in the file and also the jupyter notebook terminal - weather it is running. If all is good you can start with the pestcheck!"
   ]
  },
  {
   "cell_type": "code",
   "execution_count": 65,
   "id": "55ac3a1c-8bb9-47e6-a21c-c69c1c55c9c7",
   "metadata": {},
   "outputs": [],
   "source": [
    "os.chdir('..')"
   ]
  },
  {
   "cell_type": "code",
   "execution_count": 66,
   "id": "ea0a722d",
   "metadata": {},
   "outputs": [
    {
     "data": {
      "text/plain": [
       "'/home/rk/pestpp/pestpp/rk_model_final_4yrs/Case5_I_cv_start.demo'"
      ]
     },
     "execution_count": 66,
     "metadata": {},
     "output_type": "execute_result"
    }
   ],
   "source": [
    "os.getcwd()"
   ]
  },
  {
   "cell_type": "code",
   "execution_count": 28,
   "id": "52c2f3cf-55c8-4e71-9029-b641df2f18bf",
   "metadata": {},
   "outputs": [
    {
     "name": "stdout",
     "output_type": "stream",
     "text": [
      "CPU times: user 788 µs, sys: 5.35 ms, total: 6.14 ms\n",
      "Wall time: 1min 24s\n"
     ]
    },
    {
     "data": {
      "text/plain": [
       "0"
      ]
     },
     "execution_count": 28,
     "metadata": {},
     "output_type": "execute_result"
    }
   ],
   "source": [
    "%%time\n",
    "### Check the ats_modelcmd.py file - Change the file name line of peat and mineral\n",
    "os.system('python3 ats_modelcmd_cl.py')\n",
    "### Make sure that the observation file is created! - Testing in cmd is better "
   ]
  },
  {
   "cell_type": "code",
   "execution_count": 26,
   "id": "84c9e477-6cd0-4ed3-8145-c79e668b46a9",
   "metadata": {},
   "outputs": [],
   "source": [
    "# Running tempchek\n",
    "#subprocess.run(['tempchek'], capture_output=True, text=True).stdout"
   ]
  },
  {
   "cell_type": "code",
   "execution_count": 27,
   "id": "450206e3",
   "metadata": {},
   "outputs": [
    {
     "data": {
      "text/plain": [
       "'Case5_III_su_cv'"
      ]
     },
     "execution_count": 27,
     "metadata": {},
     "output_type": "execute_result"
    }
   ],
   "source": [
    "file_name"
   ]
  },
  {
   "cell_type": "code",
   "execution_count": 29,
   "id": "6d86f948-7412-4606-84bb-e68740761d90",
   "metadata": {
    "collapsed": true,
    "jupyter": {
     "outputs_hidden": true
    },
    "tags": []
   },
   "outputs": [
    {
     "ename": "FileNotFoundError",
     "evalue": "[Errno 2] No such file or directory: 'singularity exec /bigwork/nhgjrabl/Singularity/ats_pest_final_2.sif tempchek'",
     "output_type": "error",
     "traceback": [
      "\u001b[0;31m---------------------------------------------------------------------------\u001b[0m",
      "\u001b[0;31mFileNotFoundError\u001b[0m                         Traceback (most recent call last)",
      "\u001b[0;32m/tmp/ipykernel_117262/2430878575.py\u001b[0m in \u001b[0;36m<module>\u001b[0;34m\u001b[0m\n\u001b[1;32m      1\u001b[0m \u001b[0;31m# Running tempchek\u001b[0m\u001b[0;34m\u001b[0m\u001b[0;34m\u001b[0m\u001b[0;34m\u001b[0m\u001b[0m\n\u001b[0;32m----> 2\u001b[0;31m \u001b[0msubprocess\u001b[0m\u001b[0;34m.\u001b[0m\u001b[0mrun\u001b[0m\u001b[0;34m(\u001b[0m\u001b[0;34m[\u001b[0m\u001b[0;34m'singularity exec /bigwork/nhgjrabl/Singularity/ats_pest_final_2.sif tempchek'\u001b[0m\u001b[0;34m,\u001b[0m\u001b[0;34mf'{file_name}.xml.tpl'\u001b[0m\u001b[0;34m]\u001b[0m\u001b[0;34m,\u001b[0m \u001b[0mcapture_output\u001b[0m\u001b[0;34m=\u001b[0m\u001b[0;32mTrue\u001b[0m\u001b[0;34m,\u001b[0m \u001b[0mtext\u001b[0m\u001b[0;34m=\u001b[0m\u001b[0;32mTrue\u001b[0m\u001b[0;34m)\u001b[0m\u001b[0;34m.\u001b[0m\u001b[0mstdout\u001b[0m\u001b[0;34m\u001b[0m\u001b[0;34m\u001b[0m\u001b[0m\n\u001b[0m",
      "\u001b[0;32m/sw-eb/system/home/ood/conda/envs/miniconda3-2021.11_python-3.8/lib/python3.8/subprocess.py\u001b[0m in \u001b[0;36mrun\u001b[0;34m(input, capture_output, timeout, check, *popenargs, **kwargs)\u001b[0m\n\u001b[1;32m    491\u001b[0m         \u001b[0mkwargs\u001b[0m\u001b[0;34m[\u001b[0m\u001b[0;34m'stderr'\u001b[0m\u001b[0;34m]\u001b[0m \u001b[0;34m=\u001b[0m \u001b[0mPIPE\u001b[0m\u001b[0;34m\u001b[0m\u001b[0;34m\u001b[0m\u001b[0m\n\u001b[1;32m    492\u001b[0m \u001b[0;34m\u001b[0m\u001b[0m\n\u001b[0;32m--> 493\u001b[0;31m     \u001b[0;32mwith\u001b[0m \u001b[0mPopen\u001b[0m\u001b[0;34m(\u001b[0m\u001b[0;34m*\u001b[0m\u001b[0mpopenargs\u001b[0m\u001b[0;34m,\u001b[0m \u001b[0;34m**\u001b[0m\u001b[0mkwargs\u001b[0m\u001b[0;34m)\u001b[0m \u001b[0;32mas\u001b[0m \u001b[0mprocess\u001b[0m\u001b[0;34m:\u001b[0m\u001b[0;34m\u001b[0m\u001b[0;34m\u001b[0m\u001b[0m\n\u001b[0m\u001b[1;32m    494\u001b[0m         \u001b[0;32mtry\u001b[0m\u001b[0;34m:\u001b[0m\u001b[0;34m\u001b[0m\u001b[0;34m\u001b[0m\u001b[0m\n\u001b[1;32m    495\u001b[0m             \u001b[0mstdout\u001b[0m\u001b[0;34m,\u001b[0m \u001b[0mstderr\u001b[0m \u001b[0;34m=\u001b[0m \u001b[0mprocess\u001b[0m\u001b[0;34m.\u001b[0m\u001b[0mcommunicate\u001b[0m\u001b[0;34m(\u001b[0m\u001b[0minput\u001b[0m\u001b[0;34m,\u001b[0m \u001b[0mtimeout\u001b[0m\u001b[0;34m=\u001b[0m\u001b[0mtimeout\u001b[0m\u001b[0;34m)\u001b[0m\u001b[0;34m\u001b[0m\u001b[0;34m\u001b[0m\u001b[0m\n",
      "\u001b[0;32m/sw-eb/system/home/ood/conda/envs/miniconda3-2021.11_python-3.8/lib/python3.8/subprocess.py\u001b[0m in \u001b[0;36m__init__\u001b[0;34m(self, args, bufsize, executable, stdin, stdout, stderr, preexec_fn, close_fds, shell, cwd, env, universal_newlines, startupinfo, creationflags, restore_signals, start_new_session, pass_fds, encoding, errors, text)\u001b[0m\n\u001b[1;32m    856\u001b[0m                             encoding=encoding, errors=errors)\n\u001b[1;32m    857\u001b[0m \u001b[0;34m\u001b[0m\u001b[0m\n\u001b[0;32m--> 858\u001b[0;31m             self._execute_child(args, executable, preexec_fn, close_fds,\n\u001b[0m\u001b[1;32m    859\u001b[0m                                 \u001b[0mpass_fds\u001b[0m\u001b[0;34m,\u001b[0m \u001b[0mcwd\u001b[0m\u001b[0;34m,\u001b[0m \u001b[0menv\u001b[0m\u001b[0;34m,\u001b[0m\u001b[0;34m\u001b[0m\u001b[0;34m\u001b[0m\u001b[0m\n\u001b[1;32m    860\u001b[0m                                 \u001b[0mstartupinfo\u001b[0m\u001b[0;34m,\u001b[0m \u001b[0mcreationflags\u001b[0m\u001b[0;34m,\u001b[0m \u001b[0mshell\u001b[0m\u001b[0;34m,\u001b[0m\u001b[0;34m\u001b[0m\u001b[0;34m\u001b[0m\u001b[0m\n",
      "\u001b[0;32m/sw-eb/system/home/ood/conda/envs/miniconda3-2021.11_python-3.8/lib/python3.8/subprocess.py\u001b[0m in \u001b[0;36m_execute_child\u001b[0;34m(self, args, executable, preexec_fn, close_fds, pass_fds, cwd, env, startupinfo, creationflags, shell, p2cread, p2cwrite, c2pread, c2pwrite, errread, errwrite, restore_signals, start_new_session)\u001b[0m\n\u001b[1;32m   1702\u001b[0m                     \u001b[0;32mif\u001b[0m \u001b[0merrno_num\u001b[0m \u001b[0;34m!=\u001b[0m \u001b[0;36m0\u001b[0m\u001b[0;34m:\u001b[0m\u001b[0;34m\u001b[0m\u001b[0;34m\u001b[0m\u001b[0m\n\u001b[1;32m   1703\u001b[0m                         \u001b[0merr_msg\u001b[0m \u001b[0;34m=\u001b[0m \u001b[0mos\u001b[0m\u001b[0;34m.\u001b[0m\u001b[0mstrerror\u001b[0m\u001b[0;34m(\u001b[0m\u001b[0merrno_num\u001b[0m\u001b[0;34m)\u001b[0m\u001b[0;34m\u001b[0m\u001b[0;34m\u001b[0m\u001b[0m\n\u001b[0;32m-> 1704\u001b[0;31m                     \u001b[0;32mraise\u001b[0m \u001b[0mchild_exception_type\u001b[0m\u001b[0;34m(\u001b[0m\u001b[0merrno_num\u001b[0m\u001b[0;34m,\u001b[0m \u001b[0merr_msg\u001b[0m\u001b[0;34m,\u001b[0m \u001b[0merr_filename\u001b[0m\u001b[0;34m)\u001b[0m\u001b[0;34m\u001b[0m\u001b[0;34m\u001b[0m\u001b[0m\n\u001b[0m\u001b[1;32m   1705\u001b[0m                 \u001b[0;32mraise\u001b[0m \u001b[0mchild_exception_type\u001b[0m\u001b[0;34m(\u001b[0m\u001b[0merr_msg\u001b[0m\u001b[0;34m)\u001b[0m\u001b[0;34m\u001b[0m\u001b[0;34m\u001b[0m\u001b[0m\n\u001b[1;32m   1706\u001b[0m \u001b[0;34m\u001b[0m\u001b[0m\n",
      "\u001b[0;31mFileNotFoundError\u001b[0m: [Errno 2] No such file or directory: 'singularity exec /bigwork/nhgjrabl/Singularity/ats_pest_final_2.sif tempchek'"
     ]
    }
   ],
   "source": [
    "# Running tempchek\n",
    "subprocess.run(['singularity exec /bigwork/nhgjrabl/Singularity/ats_pest_final_2.sif tempchek',f'{file_name}.xml.tpl'], capture_output=True, text=True).stdout"
   ]
  },
  {
   "cell_type": "code",
   "execution_count": 70,
   "id": "69fda3e2-6b6c-4690-bd1d-7d6121ca89ad",
   "metadata": {},
   "outputs": [
    {
     "data": {
      "text/plain": [
       "' INSCHEK Version 17.3. Watermark Numerical Computing.\\n\\n Errors in file Case5_I_cv_obs_data.dat.ins ----->\\n No errors encountered.\\n\\n 15344 observations identified in file Case5_I_cv_obs_data.dat.ins: these are \\n   listed in file Case5_I_cv_obs_data.dat.obf.\\n\\n'"
      ]
     },
     "execution_count": 70,
     "metadata": {},
     "output_type": "execute_result"
    }
   ],
   "source": [
    "# Running inschek\n",
    "subprocess.run(['inschek',f'{file_name}_obs_data.dat.ins'], capture_output=True, text=True).stdout"
   ]
  },
  {
   "cell_type": "code",
   "execution_count": 7,
   "id": "1078ae3e",
   "metadata": {},
   "outputs": [],
   "source": [
    "os.chdir(f'{directory_name}')"
   ]
  },
  {
   "cell_type": "code",
   "execution_count": 8,
   "id": "82434f8f-c803-4309-a0fb-99f092a48965",
   "metadata": {},
   "outputs": [],
   "source": [
    "### Converting the pest control file to version 1"
   ]
  },
  {
   "cell_type": "code",
   "execution_count": 30,
   "id": "42be69b5-bc46-4e08-ab77-0f67b5713c16",
   "metadata": {},
   "outputs": [
    {
     "ename": "ModuleNotFoundError",
     "evalue": "No module named 'pyemu'",
     "output_type": "error",
     "traceback": [
      "\u001b[0;31m---------------------------------------------------------------------------\u001b[0m",
      "\u001b[0;31mModuleNotFoundError\u001b[0m                       Traceback (most recent call last)",
      "\u001b[0;32m/tmp/ipykernel_117262/3857930084.py\u001b[0m in \u001b[0;36m<module>\u001b[0;34m\u001b[0m\n\u001b[0;32m----> 1\u001b[0;31m \u001b[0;32mimport\u001b[0m \u001b[0mpyemu\u001b[0m\u001b[0;34m\u001b[0m\u001b[0;34m\u001b[0m\u001b[0m\n\u001b[0m",
      "\u001b[0;31mModuleNotFoundError\u001b[0m: No module named 'pyemu'"
     ]
    }
   ],
   "source": [
    "import pyemu"
   ]
  },
  {
   "cell_type": "code",
   "execution_count": 10,
   "id": "9e398a41",
   "metadata": {},
   "outputs": [
    {
     "name": "stderr",
     "output_type": "stream",
     "text": [
      "/home/rk/anaconda3/lib/python3.8/site-packages/ipykernel/ipkernel.py:287: DeprecationWarning: `should_run_async` will not call `transform_cell` automatically in the future. Please pass the result to `transformed_cell` argument and any exception that happen during thetransform in `preprocessing_exc_tuple` in IPython 7.17 and above.\n",
      "  and should_run_async(code)\n"
     ]
    },
    {
     "data": {
      "text/plain": [
       "'/home/rk/pestpp/pestpp/rk_model_final_4yrs_su/Case5_su_cv_start_cl.demo'"
      ]
     },
     "execution_count": 10,
     "metadata": {},
     "output_type": "execute_result"
    }
   ],
   "source": [
    "os.getcwd()"
   ]
  },
  {
   "cell_type": "code",
   "execution_count": 72,
   "id": "49954514-c450-430f-84ed-0d845772dbfd",
   "metadata": {},
   "outputs": [
    {
     "data": {
      "text/plain": [
       "'Case5_su_cv_start_cl.demo'"
      ]
     },
     "execution_count": 72,
     "metadata": {},
     "output_type": "execute_result"
    }
   ],
   "source": [
    "directory_name"
   ]
  },
  {
   "cell_type": "code",
   "execution_count": 12,
   "id": "1a69218a-411c-43b5-b0e6-93ebbc4495ed",
   "metadata": {},
   "outputs": [
    {
     "name": "stderr",
     "output_type": "stream",
     "text": [
      "/home/rk/anaconda3/lib/python3.8/site-packages/ipykernel/ipkernel.py:287: DeprecationWarning: `should_run_async` will not call `transform_cell` automatically in the future. Please pass the result to `transformed_cell` argument and any exception that happen during thetransform in `preprocessing_exc_tuple` in IPython 7.17 and above.\n",
      "  and should_run_async(code)\n"
     ]
    },
    {
     "name": "stdout",
     "output_type": "stream",
     "text": [
      "noptmax:-1, npar_adj:12, nnz_obs:15344\n"
     ]
    }
   ],
   "source": [
    "pst = pyemu.Pst(f\"{file_name}_cf.pst\")\n",
    "pst.write(f\"{file_name}_cf_v1.pst\")"
   ]
  },
  {
   "cell_type": "code",
   "execution_count": 76,
   "id": "b1f1683e-e18b-498b-a4f4-43b92c5cd5c2",
   "metadata": {},
   "outputs": [
    {
     "data": {
      "text/plain": [
       "'/home/rk/pestpp/pestpp/rk_model_final_4yrs/Case5_I_cv_start.demo'"
      ]
     },
     "execution_count": 76,
     "metadata": {},
     "output_type": "execute_result"
    }
   ],
   "source": [
    "os.getcwd()"
   ]
  },
  {
   "cell_type": "code",
   "execution_count": 77,
   "id": "9064c890-bb65-42bb-adc6-9d5b6957c52f",
   "metadata": {},
   "outputs": [
    {
     "data": {
      "text/plain": [
       "' PESTCHEK Version 17.3. Watermark Numerical Computing.\\n\\n Errors ----->\\n No errors encountered.\\n\\n Warnings ----->\\n It appears that the PEST control file contains a \"rsi\" section. PESTCHEK did \\n   not check this. It can only be used by RSI_HP.\\n NUMLAM is supplied as negative. This will be reset to positive. If Parallel \\n   PEST or BEOPEST is used PARLAM will automatically be set to -9999.\\n NOPTMAX provided as -1. No optimisation will be carried out; objective \\n   function, residuals and statistics will be recorded for initial parameter \\n   estimates only.\\n MAXSING in the singular value decomposition section is greater than the \\n   number of adjustable parameters.\\n'"
      ]
     },
     "execution_count": 77,
     "metadata": {},
     "output_type": "execute_result"
    }
   ],
   "source": [
    "### Checking the pest control file once more\n",
    "\n",
    "subprocess.run(['pestchek',f\"{file_name}_cf_v1.pst\"], capture_output=True, text=True).stdout"
   ]
  },
  {
   "cell_type": "markdown",
   "id": "d825e61d-6c10-4a46-8e91-ddc44b5cfe55",
   "metadata": {},
   "source": [
    "* If the error of DERCOM appears - Just remove 1 from the all the par_data lines!"
   ]
  },
  {
   "cell_type": "markdown",
   "id": "ed371806-6b43-4149-b366-34977e9f31cd",
   "metadata": {},
   "source": [
    "#### Change the file name in 'ats_modelcmd.py' to pest file name"
   ]
  },
  {
   "cell_type": "code",
   "execution_count": 13,
   "id": "3f9ad751-16d0-471e-ab26-6e0257882b94",
   "metadata": {},
   "outputs": [
    {
     "data": {
      "text/plain": [
       "'/home/rk/pestpp/pestpp/rk_model_final_4yrs/Case5_I_cv_start.demo'"
      ]
     },
     "execution_count": 13,
     "metadata": {},
     "output_type": "execute_result"
    }
   ],
   "source": [
    "os.getcwd()"
   ]
  },
  {
   "cell_type": "code",
   "execution_count": 80,
   "id": "c3c42bd3-52be-4d91-ad42-584f3137ba8f",
   "metadata": {},
   "outputs": [
    {
     "name": "stdout",
     "output_type": "stream",
     "text": [
      "CPU times: user 10.7 s, sys: 2.94 s, total: 13.7 s\n",
      "Wall time: 3d 17h 29min 35s\n"
     ]
    },
    {
     "data": {
      "text/plain": [
       "0"
      ]
     },
     "execution_count": 80,
     "metadata": {},
     "output_type": "execute_result"
    }
   ],
   "source": [
    "%%time\n",
    "### Running pest file\n",
    "\n",
    "os.system(f'pest {file_name}_cf_v1.pst')\n",
    "#subprocess.run(['pest',f'{file_name}_cf_v1.pst','&>out.log'], capture_output=True, text=True).stdout"
   ]
  },
  {
   "cell_type": "markdown",
   "id": "52ee03a7-fc38-4beb-9df7-cd283270c11f",
   "metadata": {},
   "source": [
    "### Reweighting strategy - PWTADJ1\n"
   ]
  },
  {
   "cell_type": "code",
   "execution_count": 7,
   "id": "bd11f409-d77e-448d-a11d-6725be17ca63",
   "metadata": {
    "collapsed": true,
    "jupyter": {
     "outputs_hidden": true
    },
    "tags": []
   },
   "outputs": [
    {
     "ename": "FileNotFoundError",
     "evalue": "[Errno 2] No such file or directory: 'singularity exec /bigwork/nhgjrabl/Singularity/ats_pest_final_2.sif pwtadj1'",
     "output_type": "error",
     "traceback": [
      "\u001b[0;31m---------------------------------------------------------------------------\u001b[0m",
      "\u001b[0;31mFileNotFoundError\u001b[0m                         Traceback (most recent call last)",
      "\u001b[0;32m/tmp/ipykernel_229422/2122354537.py\u001b[0m in \u001b[0;36m<module>\u001b[0;34m\u001b[0m\n\u001b[0;32m----> 1\u001b[0;31m \u001b[0msubprocess\u001b[0m\u001b[0;34m.\u001b[0m\u001b[0mrun\u001b[0m\u001b[0;34m(\u001b[0m\u001b[0;34m[\u001b[0m\u001b[0;34m'singularity exec /bigwork/nhgjrabl/Singularity/ats_pest_final_2.sif pwtadj1'\u001b[0m\u001b[0;34m]\u001b[0m\u001b[0;34m,\u001b[0m \u001b[0mcapture_output\u001b[0m\u001b[0;34m=\u001b[0m\u001b[0;32mTrue\u001b[0m\u001b[0;34m,\u001b[0m \u001b[0mtext\u001b[0m\u001b[0;34m=\u001b[0m\u001b[0;32mTrue\u001b[0m\u001b[0;34m)\u001b[0m\u001b[0;34m.\u001b[0m\u001b[0mstdout\u001b[0m\u001b[0;34m\u001b[0m\u001b[0;34m\u001b[0m\u001b[0m\n\u001b[0m",
      "\u001b[0;32m/sw-eb/system/home/ood/conda/envs/miniconda3-2021.11_python-3.8/lib/python3.8/subprocess.py\u001b[0m in \u001b[0;36mrun\u001b[0;34m(input, capture_output, timeout, check, *popenargs, **kwargs)\u001b[0m\n\u001b[1;32m    491\u001b[0m         \u001b[0mkwargs\u001b[0m\u001b[0;34m[\u001b[0m\u001b[0;34m'stderr'\u001b[0m\u001b[0;34m]\u001b[0m \u001b[0;34m=\u001b[0m \u001b[0mPIPE\u001b[0m\u001b[0;34m\u001b[0m\u001b[0;34m\u001b[0m\u001b[0m\n\u001b[1;32m    492\u001b[0m \u001b[0;34m\u001b[0m\u001b[0m\n\u001b[0;32m--> 493\u001b[0;31m     \u001b[0;32mwith\u001b[0m \u001b[0mPopen\u001b[0m\u001b[0;34m(\u001b[0m\u001b[0;34m*\u001b[0m\u001b[0mpopenargs\u001b[0m\u001b[0;34m,\u001b[0m \u001b[0;34m**\u001b[0m\u001b[0mkwargs\u001b[0m\u001b[0;34m)\u001b[0m \u001b[0;32mas\u001b[0m \u001b[0mprocess\u001b[0m\u001b[0;34m:\u001b[0m\u001b[0;34m\u001b[0m\u001b[0;34m\u001b[0m\u001b[0m\n\u001b[0m\u001b[1;32m    494\u001b[0m         \u001b[0;32mtry\u001b[0m\u001b[0;34m:\u001b[0m\u001b[0;34m\u001b[0m\u001b[0;34m\u001b[0m\u001b[0m\n\u001b[1;32m    495\u001b[0m             \u001b[0mstdout\u001b[0m\u001b[0;34m,\u001b[0m \u001b[0mstderr\u001b[0m \u001b[0;34m=\u001b[0m \u001b[0mprocess\u001b[0m\u001b[0;34m.\u001b[0m\u001b[0mcommunicate\u001b[0m\u001b[0;34m(\u001b[0m\u001b[0minput\u001b[0m\u001b[0;34m,\u001b[0m \u001b[0mtimeout\u001b[0m\u001b[0;34m=\u001b[0m\u001b[0mtimeout\u001b[0m\u001b[0;34m)\u001b[0m\u001b[0;34m\u001b[0m\u001b[0;34m\u001b[0m\u001b[0m\n",
      "\u001b[0;32m/sw-eb/system/home/ood/conda/envs/miniconda3-2021.11_python-3.8/lib/python3.8/subprocess.py\u001b[0m in \u001b[0;36m__init__\u001b[0;34m(self, args, bufsize, executable, stdin, stdout, stderr, preexec_fn, close_fds, shell, cwd, env, universal_newlines, startupinfo, creationflags, restore_signals, start_new_session, pass_fds, encoding, errors, text)\u001b[0m\n\u001b[1;32m    856\u001b[0m                             encoding=encoding, errors=errors)\n\u001b[1;32m    857\u001b[0m \u001b[0;34m\u001b[0m\u001b[0m\n\u001b[0;32m--> 858\u001b[0;31m             self._execute_child(args, executable, preexec_fn, close_fds,\n\u001b[0m\u001b[1;32m    859\u001b[0m                                 \u001b[0mpass_fds\u001b[0m\u001b[0;34m,\u001b[0m \u001b[0mcwd\u001b[0m\u001b[0;34m,\u001b[0m \u001b[0menv\u001b[0m\u001b[0;34m,\u001b[0m\u001b[0;34m\u001b[0m\u001b[0;34m\u001b[0m\u001b[0m\n\u001b[1;32m    860\u001b[0m                                 \u001b[0mstartupinfo\u001b[0m\u001b[0;34m,\u001b[0m \u001b[0mcreationflags\u001b[0m\u001b[0;34m,\u001b[0m \u001b[0mshell\u001b[0m\u001b[0;34m,\u001b[0m\u001b[0;34m\u001b[0m\u001b[0;34m\u001b[0m\u001b[0m\n",
      "\u001b[0;32m/sw-eb/system/home/ood/conda/envs/miniconda3-2021.11_python-3.8/lib/python3.8/subprocess.py\u001b[0m in \u001b[0;36m_execute_child\u001b[0;34m(self, args, executable, preexec_fn, close_fds, pass_fds, cwd, env, startupinfo, creationflags, shell, p2cread, p2cwrite, c2pread, c2pwrite, errread, errwrite, restore_signals, start_new_session)\u001b[0m\n\u001b[1;32m   1702\u001b[0m                     \u001b[0;32mif\u001b[0m \u001b[0merrno_num\u001b[0m \u001b[0;34m!=\u001b[0m \u001b[0;36m0\u001b[0m\u001b[0;34m:\u001b[0m\u001b[0;34m\u001b[0m\u001b[0;34m\u001b[0m\u001b[0m\n\u001b[1;32m   1703\u001b[0m                         \u001b[0merr_msg\u001b[0m \u001b[0;34m=\u001b[0m \u001b[0mos\u001b[0m\u001b[0;34m.\u001b[0m\u001b[0mstrerror\u001b[0m\u001b[0;34m(\u001b[0m\u001b[0merrno_num\u001b[0m\u001b[0;34m)\u001b[0m\u001b[0;34m\u001b[0m\u001b[0;34m\u001b[0m\u001b[0m\n\u001b[0;32m-> 1704\u001b[0;31m                     \u001b[0;32mraise\u001b[0m \u001b[0mchild_exception_type\u001b[0m\u001b[0;34m(\u001b[0m\u001b[0merrno_num\u001b[0m\u001b[0;34m,\u001b[0m \u001b[0merr_msg\u001b[0m\u001b[0;34m,\u001b[0m \u001b[0merr_filename\u001b[0m\u001b[0;34m)\u001b[0m\u001b[0;34m\u001b[0m\u001b[0;34m\u001b[0m\u001b[0m\n\u001b[0m\u001b[1;32m   1705\u001b[0m                 \u001b[0;32mraise\u001b[0m \u001b[0mchild_exception_type\u001b[0m\u001b[0;34m(\u001b[0m\u001b[0merr_msg\u001b[0m\u001b[0;34m)\u001b[0m\u001b[0;34m\u001b[0m\u001b[0;34m\u001b[0m\u001b[0m\n\u001b[1;32m   1706\u001b[0m \u001b[0;34m\u001b[0m\u001b[0m\n",
      "\u001b[0;31mFileNotFoundError\u001b[0m: [Errno 2] No such file or directory: 'singularity exec /bigwork/nhgjrabl/Singularity/ats_pest_final_2.sif pwtadj1'"
     ]
    }
   ],
   "source": [
    "subprocess.run(['singularity exec /bigwork/nhgjrabl/Singularity/ats_pest_final_2.sif pwtadj1'], capture_output=True, text=True).stdout"
   ]
  },
  {
   "cell_type": "markdown",
   "id": "7876062d-beec-45ff-92cb-9cd499bd7c55",
   "metadata": {},
   "source": [
    "### Check the total objective function value in the .rec file and add in the cmd below:"
   ]
  },
  {
   "cell_type": "markdown",
   "id": "463439ce",
   "metadata": {},
   "source": [
    " Objective function ----->\n",
    "\n",
    "   - Sum of squared weighted residuals (ie phi)                =  **0.0196739**\n",
    "   - Contribution to phi from observation group \"temp\"         =  0.00190865\n",
    "   - Contribution to phi from observation group \"mois\"         =  0.0177653"
   ]
  },
  {
   "cell_type": "code",
   "execution_count": 9,
   "id": "bd78fccd-cfe6-4079-acef-49c815338db4",
   "metadata": {},
   "outputs": [],
   "source": [
    "obj_fn_value = 0.0196739 # Taken from .rec file"
   ]
  },
  {
   "cell_type": "code",
   "execution_count": 10,
   "id": "f7ec6ace-fe78-4c56-afc8-6181c14ac0bb",
   "metadata": {},
   "outputs": [
    {
     "data": {
      "text/plain": [
       "0.00983695"
      ]
     },
     "execution_count": 10,
     "metadata": {},
     "output_type": "execute_result"
    }
   ],
   "source": [
    "obj_fn_value/2"
   ]
  },
  {
   "cell_type": "code",
   "execution_count": 16,
   "id": "a1154cf8-5827-4053-80bd-9f2ee021c3fd",
   "metadata": {},
   "outputs": [
    {
     "data": {
      "text/plain": [
       "'\\n PWTADJ1 version 17.3. Watermark Numerical Computing.\\n\\n - reading PEST control file Case5_I_cv_cf_v1.pst for first time...\\n - file Case5_I_cv_cf_v1.pst read ok.\\n\\n - reading PEST run record file Case5_I_cv_cf_v1.rec...\\n - file Case5_I_cv_cf_v1.rec read ok.\\n\\n - re-reading file Case5_I_cv_cf_v1.pst and writing file Case5_I_cv_cf_v1_rw.pst...\\n - file Case5_I_cv_cf_v1.pst read ok.\\n - file Case5_I_cv_cf_v1_rw.pst written ok.\\n'"
      ]
     },
     "execution_count": 16,
     "metadata": {},
     "output_type": "execute_result"
    }
   ],
   "source": [
    "subprocess.run(['pwtadj1',f'{file_name}_cf_v1.pst',f'{file_name}_cf_v1_rw.pst',f'{obj_fn_value/2}'], capture_output=True, text=True).stdout"
   ]
  },
  {
   "cell_type": "code",
   "execution_count": 18,
   "id": "436d2bd6-6db1-4464-b36d-04b0a0995cb9",
   "metadata": {},
   "outputs": [
    {
     "data": {
      "text/plain": [
       "''"
      ]
     },
     "execution_count": 18,
     "metadata": {},
     "output_type": "execute_result"
    }
   ],
   "source": [
    "# Removing the out.log file since it's file size is large\n",
    "subprocess.run(['rm','-rf','out.log'], capture_output=True, text=True).stdout"
   ]
  },
  {
   "cell_type": "code",
   "execution_count": 11,
   "id": "42f88539-3047-4009-8e1a-af33be941a31",
   "metadata": {},
   "outputs": [],
   "source": [
    "os.chdir(f'..')"
   ]
  },
  {
   "cell_type": "code",
   "execution_count": 12,
   "id": "9e372898-617f-4338-b8de-4f781502060e",
   "metadata": {},
   "outputs": [
    {
     "data": {
      "text/plain": [
       "'/home/rk/pestpp/pestpp/rk_model_final_4yrs'"
      ]
     },
     "execution_count": 12,
     "metadata": {},
     "output_type": "execute_result"
    }
   ],
   "source": [
    "os.getcwd()"
   ]
  },
  {
   "cell_type": "code",
   "execution_count": 13,
   "id": "51506431",
   "metadata": {},
   "outputs": [
    {
     "data": {
      "text/plain": [
       "'Case5_I_cv'"
      ]
     },
     "execution_count": 13,
     "metadata": {},
     "output_type": "execute_result"
    }
   ],
   "source": [
    "file_name"
   ]
  },
  {
   "cell_type": "code",
   "execution_count": 14,
   "id": "859cf981-7750-4aab-a6dc-6f102508337a",
   "metadata": {},
   "outputs": [],
   "source": [
    "directory_name_rw = f'{file_name}_rw_2.demo'"
   ]
  },
  {
   "cell_type": "code",
   "execution_count": 15,
   "id": "2bb7c00d-de35-4b95-a5fa-775487c75743",
   "metadata": {},
   "outputs": [
    {
     "data": {
      "text/plain": [
       "'Case5_I_cv_rw_2.demo'"
      ]
     },
     "execution_count": 15,
     "metadata": {},
     "output_type": "execute_result"
    }
   ],
   "source": [
    "directory_name_rw"
   ]
  },
  {
   "cell_type": "code",
   "execution_count": 16,
   "id": "68ab1f24-e886-4c30-8c7b-2144f5451bfa",
   "metadata": {},
   "outputs": [
    {
     "data": {
      "text/plain": [
       "'Case5_I_cv_rw_2.demo'"
      ]
     },
     "execution_count": 16,
     "metadata": {},
     "output_type": "execute_result"
    }
   ],
   "source": [
    "# Copying the files to a new folder\n",
    "shutil.copytree(directory_name, directory_name_rw)"
   ]
  },
  {
   "cell_type": "code",
   "execution_count": 17,
   "id": "1668efe2-34ef-4dab-b4b6-e329b881e6e9",
   "metadata": {},
   "outputs": [],
   "source": [
    "os.chdir(f'{directory_name_rw}')"
   ]
  },
  {
   "cell_type": "code",
   "execution_count": 19,
   "id": "2ec07e47-6222-4aaf-b8b8-1aae1579f883",
   "metadata": {},
   "outputs": [],
   "source": [
    "cf_name = f'{file_name}_cf_v1' # Control file name before reweighting"
   ]
  },
  {
   "cell_type": "code",
   "execution_count": 20,
   "id": "7f3fd5ff-70f1-42bd-8ace-bd0ad0b9978b",
   "metadata": {},
   "outputs": [
    {
     "data": {
      "text/plain": [
       "0"
      ]
     },
     "execution_count": 20,
     "metadata": {},
     "output_type": "execute_result"
    }
   ],
   "source": [
    "# Removing unnecessary files to provide space for the simulation\n",
    "# Check once more if all the files have been removed properly\n",
    "os.system(f'rm {cf_name}.drf {cf_name}.jac {cf_name}.jst {cf_name}.jco {cf_name}.mtt {cf_name}.par {cf_name}.rec {cf_name}.rei {cf_name}.res {cf_name}.sen {cf_name}.seo {cf_name}.svd {cf_name}.rst jacob.runs')"
   ]
  },
  {
   "cell_type": "code",
   "execution_count": 21,
   "id": "fa4c4f28-2e0f-4bfe-8d70-24cabd4fadbe",
   "metadata": {},
   "outputs": [
    {
     "data": {
      "text/plain": [
       "'Case5_I_cv'"
      ]
     },
     "execution_count": 21,
     "metadata": {},
     "output_type": "execute_result"
    }
   ],
   "source": [
    "file_name"
   ]
  },
  {
   "cell_type": "code",
   "execution_count": null,
   "id": "a2a66bf6",
   "metadata": {},
   "outputs": [],
   "source": [
    "%%time\n",
    "# Running the new re-weighted pest file\n",
    "os.system(f'pestpp-glm {file_name}_cf_v1_rw.pst')\n",
    "# Prefer running it on the terminal?"
   ]
  },
  {
   "cell_type": "code",
   "execution_count": null,
   "id": "b5d36dca",
   "metadata": {},
   "outputs": [],
   "source": []
  }
 ],
 "metadata": {
  "kernelspec": {
   "display_name": "Python 3 (ipykernel)",
   "language": "python",
   "name": "python3"
  },
  "language_info": {
   "codemirror_mode": {
    "name": "ipython",
    "version": 3
   },
   "file_extension": ".py",
   "mimetype": "text/x-python",
   "name": "python",
   "nbconvert_exporter": "python",
   "pygments_lexer": "ipython3",
   "version": "3.8.12"
  }
 },
 "nbformat": 4,
 "nbformat_minor": 5
}
