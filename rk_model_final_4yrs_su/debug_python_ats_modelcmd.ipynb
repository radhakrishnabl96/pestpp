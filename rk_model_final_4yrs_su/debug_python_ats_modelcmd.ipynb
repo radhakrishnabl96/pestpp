{
 "cells": [
  {
   "cell_type": "code",
   "execution_count": null,
   "id": "6c05df7e",
   "metadata": {},
   "outputs": [],
   "source": [
    "import os\n",
    "import subprocess\n",
    "import shutil\n",
    "import fileinput\n",
    "import time\n",
    "import re\n",
    "import pandas as pd\n",
    "\n",
    "# The file name, porosity of peat and mineral line has to be identified the porosity - Therefore change when the .xml file changes\n",
    "file_name = 'Case1_B_cv_vm' # Change\n",
    "line_por_peat = 516 # Change\n",
    "line_por_mineral = 525 # Change\n",
    "\n",
    "# Removing the previously generated output file\n",
    "os.system(f\"rm -rf {file_name}_obs_data.dat\")\n",
    "\n",
    "\n",
    "# Running ats command\n",
    "os.system(f\"ats --xml_file={file_name}.xml\")\n",
    "\n",
    "\n",
    "# Generating a suitable observation file with no hash!\n",
    "remove_hashs = ['#']\n",
    "\n",
    "old_file_name = 'observations.dat'\n",
    "new_file_name = f'{file_name}_obs_data_mois.dat'\n",
    "with open(f'{old_file_name}') as oldfile, open(f'{new_file_name}', 'w') as newfile:\n",
    "            for line in oldfile:\n",
    "                if not any(remove_hash in line for remove_hash in remove_hashs):\n",
    "                    newfile.write(line)\n",
    "                    \n",
    "\n",
    "                    \n",
    "# 1. To find the porosity\n",
    "filename = f'{file_name}.xml'\n",
    "\n",
    "with open(f'{filename}') as oldfile:\n",
    "            for line, content in enumerate(oldfile):\n",
    "                if line == line_por_peat: # Line 603 (+1) has the porosity_peat \n",
    "                    poro_peat_line = str(content)\n",
    "                    result = re.findall('\\\".*?\\\"', poro_peat_line)\n",
    "                    poro_peat = float(result[2].replace('\"',''))\n",
    "                    #print(poro_peat)\n",
    "                elif line == line_por_mineral: # Line 612 (+1) has the porosity_mineral\n",
    "                    poro_mineral_line = str(content)\n",
    "                    result_2 = re.findall('\\\".*?\\\"', poro_mineral_line)\n",
    "                    poro_mineral = float(result_2[2].replace('\"',''))\n",
    "                    #print(poro_mineral)\n",
    "\n",
    "                    \n",
    "# 2. To find the saturation of liquid\n",
    "\n",
    "obs_data = f'{file_name}_obs_data_mois.dat'\n",
    "\n",
    "file_data = pd.read_csv(obs_data,sep=' ', index_col='time [s]')\n",
    "\n",
    "\n",
    "\n",
    "depths = [0.04, 0.1, 0.2, 0.4, 0.8, 1.2, 1.6]\n",
    "\n",
    "depth_peat = 0.385\n",
    "\n",
    "for i, depth in enumerate(depths):\n",
    "    if depth < depth_peat:\n",
    "        file_data[f'point -{depth} saturation liquid'] = file_data[f'point -{depth} saturation liquid']*(poro_peat*100)\n",
    "    else:\n",
    "        file_data[f'point -{depth} saturation liquid'] = file_data[f'point -{depth} saturation liquid']*(poro_mineral*100)\n",
    "\n",
    "file_data.to_csv(f'{file_name}_obs_data_2.dat',sep=' ',index=True)\n",
    "\n",
    "\n",
    "# Removing the top row since it is not suitable with instruction file\n",
    "remove_hashs = ['\"']\n",
    "\n",
    "old_file_name = f'{file_name}_obs_data_2.dat'\n",
    "\n",
    "new_file_name = f'{file_name}_obs_data.dat'\n",
    "\n",
    "with open(f'{old_file_name}') as oldfile, open(f'{new_file_name}', 'w') as newfile:\n",
    "            for line in oldfile:\n",
    "                if not any(remove_hash in line for remove_hash in remove_hashs):\n",
    "                    newfile.write(line)\n",
    "\n",
    "\n",
    "# Remove all the unnescessary output files expect the .dat file\n",
    "os.system(f\"rm -rf *.xmf *.h5 observation.dat {file_name}_obs_data_mois.dat {file_name}_obs_data_2.dat\")"
   ]
  },
  {
   "cell_type": "code",
   "execution_count": 1,
   "id": "95b11e1c",
   "metadata": {},
   "outputs": [],
   "source": [
    "import os\n",
    "import subprocess\n",
    "import shutil\n",
    "import fileinput\n",
    "import time\n",
    "import re\n",
    "import pandas as pd"
   ]
  },
  {
   "cell_type": "code",
   "execution_count": 8,
   "id": "24444b98",
   "metadata": {},
   "outputs": [],
   "source": [
    "os.chdir('Case1_B_cv_start.demo')"
   ]
  },
  {
   "cell_type": "code",
   "execution_count": 23,
   "id": "ff07e459",
   "metadata": {},
   "outputs": [],
   "source": [
    "# The file name, porosity of peat and mineral line has to be identified the porosity - Therefore change when the .xml file changes\n",
    "file_name = 'Case1_B_cv_vm' # Change\n",
    "line_por_peat = 515 # Change\n",
    "line_por_mineral = 524 # Change"
   ]
  },
  {
   "cell_type": "code",
   "execution_count": 20,
   "id": "3bd36e35",
   "metadata": {},
   "outputs": [
    {
     "data": {
      "text/plain": [
       "0"
      ]
     },
     "execution_count": 20,
     "metadata": {},
     "output_type": "execute_result"
    }
   ],
   "source": [
    "# Running ats command\n",
    "os.system(f\"ats --xml_file={file_name}.xml\")"
   ]
  },
  {
   "cell_type": "code",
   "execution_count": 21,
   "id": "8be3732f",
   "metadata": {},
   "outputs": [],
   "source": [
    "# Generating a suitable observation file with no hash!\n",
    "remove_hashs = ['#']\n",
    "\n",
    "old_file_name = 'observations.dat'\n",
    "new_file_name = f'{file_name}_obs_data_mois.dat'\n",
    "with open(f'{old_file_name}') as oldfile, open(f'{new_file_name}', 'w') as newfile:\n",
    "            for line in oldfile:\n",
    "                if not any(remove_hash in line for remove_hash in remove_hashs):\n",
    "                    newfile.write(line)\n",
    "                    "
   ]
  },
  {
   "cell_type": "code",
   "execution_count": 25,
   "id": "70ef0902",
   "metadata": {},
   "outputs": [],
   "source": [
    "# The file name, porosity of peat and mineral line has to be identified the porosity - Therefore change when the .xml file changes\n",
    "file_name = 'Case1_B_cv_vm' # Change\n",
    "line_por_peat = 514 # Change\n",
    "line_por_mineral = 523 # Change"
   ]
  },
  {
   "cell_type": "code",
   "execution_count": 27,
   "id": "e94d8776",
   "metadata": {},
   "outputs": [
    {
     "name": "stdout",
     "output_type": "stream",
     "text": [
      "                <Parameter name=\"value\" type=\"double\" value=\"0.80038117555001\" />\n",
      "\n",
      "0.80038117555001\n",
      "0.50705336935386\n"
     ]
    }
   ],
   "source": [
    "# 1. To find the porosity\n",
    "filename = f'{file_name}.xml'\n",
    "\n",
    "with open(f'{filename}') as oldfile:\n",
    "            for line, content in enumerate(oldfile):\n",
    "                if line == line_por_peat: # Line 603 (+1) has the porosity_peat \n",
    "                    poro_peat_line = str(content)\n",
    "                    print(poro_peat_line)\n",
    "                    result = re.findall('\\\".*?\\\"', poro_peat_line)\n",
    "                    poro_peat = float(result[2].replace('\"',''))\n",
    "                    #print(poro_peat)\n",
    "                elif line == line_por_mineral: # Line 612 (+1) has the porosity_mineral\n",
    "                    poro_mineral_line = str(content)\n",
    "                    result_2 = re.findall('\\\".*?\\\"', poro_mineral_line)\n",
    "                    poro_mineral = float(result_2[2].replace('\"',''))\n",
    "                    #print(poro_mineral)"
   ]
  },
  {
   "cell_type": "code",
   "execution_count": 28,
   "id": "eab62609",
   "metadata": {},
   "outputs": [],
   "source": [
    "# 2. To find the saturation of liquid\n",
    "\n",
    "obs_data = f'{file_name}_obs_data_mois.dat'\n",
    "\n",
    "file_data = pd.read_csv(obs_data,sep=' ', index_col='time [s]')\n",
    "\n",
    "\n",
    "\n",
    "depths = [0.04, 0.1, 0.2, 0.4, 0.8, 1.2, 1.6]\n",
    "\n",
    "depth_peat = 0.385\n",
    "\n",
    "for i, depth in enumerate(depths):\n",
    "    if depth < depth_peat:\n",
    "        file_data[f'point -{depth} saturation liquid'] = file_data[f'point -{depth} saturation liquid']*(poro_peat*100)\n",
    "    else:\n",
    "        file_data[f'point -{depth} saturation liquid'] = file_data[f'point -{depth} saturation liquid']*(poro_mineral*100)\n",
    "\n",
    "file_data.to_csv(f'{file_name}_obs_data_2.dat',sep=' ',index=True)"
   ]
  },
  {
   "cell_type": "code",
   "execution_count": 29,
   "id": "bb12904b",
   "metadata": {},
   "outputs": [],
   "source": [
    "# Removing the top row since it is not suitable with instruction file\n",
    "remove_hashs = ['\"']\n",
    "\n",
    "old_file_name = f'{file_name}_obs_data_2.dat'\n",
    "\n",
    "new_file_name = f'{file_name}_obs_data.dat'\n",
    "\n",
    "with open(f'{old_file_name}') as oldfile, open(f'{new_file_name}', 'w') as newfile:\n",
    "            for line in oldfile:\n",
    "                if not any(remove_hash in line for remove_hash in remove_hashs):\n",
    "                    newfile.write(line)\n"
   ]
  },
  {
   "cell_type": "code",
   "execution_count": null,
   "id": "e793cefa",
   "metadata": {},
   "outputs": [],
   "source": []
  },
  {
   "cell_type": "code",
   "execution_count": 30,
   "id": "398d189b",
   "metadata": {},
   "outputs": [
    {
     "data": {
      "text/plain": [
       "0"
      ]
     },
     "execution_count": 30,
     "metadata": {},
     "output_type": "execute_result"
    }
   ],
   "source": [
    "# Remove all the unnescessary output files expect the .dat file\n",
    "os.system(f\"rm -rf *.xmf *.h5 observations.dat {file_name}_obs_data_mois.dat {file_name}_obs_data_2.dat\")"
   ]
  },
  {
   "cell_type": "code",
   "execution_count": 7,
   "id": "f676a870",
   "metadata": {},
   "outputs": [
    {
     "data": {
      "text/plain": [
       "'/home/rk/pestpp/pestpp/rk_model_final_4yrs'"
      ]
     },
     "execution_count": 7,
     "metadata": {},
     "output_type": "execute_result"
    }
   ],
   "source": [
    "os.getcwd()"
   ]
  },
  {
   "cell_type": "code",
   "execution_count": null,
   "id": "4b798dc7",
   "metadata": {},
   "outputs": [],
   "source": []
  }
 ],
 "metadata": {
  "kernelspec": {
   "display_name": "Python 3",
   "language": "python",
   "name": "python3"
  },
  "language_info": {
   "codemirror_mode": {
    "name": "ipython",
    "version": 3
   },
   "file_extension": ".py",
   "mimetype": "text/x-python",
   "name": "python",
   "nbconvert_exporter": "python",
   "pygments_lexer": "ipython3",
   "version": "3.8.8"
  }
 },
 "nbformat": 4,
 "nbformat_minor": 5
}
