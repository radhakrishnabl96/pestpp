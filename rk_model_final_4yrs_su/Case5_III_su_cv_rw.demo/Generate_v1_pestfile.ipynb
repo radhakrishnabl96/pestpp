{
 "cells": [
  {
   "cell_type": "markdown",
   "id": "08f6998d",
   "metadata": {},
   "source": [
    "The folder was shifted from cluster to the local virtual machine since pyemu cannot run in the cluster. The following code is written to convert the pest file from version 2 to version 1."
   ]
  },
  {
   "cell_type": "code",
   "execution_count": 1,
   "id": "e417d149",
   "metadata": {},
   "outputs": [],
   "source": [
    "import pyemu"
   ]
  },
  {
   "cell_type": "code",
   "execution_count": 3,
   "id": "75dd4147",
   "metadata": {},
   "outputs": [
    {
     "name": "stderr",
     "output_type": "stream",
     "text": [
      "/home/rk/anaconda3/lib/python3.8/site-packages/ipykernel/ipkernel.py:287: DeprecationWarning: `should_run_async` will not call `transform_cell` automatically in the future. Please pass the result to `transformed_cell` argument and any exception that happen during thetransform in `preprocessing_exc_tuple` in IPython 7.17 and above.\n",
      "  and should_run_async(code)\n"
     ]
    },
    {
     "name": "stdout",
     "output_type": "stream",
     "text": [
      "noptmax:-1, npar_adj:12, nnz_obs:5124\n"
     ]
    }
   ],
   "source": [
    "pst = pyemu.Pst(f\"Case5_III_su_cv_cf.pst\")\n",
    "pst.write(f\"Case5_III_su_cv_cf_v1.pst\")"
   ]
  },
  {
   "cell_type": "code",
   "execution_count": null,
   "id": "5e30956f",
   "metadata": {},
   "outputs": [],
   "source": []
  }
 ],
 "metadata": {
  "kernelspec": {
   "display_name": "Python 3",
   "language": "python",
   "name": "python3"
  },
  "language_info": {
   "codemirror_mode": {
    "name": "ipython",
    "version": 3
   },
   "file_extension": ".py",
   "mimetype": "text/x-python",
   "name": "python",
   "nbconvert_exporter": "python",
   "pygments_lexer": "ipython3",
   "version": "3.8.8"
  }
 },
 "nbformat": 4,
 "nbformat_minor": 5
}
